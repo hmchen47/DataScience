{
 "cells": [
  {
   "cell_type": "markdown",
   "metadata": {},
   "source": [
    "---\n",
    "\n",
    "_You are currently looking at **version 1.5** of this notebook. To download notebooks and datafiles, as well as get help on Jupyter notebooks in the Coursera platform, visit the [Jupyter Notebook FAQ](https://www.coursera.org/learn/python-data-analysis/resources/0dhYG) course resource._\n",
    "\n",
    "---"
   ]
  },
  {
   "cell_type": "markdown",
   "metadata": {},
   "source": [
    "# Assignment 3 - More Pandas\n",
    "This assignment requires more individual learning then the last one did - you are encouraged to check out the [pandas documentation](http://pandas.pydata.org/pandas-docs/stable/) to find functions or methods you might not have used yet, or ask questions on [Stack Overflow](http://stackoverflow.com/) and tag them as pandas and python related. And of course, the discussion forums are open for interaction with your peers and the course staff."
   ]
  },
  {
   "cell_type": "markdown",
   "metadata": {},
   "source": [
    "### Question 1 (20%)\n",
    "Load the energy data from the file `Energy Indicators.xls`, which is a list of indicators of [energy supply and renewable electricity production](Energy%20Indicators.xls) from the [United Nations](http://unstats.un.org/unsd/environment/excel_file_tables/2013/Energy%20Indicators.xls) for the year 2013, and should be put into a DataFrame with the variable name of **energy**.\n",
    "\n",
    "Keep in mind that this is an Excel file, and not a comma separated values file. Also, make sure to exclude the footer and header information from the datafile. The first two columns are unneccessary, so you should get rid of them, and you should change the column labels so that the columns are:\n",
    "\n",
    "`['Country', 'Energy Supply', 'Energy Supply per Capita', '% Renewable']`\n",
    "\n",
    "Convert `Energy Supply` to gigajoules (there are 1,000,000 gigajoules in a petajoule). For all countries which have missing data (e.g. data with \"...\") make sure this is reflected as `np.NaN` values.\n",
    "\n",
    "Rename the following list of countries (for use in later questions):\n",
    "\n",
    "```\"Republic of Korea\": \"South Korea\",\n",
    "\"United States of America\": \"United States\",\n",
    "\"United Kingdom of Great Britain and Northern Ireland\": \"United Kingdom\",\n",
    "\"China, Hong Kong Special Administrative Region\": \"Hong Kong\"```\n",
    "\n",
    "There are also several countries with numbers and/or parenthesis in their name. Be sure to remove these, \n",
    "\n",
    "e.g. \n",
    "\n",
    "`'Bolivia (Plurinational State of)'` should be `'Bolivia'`, \n",
    "\n",
    "`'Switzerland17'` should be `'Switzerland'`.\n",
    "\n",
    "<br>\n",
    "\n",
    "Next, load the GDP data from the file `world_bank.csv`, which is a csv containing countries' GDP from 1960 to 2015 from [World Bank](http://data.worldbank.org/indicator/NY.GDP.MKTP.CD). Call this DataFrame **GDP**. \n",
    "\n",
    "Make sure to skip the header, and rename the following list of countries:\n",
    "\n",
    "```\"Korea, Rep.\": \"South Korea\", \n",
    "\"Iran, Islamic Rep.\": \"Iran\",\n",
    "\"Hong Kong SAR, China\": \"Hong Kong\"```\n",
    "\n",
    "<br>\n",
    "\n",
    "Finally, load the [Sciamgo Journal and Country Rank data for Energy Engineering and Power Technology](http://www.scimagojr.com/countryrank.php?category=2102) from the file `scimagojr-3.xlsx`, which ranks countries based on their journal contributions in the aforementioned area. Call this DataFrame **ScimEn**.\n",
    "\n",
    "Join the three datasets: GDP, Energy, and ScimEn into a new dataset (using the intersection of country names). Use only the last 10 years (2006-2015) of GDP data and only the top 15 countries by Scimagojr 'Rank' (Rank 1 through 15). \n",
    "\n",
    "The index of this DataFrame should be the name of the country, and the columns should be ['Rank', 'Documents', 'Citable documents', 'Citations', 'Self-citations',\n",
    "       'Citations per document', 'H index', 'Energy Supply',\n",
    "       'Energy Supply per Capita', '% Renewable', '2006', '2007', '2008',\n",
    "       '2009', '2010', '2011', '2012', '2013', '2014', '2015'].\n",
    "\n",
    "*This function should return a DataFrame with 20 columns and 15 entries.*"
   ]
  },
  {
   "cell_type": "code",
   "execution_count": 34,
   "metadata": {},
   "outputs": [
    {
     "name": "stdout",
     "output_type": "stream",
     "text": [
      "Country                      object\n",
      "Energy Supply                 int64\n",
      "Energy Supply per Capita      int64\n",
      "% Renewable                 float64\n",
      "dtype: object\n",
      "                                       Country  Energy Supply  \\\n",
      "0                                      Andorra        9000000   \n",
      "7                                  Afghanistan      321000000   \n",
      "8                                      Albania      102000000   \n",
      "9                                      Algeria     1959000000   \n",
      "11                                     Andorra        9000000   \n",
      "12                                      Angola      642000000   \n",
      "13                                    Anguilla        2000000   \n",
      "14                         Antigua and Barbuda        8000000   \n",
      "15                                   Argentina     3378000000   \n",
      "16                                     Armenia      143000000   \n",
      "17                                       Aruba       12000000   \n",
      "18                                   Australia     5386000000   \n",
      "19                                     Austria     1391000000   \n",
      "20                                  Azerbaijan      567000000   \n",
      "21                                     Bahamas       45000000   \n",
      "22                                     Bahrain      574000000   \n",
      "23                                  Bangladesh     1625000000   \n",
      "24                                    Barbados       19000000   \n",
      "25                                     Belarus     1142000000   \n",
      "26                                     Belgium     2338000000   \n",
      "27                                      Belize       13000000   \n",
      "28                                       Benin      170000000   \n",
      "29                                     Bermuda        6000000   \n",
      "30                                      Bhutan       63000000   \n",
      "31                                    Bolivia       336000000   \n",
      "32            Bonaire, Sint Eustatius and Saba        5000000   \n",
      "33                      Bosnia and Herzegovina      266000000   \n",
      "34                                    Botswana       86000000   \n",
      "35                                      Brazil    12149000000   \n",
      "36                      British Virgin Islands        2000000   \n",
      "..                                         ...            ...   \n",
      "202                                  Swaziland       49000000   \n",
      "203                                     Sweden     2044000000   \n",
      "204                                Switzerland     1113000000   \n",
      "205                       Syrian Arab Republic      542000000   \n",
      "206                                 Tajikistan      106000000   \n",
      "207                                   Thailand     5336000000   \n",
      "208  The former Yugoslav Republic of Macedonia      117000000   \n",
      "209                                Timor-Leste        7000000   \n",
      "210                                       Togo      134000000   \n",
      "211                                      Tonga        3000000   \n",
      "212                        Trinidad and Tobago      824000000   \n",
      "213                                    Tunisia      430000000   \n",
      "214                                     Turkey     4897000000   \n",
      "215                               Turkmenistan     1102000000   \n",
      "216                   Turks and Caicos Islands        3000000   \n",
      "218                                     Uganda      452000000   \n",
      "219                                    Ukraine     4844000000   \n",
      "220                       United Arab Emirates     2710000000   \n",
      "221                             United Kingdom     7920000000   \n",
      "222                United Republic of Tanzania      994000000   \n",
      "223                              United States    90838000000   \n",
      "225                                    Uruguay      196000000   \n",
      "226                                 Uzbekistan     1798000000   \n",
      "227                                    Vanuatu        3000000   \n",
      "228                                 Venezuela      2871000000   \n",
      "229                                   Viet Nam     2554000000   \n",
      "230                  Wallis and Futuna Islands              0   \n",
      "231                                      Yemen      344000000   \n",
      "232                                     Zambia      400000000   \n",
      "233                                   Zimbabwe      480000000   \n",
      "\n",
      "     Energy Supply per Capita  % Renewable  \n",
      "0                         121    88.695650  \n",
      "7                          10    78.669280  \n",
      "8                          35   100.000000  \n",
      "9                          51     0.551010  \n",
      "11                        121    88.695650  \n",
      "12                         27    70.909090  \n",
      "13                        136     0.000000  \n",
      "14                         84     0.000000  \n",
      "15                         79    24.064520  \n",
      "16                         48    28.236060  \n",
      "17                        120    14.870690  \n",
      "18                        231    11.810810  \n",
      "19                        164    72.452820  \n",
      "20                         60     6.384345  \n",
      "21                        118     0.000000  \n",
      "22                        425     0.000000  \n",
      "23                         10     1.966329  \n",
      "24                         69     0.000000  \n",
      "25                        120     0.463389  \n",
      "26                        210     9.959739  \n",
      "27                         39    64.690030  \n",
      "28                         16     0.000000  \n",
      "29                         88     0.000000  \n",
      "30                         83   100.000000  \n",
      "31                         32    31.477120  \n",
      "32                        213     0.000000  \n",
      "33                         70    41.464670  \n",
      "34                         39     0.131406  \n",
      "35                         59    69.648030  \n",
      "36                         85     0.000000  \n",
      "..                        ...          ...  \n",
      "202                        39    40.677970  \n",
      "203                       212    46.598460  \n",
      "204                       136    57.745480  \n",
      "205                        28    11.568270  \n",
      "206                        13    99.742920  \n",
      "207                        79     4.305189  \n",
      "208                        56    26.140470  \n",
      "209                         6     0.000000  \n",
      "210                        19    80.180180  \n",
      "211                        28     0.000000  \n",
      "212                       611     0.000000  \n",
      "213                        39     3.492547  \n",
      "214                        64    28.536690  \n",
      "215                       210     0.000000  \n",
      "216                        85     0.000000  \n",
      "218                        12    68.018180  \n",
      "219                       107     8.067312  \n",
      "220                       300     0.000000  \n",
      "221                       124    10.600470  \n",
      "222                        20    31.072840  \n",
      "223                       286    11.570980  \n",
      "225                        58    71.605040  \n",
      "226                        62    21.328410  \n",
      "227                        10    14.705880  \n",
      "228                        95    67.834520  \n",
      "229                        28    45.321520  \n",
      "230                        26     0.000000  \n",
      "231                        13     0.000000  \n",
      "232                        26    99.714670  \n",
      "233                        32    52.536120  \n",
      "\n",
      "[223 rows x 4 columns]\n"
     ]
    },
    {
     "name": "stderr",
     "output_type": "stream",
     "text": [
      "C:\\ProgramData\\Anaconda3\\lib\\site-packages\\ipykernel_launcher.py:50: FutureWarning: convert_objects is deprecated.  Use the data-type specific converters pd.to_datetime, pd.to_timedelta and pd.to_numeric.\n"
     ]
    },
    {
     "data": {
      "text/plain": [
       "Rank                          int64\n",
       "Documents                     int64\n",
       "Citable documents             int64\n",
       "Citations                     int64\n",
       "Self-citations                int64\n",
       "Citations per document      float64\n",
       "H index                       int64\n",
       "Energy Supply                 int64\n",
       "Energy Supply per Capita      int64\n",
       "% Renewable                 float64\n",
       "2006                        float64\n",
       "2007                        float64\n",
       "2008                        float64\n",
       "2009                        float64\n",
       "2010                        float64\n",
       "2011                        float64\n",
       "2012                        float64\n",
       "2013                        float64\n",
       "2014                        float64\n",
       "2015                        float64\n",
       "dtype: object"
      ]
     },
     "execution_count": 34,
     "metadata": {},
     "output_type": "execute_result"
    }
   ],
   "source": [
    "import numpy as np\n",
    "import pandas as pd\n",
    "import re\n",
    "\n",
    "def load_energy():\n",
    "    \"\"\"\n",
    "    energy DF - Energy Indicators.xls\n",
    "    1. drop first 2 columns & rename column labels w/ ['Country', 'Energy Supply', 'Energy Supply per Capita', '% Renewable']\n",
    "    2. Convert Energy Supply to gigajoules (there are 1,000,000 gigajoules in a petajoule)\n",
    "    3. missing data (e.g. data with \"...\") make sure this is reflected as np.NaN values\n",
    "    4. Rename countries:\n",
    "       \"Republic of Korea\": \"South Korea\",\n",
    "       \"United States of America\": \"United States\",\n",
    "       \"United Kingdom of Great Britain and Northern Ireland\": \"United Kingdom\",\n",
    "       \"China, Hong Kong Special Administrative Region\": \"Hong Kong\"\n",
    "    5. Remove numbers and/or parenthesis from country names\n",
    "    \"\"\"\n",
    "    # load energy DF\n",
    "    df = pd.read_excel(\"./Energy Indicators.xls\", skiprows=10, na_values=\"...\")\n",
    "\n",
    "    # drop first 2 columns & rename column labels\n",
    "    df.drop(df.columns[[0, 1]], axis=1, inplace=True)\n",
    "    col_lbl = ['Country', 'Energy Supply', 'Energy Supply per Capita', '% Renewable']\n",
    "    df.columns = col_lbl\n",
    "\n",
    "    df = df.dropna(subset=[col_lbl])\n",
    "\n",
    "    # Convert Energy Supply to gigajoules\n",
    "    df['Energy Supply'] *= 1000000\n",
    "\n",
    "    # remove numbers and/or parenthesis from country names\n",
    "    countries_lst = list(df['Country'])\n",
    "    num = re.compile(\"[0-9]\")\n",
    "    parenth = re.compile(\"(\\(.+\\))\")\n",
    "    sub_countries = {\"Republic of Korea\": \"South Korea\", \"United States of America\": \"United States\",\n",
    "                     \"United Kingdom of Great Britain and Northern Ireland\": \"United Kingdom\",\n",
    "                     \"China, Hong Kong Special Administrative Region\": \"Hong Kong\",\n",
    "                     'China, Macao Special Administrative Region': 'Macao',\n",
    "                    }\n",
    "    countries = []\n",
    "    for country in countries_lst:\n",
    "        country = num.sub('', country)\n",
    "        country = parenth.sub('', country)\n",
    "        if country in sub_countries.keys():\n",
    "            country = sub_countries[country]\n",
    "        countries.append(country)\n",
    "\n",
    "    df['Country'] = countries\n",
    "\n",
    "    return df.convert_objects(convert_numeric=True)\n",
    "\n",
    "\n",
    "def load_gdp():\n",
    "    \"\"\"\n",
    "    GDP - world_bank.csv\n",
    "    1. skip header\n",
    "    2. rename \n",
    "       \"Korea, Rep.\": \"South Korea\", \n",
    "       \"Iran, Islamic Rep.\": \"Iran\",\n",
    "       \"Hong Kong SAR, China\": \"Hong Kong\"\n",
    "    \"\"\"\n",
    "\n",
    "    df = pd.read_csv('world_bank.csv', skiprows = 4)\n",
    "    sub_countries = {\"Korea, Rep.\": \"South Korea\",\n",
    "                     \"Iran, Islamic Rep.\": \"Iran\",\n",
    "                     \"Hong Kong SAR, China\": \"Hong Kong\"\n",
    "                    }\n",
    "\n",
    "    df['Country Name'] = df['Country Name'].apply(lambda country: sub_countries[country] if country in sub_countries.keys() else country)\n",
    "\n",
    "    return df\n",
    "\n",
    "def load_scimen():\n",
    "    \"\"\"\n",
    "    ScimEN - scimagojr-3.xlsx\n",
    "    \"\"\"\n",
    "    return pd.read_excel('scimagojr-3.xlsx')\n",
    "\n",
    "def join_tbls(energy, GDP, ScimEn):\n",
    "    \"\"\"\n",
    "    Join tables\n",
    "    1. only the last 10 years (2006-2015) of GDP data \n",
    "    2. only the top 15 countries by Scimagojr 'Rank' (Rank 1 through 15)\n",
    "    \n",
    "    column: ['Rank', 'Documents', 'Citable documents', 'Citations', 'Self-citations', 'Citations per document', \n",
    "             'H index', 'Energy Supply', 'Energy Supply per Capita', '% Renewable', \n",
    "             '2006', '2007', '2008', '2009', '2010', '2011', '2012', '2013', '2014', '2015'].\n",
    "    \"\"\"\n",
    "    drop_lst = [str(year) for year in range(1960, 2006)]\n",
    "    GDP.drop(drop_lst, axis=1, inplace=True)\n",
    "\n",
    "    join_df = pd.merge(ScimEn, pd.merge(energy, GDP, left_on=\"Country\", right_on=\"Country Name\"), \n",
    "                       left_on='Country', right_on='Country'\n",
    "                      )\n",
    "\n",
    "    cols = ['Rank', 'Documents', 'Citable documents', 'Citations', 'Self-citations', 'Citations per document', \n",
    "             'H index', 'Energy Supply', 'Energy Supply per Capita', '% Renewable', \n",
    "             '2006', '2007', '2008', '2009', '2010', '2011', '2012', '2013', '2014', '2015']\n",
    "    \n",
    "    join_df = join_df[cols]\n",
    "    \n",
    "    top15 = join_df.sort_values(by='Rank').loc[0:14]\n",
    "    \n",
    "    # convert type of Energy Supply, Energy Supply per Capita, % Renewable to float64\n",
    "#     top15.astype({'Energy Supply': 'float64', 'Energy Supply per Capita': 'float64', '% Renewable': 'float64'})\n",
    "    \n",
    "    return top15\n",
    "\n",
    "def answer_one():\n",
    "    energy = load_energy()\n",
    "#     print(energy.dtypes)\n",
    "#     print(energy)\n",
    "    GDP = load_gdp()\n",
    "    ScimEn = load_scimen()\n",
    "    top15_df = join_tbls(energy, GDP, ScimEn)\n",
    "    \n",
    "    return top15_df\n",
    "\n",
    "# answer_one()"
   ]
  },
  {
   "cell_type": "markdown",
   "metadata": {},
   "source": [
    "### Question 2 (6.6%)\n",
    "The previous question joined three datasets then reduced this to just the top 15 entries. When you joined the datasets, but before you reduced this to the top 15 items, how many entries did you lose?\n",
    "\n",
    "*This function should return a single number.*"
   ]
  },
  {
   "cell_type": "code",
   "execution_count": null,
   "metadata": {
    "collapsed": true
   },
   "outputs": [],
   "source": [
    "%%HTML\n",
    "<svg width=\"800\" height=\"300\">\n",
    "  <circle cx=\"150\" cy=\"180\" r=\"80\" fill-opacity=\"0.2\" stroke=\"black\" stroke-width=\"2\" fill=\"blue\" />\n",
    "  <circle cx=\"200\" cy=\"100\" r=\"80\" fill-opacity=\"0.2\" stroke=\"black\" stroke-width=\"2\" fill=\"red\" />\n",
    "  <circle cx=\"100\" cy=\"100\" r=\"80\" fill-opacity=\"0.2\" stroke=\"black\" stroke-width=\"2\" fill=\"green\" />\n",
    "  <line x1=\"150\" y1=\"125\" x2=\"300\" y2=\"150\" stroke=\"black\" stroke-width=\"2\" fill=\"black\" stroke-dasharray=\"5,3\"/>\n",
    "  <text  x=\"300\" y=\"165\" font-family=\"Verdana\" font-size=\"35\">Everything but this!</text>\n",
    "</svg>"
   ]
  },
  {
   "cell_type": "code",
   "execution_count": null,
   "metadata": {
    "collapsed": true
   },
   "outputs": [],
   "source": [
    "def answer_two():\n",
    "    return \"ANSWER\""
   ]
  },
  {
   "cell_type": "markdown",
   "metadata": {},
   "source": [
    "<br>\n",
    "\n",
    "Answer the following questions in the context of only the top 15 countries by Scimagojr Rank (aka the DataFrame returned by `answer_one()`)"
   ]
  },
  {
   "cell_type": "markdown",
   "metadata": {},
   "source": [
    "### Question 3 (6.6%)\n",
    "What is the average GDP over the last 10 years for each country? (exclude missing values from this calculation.)\n",
    "\n",
    "*This function should return a Series named `avgGDP` with 15 countries and their average GDP sorted in descending order.*"
   ]
  },
  {
   "cell_type": "code",
   "execution_count": null,
   "metadata": {
    "collapsed": true,
    "scrolled": true
   },
   "outputs": [],
   "source": [
    "def answer_three():\n",
    "    Top15 = answer_one()\n",
    "    return \"ANSWER\""
   ]
  },
  {
   "cell_type": "markdown",
   "metadata": {},
   "source": [
    "### Question 4 (6.6%)\n",
    "By how much had the GDP changed over the 10 year span for the country with the 6th largest average GDP?\n",
    "\n",
    "*This function should return a single number.*"
   ]
  },
  {
   "cell_type": "code",
   "execution_count": null,
   "metadata": {
    "collapsed": true,
    "scrolled": true
   },
   "outputs": [],
   "source": [
    "def answer_four():\n",
    "    Top15 = answer_one()\n",
    "    return \"ANSWER\""
   ]
  },
  {
   "cell_type": "markdown",
   "metadata": {},
   "source": [
    "### Question 5 (6.6%)\n",
    "What is the mean `Energy Supply per Capita`?\n",
    "\n",
    "*This function should return a single number.*"
   ]
  },
  {
   "cell_type": "code",
   "execution_count": null,
   "metadata": {
    "collapsed": true
   },
   "outputs": [],
   "source": [
    "def answer_five():\n",
    "    Top15 = answer_one()\n",
    "    return \"ANSWER\""
   ]
  },
  {
   "cell_type": "markdown",
   "metadata": {},
   "source": [
    "### Question 6 (6.6%)\n",
    "What country has the maximum % Renewable and what is the percentage?\n",
    "\n",
    "*This function should return a tuple with the name of the country and the percentage.*"
   ]
  },
  {
   "cell_type": "code",
   "execution_count": null,
   "metadata": {
    "collapsed": true
   },
   "outputs": [],
   "source": [
    "def answer_six():\n",
    "    Top15 = answer_one()\n",
    "    return \"ANSWER\""
   ]
  },
  {
   "cell_type": "markdown",
   "metadata": {},
   "source": [
    "### Question 7 (6.6%)\n",
    "Create a new column that is the ratio of Self-Citations to Total Citations. \n",
    "What is the maximum value for this new column, and what country has the highest ratio?\n",
    "\n",
    "*This function should return a tuple with the name of the country and the ratio.*"
   ]
  },
  {
   "cell_type": "code",
   "execution_count": null,
   "metadata": {
    "collapsed": true
   },
   "outputs": [],
   "source": [
    "def answer_seven():\n",
    "    Top15 = answer_one()\n",
    "    return \"ANSWER\""
   ]
  },
  {
   "cell_type": "markdown",
   "metadata": {},
   "source": [
    "### Question 8 (6.6%)\n",
    "\n",
    "Create a column that estimates the population using Energy Supply and Energy Supply per capita. \n",
    "What is the third most populous country according to this estimate?\n",
    "\n",
    "*This function should return a single string value.*"
   ]
  },
  {
   "cell_type": "code",
   "execution_count": null,
   "metadata": {
    "collapsed": true
   },
   "outputs": [],
   "source": [
    "def answer_eight():\n",
    "    Top15 = answer_one()\n",
    "    return \"ANSWER\""
   ]
  },
  {
   "cell_type": "markdown",
   "metadata": {},
   "source": [
    "### Question 9 (6.6%)\n",
    "Create a column that estimates the number of citable documents per person. \n",
    "What is the correlation between the number of citable documents per capita and the energy supply per capita? Use the `.corr()` method, (Pearson's correlation).\n",
    "\n",
    "*This function should return a single number.*\n",
    "\n",
    "*(Optional: Use the built-in function `plot9()` to visualize the relationship between Energy Supply per Capita vs. Citable docs per Capita)*"
   ]
  },
  {
   "cell_type": "code",
   "execution_count": null,
   "metadata": {
    "collapsed": true
   },
   "outputs": [],
   "source": [
    "def answer_nine():\n",
    "    Top15 = answer_one()\n",
    "    return \"ANSWER\""
   ]
  },
  {
   "cell_type": "code",
   "execution_count": null,
   "metadata": {
    "collapsed": true
   },
   "outputs": [],
   "source": [
    "def plot9():\n",
    "    import matplotlib as plt\n",
    "    %matplotlib inline\n",
    "    \n",
    "    Top15 = answer_one()\n",
    "    Top15['PopEst'] = Top15['Energy Supply'] / Top15['Energy Supply per Capita']\n",
    "    Top15['Citable docs per Capita'] = Top15['Citable documents'] / Top15['PopEst']\n",
    "    Top15.plot(x='Citable docs per Capita', y='Energy Supply per Capita', kind='scatter', xlim=[0, 0.0006])"
   ]
  },
  {
   "cell_type": "code",
   "execution_count": null,
   "metadata": {
    "collapsed": true
   },
   "outputs": [],
   "source": [
    "#plot9() # Be sure to comment out plot9() before submitting the assignment!"
   ]
  },
  {
   "cell_type": "markdown",
   "metadata": {},
   "source": [
    "### Question 10 (6.6%)\n",
    "Create a new column with a 1 if the country's % Renewable value is at or above the median for all countries in the top 15, and a 0 if the country's % Renewable value is below the median.\n",
    "\n",
    "*This function should return a series named `HighRenew` whose index is the country name sorted in ascending order of rank.*"
   ]
  },
  {
   "cell_type": "code",
   "execution_count": null,
   "metadata": {
    "collapsed": true
   },
   "outputs": [],
   "source": [
    "def answer_ten():\n",
    "    Top15 = answer_one()\n",
    "    return \"ANSWER\""
   ]
  },
  {
   "cell_type": "markdown",
   "metadata": {},
   "source": [
    "### Question 11 (6.6%)\n",
    "Use the following dictionary to group the Countries by Continent, then create a dateframe that displays the sample size (the number of countries in each continent bin), and the sum, mean, and std deviation for the estimated population of each country.\n",
    "\n",
    "```python\n",
    "ContinentDict  = {'China':'Asia', \n",
    "                  'United States':'North America', \n",
    "                  'Japan':'Asia', \n",
    "                  'United Kingdom':'Europe', \n",
    "                  'Russian Federation':'Europe', \n",
    "                  'Canada':'North America', \n",
    "                  'Germany':'Europe', \n",
    "                  'India':'Asia',\n",
    "                  'France':'Europe', \n",
    "                  'South Korea':'Asia', \n",
    "                  'Italy':'Europe', \n",
    "                  'Spain':'Europe', \n",
    "                  'Iran':'Asia',\n",
    "                  'Australia':'Australia', \n",
    "                  'Brazil':'South America'}\n",
    "```\n",
    "\n",
    "*This function should return a DataFrame with index named Continent `['Asia', 'Australia', 'Europe', 'North America', 'South America']` and columns `['size', 'sum', 'mean', 'std']`*"
   ]
  },
  {
   "cell_type": "code",
   "execution_count": null,
   "metadata": {
    "collapsed": true
   },
   "outputs": [],
   "source": [
    "def answer_eleven():\n",
    "    Top15 = answer_one()\n",
    "    return \"ANSWER\""
   ]
  },
  {
   "cell_type": "markdown",
   "metadata": {},
   "source": [
    "### Question 12 (6.6%)\n",
    "Cut % Renewable into 5 bins. Group Top15 by the Continent, as well as these new % Renewable bins. How many countries are in each of these groups?\n",
    "\n",
    "*This function should return a __Series__ with a MultiIndex of `Continent`, then the bins for `% Renewable`. Do not include groups with no countries.*"
   ]
  },
  {
   "cell_type": "code",
   "execution_count": null,
   "metadata": {
    "collapsed": true,
    "scrolled": true
   },
   "outputs": [],
   "source": [
    "def answer_twelve():\n",
    "    Top15 = answer_one()\n",
    "    return \"ANSWER\""
   ]
  },
  {
   "cell_type": "markdown",
   "metadata": {},
   "source": [
    "### Question 13 (6.6%)\n",
    "Convert the Population Estimate series to a string with thousands separator (using commas). Do not round the results.\n",
    "\n",
    "e.g. 317615384.61538464 -> 317,615,384.61538464\n",
    "\n",
    "*This function should return a Series `PopEst` whose index is the country name and whose values are the population estimate string.*"
   ]
  },
  {
   "cell_type": "code",
   "execution_count": null,
   "metadata": {
    "collapsed": true,
    "scrolled": true
   },
   "outputs": [],
   "source": [
    "def answer_thirteen():\n",
    "    Top15 = answer_one()\n",
    "    return \"ANSWER\""
   ]
  },
  {
   "cell_type": "markdown",
   "metadata": {},
   "source": [
    "### Optional\n",
    "\n",
    "Use the built in function `plot_optional()` to see an example visualization."
   ]
  },
  {
   "cell_type": "code",
   "execution_count": null,
   "metadata": {
    "collapsed": true,
    "scrolled": true
   },
   "outputs": [],
   "source": [
    "def plot_optional():\n",
    "    import matplotlib as plt\n",
    "    %matplotlib inline\n",
    "    Top15 = answer_one()\n",
    "    ax = Top15.plot(x='Rank', y='% Renewable', kind='scatter', \n",
    "                    c=['#e41a1c','#377eb8','#e41a1c','#4daf4a','#4daf4a','#377eb8','#4daf4a','#e41a1c',\n",
    "                       '#4daf4a','#e41a1c','#4daf4a','#4daf4a','#e41a1c','#dede00','#ff7f00'], \n",
    "                    xticks=range(1,16), s=6*Top15['2014']/10**10, alpha=.75, figsize=[16,6]);\n",
    "\n",
    "    for i, txt in enumerate(Top15.index):\n",
    "        ax.annotate(txt, [Top15['Rank'][i], Top15['% Renewable'][i]], ha='center')\n",
    "\n",
    "    print(\"This is an example of a visualization that can be created to help understand the data. \\\n",
    "This is a bubble chart showing % Renewable vs. Rank. The size of the bubble corresponds to the countries' \\\n",
    "2014 GDP, and the color corresponds to the continent.\")"
   ]
  },
  {
   "cell_type": "code",
   "execution_count": null,
   "metadata": {
    "collapsed": true
   },
   "outputs": [],
   "source": [
    "#plot_optional() # Be sure to comment out plot_optional() before submitting the assignment!"
   ]
  }
 ],
 "metadata": {
  "anaconda-cloud": {},
  "coursera": {
   "course_slug": "python-data-analysis",
   "graded_item_id": "zAr06",
   "launcher_item_id": "KSSjT",
   "part_id": "SL3fU"
  },
  "kernelspec": {
   "display_name": "Python 3",
   "language": "python",
   "name": "python3"
  },
  "language_info": {
   "codemirror_mode": {
    "name": "ipython",
    "version": 3
   },
   "file_extension": ".py",
   "mimetype": "text/x-python",
   "name": "python",
   "nbconvert_exporter": "python",
   "pygments_lexer": "ipython3",
   "version": "3.6.2"
  }
 },
 "nbformat": 4,
 "nbformat_minor": 1
}
