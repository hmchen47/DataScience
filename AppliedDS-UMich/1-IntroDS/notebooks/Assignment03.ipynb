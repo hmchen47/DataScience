{
 "cells": [
  {
   "cell_type": "markdown",
   "metadata": {},
   "source": [
    "---\n",
    "\n",
    "_You are currently looking at **version 1.5** of this notebook. To download notebooks and datafiles, as well as get help on Jupyter notebooks in the Coursera platform, visit the [Jupyter Notebook FAQ](https://www.coursera.org/learn/python-data-analysis/resources/0dhYG) course resource._\n",
    "\n",
    "---"
   ]
  },
  {
   "cell_type": "markdown",
   "metadata": {},
   "source": [
    "# Assignment 3 - More Pandas\n",
    "This assignment requires more individual learning then the last one did - you are encouraged to check out the [pandas documentation](http://pandas.pydata.org/pandas-docs/stable/) to find functions or methods you might not have used yet, or ask questions on [Stack Overflow](http://stackoverflow.com/) and tag them as pandas and python related. And of course, the discussion forums are open for interaction with your peers and the course staff."
   ]
  },
  {
   "cell_type": "markdown",
   "metadata": {},
   "source": [
    "### Question 1 (20%)\n",
    "Load the energy data from the file `Energy Indicators.xls`, which is a list of indicators of [energy supply and renewable electricity production](Energy%20Indicators.xls) from the [United Nations](http://unstats.un.org/unsd/environment/excel_file_tables/2013/Energy%20Indicators.xls) for the year 2013, and should be put into a DataFrame with the variable name of **energy**.\n",
    "\n",
    "Keep in mind that this is an Excel file, and not a comma separated values file. Also, make sure to exclude the footer and header information from the datafile. The first two columns are unneccessary, so you should get rid of them, and you should change the column labels so that the columns are:\n",
    "\n",
    "`['Country', 'Energy Supply', 'Energy Supply per Capita', '% Renewable']`\n",
    "\n",
    "Convert `Energy Supply` to gigajoules (there are 1,000,000 gigajoules in a petajoule). For all countries which have missing data (e.g. data with \"...\") make sure this is reflected as `np.NaN` values.\n",
    "\n",
    "Rename the following list of countries (for use in later questions):\n",
    "\n",
    "```\"Republic of Korea\": \"South Korea\",\n",
    "\"United States of America\": \"United States\",\n",
    "\"United Kingdom of Great Britain and Northern Ireland\": \"United Kingdom\",\n",
    "\"China, Hong Kong Special Administrative Region\": \"Hong Kong\"```\n",
    "\n",
    "There are also several countries with numbers and/or parenthesis in their name. Be sure to remove these, \n",
    "\n",
    "e.g. \n",
    "\n",
    "`'Bolivia (Plurinational State of)'` should be `'Bolivia'`, \n",
    "\n",
    "`'Switzerland17'` should be `'Switzerland'`.\n",
    "\n",
    "<br>\n",
    "\n",
    "Next, load the GDP data from the file `world_bank.csv`, which is a csv containing countries' GDP from 1960 to 2015 from [World Bank](http://data.worldbank.org/indicator/NY.GDP.MKTP.CD). Call this DataFrame **GDP**. \n",
    "\n",
    "Make sure to skip the header, and rename the following list of countries:\n",
    "\n",
    "```\"Korea, Rep.\": \"South Korea\", \n",
    "\"Iran, Islamic Rep.\": \"Iran\",\n",
    "\"Hong Kong SAR, China\": \"Hong Kong\"```\n",
    "\n",
    "<br>\n",
    "\n",
    "Finally, load the [Sciamgo Journal and Country Rank data for Energy Engineering and Power Technology](http://www.scimagojr.com/countryrank.php?category=2102) from the file `scimagojr-3.xlsx`, which ranks countries based on their journal contributions in the aforementioned area. Call this DataFrame **ScimEn**.\n",
    "\n",
    "Join the three datasets: GDP, Energy, and ScimEn into a new dataset (using the intersection of country names). Use only the last 10 years (2006-2015) of GDP data and only the top 15 countries by Scimagojr 'Rank' (Rank 1 through 15). \n",
    "\n",
    "The index of this DataFrame should be the name of the country, and the columns should be ['Rank', 'Documents', 'Citable documents', 'Citations', 'Self-citations',\n",
    "       'Citations per document', 'H index', 'Energy Supply',\n",
    "       'Energy Supply per Capita', '% Renewable', '2006', '2007', '2008',\n",
    "       '2009', '2010', '2011', '2012', '2013', '2014', '2015'].\n",
    "\n",
    "*This function should return a DataFrame with 20 columns and 15 entries.*"
   ]
  },
  {
   "cell_type": "code",
   "execution_count": 9,
   "metadata": {
    "scrolled": false
   },
   "outputs": [
    {
     "data": {
      "text/html": [
       "<div>\n",
       "<style>\n",
       "    .dataframe thead tr:only-child th {\n",
       "        text-align: right;\n",
       "    }\n",
       "\n",
       "    .dataframe thead th {\n",
       "        text-align: left;\n",
       "    }\n",
       "\n",
       "    .dataframe tbody tr th {\n",
       "        vertical-align: top;\n",
       "    }\n",
       "</style>\n",
       "<table border=\"1\" class=\"dataframe\">\n",
       "  <thead>\n",
       "    <tr style=\"text-align: right;\">\n",
       "      <th></th>\n",
       "      <th>Rank</th>\n",
       "      <th>Country</th>\n",
       "      <th>Documents</th>\n",
       "      <th>Citable documents</th>\n",
       "      <th>Citations</th>\n",
       "      <th>Self-citations</th>\n",
       "      <th>Citations per document</th>\n",
       "      <th>H index</th>\n",
       "    </tr>\n",
       "  </thead>\n",
       "  <tbody>\n",
       "    <tr>\n",
       "      <th>0</th>\n",
       "      <td>1</td>\n",
       "      <td>China</td>\n",
       "      <td>127050</td>\n",
       "      <td>126767</td>\n",
       "      <td>597237</td>\n",
       "      <td>411683</td>\n",
       "      <td>4.7</td>\n",
       "      <td>138</td>\n",
       "    </tr>\n",
       "    <tr>\n",
       "      <th>190</th>\n",
       "      <td>191</td>\n",
       "      <td>Mauritania</td>\n",
       "      <td>1</td>\n",
       "      <td>1</td>\n",
       "      <td>1</td>\n",
       "      <td>0</td>\n",
       "      <td>1.0</td>\n",
       "      <td>1</td>\n",
       "    </tr>\n",
       "  </tbody>\n",
       "</table>\n",
       "</div>"
      ],
      "text/plain": [
       "     Rank     Country  Documents  Citable documents  Citations  \\\n",
       "0       1       China     127050             126767     597237   \n",
       "190   191  Mauritania          1                  1          1   \n",
       "\n",
       "     Self-citations  Citations per document  H index  \n",
       "0            411683                     4.7      138  \n",
       "190               0                     1.0        1  "
      ]
     },
     "execution_count": 9,
     "metadata": {},
     "output_type": "execute_result"
    }
   ],
   "source": [
    "import numpy as np\n",
    "import pandas as pd\n",
    "import re\n",
    "\n",
    "\n",
    "def energy():\n",
    "  \n",
    "  return energy\n",
    "\n",
    "def load_energy():\n",
    "    \"\"\"\n",
    "    1. energy = read \"Energy Indicators.xls\" \n",
    "    # note that column C has the country names \n",
    "    # with footnote numbers while column B has no footnotes\n",
    "    2. if you read the C column in 1 then remove any digits in the country column\n",
    "    3. replace all entries with the value '...' with np.NaN in the energy dataframe\n",
    "    4. convert 'Energy Supply' column values to giga-jouls\n",
    "        dicts = {\"Republic of Korea\": \"South Korea\",\n",
    "               \"United States of America\": \"United States\",\n",
    "               \"United Kingdom of Great Britain and Northern Ireland\": \"United Kingdom\",\n",
    "               \"China, Hong Kong Special Administrative Region\": \"Hong Kong\"}\n",
    "    5. replace each country in dicts's keys with the corresponding dicts value\n",
    "\n",
    "    6. remove the part after ' (' form all countries that have paranthesis, *****make sure the result has no trailing whitespace*******\n",
    "\n",
    "    \n",
    "    \n",
    "    energy DF - Energy Indicators.xls\n",
    "    1. drop first 2 columns & rename column labels w/ ['Country', 'Energy Supply', 'Energy Supply per Capita', '% Renewable']\n",
    "    2. Convert Energy Supply to gigajoules (there are 1,000,000 gigajoules in a petajoule)\n",
    "    3. missing data (e.g. data with \"...\") make sure this is reflected as np.NaN values\n",
    "    4. Rename countries:\n",
    "       \"Republic of Korea\": \"South Korea\",\n",
    "       \"United States of America\": \"United States\",\n",
    "       \"United Kingdom of Great Britain and Northern Ireland\": \"United Kingdom\",\n",
    "       \"China, Hong Kong Special Administrative Region\": \"Hong Kong\"\n",
    "    5. Remove numbers and/or parenthesis from country names\n",
    "    \"\"\"\n",
    "    # load energy DF\n",
    "    df = pd.read_excel(\"./Energy Indicators.xls\", skiprows=17)\n",
    "    \n",
    "    # after checking the column B, find index w/ content 'Sources:' and remove all rows it anf after\n",
    "    src_idx = df.index[df['Unnamed: 1'] == 'Sources:'][0]\n",
    "    df.drop([row_idx for row_idx in range(src_idx - 2, df.shape[0])], inplace=True)\n",
    "\n",
    "    # drop first 2 column\n",
    "    df.drop(df.columns[[0, 1]], axis=1, inplace=True)\n",
    "    \n",
    "    # replace '...' w/ np.NaN\n",
    "    df.replace(\"...\", np.NaN, inplace=True)\n",
    "\n",
    "    # rename column labels\n",
    "    col_lbl = ['Country', 'Energy Supply', 'Energy Supply per Capita', '% Renewable']\n",
    "    df.columns = col_lbl\n",
    "    \n",
    "#     # drop rows for 'Country' is NaN\n",
    "#     df = df[df['Country'].notnull()]\n",
    "\n",
    "    # Convert Energy Supply to gigajoules\n",
    "    df['Energy Supply'] *= 1.0e6\n",
    "    df['Energy Supply per Capita'] = df['Energy Supply per Capita'].astype(np.float64)\n",
    "    df['Energy Supply'] = df['Energy Supply'].astype(np.float64)\n",
    "    df['% Renewable'] = df['% Renewable'].astype(np.float64)\n",
    "\n",
    "    # remove numbers and/or parenthesis from country names\n",
    "    countries_lst = list(df['Country'])\n",
    "    num = re.compile(\"[0-9]\")\n",
    "    parenth = re.compile(\"\\s(\\(.+\\))\")\n",
    "    sub_countries = {\"Republic of Korea\": \"South Korea\",\n",
    "           \"United States of America\": \"United States\",\n",
    "           \"United Kingdom of Great Britain and Northern Ireland\": \"United Kingdom\",\n",
    "           \"China, Hong Kong Special Administrative Region\": \"Hong Kong\"}\n",
    "\n",
    "    countries = []\n",
    "    for country in countries_lst:\n",
    "        country = num.sub('', country)\n",
    "        country = parenth.sub('', country)\n",
    "        cpuntry = country.strip()\n",
    "        if country in sub_countries.keys():\n",
    "            country = sub_countries[country]\n",
    "        countries.append(country)\n",
    "\n",
    "    df['Country'] = countries\n",
    "    \n",
    "    return df\n",
    "\n",
    "\n",
    "def load_gdp():\n",
    "    \"\"\"\n",
    "    def gdp():\n",
    "\n",
    "      1.GDP =  read 'world_bank.csv'\n",
    "      2. replace each country in dicts's keys with the corresponding dicts value\n",
    "              dicts = {\"Korea, Rep.\": \"South Korea\", \n",
    "                   \"Iran, Islamic Rep.\": \"Iran\",\n",
    "                   \"Hong Kong SAR, China\": \"Hong Kong\"}\n",
    "      3. change column name \"Country Name\" to \"Country\"\n",
    "      4. keep only the column ['Country', '2006', '2007', '2008','2009','2010', '2011','2012','2013','2014','2015']\n",
    "\n",
    "      return GDP\n",
    "    \"\"\"\n",
    "\n",
    "    df = pd.read_csv('world_bank.csv', skiprows = 4)\n",
    "    sub_countries = {\"Korea, Rep.\": \"South Korea\",\n",
    "                     \"Iran, Islamic Rep.\": \"Iran\",\n",
    "                     \"Hong Kong SAR, China\": \"Hong Kong\"\n",
    "                    }\n",
    "    \n",
    "    # replace country name\n",
    "    df['Country Name'] = df['Country Name'].apply(\n",
    "        lambda country: sub_countries[country] if country in sub_countries.keys() else country)\n",
    "    \n",
    "    # keep only the required columns\n",
    "    cols_lbl = ['Country Name', '2006', '2007', '2008','2009','2010', '2011','2012','2013','2014','2015']\n",
    "    \n",
    "    df = df[cols_lbl]\n",
    "    \n",
    "    # rename 'Country Name' to 'Country'\n",
    "    col_names = list(df.columns)\n",
    "    col_names[0] = 'Country'\n",
    "    df.columns = col_names\n",
    "\n",
    "    return df#.set_index(df['Country'])\n",
    "\n",
    "def load_scimen():\n",
    "    \"\"\"\n",
    "    def scimen()\n",
    "\n",
    "      1. ScimEn= read 'scimagojr-3.xlsx'\n",
    "\n",
    "      return ScimEn\n",
    "    \"\"\"\n",
    "    return pd.read_excel('scimagojr-3.xlsx')\n",
    "\n",
    "def join_tbls(energy, GDP, ScimEn):\n",
    "    \"\"\"\n",
    "    def answer_one():\n",
    "        #call the function\n",
    "        energy, GDP, ScimEn = energy(),gdp(),scimen()\n",
    "        tdf = inner merge GDP and energy on 'Country'\n",
    "        tdf = inner merge tdf and ScimEn on 'Country'\n",
    "        res = get the records in tdf where the column Rank value is less or equal 15 (boolean masking)\n",
    "        return res\n",
    "    \"\"\"   \n",
    "    join_df = pd.merge(ScimEn, pd.merge(energy, GDP, left_on=\"Country\", right_on=\"Country\"), \n",
    "                       left_on='Country', right_on='Country'\n",
    "                      )\n",
    "\n",
    "    # Using Country name as index\n",
    "    join_df = join_df.set_index('Country')\n",
    "\n",
    "    \n",
    "    return join_df\n",
    "\n",
    "def top15():\n",
    "\n",
    "    energy = load_energy()\n",
    "    GDP = load_gdp()\n",
    "    ScimEn = load_scimen()\n",
    "    \n",
    "    join_df = join_tbls(energy, GDP, ScimEn)\n",
    "    \n",
    "    top15_df = join_df.loc[join_df['Rank'] <= 15]\n",
    "    \n",
    "    return top15_df\n",
    "\n",
    "def test_energy(countries):\n",
    "    \"\"\"\n",
    "    Input: a series/ the Country column in Energy\n",
    "    utf-8 encoded i.e. when reading Energy use\n",
    "    encoding='utf-8'\n",
    "    \"\"\"\n",
    "    encodedC = '11,7,7,14,7,6,8,19,9,7,5,9,7,10,7,7,10,8,7,7,6,5,7,6,7,32,22,8,6,22,17,8,12,7,10,8,8,6,14,24,4,5,5,9,42,8,7,5,12,10,13,7,4,7,6,14,37,32,7,8,8,18,7,5,11,17,7,7,8,14,16,4,7,6,13,16,5,6,7,7,5,9,6,9,7,10,4,9,8,6,13,6,5,8,7,7,5,9,4,4,7,11,6,5,7,5,6,6,10,5,8,6,10,32,6,7,7,7,5,13,9,10,10,6,8,8,4,5,16,10,10,9,6,10,8,10,10,7,10,7,7,5,5,11,13,11,9,5,7,4,24,6,4,8,5,6,16,8,4,11,6,8,11,5,11,19,7,7,18,6,12,21,11,25,32,5,21,12,7,6,10,12,9,12,8,8,15,7,12,11,5,9,18,5,8,9,6,11,20,10,8,41,11,4,5,19,7,6,12,24,6,6,7,20,14,27,13,28,7,10,7,9,8,25,5,6,8'\n",
    "    outcome = ['Failed\\n', 'Passed\\n']\n",
    "    \n",
    "    \n",
    "    print(\"\\n\\nEnegery Countries:\\n{}\\n\".format(list(countries)))\n",
    "\n",
    "    \n",
    "    energy = pd.DataFrame()\n",
    "    energy['original'] = pd.read_excel('Energy Indicators.xls',\n",
    "                                   usecols=[1],encoding='utf-8',\n",
    "                                   index_col=0).loc['Afghanistan':'Zimbabwe'].index.tolist()\n",
    "    energy['tested'] = countries.str.len()\n",
    "    energy['actual'] = encodedC.split(',')\n",
    "    energy['actual'] = energy['actual'].astype(int)\n",
    "    try:\n",
    "        energy['Country'] = countries\n",
    "    except Exception as e:\n",
    "        print('Failed, error: ',e)\n",
    "    \n",
    "    res = 'Test number of records: '\n",
    "    res += outcome[len(countries)==len(energy)]\n",
    "    \n",
    "    res += 'Test the column name: '\n",
    "    res += outcome [countries.name == 'Country']\n",
    "    \n",
    "    res += 'Equality Test: '\n",
    "    res += outcome[energy['tested'].equals(energy['actual'])]\n",
    "    \n",
    "    if not energy['tested'].equals(energy['actual']):\n",
    "        res += '\\nMismatched countries:\\n'\n",
    "        mismatch = energy.loc[energy['tested'] != (energy['actual']), [\n",
    "            'original', 'Country', 'tested', 'actual']].values.tolist()\n",
    "        res += '\\n'.join('\"{:}\" miss-cleaned as  \"{:}\"'.format(o, r)\n",
    "                         for o, r, s, v in mismatch)\n",
    "    return res\n",
    "\n",
    "def test_gdp(countries):\n",
    "    \"\"\"\n",
    "    Input: a series/ the Country column in GDP\n",
    "    utf-8 encoded i.e. when reading GDP use\n",
    "    encoding='utf-8'\n",
    "    \"\"\"\n",
    "    encodedC = '5,7,11,6,7,10,20,9,7,14,19,9,7,10,7,7,5,12,10,8,7,12,22,7,6,7,7,6,8,17,6,8,24,6,30,11,15,5,5,13,8,11,8,7,10,10,22,4,7,14,6,14,7,8,8,7,18,7,43,26,19,45,21,7,16,9,7,5,7,8,14,40,7,4,6,13,21,5,14,7,5,9,6,11,13,17,6,7,9,9,4,6,11,9,8,38,7,5,7,9,16,9,9,9,8,11,5,14,7,4,4,7,6,5,7,6,5,10,5,15,8,8,19,11,6,6,49,7,7,7,5,9,25,44,10,13,9,19,19,7,25,9,10,6,16,24,7,6,7,10,8,26,6,16,13,14,4,5,7,50,10,8,24,10,10,9,6,8,13,7,13,5,7,9,11,6,5,5,11,12,4,18,8,6,4,11,5,16,6,24,11,25,8,8,27,25,16,5,7,18,6,10,12,5,7,9,15,12,11,10,7,6,42,11,18,12,21,8,15,8,6,9,25,10,20,24,4,42,44,4,8,10,12,52,49,11,5,23,41,19,7,6,6,8,6,7,19,7,13,10,30,13,22,21,7,7,18,5,5,11,12,16,6,8'\n",
    "    outcome = ['Failed\\n', 'Passed\\n']\n",
    "    \n",
    "    print(\"\\n\\nGDP Countries:\\n{}\\n\".format(list(countries)))\n",
    "    \n",
    "    GDP = pd.DataFrame()\n",
    "    GDP['original'] = pd.read_csv('world_bank.csv',\n",
    "                                  usecols=[0],encoding='utf-8',\n",
    "                                  index_col=0).loc['Aruba':'Zimbabwe'].index.tolist()\n",
    "    GDP['tested'] = countries.str.len()\n",
    "    GDP['actual'] = encodedC.split(',')\n",
    "    GDP['actual'] = GDP['actual'].astype(int)\n",
    "    try:\n",
    "        GDP['Country'] = countries\n",
    "    except Exception as e:\n",
    "        print('Failed, error: ',e)\n",
    "    \n",
    "    res = 'Test number of records: '\n",
    "    res += outcome[len(countries)==len(GDP)]\n",
    "    \n",
    "    res += 'Test the column name: '\n",
    "    res += outcome [countries.name == 'Country']\n",
    "    \n",
    "    res += 'Equality Test: '\n",
    "    res += outcome[GDP['tested'].equals(GDP['actual'])]\n",
    "    \n",
    "    if not GDP['tested'].equals(GDP['actual']):\n",
    "        res += '\\nMismatched countries:\\n'\n",
    "        mismatch = GDP.loc[GDP['tested'] != (GDP['actual']), [\n",
    "            'original', 'Country', 'tested', 'actual']].values.tolist()\n",
    "        res += '\\n'.join('\"{:}\" miss-cleaned as  \"{:}\"'.format(o, r)\n",
    "                         for o, r, s, v in mismatch)\n",
    "    return res\n",
    "\n",
    "\n",
    "# print(test_energy(load_energy().loc[:,'Country']))\n",
    "# print()\n",
    "# print(test_gdp(load_gdp()['Country']))\n",
    "\n",
    "\n",
    "def answer_one():\n",
    "    energy = load_energy()\n",
    "    GDP = load_gdp()\n",
    "    ScimEn = load_scimen()\n",
    "    \n",
    "    \n",
    "    \n",
    "    join_df = join_tbls(energy, GDP, ScimEn)\n",
    "    \n",
    "    top15_df = join_df.loc[join_df['Rank'] <= 15]\n",
    "    \n",
    "    return top15_df\n",
    "#     return join_df\n",
    "#     return ScimEn\n",
    "#     return GDP\n",
    "#     return energy\n",
    "\n",
    "# type(answer_one())\n",
    "# answer_one().iloc[[0, -1]]\n",
    "# answer_one().info()\n"
   ]
  },
  {
   "cell_type": "markdown",
   "metadata": {},
   "source": [
    "### Question 2 (6.6%)\n",
    "The previous question joined three datasets then reduced this to just the top 15 entries. When you joined the datasets, but before you reduced this to the top 15 items, how many entries did you lose?\n",
    "\n",
    "*This function should return a single number.*"
   ]
  },
  {
   "cell_type": "code",
   "execution_count": 3,
   "metadata": {},
   "outputs": [
    {
     "data": {
      "text/html": [
       "<svg width=\"800\" height=\"300\">\n",
       "  <circle cx=\"150\" cy=\"180\" r=\"80\" fill-opacity=\"0.2\" stroke=\"black\" stroke-width=\"2\" fill=\"blue\" />\n",
       "  <circle cx=\"200\" cy=\"100\" r=\"80\" fill-opacity=\"0.2\" stroke=\"black\" stroke-width=\"2\" fill=\"red\" />\n",
       "  <circle cx=\"100\" cy=\"100\" r=\"80\" fill-opacity=\"0.2\" stroke=\"black\" stroke-width=\"2\" fill=\"green\" />\n",
       "  <line x1=\"150\" y1=\"125\" x2=\"300\" y2=\"150\" stroke=\"black\" stroke-width=\"2\" fill=\"black\" stroke-dasharray=\"5,3\"/>\n",
       "  <text  x=\"300\" y=\"165\" font-family=\"Verdana\" font-size=\"35\">Everything but this!</text>\n",
       "</svg>"
      ],
      "text/plain": [
       "<IPython.core.display.HTML object>"
      ]
     },
     "metadata": {},
     "output_type": "display_data"
    }
   ],
   "source": [
    "%%HTML\n",
    "<svg width=\"800\" height=\"300\">\n",
    "  <circle cx=\"150\" cy=\"180\" r=\"80\" fill-opacity=\"0.2\" stroke=\"black\" stroke-width=\"2\" fill=\"blue\" />\n",
    "  <circle cx=\"200\" cy=\"100\" r=\"80\" fill-opacity=\"0.2\" stroke=\"black\" stroke-width=\"2\" fill=\"red\" />\n",
    "  <circle cx=\"100\" cy=\"100\" r=\"80\" fill-opacity=\"0.2\" stroke=\"black\" stroke-width=\"2\" fill=\"green\" />\n",
    "  <line x1=\"150\" y1=\"125\" x2=\"300\" y2=\"150\" stroke=\"black\" stroke-width=\"2\" fill=\"black\" stroke-dasharray=\"5,3\"/>\n",
    "  <text  x=\"300\" y=\"165\" font-family=\"Verdana\" font-size=\"35\">Everything but this!</text>\n",
    "</svg>"
   ]
  },
  {
   "cell_type": "code",
   "execution_count": 16,
   "metadata": {},
   "outputs": [
    {
     "data": {
      "text/plain": [
       "156"
      ]
     },
     "execution_count": 16,
     "metadata": {},
     "output_type": "execute_result"
    }
   ],
   "source": [
    "def answer_two():\n",
    "    \"\"\"\n",
    "    def answer_two():\n",
    "        #call the function\n",
    "        energy, GDP, ScimEn = energy(),gdp(),scimen()\n",
    "        tdf_in = inner merge GDP and energy on 'Country'\n",
    "        tdf_in = inner merge tdf_in and ScimEn on 'Country'\n",
    "\n",
    "        tdf_out = outer merge GDP and energy on 'Country'\n",
    "        tdf_out = outer merge tdf_out and ScimEn on 'Country'\n",
    "        return len(tdf_out) - len(tdf_in) \n",
    "    \"\"\"\n",
    "    \n",
    "    energy = load_energy()\n",
    "    GDP = load_gdp()\n",
    "    ScimEn = load_scimen()\n",
    "\n",
    "    tdf_in = pd.merge(energy, GDP, on=\"Country\")\n",
    "    tdf_in = pd.merge(ScimEn, tdf_in, on=\"Country\")\n",
    "    \n",
    "    tdf_out = pd.merge(energy, GDP, on=\"Country\", how=\"outer\")\n",
    "    tdf_out = pd.merge(ScimEn, tdf_out, on=\"Country\", how=\"outer\")\n",
    "#     join_df = join_tbls(energy, GDP, ScimEn)\n",
    "#     join_rows = join_df.shape[0]\n",
    "#     print(join_df.info())\n",
    "\n",
    "#     union_df = pd.merge(ScimEn, pd.merge(energy,  GDP, how='outer', left_on=\"Country\", right_on=\"Country\"), \n",
    "#                        how='outer', left_on='Country', right_on='Country'\n",
    "#                       )\n",
    "#     union_rows = union_df.shape[0]\n",
    "#     print(union_df.info())\n",
    "    \n",
    "#     return (union_rows - join_rows) \n",
    "    return  len(tdf_out) - len(tdf_in)\n",
    "\n",
    "\n",
    "# answer_two()"
   ]
  },
  {
   "cell_type": "markdown",
   "metadata": {},
   "source": [
    "<br>\n",
    "\n",
    "Answer the following questions in the context of only the top 15 countries by Scimagojr Rank (aka the DataFrame returned by `answer_one()`)"
   ]
  },
  {
   "cell_type": "markdown",
   "metadata": {},
   "source": [
    "### Question 3 (6.6%)\n",
    "What is the average GDP over the last 10 years for each country? (exclude missing values from this calculation.)\n",
    "\n",
    "*This function should return a Series named `avgGDP` with 15 countries and their average GDP sorted in descending order.*"
   ]
  },
  {
   "cell_type": "code",
   "execution_count": 5,
   "metadata": {
    "collapsed": true,
    "scrolled": true
   },
   "outputs": [],
   "source": [
    "def answer_three():\n",
    "    \n",
    "    Top15 = answer_one()\n",
    "    \n",
    "    years = [str(year) for year in range(2006, 2016)]\n",
    "    \n",
    "    result = Top15.apply(lambda x: np.mean(x[years]), axis=1)\n",
    "    \n",
    "    return result\n",
    "\n",
    "# answer_three()"
   ]
  },
  {
   "cell_type": "markdown",
   "metadata": {},
   "source": [
    "### Question 4 (6.6%)\n",
    "By how much had the GDP changed over the 10 year span for the country with the 6th largest average GDP?\n",
    "\n",
    "*This function should return a single number.*"
   ]
  },
  {
   "cell_type": "code",
   "execution_count": 6,
   "metadata": {
    "collapsed": true,
    "scrolled": true
   },
   "outputs": [],
   "source": [
    "def answer_four():\n",
    "    Top15 = answer_one()\n",
    "    \n",
    "    cols = [str(year) for year in range(2006, 2016)]\n",
    "    \n",
    "    Top15['Avg. GDP'] = Top15.apply(lambda x: np.mean(x[cols]), axis=1)\n",
    "    \n",
    "    Top15.sort_values(by='Avg. GDP', ascending=False, inplace=True)\n",
    "    \n",
    "    return Top15.iloc[5]['2015'] - Top15.iloc[5]['2006']\n",
    "\n",
    "# answer_four()"
   ]
  },
  {
   "cell_type": "markdown",
   "metadata": {},
   "source": [
    "### Question 5 (6.6%)\n",
    "What is the mean `Energy Supply per Capita`?\n",
    "\n",
    "*This function should return a single number.*"
   ]
  },
  {
   "cell_type": "code",
   "execution_count": 7,
   "metadata": {
    "collapsed": true
   },
   "outputs": [],
   "source": [
    "def answer_five():\n",
    "    Top15 = answer_one()\n",
    "    return np.mean(Top15['Energy Supply per Capita'])\n",
    "\n",
    "# answer_five()"
   ]
  },
  {
   "cell_type": "markdown",
   "metadata": {},
   "source": [
    "### Question 6 (6.6%)\n",
    "What country has the maximum % Renewable and what is the percentage?\n",
    "\n",
    "*This function should return a tuple with the name of the country and the percentage.*"
   ]
  },
  {
   "cell_type": "code",
   "execution_count": 8,
   "metadata": {
    "collapsed": true
   },
   "outputs": [],
   "source": [
    "def answer_six():\n",
    "    Top15 = answer_one()\n",
    "    return (Top15[Top15['% Renewable'] == Top15['% Renewable'].max()].index[0], Top15['% Renewable'].max())\n",
    "\n",
    "# answer_six()"
   ]
  },
  {
   "cell_type": "markdown",
   "metadata": {},
   "source": [
    "### Question 7 (6.6%)\n",
    "Create a new column that is the ratio of Self-Citations to Total Citations. \n",
    "What is the maximum value for this new column, and what country has the highest ratio?\n",
    "\n",
    "*This function should return a tuple with the name of the country and the ratio.*"
   ]
  },
  {
   "cell_type": "code",
   "execution_count": 9,
   "metadata": {
    "collapsed": true
   },
   "outputs": [],
   "source": [
    "def answer_seven():\n",
    "    Top15 = answer_one()\n",
    "    \n",
    "    Top15['Citation Ratio'] = Top15['Self-citations'] / Top15['Citations']\n",
    "    \n",
    "#     return Top15\n",
    "    return (Top15[Top15['Citation Ratio'] == Top15['Citation Ratio'].max()].index[0], Top15['Citation Ratio'].max())\n",
    "\n",
    "\n",
    "# answer_seven()"
   ]
  },
  {
   "cell_type": "markdown",
   "metadata": {},
   "source": [
    "### Question 8 (6.6%)\n",
    "\n",
    "Create a column that estimates the population using Energy Supply and Energy Supply per capita. \n",
    "What is the third most populous country according to this estimate?\n",
    "\n",
    "*This function should return a single string value.*"
   ]
  },
  {
   "cell_type": "code",
   "execution_count": 10,
   "metadata": {
    "collapsed": true
   },
   "outputs": [],
   "source": [
    "def answer_eight():\n",
    "    Top15 = answer_one()\n",
    "    \n",
    "    Top15['Est. Popul.'] = Top15['Energy Supply'] / Top15['Energy Supply per Capita']\n",
    "    \n",
    "    new = Top15.sort_values(by='Est. Popul.', ascending=False)\n",
    "    \n",
    "    return new.iloc[2].name\n",
    "\n",
    "# answer_eight()"
   ]
  },
  {
   "cell_type": "markdown",
   "metadata": {},
   "source": [
    "### Question 9 (6.6%)\n",
    "Create a column that estimates the number of citable documents per person. \n",
    "What is the correlation between the number of citable documents per capita and the energy supply per capita? Use the `.corr()` method, (Pearson's correlation).\n",
    "\n",
    "*This function should return a single number.*\n",
    "\n",
    "*(Optional: Use the built-in function `plot9()` to visualize the relationship between Energy Supply per Capita vs. Citable docs per Capita)*"
   ]
  },
  {
   "cell_type": "code",
   "execution_count": 14,
   "metadata": {},
   "outputs": [
    {
     "data": {
      "text/plain": [
       "0.79400104354429457"
      ]
     },
     "execution_count": 14,
     "metadata": {},
     "output_type": "execute_result"
    }
   ],
   "source": [
    "def answer_nine():\n",
    "    Top15 = answer_one()\n",
    "    \n",
    "    Top15['Est. Popul.'] = Top15['Energy Supply'] / Top15['Energy Supply per Capita']\n",
    "    Top15['Citable docs per Capita'] = Top15['Citable documents'] / Top15['Est. Popul.']\n",
    "    \n",
    "    \n",
    "    return Top15['Citable docs per Capita'].corr(Top15['Energy Supply per Capita'])\n",
    "\n",
    "# answer_nine()"
   ]
  },
  {
   "cell_type": "code",
   "execution_count": 15,
   "metadata": {
    "collapsed": true
   },
   "outputs": [],
   "source": [
    "def plot9():\n",
    "    import matplotlib as plt\n",
    "    %matplotlib inline\n",
    "    \n",
    "    Top15 = answer_one()\n",
    "    Top15['PopEst'] = Top15['Energy Supply'] / Top15['Energy Supply per Capita']\n",
    "    Top15['Citable docs per Capita'] = Top15['Citable documents'] / Top15['PopEst']\n",
    "    Top15.plot(x='Citable docs per Capita', y='Energy Supply per Capita', kind='scatter', xlim=[0, 0.0006])"
   ]
  },
  {
   "cell_type": "code",
   "execution_count": 17,
   "metadata": {
    "collapsed": true
   },
   "outputs": [],
   "source": [
    "# plot9() # Be sure to comment out plot9() before submitting the assignment!"
   ]
  },
  {
   "cell_type": "markdown",
   "metadata": {},
   "source": [
    "### Question 10 (6.6%)\n",
    "Create a new column with a 1 if the country's % Renewable value is at or above the median for all countries in the top 15, and a 0 if the country's % Renewable value is below the median.\n",
    "\n",
    "*This function should return a series named `HighRenew` whose index is the country name sorted in ascending order of rank.*"
   ]
  },
  {
   "cell_type": "code",
   "execution_count": 30,
   "metadata": {},
   "outputs": [
    {
     "data": {
      "text/plain": [
       "pandas.core.series.Series"
      ]
     },
     "execution_count": 30,
     "metadata": {},
     "output_type": "execute_result"
    }
   ],
   "source": [
    "def answer_ten():\n",
    "    Top15 = answer_one()\n",
    "    \n",
    "    Top15['HighRenew'] = Top15['% Renewable'] >= Top15['% Renewable'].median()\n",
    "    \n",
    "    Top15.sort_index(inplace=True)\n",
    "    \n",
    "    return Top15['HighRenew']\n",
    "\n",
    "# answer_ten()"
   ]
  },
  {
   "cell_type": "markdown",
   "metadata": {},
   "source": [
    "### Question 11 (6.6%)\n",
    "Use the following dictionary to group the Countries by Continent, then create a dateframe that displays the sample size (the number of countries in each continent bin), and the sum, mean, and std deviation for the estimated population of each country.\n",
    "\n",
    "```python\n",
    "ContinentDict  = {'China':'Asia', \n",
    "                  'United States':'North America', \n",
    "                  'Japan':'Asia', \n",
    "                  'United Kingdom':'Europe', \n",
    "                  'Russian Federation':'Europe', \n",
    "                  'Canada':'North America', \n",
    "                  'Germany':'Europe', \n",
    "                  'India':'Asia',\n",
    "                  'France':'Europe', \n",
    "                  'South Korea':'Asia', \n",
    "                  'Italy':'Europe', \n",
    "                  'Spain':'Europe', \n",
    "                  'Iran':'Asia',\n",
    "                  'Australia':'Australia', \n",
    "                  'Brazil':'South America'}\n",
    "```\n",
    "\n",
    "*This function should return a DataFrame with index named Continent `['Asia', 'Australia', 'Europe', 'North America', 'South America']` and columns `['size', 'sum', 'mean', 'std']`*"
   ]
  },
  {
   "cell_type": "code",
   "execution_count": 57,
   "metadata": {},
   "outputs": [
    {
     "name": "stderr",
     "output_type": "stream",
     "text": [
      "C:\\ProgramData\\Anaconda3\\lib\\site-packages\\ipykernel_launcher.py:25: FutureWarning: using a dict on a Series for aggregation\n",
      "is deprecated and will be removed in a future version\n"
     ]
    },
    {
     "data": {
      "text/html": [
       "<div>\n",
       "<style>\n",
       "    .dataframe thead tr:only-child th {\n",
       "        text-align: right;\n",
       "    }\n",
       "\n",
       "    .dataframe thead th {\n",
       "        text-align: left;\n",
       "    }\n",
       "\n",
       "    .dataframe tbody tr th {\n",
       "        vertical-align: top;\n",
       "    }\n",
       "</style>\n",
       "<table border=\"1\" class=\"dataframe\">\n",
       "  <thead>\n",
       "    <tr style=\"text-align: right;\">\n",
       "      <th></th>\n",
       "      <th>size</th>\n",
       "      <th>sum</th>\n",
       "      <th>mean</th>\n",
       "      <th>std</th>\n",
       "    </tr>\n",
       "    <tr>\n",
       "      <th>Continent</th>\n",
       "      <th></th>\n",
       "      <th></th>\n",
       "      <th></th>\n",
       "      <th></th>\n",
       "    </tr>\n",
       "  </thead>\n",
       "  <tbody>\n",
       "    <tr>\n",
       "      <th>Asia</th>\n",
       "      <td>5.0</td>\n",
       "      <td>2.898666e+09</td>\n",
       "      <td>5.797333e+08</td>\n",
       "      <td>6.790979e+08</td>\n",
       "    </tr>\n",
       "    <tr>\n",
       "      <th>Australia</th>\n",
       "      <td>1.0</td>\n",
       "      <td>2.331602e+07</td>\n",
       "      <td>2.331602e+07</td>\n",
       "      <td>NaN</td>\n",
       "    </tr>\n",
       "    <tr>\n",
       "      <th>Europe</th>\n",
       "      <td>6.0</td>\n",
       "      <td>4.579297e+08</td>\n",
       "      <td>7.632161e+07</td>\n",
       "      <td>3.464767e+07</td>\n",
       "    </tr>\n",
       "    <tr>\n",
       "      <th>North America</th>\n",
       "      <td>2.0</td>\n",
       "      <td>3.528552e+08</td>\n",
       "      <td>1.764276e+08</td>\n",
       "      <td>1.996696e+08</td>\n",
       "    </tr>\n",
       "    <tr>\n",
       "      <th>South America</th>\n",
       "      <td>1.0</td>\n",
       "      <td>2.059153e+08</td>\n",
       "      <td>2.059153e+08</td>\n",
       "      <td>NaN</td>\n",
       "    </tr>\n",
       "  </tbody>\n",
       "</table>\n",
       "</div>"
      ],
      "text/plain": [
       "               size           sum          mean           std\n",
       "Continent                                                    \n",
       "Asia            5.0  2.898666e+09  5.797333e+08  6.790979e+08\n",
       "Australia       1.0  2.331602e+07  2.331602e+07           NaN\n",
       "Europe          6.0  4.579297e+08  7.632161e+07  3.464767e+07\n",
       "North America   2.0  3.528552e+08  1.764276e+08  1.996696e+08\n",
       "South America   1.0  2.059153e+08  2.059153e+08           NaN"
      ]
     },
     "execution_count": 57,
     "metadata": {},
     "output_type": "execute_result"
    }
   ],
   "source": [
    "def answer_eleven():\n",
    "    Top15 = answer_one()\n",
    "    \n",
    "    ContinentDict  = {'China':'Asia', \n",
    "                  'United States':'North America', \n",
    "                  'Japan':'Asia', \n",
    "                  'United Kingdom':'Europe', \n",
    "                  'Russian Federation':'Europe', \n",
    "                  'Canada':'North America', \n",
    "                  'Germany':'Europe', \n",
    "                  'India':'Asia',\n",
    "                  'France':'Europe', \n",
    "                  'South Korea':'Asia', \n",
    "                  'Italy':'Europe', \n",
    "                  'Spain':'Europe', \n",
    "                  'Iran':'Asia',\n",
    "                  'Australia':'Australia', \n",
    "                  'Brazil':'South America'}\n",
    "    \n",
    "    Top15['Est. Popul.'] = Top15['Energy Supply'] / Top15['Energy Supply per Capita']\n",
    "    \n",
    "    Top15['Continent'] = Top15.apply(lambda row: ContinentDict[row.name], axis=1)\n",
    "    \n",
    "    continent = Top15.groupby('Continent')['Est. Popul.'].agg(\n",
    "        {'size': len, 'sum': np.sum, 'mean': np.mean, 'std': np.std})\n",
    "    \n",
    "    return continent\n",
    "\n",
    "# answer_eleven()"
   ]
  },
  {
   "cell_type": "markdown",
   "metadata": {},
   "source": [
    "### Question 12 (6.6%)\n",
    "Cut % Renewable into 5 bins. Group Top15 by the Continent, as well as these new % Renewable bins. How many countries are in each of these groups?\n",
    "\n",
    "*This function should return a __Series__ with a MultiIndex of `Continent`, then the bins for `% Renewable`. Do not include groups with no countries.*"
   ]
  },
  {
   "cell_type": "code",
   "execution_count": 74,
   "metadata": {
    "scrolled": true
   },
   "outputs": [
    {
     "data": {
      "text/plain": [
       "Continent      % Renewable     \n",
       "Asia           (2.212, 15.753]     4\n",
       "               (15.753, 29.227]    1\n",
       "Australia      (2.212, 15.753]     1\n",
       "Europe         (2.212, 15.753]     1\n",
       "               (15.753, 29.227]    3\n",
       "               (29.227, 42.701]    2\n",
       "North America  (2.212, 15.753]     1\n",
       "               (56.174, 69.648]    1\n",
       "South America  (56.174, 69.648]    1\n",
       "dtype: int64"
      ]
     },
     "execution_count": 74,
     "metadata": {},
     "output_type": "execute_result"
    }
   ],
   "source": [
    "def answer_twelve():\n",
    "    Top15 = answer_one()\n",
    "    \n",
    "    ContinentDict  = {'China':'Asia', \n",
    "                  'United States':'North America', \n",
    "                  'Japan':'Asia', \n",
    "                  'United Kingdom':'Europe', \n",
    "                  'Russian Federation':'Europe', \n",
    "                  'Canada':'North America', \n",
    "                  'Germany':'Europe', \n",
    "                  'India':'Asia',\n",
    "                  'France':'Europe', \n",
    "                  'South Korea':'Asia', \n",
    "                  'Italy':'Europe', \n",
    "                  'Spain':'Europe', \n",
    "                  'Iran':'Asia',\n",
    "                  'Australia':'Australia', \n",
    "                  'Brazil':'South America'}\n",
    "    \n",
    "    Top15['Continent'] = Top15.apply(lambda row: ContinentDict[row.name], axis=1)\n",
    "    \n",
    "    contient_renew = Top15.groupby(['Continent', pd.cut(Top15['% Renewable'], 5)]).size()\n",
    "\n",
    "    \n",
    "    return contient_renew\n",
    "\n",
    "# answer_twelve()"
   ]
  },
  {
   "cell_type": "markdown",
   "metadata": {},
   "source": [
    "### Question 13 (6.6%)\n",
    "Convert the Population Estimate series to a string with thousands separator (using commas). Do not round the results.\n",
    "\n",
    "e.g. 317615384.61538464 -> 317,615,384.61538464\n",
    "\n",
    "*This function should return a Series `PopEst` whose index is the country name and whose values are the population estimate string.*"
   ]
  },
  {
   "cell_type": "code",
   "execution_count": 80,
   "metadata": {
    "scrolled": true
   },
   "outputs": [
    {
     "data": {
      "text/plain": [
       "Country\n",
       "China                 1,367,645,161.2903225\n",
       "United States          317,615,384.61538464\n",
       "Japan                  127,409,395.97315437\n",
       "United Kingdom         63,870,967.741935484\n",
       "Russian Federation            143,500,000.0\n",
       "Canada                  35,239,864.86486486\n",
       "Germany                 80,369,696.96969697\n",
       "India                 1,276,730,769.2307692\n",
       "France                  63,837,349.39759036\n",
       "South Korea            49,805,429.864253394\n",
       "Italy                  59,908,256.880733944\n",
       "Spain                    46,443,396.2264151\n",
       "Iran                    77,075,630.25210084\n",
       "Australia              23,316,017.316017315\n",
       "Brazil                 205,915,254.23728815\n",
       "Name: PopEst, dtype: object"
      ]
     },
     "execution_count": 80,
     "metadata": {},
     "output_type": "execute_result"
    }
   ],
   "source": [
    "def answer_thirteen():\n",
    "    Top15 = answer_one()\n",
    "    \n",
    "    Top15['PopEst'] = Top15['Energy Supply'] / Top15['Energy Supply per Capita']\n",
    "    \n",
    "    Top15['PopEst'] = Top15['PopEst'].map('{:,}'.format)\n",
    "\n",
    "    return Top15['PopEst']\n",
    "\n",
    "# answer_thirteen()"
   ]
  },
  {
   "cell_type": "markdown",
   "metadata": {},
   "source": [
    "### Optional\n",
    "\n",
    "Use the built in function `plot_optional()` to see an example visualization."
   ]
  },
  {
   "cell_type": "code",
   "execution_count": null,
   "metadata": {
    "collapsed": true,
    "scrolled": true
   },
   "outputs": [],
   "source": [
    "def plot_optional():\n",
    "    import matplotlib as plt\n",
    "    %matplotlib inline\n",
    "    Top15 = answer_one()\n",
    "    ax = Top15.plot(x='Rank', y='% Renewable', kind='scatter', \n",
    "                    c=['#e41a1c','#377eb8','#e41a1c','#4daf4a','#4daf4a','#377eb8','#4daf4a','#e41a1c',\n",
    "                       '#4daf4a','#e41a1c','#4daf4a','#4daf4a','#e41a1c','#dede00','#ff7f00'], \n",
    "                    xticks=range(1,16), s=6*Top15['2014']/10**10, alpha=.75, figsize=[16,6]);\n",
    "\n",
    "    for i, txt in enumerate(Top15.index):\n",
    "        ax.annotate(txt, [Top15['Rank'][i], Top15['% Renewable'][i]], ha='center')\n",
    "\n",
    "    print(\"This is an example of a visualization that can be created to help understand the data. \\\n",
    "This is a bubble chart showing % Renewable vs. Rank. The size of the bubble corresponds to the countries' \\\n",
    "2014 GDP, and the color corresponds to the continent.\")"
   ]
  },
  {
   "cell_type": "code",
   "execution_count": null,
   "metadata": {
    "collapsed": true
   },
   "outputs": [],
   "source": [
    "#plot_optional() # Be sure to comment out plot_optional() before submitting the assignment!"
   ]
  }
 ],
 "metadata": {
  "anaconda-cloud": {},
  "coursera": {
   "course_slug": "python-data-analysis",
   "graded_item_id": "zAr06",
   "launcher_item_id": "KSSjT",
   "part_id": "SL3fU"
  },
  "kernelspec": {
   "display_name": "Python 3",
   "language": "python",
   "name": "python3"
  },
  "language_info": {
   "codemirror_mode": {
    "name": "ipython",
    "version": 3
   },
   "file_extension": ".py",
   "mimetype": "text/x-python",
   "name": "python",
   "nbconvert_exporter": "python",
   "pygments_lexer": "ipython3",
   "version": "3.6.2"
  }
 },
 "nbformat": 4,
 "nbformat_minor": 1
}
