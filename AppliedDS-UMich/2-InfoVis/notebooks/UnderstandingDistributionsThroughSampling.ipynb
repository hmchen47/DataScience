{
 "cells": [
  {
   "cell_type": "markdown",
   "metadata": {},
   "source": [
    "# Practice Assignment: Understanding Distributions Through Sampling\n",
    "\n",
    "** *This assignment is optional, and I encourage you to share your solutions with me and your peers in the discussion forums!* **\n",
    "\n",
    "\n",
    "To complete this assignment, create a code cell that:\n",
    "* Creates a number of subplots using the `pyplot subplots` or `matplotlib gridspec` functionality.\n",
    "* Creates an animation, pulling between 100 and 1000 samples from each of the random variables (`x1`, `x2`, `x3`, `x4`) for each plot and plotting this as we did in the lecture on animation.\n",
    "* **Bonus:** Go above and beyond and \"wow\" your classmates (and me!) by looking into matplotlib widgets and adding a widget which allows for parameterization of the distributions behind the sampling animations.\n",
    "\n",
    "\n",
    "Tips:\n",
    "* Before you start, think about the different ways you can create this visualization to be as interesting and effective as possible.\n",
    "* Take a look at the histograms below to get an idea of what the random variables look like, as well as their positioning with respect to one another. This is just a guide, so be creative in how you lay things out!\n",
    "* Try to keep the length of your animation reasonable (roughly between 10 and 30 seconds)."
   ]
  },
  {
   "cell_type": "code",
   "execution_count": null,
   "metadata": {
    "collapsed": false
   },
   "outputs": [],
   "source": [
    "import matplotlib.pyplot as plt\n",
    "import numpy as np\n",
    "\n",
    "%matplotlib notebook\n",
    "\n",
    "# generate 4 random variables from the random, gamma, exponential, and uniform distributions\n",
    "x1 = np.random.normal(-2.5, 1, 10000)\n",
    "x2 = np.random.gamma(2, 1.5, 10000)\n",
    "x3 = np.random.exponential(2, 10000)+7\n",
    "x4 = np.random.uniform(14,20, 10000)\n",
    "\n",
    "# plot the histograms\n",
    "plt.figure(figsize=(9,3))\n",
    "plt.hist(x1, normed=True, bins=20, alpha=0.5)\n",
    "plt.hist(x2, normed=True, bins=20, alpha=0.5)\n",
    "plt.hist(x3, normed=True, bins=20, alpha=0.5)\n",
    "plt.hist(x4, normed=True, bins=20, alpha=0.5);\n",
    "plt.axis([-7,21,0,0.6])\n",
    "\n",
    "plt.text(x1.mean()-1.5, 0.5, 'x1\\nNormal')\n",
    "plt.text(x2.mean()-1.5, 0.5, 'x2\\nGamma')\n",
    "plt.text(x3.mean()-1.5, 0.5, 'x3\\nExponential')\n",
    "plt.text(x4.mean()-1.5, 0.5, 'x4\\nUniform')"
   ]
  },
  {
   "cell_type": "code",
   "execution_count": null,
   "metadata": {
    "collapsed": true
   },
   "outputs": [],
   "source": []
  }
 ],
 "metadata": {
  "kernelspec": {
   "display_name": "Python 3",
   "language": "python",
   "name": "python3"
  },
  "language_info": {
   "codemirror_mode": {
    "name": "ipython",
    "version": 3
   },
   "file_extension": ".py",
   "mimetype": "text/x-python",
   "name": "python",
   "nbconvert_exporter": "python",
   "pygments_lexer": "ipython3",
   "version": "3.5.2"
  }
 },
 "nbformat": 4,
 "nbformat_minor": 2
}
