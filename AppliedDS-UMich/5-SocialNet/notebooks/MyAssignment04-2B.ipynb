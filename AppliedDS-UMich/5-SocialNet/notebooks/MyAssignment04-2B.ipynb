{
 "cells": [
  {
   "cell_type": "markdown",
   "metadata": {},
   "source": [
    "# Part 2B - New Connections Prediction"
   ]
  },
  {
   "cell_type": "code",
   "execution_count": 1,
   "metadata": {
    "collapsed": true
   },
   "outputs": [],
   "source": [
    "import networkx as nx\n",
    "import pandas as pd\n",
    "import numpy as np\n",
    "import pickle"
   ]
  },
  {
   "cell_type": "code",
   "execution_count": 2,
   "metadata": {},
   "outputs": [
    {
     "data": {
      "text/html": [
       "<div>\n",
       "<style>\n",
       "    .dataframe thead tr:only-child th {\n",
       "        text-align: right;\n",
       "    }\n",
       "\n",
       "    .dataframe thead th {\n",
       "        text-align: left;\n",
       "    }\n",
       "\n",
       "    .dataframe tbody tr th {\n",
       "        vertical-align: top;\n",
       "    }\n",
       "</style>\n",
       "<table border=\"1\" class=\"dataframe\">\n",
       "  <thead>\n",
       "    <tr style=\"text-align: right;\">\n",
       "      <th></th>\n",
       "      <th>Future Connection</th>\n",
       "    </tr>\n",
       "  </thead>\n",
       "  <tbody>\n",
       "    <tr>\n",
       "      <th>(6, 840)</th>\n",
       "      <td>0.0</td>\n",
       "    </tr>\n",
       "    <tr>\n",
       "      <th>(4, 197)</th>\n",
       "      <td>0.0</td>\n",
       "    </tr>\n",
       "    <tr>\n",
       "      <th>(620, 979)</th>\n",
       "      <td>0.0</td>\n",
       "    </tr>\n",
       "    <tr>\n",
       "      <th>(519, 872)</th>\n",
       "      <td>0.0</td>\n",
       "    </tr>\n",
       "    <tr>\n",
       "      <th>(382, 423)</th>\n",
       "      <td>0.0</td>\n",
       "    </tr>\n",
       "    <tr>\n",
       "      <th>(97, 226)</th>\n",
       "      <td>1.0</td>\n",
       "    </tr>\n",
       "    <tr>\n",
       "      <th>(349, 905)</th>\n",
       "      <td>0.0</td>\n",
       "    </tr>\n",
       "    <tr>\n",
       "      <th>(429, 860)</th>\n",
       "      <td>0.0</td>\n",
       "    </tr>\n",
       "    <tr>\n",
       "      <th>(309, 989)</th>\n",
       "      <td>0.0</td>\n",
       "    </tr>\n",
       "    <tr>\n",
       "      <th>(468, 880)</th>\n",
       "      <td>0.0</td>\n",
       "    </tr>\n",
       "  </tbody>\n",
       "</table>\n",
       "</div>"
      ],
      "text/plain": [
       "            Future Connection\n",
       "(6, 840)                  0.0\n",
       "(4, 197)                  0.0\n",
       "(620, 979)                0.0\n",
       "(519, 872)                0.0\n",
       "(382, 423)                0.0\n",
       "(97, 226)                 1.0\n",
       "(349, 905)                0.0\n",
       "(429, 860)                0.0\n",
       "(309, 989)                0.0\n",
       "(468, 880)                0.0"
      ]
     },
     "execution_count": 2,
     "metadata": {},
     "output_type": "execute_result"
    }
   ],
   "source": [
    "future_connections = pd.read_csv('Future_Connections.csv', index_col=0, converters={0: eval})\n",
    "future_connections.head(10)"
   ]
  },
  {
   "cell_type": "markdown",
   "metadata": {},
   "source": [
    "## Generate graph form the given dataframe"
   ]
  },
  {
   "cell_type": "code",
   "execution_count": 3,
   "metadata": {},
   "outputs": [
    {
     "data": {
      "text/html": [
       "<div>\n",
       "<style>\n",
       "    .dataframe thead tr:only-child th {\n",
       "        text-align: right;\n",
       "    }\n",
       "\n",
       "    .dataframe thead th {\n",
       "        text-align: left;\n",
       "    }\n",
       "\n",
       "    .dataframe tbody tr th {\n",
       "        vertical-align: top;\n",
       "    }\n",
       "</style>\n",
       "<table border=\"1\" class=\"dataframe\">\n",
       "  <thead>\n",
       "    <tr style=\"text-align: right;\">\n",
       "      <th></th>\n",
       "      <th>Future Connection</th>\n",
       "      <th>src</th>\n",
       "      <th>dst</th>\n",
       "    </tr>\n",
       "  </thead>\n",
       "  <tbody>\n",
       "    <tr>\n",
       "      <th>(6, 840)</th>\n",
       "      <td>0.0</td>\n",
       "      <td>6</td>\n",
       "      <td>840</td>\n",
       "    </tr>\n",
       "    <tr>\n",
       "      <th>(4, 197)</th>\n",
       "      <td>0.0</td>\n",
       "      <td>4</td>\n",
       "      <td>197</td>\n",
       "    </tr>\n",
       "    <tr>\n",
       "      <th>(620, 979)</th>\n",
       "      <td>0.0</td>\n",
       "      <td>620</td>\n",
       "      <td>979</td>\n",
       "    </tr>\n",
       "    <tr>\n",
       "      <th>(519, 872)</th>\n",
       "      <td>0.0</td>\n",
       "      <td>519</td>\n",
       "      <td>872</td>\n",
       "    </tr>\n",
       "    <tr>\n",
       "      <th>(382, 423)</th>\n",
       "      <td>0.0</td>\n",
       "      <td>382</td>\n",
       "      <td>423</td>\n",
       "    </tr>\n",
       "  </tbody>\n",
       "</table>\n",
       "</div>"
      ],
      "text/plain": [
       "            Future Connection  src  dst\n",
       "(6, 840)                  0.0    6  840\n",
       "(4, 197)                  0.0    4  197\n",
       "(620, 979)                0.0  620  979\n",
       "(519, 872)                0.0  519  872\n",
       "(382, 423)                0.0  382  423"
      ]
     },
     "execution_count": 3,
     "metadata": {},
     "output_type": "execute_result"
    }
   ],
   "source": [
    "indice = list(future_connections.index)\n",
    "\n",
    "src = [index[0] for index in indice]\n",
    "dst = [index[1] for index in indice]\n",
    "\n",
    "future_connections['src'] = pd.Series(src, index=future_connections.index)\n",
    "future_connections['dst'] = pd.Series(dst, index=future_connections.index)\n",
    "\n",
    "future_connections.head()\n",
    "# G = nx.from_pandas_dataframe(future_connections)"
   ]
  },
  {
   "cell_type": "code",
   "execution_count": 4,
   "metadata": {},
   "outputs": [
    {
     "name": "stdout",
     "output_type": "stream",
     "text": [
      "Name: \n",
      "Type: DiGraph\n",
      "Number of nodes: 1005\n",
      "Number of edges: 488446\n",
      "Average in degree: 486.0159\n",
      "Average out degree: 486.0159\n"
     ]
    }
   ],
   "source": [
    "G = nx.from_pandas_dataframe(future_connections, 'src', 'dst', create_using=nx.DiGraph())\n",
    "\n",
    "print(nx.info(G))"
   ]
  },
  {
   "cell_type": "code",
   "execution_count": 5,
   "metadata": {},
   "outputs": [
    {
     "name": "stdout",
     "output_type": "stream",
     "text": [
      "Weakly Connected: True\n",
      "Strongly Connected: True\n",
      "Directed: True\n"
     ]
    }
   ],
   "source": [
    "# graph checking\n",
    "print(\"Weakly Connected: {}\".format(nx.is_weakly_connected(G)))\n",
    "print(\"Strongly Connected: {}\".format(nx.is_weakly_connected(G)))\n",
    "print(\"Directed: {}\".format(nx.is_directed(G)))"
   ]
  },
  {
   "cell_type": "code",
   "execution_count": 6,
   "metadata": {},
   "outputs": [
    {
     "name": "stdout",
     "output_type": "stream",
     "text": [
      "<class 'pandas.core.frame.DataFrame'>\n",
      "Index: 488446 entries, (6, 840) to (75, 101)\n",
      "Data columns (total 3 columns):\n",
      "Future Connection    366334 non-null float64\n",
      "src                  488446 non-null int64\n",
      "dst                  488446 non-null int64\n",
      "dtypes: float64(1), int64(2)\n",
      "memory usage: 14.9+ MB\n"
     ]
    }
   ],
   "source": [
    "future_connections.info()"
   ]
  },
  {
   "cell_type": "code",
   "execution_count": 69,
   "metadata": {},
   "outputs": [
    {
     "name": "stdout",
     "output_type": "stream",
     "text": [
      "<class 'pandas.core.frame.DataFrame'>\n",
      "Index: 0 entries\n",
      "Empty DataFrame"
     ]
    }
   ],
   "source": [
    "future_edges = pd.DataFrame()\n",
    "\n",
    "future_edges.info()"
   ]
  },
  {
   "cell_type": "markdown",
   "metadata": {
    "collapsed": true
   },
   "source": [
    "## Th graph can use the one from Part 2A\n",
    "\n",
    "See the post [Construction of Graph for part 2B](https://www.coursera.org/learn/python-social-network-analysis/discussions/weeks/4/threads/38KCVKcJEee6bw62IA80dA) for reference"
   ]
  },
  {
   "cell_type": "code",
   "execution_count": 7,
   "metadata": {
    "collapsed": true
   },
   "outputs": [],
   "source": [
    "import networkx as nx\n",
    "import pandas as pd\n",
    "import numpy as np\n",
    "import pickle"
   ]
  },
  {
   "cell_type": "code",
   "execution_count": 8,
   "metadata": {
    "collapsed": true
   },
   "outputs": [],
   "source": [
    "G = nx.read_gpickle('email_prediction.txt')"
   ]
  },
  {
   "cell_type": "code",
   "execution_count": 32,
   "metadata": {},
   "outputs": [
    {
     "name": "stdout",
     "output_type": "stream",
     "text": [
      "Common Neighbors: [667, 375, 184, 362, 183, 549, 418, 21, 252, 211]\n",
      "Jaccard coefficient: [(6, 840, 0.07377049180327869)]\n",
      "Adamic Adar Index: [(6, 840, 2.110314079181727)]\n",
      "Resource Allocation: [(6, 840, 0.13672123667645245)]\n",
      "Preferential Attachement: [(6, 840, 2070)]\n"
     ]
    }
   ],
   "source": [
    "# Link prediction methods for {6, 480}\n",
    "print(\"Common Neighbors: {}\".format(list(nx.common_neighbors(G, 6, 480))))\n",
    "print(\"Jaccard coefficient: {}\".format(list(nx.jaccard_coefficient(G, [future_connections.index[0]]))))\n",
    "print(\"Adamic Adar Index: {}\".format(list(nx.adamic_adar_index(G, [future_connections.index[0]]))))\n",
    "print(\"Resource Allocation: {}\".format(list(nx.resource_allocation_index(G, [future_connections.index[0]]))))\n",
    "print(\"Preferential Attachement: {}\".format(list(nx.preferential_attachment(G, [future_connections.index[0]]))))"
   ]
  },
  {
   "cell_type": "code",
   "execution_count": 46,
   "metadata": {},
   "outputs": [
    {
     "data": {
      "text/html": [
       "<div>\n",
       "<style>\n",
       "    .dataframe thead tr:only-child th {\n",
       "        text-align: right;\n",
       "    }\n",
       "\n",
       "    .dataframe thead th {\n",
       "        text-align: left;\n",
       "    }\n",
       "\n",
       "    .dataframe tbody tr th {\n",
       "        vertical-align: top;\n",
       "    }\n",
       "</style>\n",
       "<table border=\"1\" class=\"dataframe\">\n",
       "  <thead>\n",
       "    <tr style=\"text-align: right;\">\n",
       "      <th></th>\n",
       "      <th>Future Connection</th>\n",
       "      <th>src</th>\n",
       "      <th>dst</th>\n",
       "      <th>comm_neigh</th>\n",
       "      <th>jaccard</th>\n",
       "      <th>adamic</th>\n",
       "      <th>adamic_adar</th>\n",
       "      <th>res_alloc</th>\n",
       "      <th>pref_attach</th>\n",
       "    </tr>\n",
       "  </thead>\n",
       "  <tbody>\n",
       "    <tr>\n",
       "      <th>(6, 840)</th>\n",
       "      <td>0.0</td>\n",
       "      <td>6</td>\n",
       "      <td>840</td>\n",
       "      <td>9</td>\n",
       "      <td>0.073770</td>\n",
       "      <td>2.110314</td>\n",
       "      <td>2.110314</td>\n",
       "      <td>0.136721</td>\n",
       "      <td>2070</td>\n",
       "    </tr>\n",
       "    <tr>\n",
       "      <th>(4, 197)</th>\n",
       "      <td>0.0</td>\n",
       "      <td>4</td>\n",
       "      <td>197</td>\n",
       "      <td>2</td>\n",
       "      <td>0.015504</td>\n",
       "      <td>0.363528</td>\n",
       "      <td>0.363528</td>\n",
       "      <td>0.008437</td>\n",
       "      <td>3552</td>\n",
       "    </tr>\n",
       "    <tr>\n",
       "      <th>(620, 979)</th>\n",
       "      <td>0.0</td>\n",
       "      <td>620</td>\n",
       "      <td>979</td>\n",
       "      <td>0</td>\n",
       "      <td>0.000000</td>\n",
       "      <td>0.000000</td>\n",
       "      <td>0.000000</td>\n",
       "      <td>0.000000</td>\n",
       "      <td>28</td>\n",
       "    </tr>\n",
       "    <tr>\n",
       "      <th>(519, 872)</th>\n",
       "      <td>0.0</td>\n",
       "      <td>519</td>\n",
       "      <td>872</td>\n",
       "      <td>2</td>\n",
       "      <td>0.060606</td>\n",
       "      <td>0.507553</td>\n",
       "      <td>0.507553</td>\n",
       "      <td>0.039726</td>\n",
       "      <td>299</td>\n",
       "    </tr>\n",
       "    <tr>\n",
       "      <th>(382, 423)</th>\n",
       "      <td>0.0</td>\n",
       "      <td>382</td>\n",
       "      <td>423</td>\n",
       "      <td>0</td>\n",
       "      <td>0.000000</td>\n",
       "      <td>0.000000</td>\n",
       "      <td>0.000000</td>\n",
       "      <td>0.000000</td>\n",
       "      <td>205</td>\n",
       "    </tr>\n",
       "  </tbody>\n",
       "</table>\n",
       "</div>"
      ],
      "text/plain": [
       "            Future Connection  src  dst  comm_neigh   jaccard    adamic  \\\n",
       "(6, 840)                  0.0    6  840           9  0.073770  2.110314   \n",
       "(4, 197)                  0.0    4  197           2  0.015504  0.363528   \n",
       "(620, 979)                0.0  620  979           0  0.000000  0.000000   \n",
       "(519, 872)                0.0  519  872           2  0.060606  0.507553   \n",
       "(382, 423)                0.0  382  423           0  0.000000  0.000000   \n",
       "\n",
       "            adamic_adar  res_alloc  pref_attach  \n",
       "(6, 840)       2.110314   0.136721         2070  \n",
       "(4, 197)       0.363528   0.008437         3552  \n",
       "(620, 979)     0.000000   0.000000           28  \n",
       "(519, 872)     0.507553   0.039726          299  \n",
       "(382, 423)     0.000000   0.000000          205  "
      ]
     },
     "execution_count": 46,
     "metadata": {},
     "output_type": "execute_result"
    }
   ],
   "source": [
    "future_connections['comm_neigh'] = [len(list(nx.common_neighbors(G, edge[0], edge[1]))) for edge in future_connections.index]\n",
    "future_connections['jaccard'] = [list(nx.jaccard_coefficient(G, [edge]))[0][2] for edge in future_connections.index]\n",
    "future_connections['adamic_adar'] = [list(nx.adamic_adar_index(G, [edge]))[0][2] for edge in future_connections.index]\n",
    "future_connections['res_alloc'] = [list(nx.resource_allocation_index(G, [edge]))[0][2] for edge in future_connections.index]\n",
    "future_connections['pref_attach'] = [list(nx.preferential_attachment(G, [edge]))[0][2] for edge in future_connections.index]\n",
    "\n",
    "future_connections.head()"
   ]
  },
  {
   "cell_type": "markdown",
   "metadata": {},
   "source": [
    "## Prepare for training and predict datasets"
   ]
  },
  {
   "cell_type": "code",
   "execution_count": 47,
   "metadata": {
    "collapsed": true
   },
   "outputs": [],
   "source": [
    "df_train = future_connections.dropna()\n",
    "df_pred = future_connections[np.isnan(future_connections['Future Connection'])]"
   ]
  },
  {
   "cell_type": "code",
   "execution_count": 48,
   "metadata": {},
   "outputs": [
    {
     "name": "stdout",
     "output_type": "stream",
     "text": [
      "<class 'pandas.core.frame.DataFrame'>\n",
      "Index: 366334 entries, (6, 840) to (771, 911)\n",
      "Data columns (total 9 columns):\n",
      "Future Connection    366334 non-null float64\n",
      "src                  366334 non-null int64\n",
      "dst                  366334 non-null int64\n",
      "comm_neigh           366334 non-null int64\n",
      "jaccard              366334 non-null float64\n",
      "adamic               366334 non-null float64\n",
      "adamic_adar          366334 non-null float64\n",
      "res_alloc            366334 non-null float64\n",
      "pref_attach          366334 non-null int64\n",
      "dtypes: float64(5), int64(4)\n",
      "memory usage: 27.9+ MB\n"
     ]
    }
   ],
   "source": [
    "df_train.info()"
   ]
  },
  {
   "cell_type": "code",
   "execution_count": 49,
   "metadata": {},
   "outputs": [
    {
     "name": "stdout",
     "output_type": "stream",
     "text": [
      "<class 'pandas.core.frame.DataFrame'>\n",
      "Index: 122112 entries, (107, 348) to (75, 101)\n",
      "Data columns (total 9 columns):\n",
      "Future Connection    0 non-null float64\n",
      "src                  122112 non-null int64\n",
      "dst                  122112 non-null int64\n",
      "comm_neigh           122112 non-null int64\n",
      "jaccard              122112 non-null float64\n",
      "adamic               122112 non-null float64\n",
      "adamic_adar          122112 non-null float64\n",
      "res_alloc            122112 non-null float64\n",
      "pref_attach          122112 non-null int64\n",
      "dtypes: float64(5), int64(4)\n",
      "memory usage: 9.3+ MB\n"
     ]
    }
   ],
   "source": [
    "df_pred.info()"
   ]
  },
  {
   "cell_type": "markdown",
   "metadata": {},
   "source": [
    "## Preprocessing for Model training with Logistic Regression"
   ]
  },
  {
   "cell_type": "code",
   "execution_count": 50,
   "metadata": {
    "collapsed": true
   },
   "outputs": [],
   "source": [
    "# selected_attrs = ['comm_neigh', 'jaccard', 'adamic_adar', 'res_alloc', 'pref_attach']\n",
    "selected_attrs = ['comm_neigh', 'adamic_adar', 'pref_attach']"
   ]
  },
  {
   "cell_type": "code",
   "execution_count": 51,
   "metadata": {
    "collapsed": true
   },
   "outputs": [],
   "source": [
    "X = df_train[selected_attrs]\n",
    "y = df_train['Future Connection']"
   ]
  },
  {
   "cell_type": "code",
   "execution_count": 52,
   "metadata": {},
   "outputs": [
    {
     "name": "stdout",
     "output_type": "stream",
     "text": [
      "<class 'pandas.core.frame.DataFrame'>\n",
      "Index: 366334 entries, (6, 840) to (771, 911)\n",
      "Data columns (total 3 columns):\n",
      "comm_neigh     366334 non-null int64\n",
      "adamic_adar    366334 non-null float64\n",
      "pref_attach    366334 non-null int64\n",
      "dtypes: float64(1), int64(2)\n",
      "memory usage: 11.2+ MB\n"
     ]
    }
   ],
   "source": [
    "X.info()"
   ]
  },
  {
   "cell_type": "code",
   "execution_count": 56,
   "metadata": {},
   "outputs": [
    {
     "data": {
      "text/plain": [
       "count    366334.000000\n",
       "mean          0.080069\n",
       "std           0.271400\n",
       "min           0.000000\n",
       "25%           0.000000\n",
       "50%           0.000000\n",
       "75%           0.000000\n",
       "max           1.000000\n",
       "Name: Future Connection, dtype: float64"
      ]
     },
     "execution_count": 56,
     "metadata": {},
     "output_type": "execute_result"
    }
   ],
   "source": [
    "y.describe()"
   ]
  },
  {
   "cell_type": "code",
   "execution_count": 58,
   "metadata": {
    "collapsed": true
   },
   "outputs": [],
   "source": [
    "from sklearn import preprocessing\n",
    "from sklearn import metrics\n",
    "from sklearn.linear_model import LogisticRegression\n",
    "from sklearn.model_selection import train_test_split"
   ]
  },
  {
   "cell_type": "code",
   "execution_count": 59,
   "metadata": {},
   "outputs": [],
   "source": [
    "# split into training and test data w/ given training dataframe\n",
    "X_train, X_test, y_train, y_test = train_test_split(X, y, test_size=0.2, random_state=42)"
   ]
  },
  {
   "cell_type": "code",
   "execution_count": 60,
   "metadata": {},
   "outputs": [
    {
     "name": "stdout",
     "output_type": "stream",
     "text": [
      "<class 'pandas.core.frame.DataFrame'>\n",
      "Index: 293067 entries, (398, 747) to (707, 905)\n",
      "Data columns (total 3 columns):\n",
      "comm_neigh     293067 non-null int64\n",
      "adamic_adar    293067 non-null float64\n",
      "pref_attach    293067 non-null int64\n",
      "dtypes: float64(1), int64(2)\n",
      "memory usage: 8.9+ MB\n"
     ]
    }
   ],
   "source": [
    "X_train.info()"
   ]
  },
  {
   "cell_type": "code",
   "execution_count": 61,
   "metadata": {},
   "outputs": [
    {
     "name": "stdout",
     "output_type": "stream",
     "text": [
      "<class 'pandas.core.frame.DataFrame'>\n",
      "Index: 73267 entries, (225, 382) to (523, 735)\n",
      "Data columns (total 3 columns):\n",
      "comm_neigh     73267 non-null int64\n",
      "adamic_adar    73267 non-null float64\n",
      "pref_attach    73267 non-null int64\n",
      "dtypes: float64(1), int64(2)\n",
      "memory usage: 2.2+ MB\n"
     ]
    }
   ],
   "source": [
    "X_test.info()"
   ]
  },
  {
   "cell_type": "code",
   "execution_count": 62,
   "metadata": {},
   "outputs": [
    {
     "data": {
      "text/plain": [
       "LogisticRegression(C=1.0, class_weight=None, dual=False, fit_intercept=True,\n",
       "          intercept_scaling=1, max_iter=100, multi_class='ovr', n_jobs=1,\n",
       "          penalty='l2', random_state=None, solver='liblinear', tol=0.0001,\n",
       "          verbose=0, warm_start=False)"
      ]
     },
     "execution_count": 62,
     "metadata": {},
     "output_type": "execute_result"
    }
   ],
   "source": [
    "# Traing data with Logistic Regression Model\n",
    "clf = LogisticRegression()\n",
    "\n",
    "clf.fit(X_train, y_train)"
   ]
  },
  {
   "cell_type": "code",
   "execution_count": 64,
   "metadata": {},
   "outputs": [
    {
     "name": "stdout",
     "output_type": "stream",
     "text": [
      "\n",
      "Accuracy: 0.9577162979240312\n",
      "\n",
      "ROC_AUC: 0.9071000899915729\n",
      "\n",
      "Confusiion matrix: \n",
      "[[66752   619]\n",
      " [ 2479  3417]]\n",
      "\n",
      "Calssification report: \n",
      "             precision    recall  f1-score   support\n",
      "\n",
      "        0.0       0.96      0.99      0.98     67371\n",
      "        1.0       0.85      0.58      0.69      5896\n",
      "\n",
      "avg / total       0.95      0.96      0.95     73267\n",
      "\n"
     ]
    }
   ],
   "source": [
    "# predict the X_test\n",
    "pred1 = clf.predict(X_test)\n",
    "pred2 = clf.predict_proba(X_test)\n",
    "\n",
    "print(\"\\nAccuracy: {}\".format(metrics.accuracy_score(y_test, pred1)))\n",
    "print(\"\\nROC_AUC: {}\".format(metrics.roc_auc_score(y_test, pred2[:, 1])))\n",
    "print(\"\\nConfusiion matrix: \\n{}\".format(metrics.confusion_matrix(y_test, pred1)))\n",
    "print(\"\\nCalssification report: \\n{}\".format(metrics.classification_report(y_test, pred1)))"
   ]
  },
  {
   "cell_type": "code",
   "execution_count": 66,
   "metadata": {
    "collapsed": true
   },
   "outputs": [],
   "source": [
    "X_pred = df_pred[selected_attrs]"
   ]
  },
  {
   "cell_type": "code",
   "execution_count": 67,
   "metadata": {},
   "outputs": [],
   "source": [
    "# Generte result for autograder\n",
    "pred = clf.predict_proba(X_pred)\n",
    "    \n",
    "rlt = pd.Series(data=pred[:, 1], index=df_pred.index)"
   ]
  },
  {
   "cell_type": "code",
   "execution_count": 68,
   "metadata": {},
   "outputs": [
    {
     "data": {
      "text/plain": [
       "(107, 348)    0.037508\n",
       "(542, 751)    0.013362\n",
       "(20, 426)     0.585797\n",
       "(50, 989)     0.013621\n",
       "(942, 986)    0.013904\n",
       "(324, 857)    0.013585\n",
       "(13, 710)     0.208149\n",
       "(19, 271)     0.095342\n",
       "(319, 878)    0.013712\n",
       "(659, 707)    0.013389\n",
       "(49, 843)     0.013794\n",
       "(208, 893)    0.013451\n",
       "(377, 469)    0.005789\n",
       "(405, 999)    0.025663\n",
       "(129, 740)    0.019818\n",
       "(292, 618)    0.026340\n",
       "(239, 689)    0.013730\n",
       "(359, 373)    0.008289\n",
       "(53, 523)     0.037660\n",
       "(276, 984)    0.013780\n",
       "(202, 997)    0.013835\n",
       "(604, 619)    0.047888\n",
       "(270, 911)    0.013725\n",
       "(261, 481)    0.067560\n",
       "(200, 450)    0.907439\n",
       "(213, 634)    0.013283\n",
       "(644, 735)    0.050825\n",
       "(346, 553)    0.012656\n",
       "(521, 738)    0.011511\n",
       "(422, 953)    0.020866\n",
       "                ...   \n",
       "(672, 848)    0.013725\n",
       "(28, 127)     0.967821\n",
       "(202, 661)    0.012551\n",
       "(54, 195)     0.999974\n",
       "(295, 864)    0.013545\n",
       "(814, 936)    0.013322\n",
       "(839, 874)    0.013904\n",
       "(139, 843)    0.013567\n",
       "(461, 544)    0.010757\n",
       "(68, 487)     0.010629\n",
       "(622, 932)    0.013482\n",
       "(504, 936)    0.016694\n",
       "(479, 528)    0.013603\n",
       "(186, 670)    0.013648\n",
       "(90, 395)     0.151177\n",
       "(329, 521)    0.027306\n",
       "(127, 218)    0.240010\n",
       "(463, 993)    0.013917\n",
       "(123, 142)    0.831615\n",
       "(764, 885)    0.013725\n",
       "(144, 824)    0.013862\n",
       "(742, 985)    0.013908\n",
       "(506, 684)    0.013362\n",
       "(505, 916)    0.013871\n",
       "(149, 214)    0.930593\n",
       "(165, 923)    0.010995\n",
       "(673, 755)    0.013917\n",
       "(939, 940)    0.013904\n",
       "(555, 905)    0.013212\n",
       "(75, 101)     0.020787\n",
       "Length: 122112, dtype: float64"
      ]
     },
     "execution_count": 68,
     "metadata": {},
     "output_type": "execute_result"
    }
   ],
   "source": [
    "rlt"
   ]
  },
  {
   "cell_type": "code",
   "execution_count": null,
   "metadata": {
    "collapsed": true
   },
   "outputs": [],
   "source": []
  },
  {
   "cell_type": "code",
   "execution_count": 72,
   "metadata": {},
   "outputs": [
    {
     "name": "stdout",
     "output_type": "stream",
     "text": [
      "\n",
      "Accuracy: 0.9577162979240312\n",
      "\n",
      "ROC_AUC: 0.9071000899915729\n",
      "\n",
      "Confusiion matrix: \n",
      "[[66752   619]\n",
      " [ 2479  3417]]\n",
      "\n",
      "Calssification report: \n",
      "             precision    recall  f1-score   support\n",
      "\n",
      "        0.0       0.96      0.99      0.98     67371\n",
      "        1.0       0.85      0.58      0.69      5896\n",
      "\n",
      "avg / total       0.95      0.96      0.95     73267\n",
      "\n"
     ]
    },
    {
     "data": {
      "text/plain": [
       "(107, 348)    0.037508\n",
       "(542, 751)    0.013362\n",
       "(20, 426)     0.585797\n",
       "(50, 989)     0.013621\n",
       "(942, 986)    0.013904\n",
       "(324, 857)    0.013585\n",
       "(13, 710)     0.208149\n",
       "(19, 271)     0.095342\n",
       "(319, 878)    0.013712\n",
       "(659, 707)    0.013389\n",
       "(49, 843)     0.013794\n",
       "(208, 893)    0.013451\n",
       "(377, 469)    0.005789\n",
       "(405, 999)    0.025663\n",
       "(129, 740)    0.019818\n",
       "(292, 618)    0.026340\n",
       "(239, 689)    0.013730\n",
       "(359, 373)    0.008289\n",
       "(53, 523)     0.037660\n",
       "(276, 984)    0.013780\n",
       "(202, 997)    0.013835\n",
       "(604, 619)    0.047888\n",
       "(270, 911)    0.013725\n",
       "(261, 481)    0.067560\n",
       "(200, 450)    0.907439\n",
       "(213, 634)    0.013283\n",
       "(644, 735)    0.050825\n",
       "(346, 553)    0.012656\n",
       "(521, 738)    0.011511\n",
       "(422, 953)    0.020866\n",
       "                ...   \n",
       "(672, 848)    0.013725\n",
       "(28, 127)     0.967821\n",
       "(202, 661)    0.012551\n",
       "(54, 195)     0.999974\n",
       "(295, 864)    0.013545\n",
       "(814, 936)    0.013322\n",
       "(839, 874)    0.013904\n",
       "(139, 843)    0.013567\n",
       "(461, 544)    0.010757\n",
       "(68, 487)     0.010629\n",
       "(622, 932)    0.013482\n",
       "(504, 936)    0.016694\n",
       "(479, 528)    0.013603\n",
       "(186, 670)    0.013648\n",
       "(90, 395)     0.151177\n",
       "(329, 521)    0.027306\n",
       "(127, 218)    0.240010\n",
       "(463, 993)    0.013917\n",
       "(123, 142)    0.831615\n",
       "(764, 885)    0.013725\n",
       "(144, 824)    0.013862\n",
       "(742, 985)    0.013908\n",
       "(506, 684)    0.013362\n",
       "(505, 916)    0.013871\n",
       "(149, 214)    0.930593\n",
       "(165, 923)    0.010995\n",
       "(673, 755)    0.013917\n",
       "(939, 940)    0.013904\n",
       "(555, 905)    0.013212\n",
       "(75, 101)     0.020787\n",
       "Length: 122112, dtype: float64"
      ]
     },
     "execution_count": 72,
     "metadata": {},
     "output_type": "execute_result"
    }
   ],
   "source": [
    "def new_connections_predictions(debug=False):\n",
    "    \n",
    "    # Your Code Here\n",
    "    from sklearn import preprocessing\n",
    "    from sklearn import metrics\n",
    "    from sklearn.linear_model import LogisticRegression\n",
    "    from sklearn.model_selection import train_test_split\n",
    "\n",
    "    # Preprocessing to add various Link Prediction measures\n",
    "    # Not all of them used due to exution time limitation\n",
    "    future_connections['comm_neigh'] = [len(list(\n",
    "        nx.common_neighbors(G, edge[0], edge[1]))) for edge in future_connections.index]\n",
    "    future_connections['jaccard'] = [list(\n",
    "        nx.jaccard_coefficient(G, [edge]))[0][2] for edge in future_connections.index]\n",
    "    future_connections['adamic_adar'] = [list(\n",
    "        nx.adamic_adar_index(G, [edge]))[0][2] for edge in future_connections.index]\n",
    "    future_connections['res_alloc'] = [list(\n",
    "        nx.resource_allocation_index(G, [edge]))[0][2] for edge in future_connections.index]\n",
    "    future_connections['pref_attach'] = [list(\n",
    "        nx.preferential_attachment(G, [edge]))[0][2] for edge in future_connections.index]\n",
    "    \n",
    "    # split whole dataset into training and predict datasets via NaN in Future Connection column\n",
    "    df_train = future_connections.dropna()\n",
    "    df_pred = future_connections[np.isnan(future_connections['Future Connection'])]\n",
    "    \n",
    "    # Feature selection\n",
    "    selected_attrs = ['comm_neigh', 'jaccard', 'adamic_adar', 'res_alloc', 'pref_attach']\n",
    "#     selected_attrs = ['comm_neigh', 'adamic_adar', 'pref_attach']\n",
    "    \n",
    "    # Processing training dataset into X and y datasets\n",
    "    X = df_train[selected_attrs]\n",
    "    y = df_train['Future Connection']\n",
    "    \n",
    "    # Geneerate model model training and test data\n",
    "    X_train, X_test, y_train, y_test = train_test_split(X, y, test_size=0.2, random_state=42)\n",
    "    \n",
    "    # Traing data with Logistic Regression Model\n",
    "    clf = LogisticRegression()\n",
    "\n",
    "    clf.fit(X_train, y_train)\n",
    "    \n",
    "    if debug: \n",
    "        # predict the X_test\n",
    "        pred1 = clf.predict(X_test)\n",
    "        pred2 = clf.predict_proba(X_test)\n",
    "\n",
    "        print(\"\\nAccuracy: {}\".format(metrics.accuracy_score(y_test, pred1)))\n",
    "        print(\"\\nROC_AUC: {}\".format(metrics.roc_auc_score(y_test, pred2[:, 1])))\n",
    "        print(\"\\nConfusiion matrix: \\n{}\".format(metrics.confusion_matrix(y_test, pred1)))\n",
    "        print(\"\\nCalssification report: \\n{}\".format(metrics.classification_report(y_test, pred1)))\n",
    "    \n",
    "    # Generate prediction data\n",
    "    X_pred = df_pred[selected_attrs]\n",
    "    \n",
    "    # Generte result for autograder\n",
    "    pred = clf.predict_proba(X_pred)\n",
    "    \n",
    "    rlt = pd.Series(data=pred[:, 1], index=df_pred.index)\n",
    "    \n",
    "    return rlt # Your Answer Here\n",
    "\n",
    "new_connections_predictions(True)"
   ]
  },
  {
   "cell_type": "code",
   "execution_count": null,
   "metadata": {
    "collapsed": true
   },
   "outputs": [],
   "source": []
  }
 ],
 "metadata": {
  "kernelspec": {
   "display_name": "Python 3",
   "language": "python",
   "name": "python3"
  },
  "language_info": {
   "codemirror_mode": {
    "name": "ipython",
    "version": 3
   },
   "file_extension": ".py",
   "mimetype": "text/x-python",
   "name": "python",
   "nbconvert_exporter": "python",
   "pygments_lexer": "ipython3",
   "version": "3.6.2"
  }
 },
 "nbformat": 4,
 "nbformat_minor": 2
}
