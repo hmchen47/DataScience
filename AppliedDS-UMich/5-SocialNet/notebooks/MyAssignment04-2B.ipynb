{
 "cells": [
  {
   "cell_type": "markdown",
   "metadata": {},
   "source": [
    "# Part 2B - New Connections Prediction"
   ]
  },
  {
   "cell_type": "code",
   "execution_count": 1,
   "metadata": {
    "collapsed": true
   },
   "outputs": [],
   "source": [
    "import networkx as nx\n",
    "import pandas as pd\n",
    "import numpy as np\n",
    "import pickle"
   ]
  },
  {
   "cell_type": "code",
   "execution_count": 2,
   "metadata": {},
   "outputs": [
    {
     "data": {
      "text/html": [
       "<div>\n",
       "<style>\n",
       "    .dataframe thead tr:only-child th {\n",
       "        text-align: right;\n",
       "    }\n",
       "\n",
       "    .dataframe thead th {\n",
       "        text-align: left;\n",
       "    }\n",
       "\n",
       "    .dataframe tbody tr th {\n",
       "        vertical-align: top;\n",
       "    }\n",
       "</style>\n",
       "<table border=\"1\" class=\"dataframe\">\n",
       "  <thead>\n",
       "    <tr style=\"text-align: right;\">\n",
       "      <th></th>\n",
       "      <th>Future Connection</th>\n",
       "    </tr>\n",
       "  </thead>\n",
       "  <tbody>\n",
       "    <tr>\n",
       "      <th>(6, 840)</th>\n",
       "      <td>0.0</td>\n",
       "    </tr>\n",
       "    <tr>\n",
       "      <th>(4, 197)</th>\n",
       "      <td>0.0</td>\n",
       "    </tr>\n",
       "    <tr>\n",
       "      <th>(620, 979)</th>\n",
       "      <td>0.0</td>\n",
       "    </tr>\n",
       "    <tr>\n",
       "      <th>(519, 872)</th>\n",
       "      <td>0.0</td>\n",
       "    </tr>\n",
       "    <tr>\n",
       "      <th>(382, 423)</th>\n",
       "      <td>0.0</td>\n",
       "    </tr>\n",
       "    <tr>\n",
       "      <th>(97, 226)</th>\n",
       "      <td>1.0</td>\n",
       "    </tr>\n",
       "    <tr>\n",
       "      <th>(349, 905)</th>\n",
       "      <td>0.0</td>\n",
       "    </tr>\n",
       "    <tr>\n",
       "      <th>(429, 860)</th>\n",
       "      <td>0.0</td>\n",
       "    </tr>\n",
       "    <tr>\n",
       "      <th>(309, 989)</th>\n",
       "      <td>0.0</td>\n",
       "    </tr>\n",
       "    <tr>\n",
       "      <th>(468, 880)</th>\n",
       "      <td>0.0</td>\n",
       "    </tr>\n",
       "  </tbody>\n",
       "</table>\n",
       "</div>"
      ],
      "text/plain": [
       "            Future Connection\n",
       "(6, 840)                  0.0\n",
       "(4, 197)                  0.0\n",
       "(620, 979)                0.0\n",
       "(519, 872)                0.0\n",
       "(382, 423)                0.0\n",
       "(97, 226)                 1.0\n",
       "(349, 905)                0.0\n",
       "(429, 860)                0.0\n",
       "(309, 989)                0.0\n",
       "(468, 880)                0.0"
      ]
     },
     "execution_count": 2,
     "metadata": {},
     "output_type": "execute_result"
    }
   ],
   "source": [
    "future_connections = pd.read_csv('Future_Connections.csv', index_col=0, converters={0: eval})\n",
    "future_connections.head(10)"
   ]
  },
  {
   "cell_type": "markdown",
   "metadata": {},
   "source": [
    "## Generate graph form the given dataframe"
   ]
  },
  {
   "cell_type": "code",
   "execution_count": 3,
   "metadata": {},
   "outputs": [
    {
     "data": {
      "text/html": [
       "<div>\n",
       "<style>\n",
       "    .dataframe thead tr:only-child th {\n",
       "        text-align: right;\n",
       "    }\n",
       "\n",
       "    .dataframe thead th {\n",
       "        text-align: left;\n",
       "    }\n",
       "\n",
       "    .dataframe tbody tr th {\n",
       "        vertical-align: top;\n",
       "    }\n",
       "</style>\n",
       "<table border=\"1\" class=\"dataframe\">\n",
       "  <thead>\n",
       "    <tr style=\"text-align: right;\">\n",
       "      <th></th>\n",
       "      <th>Future Connection</th>\n",
       "      <th>src</th>\n",
       "      <th>dst</th>\n",
       "    </tr>\n",
       "  </thead>\n",
       "  <tbody>\n",
       "    <tr>\n",
       "      <th>(6, 840)</th>\n",
       "      <td>0.0</td>\n",
       "      <td>6</td>\n",
       "      <td>840</td>\n",
       "    </tr>\n",
       "    <tr>\n",
       "      <th>(4, 197)</th>\n",
       "      <td>0.0</td>\n",
       "      <td>4</td>\n",
       "      <td>197</td>\n",
       "    </tr>\n",
       "    <tr>\n",
       "      <th>(620, 979)</th>\n",
       "      <td>0.0</td>\n",
       "      <td>620</td>\n",
       "      <td>979</td>\n",
       "    </tr>\n",
       "    <tr>\n",
       "      <th>(519, 872)</th>\n",
       "      <td>0.0</td>\n",
       "      <td>519</td>\n",
       "      <td>872</td>\n",
       "    </tr>\n",
       "    <tr>\n",
       "      <th>(382, 423)</th>\n",
       "      <td>0.0</td>\n",
       "      <td>382</td>\n",
       "      <td>423</td>\n",
       "    </tr>\n",
       "  </tbody>\n",
       "</table>\n",
       "</div>"
      ],
      "text/plain": [
       "            Future Connection  src  dst\n",
       "(6, 840)                  0.0    6  840\n",
       "(4, 197)                  0.0    4  197\n",
       "(620, 979)                0.0  620  979\n",
       "(519, 872)                0.0  519  872\n",
       "(382, 423)                0.0  382  423"
      ]
     },
     "execution_count": 3,
     "metadata": {},
     "output_type": "execute_result"
    }
   ],
   "source": [
    "indice = list(future_connections.index)\n",
    "\n",
    "src = [index[0] for index in indice]\n",
    "dst = [index[1] for index in indice]\n",
    "\n",
    "future_connections['src'] = pd.Series(src, index=future_connections.index)\n",
    "future_connections['dst'] = pd.Series(dst, index=future_connections.index)\n",
    "\n",
    "future_connections.head()\n",
    "# G = nx.from_pandas_dataframe(future_connections)"
   ]
  },
  {
   "cell_type": "code",
   "execution_count": 4,
   "metadata": {},
   "outputs": [
    {
     "name": "stdout",
     "output_type": "stream",
     "text": [
      "Name: \n",
      "Type: DiGraph\n",
      "Number of nodes: 1005\n",
      "Number of edges: 488446\n",
      "Average in degree: 486.0159\n",
      "Average out degree: 486.0159\n"
     ]
    }
   ],
   "source": [
    "G = nx.from_pandas_dataframe(future_connections, 'src', 'dst', create_using=nx.DiGraph())\n",
    "\n",
    "print(nx.info(G))"
   ]
  },
  {
   "cell_type": "code",
   "execution_count": 5,
   "metadata": {},
   "outputs": [
    {
     "name": "stdout",
     "output_type": "stream",
     "text": [
      "Weakly Connected: True\n",
      "Strongly Connected: True\n",
      "Directed: True\n"
     ]
    }
   ],
   "source": [
    "# graph checking\n",
    "print(\"Weakly Connected: {}\".format(nx.is_weakly_connected(G)))\n",
    "print(\"Strongly Connected: {}\".format(nx.is_weakly_connected(G)))\n",
    "print(\"Directed: {}\".format(nx.is_directed(G)))"
   ]
  },
  {
   "cell_type": "code",
   "execution_count": 6,
   "metadata": {},
   "outputs": [
    {
     "name": "stdout",
     "output_type": "stream",
     "text": [
      "<class 'pandas.core.frame.DataFrame'>\n",
      "Index: 488446 entries, (6, 840) to (75, 101)\n",
      "Data columns (total 3 columns):\n",
      "Future Connection    366334 non-null float64\n",
      "src                  488446 non-null int64\n",
      "dst                  488446 non-null int64\n",
      "dtypes: float64(1), int64(2)\n",
      "memory usage: 14.9+ MB\n"
     ]
    }
   ],
   "source": [
    "future_connections.info()"
   ]
  },
  {
   "cell_type": "code",
   "execution_count": null,
   "metadata": {
    "collapsed": true
   },
   "outputs": [],
   "source": []
  },
  {
   "cell_type": "markdown",
   "metadata": {
    "collapsed": true
   },
   "source": [
    "## Th graph can use the one from Part 2A\n",
    "\n",
    "See the post [Construction of Graph for part 2B](https://www.coursera.org/learn/python-social-network-analysis/discussions/weeks/4/threads/38KCVKcJEee6bw62IA80dA) for reference"
   ]
  },
  {
   "cell_type": "code",
   "execution_count": 7,
   "metadata": {
    "collapsed": true
   },
   "outputs": [],
   "source": [
    "import networkx as nx\n",
    "import pandas as pd\n",
    "import numpy as np\n",
    "import pickle"
   ]
  },
  {
   "cell_type": "code",
   "execution_count": 8,
   "metadata": {
    "collapsed": true
   },
   "outputs": [],
   "source": [
    "G = nx.read_gpickle('email_prediction.txt')"
   ]
  },
  {
   "cell_type": "code",
   "execution_count": 9,
   "metadata": {},
   "outputs": [
    {
     "name": "stdout",
     "output_type": "stream",
     "text": [
      "<class 'pandas.core.frame.DataFrame'>\n",
      "Index: 0 entries\n",
      "Empty DataFrame"
     ]
    }
   ],
   "source": [
    "future_edges = pd.DataFrame()\n",
    "\n",
    "future_edges.info()"
   ]
  },
  {
   "cell_type": "code",
   "execution_count": 32,
   "metadata": {},
   "outputs": [
    {
     "name": "stdout",
     "output_type": "stream",
     "text": [
      "Common Neighbors: [667, 375, 184, 362, 183, 549, 418, 21, 252, 211]\n",
      "Jaccard coefficient: [(6, 840, 0.07377049180327869)]\n",
      "Adamic Adar Index: [(6, 840, 2.110314079181727)]\n",
      "Resource Allocation: [(6, 840, 0.13672123667645245)]\n",
      "Preferential Attachement: [(6, 840, 2070)]\n"
     ]
    }
   ],
   "source": [
    "# Link prediction methods for {6, 480}\n",
    "print(\"Common Neighbors: {}\".format(list(nx.common_neighbors(G, 6, 480))))\n",
    "print(\"Jaccard coefficient: {}\".format(list(nx.jaccard_coefficient(G, [future_connections.index[0]]))))\n",
    "print(\"Adamic Adar Index: {}\".format(list(nx.adamic_adar_index(G, [future_connections.index[0]]))))\n",
    "print(\"Resource Allocation: {}\".format(list(nx.resource_allocation_index(G, [future_connections.index[0]]))))\n",
    "print(\"Preferential Attachement: {}\".format(list(nx.preferential_attachment(G, [future_connections.index[0]]))))"
   ]
  },
  {
   "cell_type": "code",
   "execution_count": 46,
   "metadata": {},
   "outputs": [
    {
     "data": {
      "text/html": [
       "<div>\n",
       "<style>\n",
       "    .dataframe thead tr:only-child th {\n",
       "        text-align: right;\n",
       "    }\n",
       "\n",
       "    .dataframe thead th {\n",
       "        text-align: left;\n",
       "    }\n",
       "\n",
       "    .dataframe tbody tr th {\n",
       "        vertical-align: top;\n",
       "    }\n",
       "</style>\n",
       "<table border=\"1\" class=\"dataframe\">\n",
       "  <thead>\n",
       "    <tr style=\"text-align: right;\">\n",
       "      <th></th>\n",
       "      <th>Future Connection</th>\n",
       "      <th>src</th>\n",
       "      <th>dst</th>\n",
       "      <th>comm_neigh</th>\n",
       "      <th>jaccard</th>\n",
       "      <th>adamic</th>\n",
       "      <th>adamic_adar</th>\n",
       "      <th>res_alloc</th>\n",
       "      <th>pref_attach</th>\n",
       "    </tr>\n",
       "  </thead>\n",
       "  <tbody>\n",
       "    <tr>\n",
       "      <th>(6, 840)</th>\n",
       "      <td>0.0</td>\n",
       "      <td>6</td>\n",
       "      <td>840</td>\n",
       "      <td>9</td>\n",
       "      <td>0.073770</td>\n",
       "      <td>2.110314</td>\n",
       "      <td>2.110314</td>\n",
       "      <td>0.136721</td>\n",
       "      <td>2070</td>\n",
       "    </tr>\n",
       "    <tr>\n",
       "      <th>(4, 197)</th>\n",
       "      <td>0.0</td>\n",
       "      <td>4</td>\n",
       "      <td>197</td>\n",
       "      <td>2</td>\n",
       "      <td>0.015504</td>\n",
       "      <td>0.363528</td>\n",
       "      <td>0.363528</td>\n",
       "      <td>0.008437</td>\n",
       "      <td>3552</td>\n",
       "    </tr>\n",
       "    <tr>\n",
       "      <th>(620, 979)</th>\n",
       "      <td>0.0</td>\n",
       "      <td>620</td>\n",
       "      <td>979</td>\n",
       "      <td>0</td>\n",
       "      <td>0.000000</td>\n",
       "      <td>0.000000</td>\n",
       "      <td>0.000000</td>\n",
       "      <td>0.000000</td>\n",
       "      <td>28</td>\n",
       "    </tr>\n",
       "    <tr>\n",
       "      <th>(519, 872)</th>\n",
       "      <td>0.0</td>\n",
       "      <td>519</td>\n",
       "      <td>872</td>\n",
       "      <td>2</td>\n",
       "      <td>0.060606</td>\n",
       "      <td>0.507553</td>\n",
       "      <td>0.507553</td>\n",
       "      <td>0.039726</td>\n",
       "      <td>299</td>\n",
       "    </tr>\n",
       "    <tr>\n",
       "      <th>(382, 423)</th>\n",
       "      <td>0.0</td>\n",
       "      <td>382</td>\n",
       "      <td>423</td>\n",
       "      <td>0</td>\n",
       "      <td>0.000000</td>\n",
       "      <td>0.000000</td>\n",
       "      <td>0.000000</td>\n",
       "      <td>0.000000</td>\n",
       "      <td>205</td>\n",
       "    </tr>\n",
       "  </tbody>\n",
       "</table>\n",
       "</div>"
      ],
      "text/plain": [
       "            Future Connection  src  dst  comm_neigh   jaccard    adamic  \\\n",
       "(6, 840)                  0.0    6  840           9  0.073770  2.110314   \n",
       "(4, 197)                  0.0    4  197           2  0.015504  0.363528   \n",
       "(620, 979)                0.0  620  979           0  0.000000  0.000000   \n",
       "(519, 872)                0.0  519  872           2  0.060606  0.507553   \n",
       "(382, 423)                0.0  382  423           0  0.000000  0.000000   \n",
       "\n",
       "            adamic_adar  res_alloc  pref_attach  \n",
       "(6, 840)       2.110314   0.136721         2070  \n",
       "(4, 197)       0.363528   0.008437         3552  \n",
       "(620, 979)     0.000000   0.000000           28  \n",
       "(519, 872)     0.507553   0.039726          299  \n",
       "(382, 423)     0.000000   0.000000          205  "
      ]
     },
     "execution_count": 46,
     "metadata": {},
     "output_type": "execute_result"
    }
   ],
   "source": [
    "future_connections['comm_neigh'] = [len(list(nx.common_neighbors(G, edge[0], edge[1]))) for edge in future_connections.index]\n",
    "future_connections['jaccard'] = [list(nx.jaccard_coefficient(G, [edge]))[0][2] for edge in future_connections.index]\n",
    "future_connections['adamic_adar'] = [list(nx.adamic_adar_index(G, [edge]))[0][2] for edge in future_connections.index]\n",
    "future_connections['res_alloc'] = [list(nx.resource_allocation_index(G, [edge]))[0][2] for edge in future_connections.index]\n",
    "future_connections['pref_attach'] = [list(nx.preferential_attachment(G, [edge]))[0][2] for edge in future_connections.index]\n",
    "\n",
    "future_connections.head()"
   ]
  },
  {
   "cell_type": "code",
   "execution_count": null,
   "metadata": {},
   "outputs": [],
   "source": []
  },
  {
   "cell_type": "code",
   "execution_count": null,
   "metadata": {
    "collapsed": true
   },
   "outputs": [],
   "source": []
  }
 ],
 "metadata": {
  "kernelspec": {
   "display_name": "Python 3",
   "language": "python",
   "name": "python3"
  },
  "language_info": {
   "codemirror_mode": {
    "name": "ipython",
    "version": 3
   },
   "file_extension": ".py",
   "mimetype": "text/x-python",
   "name": "python",
   "nbconvert_exporter": "python",
   "pygments_lexer": "ipython3",
   "version": "3.6.2"
  }
 },
 "nbformat": 4,
 "nbformat_minor": 2
}
