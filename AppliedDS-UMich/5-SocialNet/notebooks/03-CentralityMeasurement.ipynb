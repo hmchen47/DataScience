{
 "cells": [
  {
   "cell_type": "markdown",
   "metadata": {},
   "source": [
    "# Influence Measures and Network Centralization"
   ]
  },
  {
   "cell_type": "markdown",
   "metadata": {},
   "source": [
    "## Degree and Closeness Centrality"
   ]
  },
  {
   "cell_type": "code",
   "execution_count": 6,
   "metadata": {},
   "outputs": [],
   "source": [
    "import pandas as pd\n",
    "import numpy as np\n",
    "import networkx as nx\n",
    "%matplotlib notebook"
   ]
  },
  {
   "cell_type": "markdown",
   "metadata": {},
   "source": [
    "### Degree Centrality – Undirected Networks\n",
    "\n",
    "![Karate Club](https://lh3.googleusercontent.com/OQqUIVdAO_KrEiIsfGN4mARt24rHxQzWZ9IndHfY3DEvgvYp-m7PW4BzaaKpb9Trp2w8UKvvkuW3tSN6O7pJ7L7vm9P_pBX-eLOf03QKFd9y2jVQ)"
   ]
  },
  {
   "cell_type": "code",
   "execution_count": 14,
   "metadata": {},
   "outputs": [
    {
     "data": {
      "text/plain": [
       "0.5151515151515151"
      ]
     },
     "execution_count": 14,
     "metadata": {},
     "output_type": "execute_result"
    }
   ],
   "source": [
    "G_karate = nx.karate_club_graph()\n",
    "G_karate = nx.convert_node_labels_to_integers(G_karate, first_label=1)\n",
    "degCent = nx.degree_centrality(G_karate)\n",
    "\n",
    "degCent[34]"
   ]
  },
  {
   "cell_type": "code",
   "execution_count": 15,
   "metadata": {},
   "outputs": [
    {
     "data": {
      "text/plain": [
       "0.36363636363636365"
      ]
     },
     "execution_count": 15,
     "metadata": {},
     "output_type": "execute_result"
    }
   ],
   "source": [
    "degCent[33]"
   ]
  },
  {
   "cell_type": "markdown",
   "metadata": {},
   "source": [
    "### Degree Centrality – Directed Networks\n",
    "\n",
    "![Directed Network](https://lh3.googleusercontent.com/PDT4TMSFqXgwMbByGWK-scJjGusNfAxjgEhq0Ci6q0h9CohRKtYMaJg63jP6TIbVZez9cregpYi2kFx7toU5J1SfYEIL1fShNM4aRWGUVnaVOfi2CxQvhEq7vJgCtQAlwIM6JOMunw=w2400)"
   ]
  },
  {
   "cell_type": "code",
   "execution_count": 34,
   "metadata": {},
   "outputs": [],
   "source": [
    "G = nx.DiGraph()\n",
    "\n",
    "G.add_edges_from([('A', 'E'), ('A', 'B'), ('A', 'N'), ('B', 'C'), ('B', 'E'),\n",
    "                   ('C', 'A'), ('C', 'D'), ('D', 'E'), ('D', 'B'), ('E', 'D'),\n",
    "                   ('E', 'C'), ('F', 'G'), ('G', 'A'), ('G', 'J'), ('H', 'G'),\n",
    "                   ('H', 'I'), ('I', 'F'), ('I', 'G'), ('I', 'H'), ('I', 'J'),\n",
    "                   ('J', 'F'), ('J', 'O'), ('K', 'L'), ('K', 'M'), ('L', 'M'),\n",
    "                   ('N', 'L'), ('N', 'O'), ('O', 'L'), ('O', 'K'), ('O', 'J')])\n",
    "\n",
    "# nx.draw_networkx(G)"
   ]
  },
  {
   "cell_type": "code",
   "execution_count": 19,
   "metadata": {},
   "outputs": [
    {
     "data": {
      "text/plain": [
       "0.14285714285714285"
      ]
     },
     "execution_count": 19,
     "metadata": {},
     "output_type": "execute_result"
    }
   ],
   "source": [
    "# in-degree centrality\n",
    "indegCent = nx.in_degree_centrality(G)\n",
    "        \n",
    "indegCent['A']"
   ]
  },
  {
   "cell_type": "code",
   "execution_count": 20,
   "metadata": {},
   "outputs": [
    {
     "data": {
      "text/plain": [
       "0.21428571428571427"
      ]
     },
     "execution_count": 20,
     "metadata": {},
     "output_type": "execute_result"
    }
   ],
   "source": [
    "indegCent['L']"
   ]
  },
  {
   "cell_type": "code",
   "execution_count": 23,
   "metadata": {},
   "outputs": [
    {
     "data": {
      "text/plain": [
       "0.21428571428571427"
      ]
     },
     "execution_count": 23,
     "metadata": {},
     "output_type": "execute_result"
    }
   ],
   "source": [
    "# out-degree centrality\n",
    "outdegCent = nx.out_degree_centrality(G)\n",
    "\n",
    "outdegCent['A']"
   ]
  },
  {
   "cell_type": "code",
   "execution_count": 25,
   "metadata": {},
   "outputs": [
    {
     "data": {
      "text/plain": [
       "0.07142857142857142"
      ]
     },
     "execution_count": 25,
     "metadata": {},
     "output_type": "execute_result"
    }
   ],
   "source": [
    "outdegCent['L']"
   ]
  },
  {
   "cell_type": "markdown",
   "metadata": {},
   "source": [
    "### Clossness Centrality"
   ]
  },
  {
   "cell_type": "code",
   "execution_count": 27,
   "metadata": {},
   "outputs": [
    {
     "data": {
      "text/plain": [
       "0.5409836065573771"
      ]
     },
     "execution_count": 27,
     "metadata": {},
     "output_type": "execute_result"
    }
   ],
   "source": [
    "closeCent = nx.closeness_centrality(G_karate)\n",
    "\n",
    "closeCent[32]"
   ]
  },
  {
   "cell_type": "code",
   "execution_count": 29,
   "metadata": {},
   "outputs": [
    {
     "data": {
      "text/plain": [
       "61"
      ]
     },
     "execution_count": 29,
     "metadata": {},
     "output_type": "execute_result"
    }
   ],
   "source": [
    "sum(nx.shortest_path_length(G_karate, 32).values())"
   ]
  },
  {
   "cell_type": "code",
   "execution_count": 31,
   "metadata": {},
   "outputs": [
    {
     "data": {
      "text/plain": [
       "0.5409836065573771"
      ]
     },
     "execution_count": 31,
     "metadata": {},
     "output_type": "execute_result"
    }
   ],
   "source": [
    "(len(G_karate.nodes())-1)/61."
   ]
  },
  {
   "cell_type": "markdown",
   "metadata": {},
   "source": [
    "### Disconnected Nodes"
   ]
  },
  {
   "cell_type": "code",
   "execution_count": 32,
   "metadata": {},
   "outputs": [
    {
     "data": {
      "text/plain": [
       "1.0"
      ]
     },
     "execution_count": 32,
     "metadata": {},
     "output_type": "execute_result"
    }
   ],
   "source": [
    "closeCent = nx.closeness_centrality(G, normalized = False)\n",
    "\n",
    "closeCent['L']"
   ]
  },
  {
   "cell_type": "code",
   "execution_count": 33,
   "metadata": {},
   "outputs": [
    {
     "data": {
      "text/plain": [
       "0.07142857142857142"
      ]
     },
     "execution_count": 33,
     "metadata": {},
     "output_type": "execute_result"
    }
   ],
   "source": [
    "closeCent = nx.closeness_centrality(G, normalized = True)\n",
    "\n",
    "closeCent['L']"
   ]
  },
  {
   "cell_type": "markdown",
   "metadata": {},
   "source": [
    "## Betweenness Centrality"
   ]
  },
  {
   "cell_type": "code",
   "execution_count": 43,
   "metadata": {},
   "outputs": [
    {
     "data": {
      "text/plain": [
       "[(1, 0.4376352813852815),\n",
       " (34, 0.30407497594997596),\n",
       " (33, 0.14524711399711404),\n",
       " (3, 0.14365680615680615),\n",
       " (32, 0.13827561327561327)]"
      ]
     },
     "execution_count": 43,
     "metadata": {},
     "output_type": "execute_result"
    }
   ],
   "source": [
    "btwnCent = nx.betweenness_centrality(G_karate, normalized = True, endpoints = False)\n",
    "\n",
    "import operator\n",
    "\n",
    "sorted(btwnCent.items(), key=operator.itemgetter(1), reverse = True)[0:5]"
   ]
  },
  {
   "cell_type": "code",
   "execution_count": 45,
   "metadata": {},
   "outputs": [
    {
     "data": {
      "text/plain": [
       "[(1, 0.43150583213083205),\n",
       " (34, 0.3334098424723425),\n",
       " (33, 0.23935125060125056),\n",
       " (3, 0.12042688792688792),\n",
       " (32, 0.11978294853294853)]"
      ]
     },
     "execution_count": 45,
     "metadata": {},
     "output_type": "execute_result"
    }
   ],
   "source": [
    "# Approximation\n",
    "btwnCent_approx = nx.betweenness_centrality(G_karate, normalized = True, endpoints = False, k = 10)\n",
    "\n",
    "sorted(btwnCent_approx.items(), key=operator.itemgetter(1), reverse = True)[0:5]"
   ]
  },
  {
   "cell_type": "code",
   "execution_count": 47,
   "metadata": {},
   "outputs": [
    {
     "data": {
      "text/plain": [
       "[(1, 0.04899515993265994),\n",
       " (34, 0.028807419432419434),\n",
       " (3, 0.018368205868205867),\n",
       " (33, 0.01664712602212602),\n",
       " (9, 0.014519450456950456)]"
      ]
     },
     "execution_count": 47,
     "metadata": {},
     "output_type": "execute_result"
    }
   ],
   "source": [
    "# subsets\n",
    "btwnCent_subset = nx.betweenness_centrality_subset(\n",
    "    G_karate, [34, 33, 21, 30, 16, 27, 15, 23, 10], [1, 4, 13, 11, 6, 12, 17, 7], normalized=True)\n",
    "\n",
    "sorted(btwnCent_subset.items(),key=operator.itemgetter(1), reverse=True)[0:5]"
   ]
  },
  {
   "cell_type": "code",
   "execution_count": 49,
   "metadata": {},
   "outputs": [
    {
     "data": {
      "text/plain": [
       "[((1, 32), 0.12725999490705373),\n",
       " ((1, 7), 0.07813428401663695),\n",
       " ((1, 6), 0.07813428401663694),\n",
       " ((1, 3), 0.07778768072885717),\n",
       " ((1, 9), 0.07423959482783016)]"
      ]
     },
     "execution_count": 49,
     "metadata": {},
     "output_type": "execute_result"
    }
   ],
   "source": [
    "# Edges\n",
    "btwnCent_edge = nx.edge_betweenness_centrality(G_karate, normalized=True)\n",
    "\n",
    "sorted(btwnCent_edge.items(), key=operator.itemgetter(1), reverse = True)[0:5]"
   ]
  },
  {
   "cell_type": "code",
   "execution_count": 50,
   "metadata": {},
   "outputs": [
    {
     "data": {
      "text/plain": [
       "[((1, 9), 0.01366536513595337),\n",
       " ((1, 32), 0.01366536513595337),\n",
       " ((14, 34), 0.012207509266332794),\n",
       " ((1, 3), 0.01211343123107829),\n",
       " ((1, 6), 0.012032085561497326)]"
      ]
     },
     "execution_count": 50,
     "metadata": {},
     "output_type": "execute_result"
    }
   ],
   "source": [
    "# subsets\n",
    "btwnCent_edge_subset = nx.edge_betweenness_centrality_subset(\n",
    "    G_karate, [34, 33, 21, 30, 16, 27, 15, 23, 10], [1, 4, 13, 11, 6, 12, 17, 7], normalized=True)\n",
    "\n",
    "sorted(btwnCent_edge_subset.items(), key=operator.itemgetter(1), reverse = True)[0:5]"
   ]
  },
  {
   "cell_type": "markdown",
   "metadata": {},
   "source": [
    "## Page Rank"
   ]
  },
  {
   "cell_type": "code",
   "execution_count": 56,
   "metadata": {},
   "outputs": [
    {
     "name": "stdout",
     "output_type": "stream",
     "text": [
      "{1: 0.09700181758983709, 2: 0.05287839103742701, 3: 0.057078423047636745, 4: 0.03586064322306479, 5: 0.021979406974834498, 6: 0.02911334166344221, 7: 0.029113341663442212, 8: 0.024490758039509182, 9: 0.029765339186167035, 11: 0.0219794069748345, 12: 0.009564916863537148, 13: 0.014645186487916191, 14: 0.029536314977202986, 18: 0.014558859774243493, 20: 0.019604416711937297, 22: 0.014558859774243493, 32: 0.03715663592267942, 31: 0.02458933653429248, 10: 0.014308950284462801, 28: 0.025638803528350497, 29: 0.01957296050943854, 33: 0.07169213006588289, 17: 0.016785378110253487, 34: 0.10091791674871213, 15: 0.014535161524273827, 16: 0.014535161524273827, 19: 0.014535161524273827, 21: 0.014535161524273827, 23: 0.014535161524273827, 24: 0.03152091531163228, 26: 0.021005628174745786, 30: 0.02628726283711208, 25: 0.021075455001162945, 27: 0.015043395360629756}\n"
     ]
    }
   ],
   "source": [
    "undi_rank = nx.pagerank(G_karate)\n",
    "print(undi_rank)"
   ]
  },
  {
   "cell_type": "code",
   "execution_count": 58,
   "metadata": {},
   "outputs": [
    {
     "name": "stdout",
     "output_type": "stream",
     "text": [
      "{'A': 0.08702583777446707, 'E': 0.1227940778833713, 'B': 0.0861715928964544, 'N': 0.039165637954896804, 'C': 0.10331760704546909, 'D': 0.11060435714398247, 'F': 0.0467704088488492, 'G': 0.06731220665721178, 'J': 0.06454583255993146, 'H': 0.019337917638941077, 'I': 0.0227270575142913, 'O': 0.058586304561140626, 'K': 0.03110807142421758, 'L': 0.06097461273800987, 'M': 0.07955847735876599}\n"
     ]
    }
   ],
   "source": [
    "di_rank = nx.pagerank(G)\n",
    "print(di_rank)"
   ]
  },
  {
   "cell_type": "code",
   "execution_count": 59,
   "metadata": {},
   "outputs": [
    {
     "name": "stdout",
     "output_type": "stream",
     "text": [
      "{1: 0.09923208031303203, 2: 0.05434031558257919, 3: 0.05919704684187154, 4: 0.036612460562853694, 5: 0.02129205163493875, 6: 0.028358863602879276, 7: 0.028358863602879276, 8: 0.024777139411941044, 9: 0.03041154675783479, 11: 0.02129205163493875, 12: 0.00852322024354681, 13: 0.014015169158033743, 14: 0.03025430900999545, 18: 0.01395744128254017, 20: 0.019434610880594574, 22: 0.01395744128254017, 32: 0.03757266533528673, 31: 0.024824588072166535, 10: 0.01374609528355658, 28: 0.02557998502294416, 29: 0.01938173195115044, 33: 0.07330616298815512, 17: 0.015703158296594022, 34: 0.10345460652842148, 15: 0.013916466828162465, 16: 0.013916466828162465, 19: 0.013916466828162465, 21: 0.013916466828162465, 23: 0.013916466828162465, 24: 0.03165330491466868, 26: 0.02041070287756967, 30: 0.02603805549234405, 25: 0.02045532726885293, 27: 0.014276670024478019}\n"
     ]
    }
   ],
   "source": [
    "undi_rank_alpha = nx.pagerank(G_karate, alpha=0.9)\n",
    "\n",
    "print(undi_rank_alpha)"
   ]
  },
  {
   "cell_type": "code",
   "execution_count": 61,
   "metadata": {},
   "outputs": [
    {
     "name": "stdout",
     "output_type": "stream",
     "text": [
      "{'A': 0.08927057844540603, 'E': 0.1356765449302755, 'B': 0.09357035603118252, 'N': 0.03793174443826117, 'C': 0.11431049543716297, 'D': 0.12364330126144708, 'F': 0.04139035054793489, 'G': 0.05928982113489253, 'J': 0.05820316788981253, 'H': 0.015198407057093345, 'I': 0.017989970964753074, 'O': 0.054411878030006966, 'K': 0.02747442794563926, 'L': 0.056907408597589124, 'M': 0.07473154728854288}\n"
     ]
    }
   ],
   "source": [
    "di_rank_alpha = nx.pagerank(G, alpha=0.9)\n",
    "print(di_rank_alpha)"
   ]
  },
  {
   "cell_type": "markdown",
   "metadata": {},
   "source": [
    "## Hub and Authority"
   ]
  },
  {
   "cell_type": "code",
   "execution_count": 69,
   "metadata": {},
   "outputs": [
    {
     "name": "stdout",
     "output_type": "stream",
     "text": [
      "({1: 0.07141272875773574, 2: 0.05342723120517262, 3: 0.06371906453963269, 4: 0.04242273710428977, 5: 0.015260959698152663, 6: 0.01596691349441855, 7: 0.01596691349441855, 8: 0.03434316720679744, 9: 0.045681925130806315, 11: 0.015260959698152663, 12: 0.010617891508520511, 13: 0.016925450785435992, 14: 0.045494864066005475, 18: 0.018561637031907365, 20: 0.0297133338911154, 22: 0.018561637031907365, 32: 0.03837574188047835, 31: 0.03510623798827735, 10: 0.02062566775718263, 28: 0.026813494127083635, 29: 0.02633150578337531, 33: 0.06200184647463987, 17: 0.004748031841562519, 34: 0.0750029421463428, 15: 0.020370345842716082, 16: 0.020370345842716082, 19: 0.020370345842716082, 21: 0.020370345842716082, 23: 0.020370345842716082, 24: 0.030156497528902457, 26: 0.011893664396093682, 30: 0.02711153964642488, 25: 0.01146095223013987, 27: 0.015182734341447214}, {1: 0.07141272880870857, 2: 0.053427231228703985, 3: 0.06371906455587137, 4: 0.042422737106115244, 5: 0.015260959692251745, 6: 0.01596691348769785, 7: 0.01596691348769785, 8: 0.034343167196785686, 9: 0.04568192511376612, 11: 0.015260959692251745, 12: 0.010617891499780773, 13: 0.016925450777611123, 14: 0.04549486404492594, 18: 0.018561637020091355, 20: 0.029713333868231613, 22: 0.018561637020091355, 32: 0.038375741856463086, 31: 0.0351062379780833, 10: 0.02062566774700424, 28: 0.02681349412210058, 29: 0.026331505783102074, 33: 0.062001846535505625, 17: 0.004748031844529443, 34: 0.07500294224371072, 15: 0.020370345827057042, 16: 0.020370345827057042, 19: 0.020370345827057042, 21: 0.020370345827057042, 23: 0.020370345827057042, 24: 0.03015649752213886, 26: 0.011893664411194169, 30: 0.027111539640980654, 25: 0.01146095224314779, 27: 0.015182734336172116})\n"
     ]
    }
   ],
   "source": [
    "hub_auth_undi = nx.hits(G_karate)\n",
    "\n",
    "print(hub_auth_undi)"
   ]
  },
  {
   "cell_type": "code",
   "execution_count": 70,
   "metadata": {},
   "outputs": [
    {
     "ename": "NetworkXError",
     "evalue": "HITS: power iteration failed to converge in 102 iterations.",
     "output_type": "error",
     "traceback": [
      "\u001b[1;31m---------------------------------------------------------------------------\u001b[0m",
      "\u001b[1;31mNetworkXError\u001b[0m                             Traceback (most recent call last)",
      "\u001b[1;32m<ipython-input-70-db7d4772922e>\u001b[0m in \u001b[0;36m<module>\u001b[1;34m()\u001b[0m\n\u001b[1;32m----> 1\u001b[1;33m \u001b[0mhub_auth_di\u001b[0m \u001b[1;33m=\u001b[0m \u001b[0mnx\u001b[0m\u001b[1;33m.\u001b[0m\u001b[0mhits\u001b[0m\u001b[1;33m(\u001b[0m\u001b[0mG\u001b[0m\u001b[1;33m)\u001b[0m\u001b[1;33m\u001b[0m\u001b[0m\n\u001b[0m\u001b[0;32m      2\u001b[0m \u001b[1;33m\u001b[0m\u001b[0m\n\u001b[0;32m      3\u001b[0m \u001b[0mprint\u001b[0m\u001b[1;33m(\u001b[0m\u001b[0mhub_auth_di\u001b[0m\u001b[1;33m)\u001b[0m\u001b[1;33m\u001b[0m\u001b[0m\n",
      "\u001b[1;32mC:\\ProgramData\\Anaconda3\\lib\\site-packages\\networkx\\algorithms\\link_analysis\\hits_alg.py\u001b[0m in \u001b[0;36mhits\u001b[1;34m(G, max_iter, tol, nstart, normalized)\u001b[0m\n\u001b[0;32m    109\u001b[0m         \u001b[1;32mif\u001b[0m \u001b[0mi\u001b[0m\u001b[1;33m>\u001b[0m\u001b[0mmax_iter\u001b[0m\u001b[1;33m:\u001b[0m\u001b[1;33m\u001b[0m\u001b[0m\n\u001b[0;32m    110\u001b[0m             raise NetworkXError(\\\n\u001b[1;32m--> 111\u001b[1;33m             \"HITS: power iteration failed to converge in %d iterations.\"%(i+1))\n\u001b[0m\u001b[0;32m    112\u001b[0m         \u001b[0mi\u001b[0m\u001b[1;33m+=\u001b[0m\u001b[1;36m1\u001b[0m\u001b[1;33m\u001b[0m\u001b[0m\n\u001b[0;32m    113\u001b[0m     \u001b[1;32mif\u001b[0m \u001b[0mnormalized\u001b[0m\u001b[1;33m:\u001b[0m\u001b[1;33m\u001b[0m\u001b[0m\n",
      "\u001b[1;31mNetworkXError\u001b[0m: HITS: power iteration failed to converge in 102 iterations."
     ]
    }
   ],
   "source": [
    "hub_auth_di = nx.hits(G)\n",
    "\n",
    "print(hub_auth_di)"
   ]
  }
 ],
 "metadata": {
  "kernelspec": {
   "display_name": "Python 3",
   "language": "python",
   "name": "python3"
  },
  "language_info": {
   "codemirror_mode": {
    "name": "ipython",
    "version": 3
   },
   "file_extension": ".py",
   "mimetype": "text/x-python",
   "name": "python",
   "nbconvert_exporter": "python",
   "pygments_lexer": "ipython3",
   "version": "3.6.2"
  }
 },
 "nbformat": 4,
 "nbformat_minor": 2
}
