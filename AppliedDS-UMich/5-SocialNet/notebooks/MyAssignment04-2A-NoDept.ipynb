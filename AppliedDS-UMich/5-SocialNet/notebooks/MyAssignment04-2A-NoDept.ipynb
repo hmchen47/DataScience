{
 "cells": [
  {
   "cell_type": "markdown",
   "metadata": {},
   "source": [
    "# My try for Part 2A in Assignment 4"
   ]
  },
  {
   "cell_type": "code",
   "execution_count": 1,
   "metadata": {
    "collapsed": true
   },
   "outputs": [],
   "source": [
    "import networkx as nx\n",
    "import pandas as pd\n",
    "import numpy as np\n",
    "import pickle"
   ]
  },
  {
   "cell_type": "code",
   "execution_count": 9,
   "metadata": {},
   "outputs": [
    {
     "name": "stdout",
     "output_type": "stream",
     "text": [
      "Name: \n",
      "Type: Graph\n",
      "Number of nodes: 1005\n",
      "Number of edges: 16706\n",
      "Average degree:  33.2458\n",
      "[(0, {'Department': 1, 'ManagementSalary': 0.0}), (1, {'Department': 1, 'ManagementSalary': nan}), (2, {'Department': 21, 'ManagementSalary': nan}), (3, {'Department': 21, 'ManagementSalary': 1.0}), (4, {'Department': 21, 'ManagementSalary': 1.0}), (5, {'Department': 25, 'ManagementSalary': nan}), (6, {'Department': 25, 'ManagementSalary': 1.0}), (7, {'Department': 14, 'ManagementSalary': 0.0}), (8, {'Department': 14, 'ManagementSalary': nan}), (9, {'Department': 14, 'ManagementSalary': 0.0}), (10, {'Department': 9, 'ManagementSalary': 0.0}), (11, {'Department': 14, 'ManagementSalary': 0.0}), (12, {'Department': 14, 'ManagementSalary': 1.0}), (13, {'Department': 26, 'ManagementSalary': 1.0}), (14, {'Department': 4, 'ManagementSalary': nan}), (15, {'Department': 17, 'ManagementSalary': 0.0}), (16, {'Department': 34, 'ManagementSalary': 0.0}), (17, {'Department': 1, 'ManagementSalary': 0.0}), (18, {'Department': 1, 'ManagementSalary': nan}), (19, {'Department': 14, 'ManagementSalary': 0.0}), (20, {'Department': 9, 'ManagementSalary': 0.0}), (21, {'Department': 9, 'ManagementSalary': 1.0}), (22, {'Department': 9, 'ManagementSalary': 0.0}), (23, {'Department': 11, 'ManagementSalary': 0.0}), (24, {'Department': 11, 'ManagementSalary': 0.0}), (25, {'Department': 11, 'ManagementSalary': 0.0}), (26, {'Department': 11, 'ManagementSalary': 0.0}), (27, {'Department': 11, 'ManagementSalary': nan}), (28, {'Department': 11, 'ManagementSalary': 1.0}), (29, {'Department': 11, 'ManagementSalary': 1.0}), (30, {'Department': 11, 'ManagementSalary': nan}), (31, {'Department': 11, 'ManagementSalary': nan}), (32, {'Department': 11, 'ManagementSalary': 0.0}), (33, {'Department': 11, 'ManagementSalary': 0.0}), (34, {'Department': 11, 'ManagementSalary': nan}), (35, {'Department': 11, 'ManagementSalary': 1.0}), (36, {'Department': 11, 'ManagementSalary': 1.0}), (37, {'Department': 11, 'ManagementSalary': nan}), (38, {'Department': 11, 'ManagementSalary': 0.0}), (39, {'Department': 11, 'ManagementSalary': 0.0}), (40, {'Department': 11, 'ManagementSalary': nan}), (41, {'Department': 5, 'ManagementSalary': 0.0}), (42, {'Department': 34, 'ManagementSalary': 0.0}), (43, {'Department': 14, 'ManagementSalary': 0.0}), (44, {'Department': 14, 'ManagementSalary': 1.0}), (45, {'Department': 17, 'ManagementSalary': nan}), (46, {'Department': 17, 'ManagementSalary': 0.0}), (47, {'Department': 10, 'ManagementSalary': 1.0}), (48, {'Department': 10, 'ManagementSalary': 0.0}), (49, {'Department': 36, 'ManagementSalary': 0.0}), (50, {'Department': 37, 'ManagementSalary': 0.0}), (51, {'Department': 5, 'ManagementSalary': 0.0}), (52, {'Department': 7, 'ManagementSalary': 0.0}), (53, {'Department': 4, 'ManagementSalary': 0.0}), (54, {'Department': 22, 'ManagementSalary': nan}), (55, {'Department': 22, 'ManagementSalary': nan}), (56, {'Department': 21, 'ManagementSalary': 0.0}), (57, {'Department': 21, 'ManagementSalary': 1.0}), (58, {'Department': 21, 'ManagementSalary': 1.0}), (59, {'Department': 21, 'ManagementSalary': 0.0}), (60, {'Department': 7, 'ManagementSalary': nan}), (61, {'Department': 7, 'ManagementSalary': 0.0}), (62, {'Department': 36, 'ManagementSalary': nan}), (63, {'Department': 21, 'ManagementSalary': 1.0}), (64, {'Department': 25, 'ManagementSalary': 1.0}), (65, {'Department': 4, 'ManagementSalary': nan}), (66, {'Department': 8, 'ManagementSalary': 0.0}), (67, {'Department': 15, 'ManagementSalary': 0.0}), (68, {'Department': 15, 'ManagementSalary': 0.0}), (69, {'Department': 15, 'ManagementSalary': 0.0}), (70, {'Department': 37, 'ManagementSalary': 0.0}), (71, {'Department': 37, 'ManagementSalary': 0.0}), (72, {'Department': 9, 'ManagementSalary': 0.0}), (73, {'Department': 1, 'ManagementSalary': 0.0}), (74, {'Department': 1, 'ManagementSalary': 0.0}), (75, {'Department': 10, 'ManagementSalary': 0.0}), (76, {'Department': 10, 'ManagementSalary': 0.0}), (77, {'Department': 3, 'ManagementSalary': nan}), (78, {'Department': 3, 'ManagementSalary': 0.0}), (79, {'Department': 3, 'ManagementSalary': nan}), (80, {'Department': 29, 'ManagementSalary': 0.0}), (81, {'Department': 15, 'ManagementSalary': 1.0}), (82, {'Department': 36, 'ManagementSalary': 1.0}), (83, {'Department': 36, 'ManagementSalary': 1.0}), (84, {'Department': 37, 'ManagementSalary': 1.0}), (85, {'Department': 1, 'ManagementSalary': 0.0}), (86, {'Department': 36, 'ManagementSalary': 1.0}), (87, {'Department': 34, 'ManagementSalary': 1.0}), (88, {'Department': 20, 'ManagementSalary': 0.0}), (89, {'Department': 20, 'ManagementSalary': 0.0}), (90, {'Department': 8, 'ManagementSalary': 0.0}), (91, {'Department': 15, 'ManagementSalary': 0.0}), (92, {'Department': 9, 'ManagementSalary': 0.0}), (93, {'Department': 4, 'ManagementSalary': 0.0}), (94, {'Department': 5, 'ManagementSalary': 0.0}), (95, {'Department': 4, 'ManagementSalary': 0.0}), (96, {'Department': 20, 'ManagementSalary': 1.0}), (97, {'Department': 16, 'ManagementSalary': nan}), (98, {'Department': 16, 'ManagementSalary': 0.0}), (99, {'Department': 16, 'ManagementSalary': 0.0}), (100, {'Department': 16, 'ManagementSalary': 0.0}), (101, {'Department': 16, 'ManagementSalary': nan}), (102, {'Department': 38, 'ManagementSalary': 0.0}), (103, {'Department': 7, 'ManagementSalary': nan}), (104, {'Department': 7, 'ManagementSalary': 0.0}), (105, {'Department': 34, 'ManagementSalary': 1.0}), (106, {'Department': 38, 'ManagementSalary': 1.0}), (107, {'Department': 36, 'ManagementSalary': 1.0}), (108, {'Department': 8, 'ManagementSalary': nan}), (109, {'Department': 27, 'ManagementSalary': 0.0}), (110, {'Department': 8, 'ManagementSalary': 0.0}), (111, {'Department': 8, 'ManagementSalary': 0.0}), (112, {'Department': 8, 'ManagementSalary': 0.0}), (113, {'Department': 10, 'ManagementSalary': nan}), (114, {'Department': 10, 'ManagementSalary': 1.0}), (115, {'Department': 13, 'ManagementSalary': 1.0}), (116, {'Department': 13, 'ManagementSalary': 0.0}), (117, {'Department': 6, 'ManagementSalary': 0.0}), (118, {'Department': 26, 'ManagementSalary': 0.0}), (119, {'Department': 10, 'ManagementSalary': 0.0}), (120, {'Department': 1, 'ManagementSalary': 0.0}), (121, {'Department': 36, 'ManagementSalary': 1.0}), (122, {'Department': 0, 'ManagementSalary': nan}), (123, {'Department': 13, 'ManagementSalary': 0.0}), (124, {'Department': 16, 'ManagementSalary': 0.0}), (125, {'Department': 16, 'ManagementSalary': 0.0}), (126, {'Department': 22, 'ManagementSalary': 0.0}), (127, {'Department': 6, 'ManagementSalary': 0.0}), (128, {'Department': 5, 'ManagementSalary': 1.0}), (129, {'Department': 4, 'ManagementSalary': 1.0}), (130, {'Department': 0, 'ManagementSalary': 0.0}), (131, {'Department': 28, 'ManagementSalary': 1.0}), (132, {'Department': 28, 'ManagementSalary': 1.0}), (133, {'Department': 4, 'ManagementSalary': 1.0}), (134, {'Department': 2, 'ManagementSalary': 0.0}), (135, {'Department': 13, 'ManagementSalary': 1.0}), (136, {'Department': 13, 'ManagementSalary': 1.0}), (137, {'Department': 21, 'ManagementSalary': 1.0}), (138, {'Department': 21, 'ManagementSalary': 1.0}), (139, {'Department': 17, 'ManagementSalary': 0.0}), (140, {'Department': 17, 'ManagementSalary': 0.0}), (141, {'Department': 14, 'ManagementSalary': nan}), (142, {'Department': 36, 'ManagementSalary': nan}), (143, {'Department': 8, 'ManagementSalary': 0.0}), (144, {'Department': 40, 'ManagementSalary': nan}), (145, {'Department': 35, 'ManagementSalary': nan}), (146, {'Department': 15, 'ManagementSalary': 0.0}), (147, {'Department': 23, 'ManagementSalary': 1.0}), (148, {'Department': 0, 'ManagementSalary': 0.0}), (149, {'Department': 0, 'ManagementSalary': 0.0}), (150, {'Department': 7, 'ManagementSalary': nan}), (151, {'Department': 10, 'ManagementSalary': 1.0}), (152, {'Department': 37, 'ManagementSalary': 0.0}), (153, {'Department': 27, 'ManagementSalary': 1.0}), (154, {'Department': 35, 'ManagementSalary': nan}), (155, {'Department': 35, 'ManagementSalary': 0.0}), (156, {'Department': 0, 'ManagementSalary': 0.0}), (157, {'Department': 0, 'ManagementSalary': 0.0}), (158, {'Department': 19, 'ManagementSalary': nan}), (159, {'Department': 19, 'ManagementSalary': 0.0}), (160, {'Department': 36, 'ManagementSalary': 1.0}), (161, {'Department': 14, 'ManagementSalary': 0.0}), (162, {'Department': 37, 'ManagementSalary': 0.0}), (163, {'Department': 24, 'ManagementSalary': 0.0}), (164, {'Department': 17, 'ManagementSalary': 0.0}), (165, {'Department': 13, 'ManagementSalary': 1.0}), (166, {'Department': 36, 'ManagementSalary': 1.0}), (167, {'Department': 4, 'ManagementSalary': 0.0}), (168, {'Department': 4, 'ManagementSalary': 0.0}), (169, {'Department': 13, 'ManagementSalary': 0.0}), (170, {'Department': 13, 'ManagementSalary': 1.0}), (171, {'Department': 10, 'ManagementSalary': 1.0}), (172, {'Department': 4, 'ManagementSalary': 0.0}), (173, {'Department': 38, 'ManagementSalary': 0.0}), (174, {'Department': 32, 'ManagementSalary': 0.0}), (175, {'Department': 32, 'ManagementSalary': nan}), (176, {'Department': 4, 'ManagementSalary': 0.0}), (177, {'Department': 1, 'ManagementSalary': 0.0}), (178, {'Department': 0, 'ManagementSalary': 0.0}), (179, {'Department': 0, 'ManagementSalary': 0.0}), (180, {'Department': 0, 'ManagementSalary': 0.0}), (181, {'Department': 7, 'ManagementSalary': nan}), (182, {'Department': 7, 'ManagementSalary': 0.0}), (183, {'Department': 4, 'ManagementSalary': 1.0}), (184, {'Department': 15, 'ManagementSalary': 0.0}), (185, {'Department': 16, 'ManagementSalary': 0.0}), (186, {'Department': 40, 'ManagementSalary': 0.0}), (187, {'Department': 15, 'ManagementSalary': 1.0}), (188, {'Department': 15, 'ManagementSalary': 0.0}), (189, {'Department': 15, 'ManagementSalary': 1.0}), (190, {'Department': 15, 'ManagementSalary': 0.0}), (191, {'Department': 0, 'ManagementSalary': 1.0}), (192, {'Department': 21, 'ManagementSalary': 0.0}), (193, {'Department': 21, 'ManagementSalary': nan}), (194, {'Department': 21, 'ManagementSalary': 0.0}), (195, {'Department': 21, 'ManagementSalary': 0.0}), (196, {'Department': 5, 'ManagementSalary': nan}), (197, {'Department': 4, 'ManagementSalary': 1.0}), (198, {'Department': 4, 'ManagementSalary': 1.0}), (199, {'Department': 4, 'ManagementSalary': 0.0}), (200, {'Department': 4, 'ManagementSalary': nan}), (201, {'Department': 4, 'ManagementSalary': 1.0}), (202, {'Department': 4, 'ManagementSalary': nan}), (203, {'Department': 4, 'ManagementSalary': 0.0}), (204, {'Department': 5, 'ManagementSalary': nan}), (205, {'Department': 5, 'ManagementSalary': 0.0}), (206, {'Department': 4, 'ManagementSalary': 0.0}), (207, {'Department': 4, 'ManagementSalary': 0.0}), (208, {'Department': 22, 'ManagementSalary': 0.0}), (209, {'Department': 19, 'ManagementSalary': 1.0}), (210, {'Department': 19, 'ManagementSalary': 1.0}), (211, {'Department': 22, 'ManagementSalary': 1.0}), (212, {'Department': 34, 'ManagementSalary': 0.0}), (213, {'Department': 14, 'ManagementSalary': 0.0}), (214, {'Department': 0, 'ManagementSalary': nan}), (215, {'Department': 1, 'ManagementSalary': nan}), (216, {'Department': 17, 'ManagementSalary': 0.0}), (217, {'Department': 37, 'ManagementSalary': 0.0}), (218, {'Department': 1, 'ManagementSalary': 0.0}), (219, {'Department': 1, 'ManagementSalary': 0.0}), (220, {'Department': 1, 'ManagementSalary': 0.0}), (221, {'Department': 1, 'ManagementSalary': 0.0}), (222, {'Department': 1, 'ManagementSalary': 0.0}), (223, {'Department': 1, 'ManagementSalary': 0.0}), (224, {'Department': 1, 'ManagementSalary': 0.0}), (225, {'Department': 1, 'ManagementSalary': 0.0}), (226, {'Department': 1, 'ManagementSalary': 0.0}), (227, {'Department': 1, 'ManagementSalary': 0.0}), (228, {'Department': 1, 'ManagementSalary': 0.0}), (229, {'Department': 10, 'ManagementSalary': 0.0}), (230, {'Department': 23, 'ManagementSalary': nan}), (231, {'Department': 0, 'ManagementSalary': nan}), (232, {'Department': 4, 'ManagementSalary': 1.0}), (233, {'Department': 19, 'ManagementSalary': 0.0}), (234, {'Department': 19, 'ManagementSalary': 0.0}), (235, {'Department': 19, 'ManagementSalary': 0.0}), (236, {'Department': 19, 'ManagementSalary': nan}), (237, {'Department': 19, 'ManagementSalary': 0.0}), (238, {'Department': 19, 'ManagementSalary': 0.0}), (239, {'Department': 19, 'ManagementSalary': nan}), (240, {'Department': 19, 'ManagementSalary': nan}), (241, {'Department': 19, 'ManagementSalary': 0.0}), (242, {'Department': 19, 'ManagementSalary': 0.0}), (243, {'Department': 19, 'ManagementSalary': 0.0}), (244, {'Department': 19, 'ManagementSalary': 0.0}), (245, {'Department': 10, 'ManagementSalary': 0.0}), (246, {'Department': 14, 'ManagementSalary': 0.0}), (247, {'Department': 14, 'ManagementSalary': nan}), (248, {'Department': 1, 'ManagementSalary': 0.0}), (249, {'Department': 14, 'ManagementSalary': nan}), (250, {'Department': 7, 'ManagementSalary': 0.0}), (251, {'Department': 13, 'ManagementSalary': nan}), (252, {'Department': 20, 'ManagementSalary': nan}), (253, {'Department': 31, 'ManagementSalary': nan}), (254, {'Department': 40, 'ManagementSalary': 0.0}), (255, {'Department': 6, 'ManagementSalary': nan}), (256, {'Department': 4, 'ManagementSalary': 0.0}), (257, {'Department': 0, 'ManagementSalary': 0.0}), (258, {'Department': 8, 'ManagementSalary': 0.0}), (259, {'Department': 9, 'ManagementSalary': 0.0}), (260, {'Department': 9, 'ManagementSalary': 0.0}), (261, {'Department': 10, 'ManagementSalary': nan}), (262, {'Department': 0, 'ManagementSalary': nan}), (263, {'Department': 10, 'ManagementSalary': 0.0}), (264, {'Department': 14, 'ManagementSalary': nan}), (265, {'Department': 14, 'ManagementSalary': 0.0}), (266, {'Department': 14, 'ManagementSalary': nan}), (267, {'Department': 14, 'ManagementSalary': nan}), (268, {'Department': 39, 'ManagementSalary': 0.0}), (269, {'Department': 17, 'ManagementSalary': 1.0}), (270, {'Department': 4, 'ManagementSalary': nan}), (271, {'Department': 28, 'ManagementSalary': nan}), (272, {'Department': 17, 'ManagementSalary': nan}), (273, {'Department': 17, 'ManagementSalary': 0.0}), (274, {'Department': 17, 'ManagementSalary': 0.0}), (275, {'Department': 4, 'ManagementSalary': 0.0}), (276, {'Department': 4, 'ManagementSalary': 0.0}), (277, {'Department': 0, 'ManagementSalary': 0.0}), (278, {'Department': 0, 'ManagementSalary': nan}), (279, {'Department': 23, 'ManagementSalary': nan}), (280, {'Department': 4, 'ManagementSalary': 1.0}), (281, {'Department': 21, 'ManagementSalary': 1.0}), (282, {'Department': 36, 'ManagementSalary': 1.0}), (283, {'Department': 36, 'ManagementSalary': nan}), (284, {'Department': 0, 'ManagementSalary': 0.0}), (285, {'Department': 22, 'ManagementSalary': 1.0}), (286, {'Department': 21, 'ManagementSalary': 0.0}), (287, {'Department': 15, 'ManagementSalary': 0.0}), (288, {'Department': 37, 'ManagementSalary': 0.0}), (289, {'Department': 0, 'ManagementSalary': 0.0}), (290, {'Department': 4, 'ManagementSalary': 1.0}), (291, {'Department': 4, 'ManagementSalary': 0.0}), (292, {'Department': 4, 'ManagementSalary': 1.0}), (293, {'Department': 14, 'ManagementSalary': 0.0}), (294, {'Department': 4, 'ManagementSalary': nan}), (295, {'Department': 7, 'ManagementSalary': nan}), (296, {'Department': 7, 'ManagementSalary': 0.0}), (297, {'Department': 1, 'ManagementSalary': 0.0}), (298, {'Department': 15, 'ManagementSalary': nan}), (299, {'Department': 15, 'ManagementSalary': nan}), (300, {'Department': 38, 'ManagementSalary': 0.0}), (301, {'Department': 26, 'ManagementSalary': 1.0}), (302, {'Department': 20, 'ManagementSalary': 0.0}), (303, {'Department': 20, 'ManagementSalary': 0.0}), (304, {'Department': 20, 'ManagementSalary': 0.0}), (305, {'Department': 21, 'ManagementSalary': 0.0}), (306, {'Department': 9, 'ManagementSalary': nan}), (307, {'Department': 1, 'ManagementSalary': 0.0}), (308, {'Department': 1, 'ManagementSalary': nan}), (309, {'Department': 1, 'ManagementSalary': 0.0}), (310, {'Department': 1, 'ManagementSalary': nan}), (311, {'Department': 1, 'ManagementSalary': nan}), (312, {'Department': 1, 'ManagementSalary': nan}), (313, {'Department': 1, 'ManagementSalary': 0.0}), (314, {'Department': 1, 'ManagementSalary': 0.0}), (315, {'Department': 1, 'ManagementSalary': nan}), (316, {'Department': 1, 'ManagementSalary': nan}), (317, {'Department': 1, 'ManagementSalary': nan}), (318, {'Department': 10, 'ManagementSalary': 1.0}), (319, {'Department': 19, 'ManagementSalary': nan}), (320, {'Department': 7, 'ManagementSalary': nan}), (321, {'Department': 7, 'ManagementSalary': 0.0}), (322, {'Department': 17, 'ManagementSalary': 0.0}), (323, {'Department': 16, 'ManagementSalary': 0.0}), (324, {'Department': 14, 'ManagementSalary': 0.0}), (325, {'Department': 9, 'ManagementSalary': 0.0}), (326, {'Department': 9, 'ManagementSalary': 0.0}), (327, {'Department': 9, 'ManagementSalary': 1.0}), (328, {'Department': 8, 'ManagementSalary': 0.0}), (329, {'Department': 8, 'ManagementSalary': 1.0}), (330, {'Department': 13, 'ManagementSalary': 0.0}), (331, {'Department': 39, 'ManagementSalary': nan}), (332, {'Department': 14, 'ManagementSalary': 0.0}), (333, {'Department': 10, 'ManagementSalary': 1.0}), (334, {'Department': 17, 'ManagementSalary': 0.0}), (335, {'Department': 17, 'ManagementSalary': 0.0}), (336, {'Department': 13, 'ManagementSalary': 0.0}), (337, {'Department': 13, 'ManagementSalary': 1.0}), (338, {'Department': 13, 'ManagementSalary': 0.0}), (339, {'Department': 13, 'ManagementSalary': 0.0}), (340, {'Department': 2, 'ManagementSalary': 1.0}), (341, {'Department': 1, 'ManagementSalary': 0.0}), (342, {'Department': 0, 'ManagementSalary': nan}), (343, {'Department': 0, 'ManagementSalary': 0.0}), (344, {'Department': 0, 'ManagementSalary': 0.0}), (345, {'Department': 0, 'ManagementSalary': 0.0}), (346, {'Department': 0, 'ManagementSalary': 0.0}), (347, {'Department': 0, 'ManagementSalary': 0.0}), (348, {'Department': 0, 'ManagementSalary': 0.0}), (349, {'Department': 0, 'ManagementSalary': 0.0}), (350, {'Department': 0, 'ManagementSalary': 0.0}), (351, {'Department': 0, 'ManagementSalary': nan}), (352, {'Department': 0, 'ManagementSalary': nan}), (353, {'Department': 16, 'ManagementSalary': 0.0}), (354, {'Department': 16, 'ManagementSalary': 0.0}), (355, {'Department': 27, 'ManagementSalary': 1.0}), (356, {'Department': 8, 'ManagementSalary': nan}), (357, {'Department': 8, 'ManagementSalary': 0.0}), (358, {'Department': 14, 'ManagementSalary': 0.0}), (359, {'Department': 14, 'ManagementSalary': 0.0}), (360, {'Department': 14, 'ManagementSalary': 0.0}), (361, {'Department': 10, 'ManagementSalary': 1.0}), (362, {'Department': 14, 'ManagementSalary': nan}), (363, {'Department': 35, 'ManagementSalary': nan}), (364, {'Department': 37, 'ManagementSalary': 0.0}), (365, {'Department': 14, 'ManagementSalary': 0.0}), (366, {'Department': 36, 'ManagementSalary': nan}), (367, {'Department': 10, 'ManagementSalary': nan}), (368, {'Department': 7, 'ManagementSalary': 0.0}), (369, {'Department': 20, 'ManagementSalary': 0.0}), (370, {'Department': 10, 'ManagementSalary': 0.0}), (371, {'Department': 16, 'ManagementSalary': 0.0}), (372, {'Department': 36, 'ManagementSalary': nan}), (373, {'Department': 36, 'ManagementSalary': 0.0}), (374, {'Department': 14, 'ManagementSalary': 0.0}), (375, {'Department': 8, 'ManagementSalary': 0.0}), (376, {'Department': 7, 'ManagementSalary': 1.0}), (377, {'Department': 7, 'ManagementSalary': 1.0}), (378, {'Department': 7, 'ManagementSalary': 0.0}), (379, {'Department': 7, 'ManagementSalary': 1.0}), (380, {'Department': 7, 'ManagementSalary': nan}), (381, {'Department': 7, 'ManagementSalary': 0.0}), (382, {'Department': 7, 'ManagementSalary': nan}), (383, {'Department': 7, 'ManagementSalary': 0.0}), (384, {'Department': 7, 'ManagementSalary': nan}), (385, {'Department': 7, 'ManagementSalary': nan}), (386, {'Department': 7, 'ManagementSalary': nan}), (387, {'Department': 7, 'ManagementSalary': 0.0}), (388, {'Department': 7, 'ManagementSalary': 1.0}), (389, {'Department': 7, 'ManagementSalary': nan}), (390, {'Department': 7, 'ManagementSalary': 0.0}), (391, {'Department': 7, 'ManagementSalary': 0.0}), (392, {'Department': 7, 'ManagementSalary': 0.0}), (393, {'Department': 7, 'ManagementSalary': 0.0}), (394, {'Department': 7, 'ManagementSalary': 0.0}), (395, {'Department': 7, 'ManagementSalary': nan}), (396, {'Department': 7, 'ManagementSalary': 0.0}), (397, {'Department': 7, 'ManagementSalary': 1.0}), (398, {'Department': 7, 'ManagementSalary': 0.0}), (399, {'Department': 4, 'ManagementSalary': nan}), (400, {'Department': 9, 'ManagementSalary': 0.0}), (401, {'Department': 4, 'ManagementSalary': 0.0}), (402, {'Department': 0, 'ManagementSalary': nan}), (403, {'Department': 4, 'ManagementSalary': 0.0}), (404, {'Department': 16, 'ManagementSalary': 0.0}), (405, {'Department': 38, 'ManagementSalary': 1.0}), (406, {'Department': 14, 'ManagementSalary': nan}), (407, {'Department': 14, 'ManagementSalary': 0.0}), (408, {'Department': 21, 'ManagementSalary': nan}), (409, {'Department': 26, 'ManagementSalary': nan}), (410, {'Department': 27, 'ManagementSalary': 0.0}), (411, {'Department': 28, 'ManagementSalary': 1.0}), (412, {'Department': 21, 'ManagementSalary': nan}), (413, {'Department': 4, 'ManagementSalary': 0.0}), (414, {'Department': 1, 'ManagementSalary': 1.0}), (415, {'Department': 1, 'ManagementSalary': 0.0}), (416, {'Department': 9, 'ManagementSalary': 0.0}), (417, {'Department': 10, 'ManagementSalary': 1.0}), (418, {'Department': 15, 'ManagementSalary': 1.0}), (419, {'Department': 4, 'ManagementSalary': 1.0}), (420, {'Department': 26, 'ManagementSalary': nan}), (421, {'Department': 14, 'ManagementSalary': 0.0}), (422, {'Department': 35, 'ManagementSalary': 0.0}), (423, {'Department': 10, 'ManagementSalary': 1.0}), (424, {'Department': 34, 'ManagementSalary': 1.0}), (425, {'Department': 4, 'ManagementSalary': 0.0}), (426, {'Department': 4, 'ManagementSalary': 0.0}), (427, {'Department': 12, 'ManagementSalary': 0.0}), (428, {'Department': 17, 'ManagementSalary': 0.0}), (429, {'Department': 17, 'ManagementSalary': 0.0}), (430, {'Department': 14, 'ManagementSalary': 0.0}), (431, {'Department': 37, 'ManagementSalary': 0.0}), (432, {'Department': 37, 'ManagementSalary': 1.0}), (433, {'Department': 37, 'ManagementSalary': 0.0}), (434, {'Department': 34, 'ManagementSalary': nan}), (435, {'Department': 6, 'ManagementSalary': nan}), (436, {'Department': 13, 'ManagementSalary': 0.0}), (437, {'Department': 13, 'ManagementSalary': 0.0}), (438, {'Department': 13, 'ManagementSalary': 0.0}), (439, {'Department': 13, 'ManagementSalary': 0.0}), (440, {'Department': 4, 'ManagementSalary': 0.0}), (441, {'Department': 14, 'ManagementSalary': 0.0}), (442, {'Department': 10, 'ManagementSalary': 0.0}), (443, {'Department': 10, 'ManagementSalary': nan}), (444, {'Department': 10, 'ManagementSalary': 1.0}), (445, {'Department': 3, 'ManagementSalary': 0.0}), (446, {'Department': 17, 'ManagementSalary': 1.0}), (447, {'Department': 17, 'ManagementSalary': nan}), (448, {'Department': 17, 'ManagementSalary': 0.0}), (449, {'Department': 1, 'ManagementSalary': 0.0}), (450, {'Department': 4, 'ManagementSalary': 0.0}), (451, {'Department': 14, 'ManagementSalary': nan}), (452, {'Department': 14, 'ManagementSalary': 0.0}), (453, {'Department': 6, 'ManagementSalary': 1.0}), (454, {'Department': 27, 'ManagementSalary': 1.0}), (455, {'Department': 22, 'ManagementSalary': 0.0}), (456, {'Department': 21, 'ManagementSalary': nan}), (457, {'Department': 4, 'ManagementSalary': nan}), (458, {'Department': 4, 'ManagementSalary': nan}), (459, {'Department': 1, 'ManagementSalary': 0.0}), (460, {'Department': 34, 'ManagementSalary': 0.0}), (461, {'Department': 17, 'ManagementSalary': 0.0}), (462, {'Department': 30, 'ManagementSalary': 1.0}), (463, {'Department': 30, 'ManagementSalary': 0.0}), (464, {'Department': 4, 'ManagementSalary': 0.0}), (465, {'Department': 23, 'ManagementSalary': nan}), (466, {'Department': 14, 'ManagementSalary': nan}), (467, {'Department': 15, 'ManagementSalary': 0.0}), (468, {'Department': 1, 'ManagementSalary': 0.0}), (469, {'Department': 22, 'ManagementSalary': 0.0}), (470, {'Department': 12, 'ManagementSalary': 0.0}), (471, {'Department': 31, 'ManagementSalary': nan}), (472, {'Department': 6, 'ManagementSalary': 0.0}), (473, {'Department': 15, 'ManagementSalary': 0.0}), (474, {'Department': 15, 'ManagementSalary': 0.0}), (475, {'Department': 8, 'ManagementSalary': 0.0}), (476, {'Department': 15, 'ManagementSalary': 0.0}), (477, {'Department': 8, 'ManagementSalary': nan}), (478, {'Department': 8, 'ManagementSalary': 0.0}), (479, {'Department': 1, 'ManagementSalary': 0.0}), (480, {'Department': 15, 'ManagementSalary': 0.0}), (481, {'Department': 22, 'ManagementSalary': 1.0}), (482, {'Department': 2, 'ManagementSalary': nan}), (483, {'Department': 3, 'ManagementSalary': nan}), (484, {'Department': 4, 'ManagementSalary': nan}), (485, {'Department': 10, 'ManagementSalary': nan}), (486, {'Department': 4, 'ManagementSalary': 0.0}), (487, {'Department': 14, 'ManagementSalary': nan}), (488, {'Department': 14, 'ManagementSalary': 0.0}), (489, {'Department': 25, 'ManagementSalary': 1.0}), (490, {'Department': 6, 'ManagementSalary': 0.0}), (491, {'Department': 6, 'ManagementSalary': 0.0}), (492, {'Department': 40, 'ManagementSalary': nan}), (493, {'Department': 4, 'ManagementSalary': 1.0}), (494, {'Department': 36, 'ManagementSalary': nan}), (495, {'Department': 23, 'ManagementSalary': 1.0}), (496, {'Department': 14, 'ManagementSalary': nan}), (497, {'Department': 3, 'ManagementSalary': 0.0}), (498, {'Department': 14, 'ManagementSalary': 1.0}), (499, {'Department': 14, 'ManagementSalary': 0.0}), (500, {'Department': 14, 'ManagementSalary': nan}), (501, {'Department': 14, 'ManagementSalary': 0.0}), (502, {'Department': 14, 'ManagementSalary': 0.0}), (503, {'Department': 14, 'ManagementSalary': nan}), (504, {'Department': 14, 'ManagementSalary': 0.0}), (505, {'Department': 14, 'ManagementSalary': nan}), (506, {'Department': 14, 'ManagementSalary': 0.0}), (507, {'Department': 31, 'ManagementSalary': 0.0}), (508, {'Department': 15, 'ManagementSalary': 0.0}), (509, {'Department': 15, 'ManagementSalary': 1.0}), (510, {'Department': 14, 'ManagementSalary': 0.0}), (511, {'Department': 0, 'ManagementSalary': 0.0}), (512, {'Department': 23, 'ManagementSalary': 0.0}), (513, {'Department': 35, 'ManagementSalary': nan}), (514, {'Department': 8, 'ManagementSalary': 0.0}), (515, {'Department': 4, 'ManagementSalary': 0.0}), (516, {'Department': 1, 'ManagementSalary': nan}), (517, {'Department': 1, 'ManagementSalary': 0.0}), (518, {'Department': 35, 'ManagementSalary': nan}), (519, {'Department': 23, 'ManagementSalary': 0.0}), (520, {'Department': 21, 'ManagementSalary': nan}), (521, {'Department': 2, 'ManagementSalary': 0.0}), (522, {'Department': 4, 'ManagementSalary': nan}), (523, {'Department': 4, 'ManagementSalary': 0.0}), (524, {'Department': 9, 'ManagementSalary': nan}), (525, {'Department': 14, 'ManagementSalary': 0.0}), (526, {'Department': 4, 'ManagementSalary': 0.0}), (527, {'Department': 10, 'ManagementSalary': 1.0}), (528, {'Department': 25, 'ManagementSalary': 0.0}), (529, {'Department': 14, 'ManagementSalary': nan}), (530, {'Department': 14, 'ManagementSalary': nan}), (531, {'Department': 3, 'ManagementSalary': nan}), (532, {'Department': 21, 'ManagementSalary': 0.0}), (533, {'Department': 35, 'ManagementSalary': nan}), (534, {'Department': 4, 'ManagementSalary': 0.0}), (535, {'Department': 9, 'ManagementSalary': 0.0}), (536, {'Department': 15, 'ManagementSalary': 0.0}), (537, {'Department': 6, 'ManagementSalary': 0.0}), (538, {'Department': 9, 'ManagementSalary': nan}), (539, {'Department': 3, 'ManagementSalary': 0.0}), (540, {'Department': 15, 'ManagementSalary': 0.0}), (541, {'Department': 23, 'ManagementSalary': 0.0}), (542, {'Department': 4, 'ManagementSalary': 0.0}), (543, {'Department': 4, 'ManagementSalary': 1.0}), (544, {'Department': 4, 'ManagementSalary': 0.0}), (545, {'Department': 11, 'ManagementSalary': nan}), (546, {'Department': 35, 'ManagementSalary': 1.0}), (547, {'Department': 10, 'ManagementSalary': 0.0}), (548, {'Department': 6, 'ManagementSalary': 1.0}), (549, {'Department': 15, 'ManagementSalary': 0.0}), (550, {'Department': 15, 'ManagementSalary': 1.0}), (551, {'Department': 15, 'ManagementSalary': 0.0}), (552, {'Department': 22, 'ManagementSalary': 1.0}), (553, {'Department': 2, 'ManagementSalary': 0.0}), (554, {'Department': 2, 'ManagementSalary': 0.0}), (555, {'Department': 14, 'ManagementSalary': 0.0}), (556, {'Department': 4, 'ManagementSalary': 0.0}), (557, {'Department': 3, 'ManagementSalary': nan}), (558, {'Department': 14, 'ManagementSalary': 0.0}), (559, {'Department': 27, 'ManagementSalary': 0.0}), (560, {'Department': 31, 'ManagementSalary': 1.0}), (561, {'Department': 34, 'ManagementSalary': 0.0}), (562, {'Department': 4, 'ManagementSalary': 0.0}), (563, {'Department': 4, 'ManagementSalary': 0.0}), (564, {'Department': 19, 'ManagementSalary': 0.0}), (565, {'Department': 14, 'ManagementSalary': 0.0}), (566, {'Department': 14, 'ManagementSalary': 0.0}), (567, {'Department': 4, 'ManagementSalary': 0.0}), (568, {'Department': 4, 'ManagementSalary': 0.0}), (569, {'Department': 14, 'ManagementSalary': 0.0}), (570, {'Department': 14, 'ManagementSalary': 0.0}), (571, {'Department': 21, 'ManagementSalary': nan}), (572, {'Department': 4, 'ManagementSalary': 0.0}), (573, {'Department': 14, 'ManagementSalary': 1.0}), (574, {'Department': 4, 'ManagementSalary': 0.0}), (575, {'Department': 0, 'ManagementSalary': 0.0}), (576, {'Department': 4, 'ManagementSalary': 0.0}), (577, {'Department': 27, 'ManagementSalary': 0.0}), (578, {'Department': 27, 'ManagementSalary': nan}), (579, {'Department': 17, 'ManagementSalary': 0.0}), (580, {'Department': 16, 'ManagementSalary': 0.0}), (581, {'Department': 3, 'ManagementSalary': 0.0}), (582, {'Department': 15, 'ManagementSalary': nan}), (583, {'Department': 2, 'ManagementSalary': nan}), (584, {'Department': 4, 'ManagementSalary': 0.0}), (585, {'Department': 4, 'ManagementSalary': 0.0}), (586, {'Department': 21, 'ManagementSalary': 0.0}), (587, {'Department': 21, 'ManagementSalary': 0.0}), (588, {'Department': 11, 'ManagementSalary': 0.0}), (589, {'Department': 23, 'ManagementSalary': 0.0}), (590, {'Department': 11, 'ManagementSalary': 0.0}), (591, {'Department': 23, 'ManagementSalary': 0.0}), (592, {'Department': 17, 'ManagementSalary': 0.0}), (593, {'Department': 5, 'ManagementSalary': 0.0}), (594, {'Department': 36, 'ManagementSalary': 1.0}), (595, {'Department': 15, 'ManagementSalary': 0.0}), (596, {'Department': 23, 'ManagementSalary': 0.0}), (597, {'Department': 23, 'ManagementSalary': 0.0}), (598, {'Department': 2, 'ManagementSalary': 0.0}), (599, {'Department': 19, 'ManagementSalary': 0.0}), (600, {'Department': 4, 'ManagementSalary': 0.0}), (601, {'Department': 36, 'ManagementSalary': 0.0}), (602, {'Department': 14, 'ManagementSalary': nan}), (603, {'Department': 1, 'ManagementSalary': 0.0}), (604, {'Department': 22, 'ManagementSalary': nan}), (605, {'Department': 1, 'ManagementSalary': nan}), (606, {'Department': 21, 'ManagementSalary': 0.0}), (607, {'Department': 34, 'ManagementSalary': 0.0}), (608, {'Department': 14, 'ManagementSalary': 0.0}), (609, {'Department': 13, 'ManagementSalary': 0.0}), (610, {'Department': 6, 'ManagementSalary': 0.0}), (611, {'Department': 4, 'ManagementSalary': 0.0}), (612, {'Department': 37, 'ManagementSalary': nan}), (613, {'Department': 6, 'ManagementSalary': nan}), (614, {'Department': 24, 'ManagementSalary': 0.0}), (615, {'Department': 35, 'ManagementSalary': nan}), (616, {'Department': 6, 'ManagementSalary': 0.0}), (617, {'Department': 17, 'ManagementSalary': 0.0}), (618, {'Department': 16, 'ManagementSalary': 0.0}), (619, {'Department': 6, 'ManagementSalary': 0.0}), (620, {'Department': 4, 'ManagementSalary': 0.0}), (621, {'Department': 0, 'ManagementSalary': 0.0}), (622, {'Department': 21, 'ManagementSalary': 0.0}), (623, {'Department': 4, 'ManagementSalary': 0.0}), (624, {'Department': 26, 'ManagementSalary': 0.0}), (625, {'Department': 21, 'ManagementSalary': nan}), (626, {'Department': 4, 'ManagementSalary': 0.0}), (627, {'Department': 15, 'ManagementSalary': 0.0}), (628, {'Department': 7, 'ManagementSalary': 0.0}), (629, {'Department': 1, 'ManagementSalary': 0.0}), (630, {'Department': 20, 'ManagementSalary': 0.0}), (631, {'Department': 19, 'ManagementSalary': 0.0}), (632, {'Department': 7, 'ManagementSalary': 0.0}), (633, {'Department': 21, 'ManagementSalary': 0.0}), (634, {'Department': 21, 'ManagementSalary': 0.0}), (635, {'Department': 21, 'ManagementSalary': 0.0}), (636, {'Department': 21, 'ManagementSalary': nan}), (637, {'Department': 19, 'ManagementSalary': 0.0}), (638, {'Department': 38, 'ManagementSalary': 0.0}), (639, {'Department': 19, 'ManagementSalary': 0.0}), (640, {'Department': 16, 'ManagementSalary': nan}), (641, {'Department': 23, 'ManagementSalary': nan}), (642, {'Department': 6, 'ManagementSalary': 0.0}), (643, {'Department': 37, 'ManagementSalary': 0.0}), (644, {'Department': 25, 'ManagementSalary': 0.0}), (645, {'Department': 1, 'ManagementSalary': 0.0}), (646, {'Department': 22, 'ManagementSalary': nan}), (647, {'Department': 6, 'ManagementSalary': nan}), (648, {'Department': 21, 'ManagementSalary': 0.0}), (649, {'Department': 14, 'ManagementSalary': 0.0}), (650, {'Department': 1, 'ManagementSalary': 0.0}), (651, {'Department': 26, 'ManagementSalary': nan}), (652, {'Department': 8, 'ManagementSalary': 0.0}), (653, {'Department': 7, 'ManagementSalary': 0.0}), (654, {'Department': 37, 'ManagementSalary': 0.0}), (655, {'Department': 4, 'ManagementSalary': nan}), (656, {'Department': 0, 'ManagementSalary': nan}), (657, {'Department': 17, 'ManagementSalary': 0.0}), (658, {'Department': 14, 'ManagementSalary': 0.0}), (659, {'Department': 6, 'ManagementSalary': 0.0}), (660, {'Department': 17, 'ManagementSalary': 0.0}), (661, {'Department': 14, 'ManagementSalary': 0.0}), (662, {'Department': 16, 'ManagementSalary': 0.0}), (663, {'Department': 15, 'ManagementSalary': 0.0}), (664, {'Department': 4, 'ManagementSalary': nan}), (665, {'Department': 32, 'ManagementSalary': 0.0}), (666, {'Department': 14, 'ManagementSalary': nan}), (667, {'Department': 15, 'ManagementSalary': 0.0}), (668, {'Department': 0, 'ManagementSalary': 0.0}), (669, {'Department': 23, 'ManagementSalary': nan}), (670, {'Department': 21, 'ManagementSalary': nan}), (671, {'Department': 29, 'ManagementSalary': nan}), (672, {'Department': 14, 'ManagementSalary': 0.0}), (673, {'Department': 23, 'ManagementSalary': 0.0}), (674, {'Department': 14, 'ManagementSalary': 0.0}), (675, {'Department': 1, 'ManagementSalary': 0.0}), (676, {'Department': 17, 'ManagementSalary': nan}), (677, {'Department': 26, 'ManagementSalary': 0.0}), (678, {'Department': 15, 'ManagementSalary': nan}), (679, {'Department': 29, 'ManagementSalary': 0.0}), (680, {'Department': 0, 'ManagementSalary': 0.0}), (681, {'Department': 0, 'ManagementSalary': 0.0}), (682, {'Department': 0, 'ManagementSalary': nan}), (683, {'Department': 22, 'ManagementSalary': nan}), (684, {'Department': 34, 'ManagementSalary': 0.0}), (685, {'Department': 21, 'ManagementSalary': nan}), (686, {'Department': 6, 'ManagementSalary': 0.0}), (687, {'Department': 16, 'ManagementSalary': 0.0}), (688, {'Department': 4, 'ManagementSalary': 0.0}), (689, {'Department': 4, 'ManagementSalary': 0.0}), (690, {'Department': 15, 'ManagementSalary': 0.0}), (691, {'Department': 21, 'ManagementSalary': nan}), (692, {'Department': 0, 'ManagementSalary': 0.0}), (693, {'Department': 36, 'ManagementSalary': 0.0}), (694, {'Department': 4, 'ManagementSalary': 0.0}), (695, {'Department': 23, 'ManagementSalary': 0.0}), (696, {'Department': 1, 'ManagementSalary': 0.0}), (697, {'Department': 1, 'ManagementSalary': 0.0}), (698, {'Department': 22, 'ManagementSalary': 0.0}), (699, {'Department': 14, 'ManagementSalary': 0.0}), (700, {'Department': 14, 'ManagementSalary': 0.0}), (701, {'Department': 30, 'ManagementSalary': 0.0}), (702, {'Department': 4, 'ManagementSalary': 0.0}), (703, {'Department': 9, 'ManagementSalary': 0.0}), (704, {'Department': 10, 'ManagementSalary': 0.0}), (705, {'Department': 4, 'ManagementSalary': 0.0}), (706, {'Department': 4, 'ManagementSalary': 0.0}), (707, {'Department': 14, 'ManagementSalary': 0.0}), (708, {'Department': 16, 'ManagementSalary': nan}), (709, {'Department': 16, 'ManagementSalary': 0.0}), (710, {'Department': 15, 'ManagementSalary': nan}), (711, {'Department': 21, 'ManagementSalary': 0.0}), (712, {'Department': 0, 'ManagementSalary': 0.0}), (713, {'Department': 15, 'ManagementSalary': nan}), (714, {'Department': 4, 'ManagementSalary': 0.0}), (715, {'Department': 15, 'ManagementSalary': 0.0}), (716, {'Department': 29, 'ManagementSalary': 0.0}), (717, {'Department': 24, 'ManagementSalary': nan}), (718, {'Department': 21, 'ManagementSalary': 0.0}), (719, {'Department': 7, 'ManagementSalary': 0.0}), (720, {'Department': 14, 'ManagementSalary': nan}), (721, {'Department': 11, 'ManagementSalary': 0.0}), (722, {'Department': 11, 'ManagementSalary': 0.0}), (723, {'Department': 9, 'ManagementSalary': 0.0}), (724, {'Department': 13, 'ManagementSalary': 0.0}), (725, {'Department': 10, 'ManagementSalary': nan}), (726, {'Department': 31, 'ManagementSalary': 0.0}), (727, {'Department': 4, 'ManagementSalary': 0.0}), (728, {'Department': 22, 'ManagementSalary': 0.0}), (729, {'Department': 14, 'ManagementSalary': nan}), (730, {'Department': 23, 'ManagementSalary': 0.0}), (731, {'Department': 1, 'ManagementSalary': 0.0}), (732, {'Department': 4, 'ManagementSalary': 0.0}), (733, {'Department': 9, 'ManagementSalary': 0.0}), (734, {'Department': 1, 'ManagementSalary': 0.0}), (735, {'Department': 17, 'ManagementSalary': 0.0}), (736, {'Department': 27, 'ManagementSalary': nan}), (737, {'Department': 28, 'ManagementSalary': 0.0}), (738, {'Department': 22, 'ManagementSalary': nan}), (739, {'Department': 14, 'ManagementSalary': 0.0}), (740, {'Department': 20, 'ManagementSalary': 0.0}), (741, {'Department': 7, 'ManagementSalary': nan}), (742, {'Department': 23, 'ManagementSalary': nan}), (743, {'Department': 1, 'ManagementSalary': nan}), (744, {'Department': 4, 'ManagementSalary': 0.0}), (745, {'Department': 6, 'ManagementSalary': 0.0}), (746, {'Department': 15, 'ManagementSalary': 0.0}), (747, {'Department': 15, 'ManagementSalary': 1.0}), (748, {'Department': 23, 'ManagementSalary': nan}), (749, {'Department': 4, 'ManagementSalary': 0.0}), (750, {'Department': 20, 'ManagementSalary': 0.0}), (751, {'Department': 5, 'ManagementSalary': 0.0}), (752, {'Department': 36, 'ManagementSalary': 0.0}), (753, {'Department': 10, 'ManagementSalary': 0.0}), (754, {'Department': 14, 'ManagementSalary': 0.0}), (755, {'Department': 21, 'ManagementSalary': 0.0}), (756, {'Department': 39, 'ManagementSalary': 0.0}), (757, {'Department': 10, 'ManagementSalary': 0.0}), (758, {'Department': 41, 'ManagementSalary': nan}), (759, {'Department': 31, 'ManagementSalary': 0.0}), (760, {'Department': 17, 'ManagementSalary': nan}), (761, {'Department': 7, 'ManagementSalary': 0.0}), (762, {'Department': 21, 'ManagementSalary': 0.0}), (763, {'Department': 34, 'ManagementSalary': 0.0}), (764, {'Department': 1, 'ManagementSalary': nan}), (765, {'Department': 14, 'ManagementSalary': nan}), (766, {'Department': 2, 'ManagementSalary': nan}), (767, {'Department': 18, 'ManagementSalary': 0.0}), (768, {'Department': 16, 'ManagementSalary': nan}), (769, {'Department': 27, 'ManagementSalary': 0.0}), (770, {'Department': 16, 'ManagementSalary': 0.0}), (771, {'Department': 38, 'ManagementSalary': 0.0}), (772, {'Department': 7, 'ManagementSalary': 0.0}), (773, {'Department': 38, 'ManagementSalary': nan}), (774, {'Department': 21, 'ManagementSalary': 0.0}), (775, {'Department': 1, 'ManagementSalary': 0.0}), (776, {'Department': 5, 'ManagementSalary': nan}), (777, {'Department': 9, 'ManagementSalary': 0.0}), (778, {'Department': 15, 'ManagementSalary': 0.0}), (779, {'Department': 15, 'ManagementSalary': 0.0}), (780, {'Department': 15, 'ManagementSalary': 0.0}), (781, {'Department': 0, 'ManagementSalary': 0.0}), (782, {'Department': 6, 'ManagementSalary': 1.0}), (783, {'Department': 23, 'ManagementSalary': nan}), (784, {'Department': 28, 'ManagementSalary': 0.0}), (785, {'Department': 11, 'ManagementSalary': 0.0}), (786, {'Department': 23, 'ManagementSalary': nan}), (787, {'Department': 34, 'ManagementSalary': nan}), (788, {'Department': 24, 'ManagementSalary': nan}), (789, {'Department': 4, 'ManagementSalary': nan}), (790, {'Department': 4, 'ManagementSalary': 0.0}), (791, {'Department': 4, 'ManagementSalary': 0.0}), (792, {'Department': 24, 'ManagementSalary': 0.0}), (793, {'Department': 23, 'ManagementSalary': 0.0}), (794, {'Department': 17, 'ManagementSalary': 0.0}), (795, {'Department': 10, 'ManagementSalary': 0.0}), (796, {'Department': 17, 'ManagementSalary': 0.0}), (797, {'Department': 1, 'ManagementSalary': 0.0}), (798, {'Department': 1, 'ManagementSalary': nan}), (799, {'Department': 15, 'ManagementSalary': nan}), (800, {'Department': 15, 'ManagementSalary': nan}), (801, {'Department': 4, 'ManagementSalary': 0.0}), (802, {'Department': 4, 'ManagementSalary': 0.0}), (803, {'Department': 21, 'ManagementSalary': 0.0}), (804, {'Department': 14, 'ManagementSalary': 0.0}), (805, {'Department': 14, 'ManagementSalary': 0.0}), (806, {'Department': 20, 'ManagementSalary': 0.0}), (807, {'Department': 28, 'ManagementSalary': 0.0}), (808, {'Department': 20, 'ManagementSalary': nan}), (809, {'Department': 22, 'ManagementSalary': 1.0}), (810, {'Department': 26, 'ManagementSalary': 0.0}), (811, {'Department': 3, 'ManagementSalary': 0.0}), (812, {'Department': 32, 'ManagementSalary': 0.0}), (813, {'Department': 4, 'ManagementSalary': 0.0}), (814, {'Department': 0, 'ManagementSalary': 0.0}), (815, {'Department': 21, 'ManagementSalary': 0.0}), (816, {'Department': 13, 'ManagementSalary': 0.0}), (817, {'Department': 4, 'ManagementSalary': nan}), (818, {'Department': 15, 'ManagementSalary': nan}), (819, {'Department': 17, 'ManagementSalary': nan}), (820, {'Department': 5, 'ManagementSalary': nan}), (821, {'Department': 24, 'ManagementSalary': 1.0}), (822, {'Department': 4, 'ManagementSalary': nan}), (823, {'Department': 14, 'ManagementSalary': 0.0}), (824, {'Department': 0, 'ManagementSalary': 0.0}), (825, {'Department': 9, 'ManagementSalary': nan}), (826, {'Department': 21, 'ManagementSalary': nan}), (827, {'Department': 14, 'ManagementSalary': 0.0}), (828, {'Department': 38, 'ManagementSalary': 1.0}), (829, {'Department': 4, 'ManagementSalary': nan}), (830, {'Department': 14, 'ManagementSalary': 0.0}), (831, {'Department': 31, 'ManagementSalary': 0.0}), (832, {'Department': 21, 'ManagementSalary': 0.0}), (833, {'Department': 14, 'ManagementSalary': 0.0}), (834, {'Department': 6, 'ManagementSalary': 0.0}), (835, {'Department': 4, 'ManagementSalary': 0.0}), (836, {'Department': 4, 'ManagementSalary': 0.0}), (837, {'Department': 6, 'ManagementSalary': nan}), (838, {'Department': 17, 'ManagementSalary': 0.0}), (839, {'Department': 0, 'ManagementSalary': 0.0}), (840, {'Department': 4, 'ManagementSalary': 1.0}), (841, {'Department': 7, 'ManagementSalary': 0.0}), (842, {'Department': 16, 'ManagementSalary': 0.0}), (843, {'Department': 4, 'ManagementSalary': 0.0}), (844, {'Department': 4, 'ManagementSalary': 0.0}), (845, {'Department': 21, 'ManagementSalary': 0.0}), (846, {'Department': 1, 'ManagementSalary': 0.0}), (847, {'Department': 10, 'ManagementSalary': 0.0}), (848, {'Department': 3, 'ManagementSalary': 0.0}), (849, {'Department': 21, 'ManagementSalary': 0.0}), (850, {'Department': 4, 'ManagementSalary': 0.0}), (851, {'Department': 0, 'ManagementSalary': 0.0}), (852, {'Department': 1, 'ManagementSalary': 0.0}), (853, {'Department': 7, 'ManagementSalary': 0.0}), (854, {'Department': 17, 'ManagementSalary': 0.0}), (855, {'Department': 15, 'ManagementSalary': 0.0}), (856, {'Department': 14, 'ManagementSalary': 0.0}), (857, {'Department': 0, 'ManagementSalary': 0.0}), (858, {'Department': 9, 'ManagementSalary': nan}), (859, {'Department': 32, 'ManagementSalary': 1.0}), (860, {'Department': 13, 'ManagementSalary': 0.0}), (861, {'Department': 5, 'ManagementSalary': 0.0}), (862, {'Department': 2, 'ManagementSalary': 0.0}), (863, {'Department': 21, 'ManagementSalary': nan}), (864, {'Department': 28, 'ManagementSalary': nan}), (865, {'Department': 21, 'ManagementSalary': nan}), (866, {'Department': 22, 'ManagementSalary': nan}), (867, {'Department': 22, 'ManagementSalary': nan}), (868, {'Department': 7, 'ManagementSalary': 0.0}), (869, {'Department': 7, 'ManagementSalary': 0.0}), (870, {'Department': 33, 'ManagementSalary': 0.0}), (871, {'Department': 0, 'ManagementSalary': nan}), (872, {'Department': 1, 'ManagementSalary': 0.0}), (873, {'Department': 15, 'ManagementSalary': 0.0}), (874, {'Department': 4, 'ManagementSalary': 0.0}), (875, {'Department': 31, 'ManagementSalary': 0.0}), (876, {'Department': 30, 'ManagementSalary': 0.0}), (877, {'Department': 15, 'ManagementSalary': nan}), (878, {'Department': 11, 'ManagementSalary': 0.0}), (879, {'Department': 19, 'ManagementSalary': nan}), (880, {'Department': 21, 'ManagementSalary': 1.0}), (881, {'Department': 9, 'ManagementSalary': 0.0}), (882, {'Department': 21, 'ManagementSalary': 1.0}), (883, {'Department': 13, 'ManagementSalary': 0.0}), (884, {'Department': 21, 'ManagementSalary': 0.0}), (885, {'Department': 9, 'ManagementSalary': 0.0}), (886, {'Department': 32, 'ManagementSalary': nan}), (887, {'Department': 9, 'ManagementSalary': 0.0}), (888, {'Department': 32, 'ManagementSalary': 0.0}), (889, {'Department': 38, 'ManagementSalary': 0.0}), (890, {'Department': 9, 'ManagementSalary': nan}), (891, {'Department': 38, 'ManagementSalary': 0.0}), (892, {'Department': 38, 'ManagementSalary': nan}), (893, {'Department': 14, 'ManagementSalary': 0.0}), (894, {'Department': 9, 'ManagementSalary': 0.0}), (895, {'Department': 10, 'ManagementSalary': 1.0}), (896, {'Department': 38, 'ManagementSalary': 0.0}), (897, {'Department': 10, 'ManagementSalary': 0.0}), (898, {'Department': 22, 'ManagementSalary': 0.0}), (899, {'Department': 21, 'ManagementSalary': nan}), (900, {'Department': 13, 'ManagementSalary': 0.0}), (901, {'Department': 21, 'ManagementSalary': 0.0}), (902, {'Department': 4, 'ManagementSalary': 0.0}), (903, {'Department': 0, 'ManagementSalary': 0.0}), (904, {'Department': 1, 'ManagementSalary': 0.0}), (905, {'Department': 1, 'ManagementSalary': 0.0}), (906, {'Department': 23, 'ManagementSalary': 0.0}), (907, {'Department': 0, 'ManagementSalary': 0.0}), (908, {'Department': 5, 'ManagementSalary': 0.0}), (909, {'Department': 4, 'ManagementSalary': 0.0}), (910, {'Department': 4, 'ManagementSalary': 0.0}), (911, {'Department': 15, 'ManagementSalary': nan}), (912, {'Department': 14, 'ManagementSalary': nan}), (913, {'Department': 14, 'ManagementSalary': nan}), (914, {'Department': 13, 'ManagementSalary': nan}), (915, {'Department': 11, 'ManagementSalary': nan}), (916, {'Department': 1, 'ManagementSalary': 0.0}), (917, {'Department': 5, 'ManagementSalary': 0.0}), (918, {'Department': 5, 'ManagementSalary': nan}), (919, {'Department': 10, 'ManagementSalary': 0.0}), (920, {'Department': 23, 'ManagementSalary': 0.0}), (921, {'Department': 21, 'ManagementSalary': 0.0}), (922, {'Department': 14, 'ManagementSalary': 0.0}), (923, {'Department': 9, 'ManagementSalary': nan}), (924, {'Department': 20, 'ManagementSalary': 0.0}), (925, {'Department': 10, 'ManagementSalary': 1.0}), (926, {'Department': 19, 'ManagementSalary': nan}), (927, {'Department': 19, 'ManagementSalary': 0.0}), (928, {'Department': 21, 'ManagementSalary': 0.0}), (929, {'Department': 17, 'ManagementSalary': 0.0}), (930, {'Department': 19, 'ManagementSalary': 0.0}), (931, {'Department': 19, 'ManagementSalary': nan}), (932, {'Department': 36, 'ManagementSalary': 0.0}), (933, {'Department': 17, 'ManagementSalary': 0.0}), (934, {'Department': 35, 'ManagementSalary': nan}), (935, {'Department': 16, 'ManagementSalary': 0.0}), (936, {'Department': 4, 'ManagementSalary': 0.0}), (937, {'Department': 16, 'ManagementSalary': 0.0}), (938, {'Department': 4, 'ManagementSalary': 0.0}), (939, {'Department': 6, 'ManagementSalary': nan}), (940, {'Department': 4, 'ManagementSalary': 0.0}), (941, {'Department': 41, 'ManagementSalary': 0.0}), (942, {'Department': 6, 'ManagementSalary': 0.0}), (943, {'Department': 7, 'ManagementSalary': 0.0}), (944, {'Department': 23, 'ManagementSalary': nan}), (945, {'Department': 9, 'ManagementSalary': nan}), (946, {'Department': 23, 'ManagementSalary': 0.0}), (947, {'Department': 7, 'ManagementSalary': nan}), (948, {'Department': 6, 'ManagementSalary': 0.0}), (949, {'Department': 22, 'ManagementSalary': 0.0}), (950, {'Department': 36, 'ManagementSalary': nan}), (951, {'Department': 14, 'ManagementSalary': nan}), (952, {'Department': 15, 'ManagementSalary': 0.0}), (953, {'Department': 11, 'ManagementSalary': nan}), (954, {'Department': 35, 'ManagementSalary': 0.0}), (955, {'Department': 5, 'ManagementSalary': 0.0}), (956, {'Department': 14, 'ManagementSalary': 0.0}), (957, {'Department': 14, 'ManagementSalary': 0.0}), (958, {'Department': 15, 'ManagementSalary': 0.0}), (959, {'Department': 4, 'ManagementSalary': nan}), (960, {'Department': 6, 'ManagementSalary': 0.0}), (961, {'Department': 4, 'ManagementSalary': 0.0}), (962, {'Department': 9, 'ManagementSalary': nan}), (963, {'Department': 19, 'ManagementSalary': nan}), (964, {'Department': 11, 'ManagementSalary': 0.0}), (965, {'Department': 4, 'ManagementSalary': 0.0}), (966, {'Department': 29, 'ManagementSalary': 0.0}), (967, {'Department': 14, 'ManagementSalary': 0.0}), (968, {'Department': 15, 'ManagementSalary': nan}), (969, {'Department': 15, 'ManagementSalary': nan}), (970, {'Department': 5, 'ManagementSalary': 0.0}), (971, {'Department': 32, 'ManagementSalary': 1.0}), (972, {'Department': 15, 'ManagementSalary': 0.0}), (973, {'Department': 14, 'ManagementSalary': 0.0}), (974, {'Department': 5, 'ManagementSalary': nan}), (975, {'Department': 9, 'ManagementSalary': 0.0}), (976, {'Department': 10, 'ManagementSalary': 0.0}), (977, {'Department': 19, 'ManagementSalary': 0.0}), (978, {'Department': 13, 'ManagementSalary': 0.0}), (979, {'Department': 23, 'ManagementSalary': 0.0}), (980, {'Department': 12, 'ManagementSalary': 0.0}), (981, {'Department': 10, 'ManagementSalary': 0.0}), (982, {'Department': 21, 'ManagementSalary': 0.0}), (983, {'Department': 10, 'ManagementSalary': 0.0}), (984, {'Department': 35, 'ManagementSalary': nan}), (985, {'Department': 7, 'ManagementSalary': 0.0}), (986, {'Department': 22, 'ManagementSalary': 0.0}), (987, {'Department': 22, 'ManagementSalary': nan}), (988, {'Department': 22, 'ManagementSalary': 0.0}), (989, {'Department': 8, 'ManagementSalary': nan}), (990, {'Department': 21, 'ManagementSalary': 0.0}), (991, {'Department': 32, 'ManagementSalary': nan}), (992, {'Department': 4, 'ManagementSalary': nan}), (993, {'Department': 21, 'ManagementSalary': 0.0}), (994, {'Department': 21, 'ManagementSalary': nan}), (995, {'Department': 6, 'ManagementSalary': 0.0}), (996, {'Department': 14, 'ManagementSalary': nan}), (997, {'Department': 11, 'ManagementSalary': 0.0}), (998, {'Department': 14, 'ManagementSalary': 0.0}), (999, {'Department': 15, 'ManagementSalary': 0.0}), (1000, {'Department': 4, 'ManagementSalary': nan}), (1001, {'Department': 21, 'ManagementSalary': nan}), (1002, {'Department': 1, 'ManagementSalary': 0.0}), (1003, {'Department': 6, 'ManagementSalary': 0.0}), (1004, {'Department': 22, 'ManagementSalary': 0.0})]\n"
     ]
    }
   ],
   "source": [
    "G = nx.read_gpickle('email_prediction.txt')\n",
    "\n",
    "print(nx.info(G))\n",
    "print(G.nodes(data=True))"
   ]
  },
  {
   "cell_type": "markdown",
   "metadata": {},
   "source": [
    "## Convert the graph information into dataframe"
   ]
  },
  {
   "cell_type": "code",
   "execution_count": 13,
   "metadata": {},
   "outputs": [],
   "source": [
    "df = pd.DataFrame(index=G.nodes())\n",
    "\n",
    "df['ManagementSalary'] = pd.Series(nx.get_node_attributes(G, 'ManagementSalary'))\n",
    "df['Department'] = pd.Series(nx.get_node_attributes(G, 'Department'))"
   ]
  },
  {
   "cell_type": "code",
   "execution_count": 45,
   "metadata": {},
   "outputs": [
    {
     "data": {
      "text/html": [
       "<div>\n",
       "<style>\n",
       "    .dataframe thead tr:only-child th {\n",
       "        text-align: right;\n",
       "    }\n",
       "\n",
       "    .dataframe thead th {\n",
       "        text-align: left;\n",
       "    }\n",
       "\n",
       "    .dataframe tbody tr th {\n",
       "        vertical-align: top;\n",
       "    }\n",
       "</style>\n",
       "<table border=\"1\" class=\"dataframe\">\n",
       "  <thead>\n",
       "    <tr style=\"text-align: right;\">\n",
       "      <th></th>\n",
       "      <th>ManagementSalary</th>\n",
       "      <th>Department</th>\n",
       "      <th>degree</th>\n",
       "      <th>closeness</th>\n",
       "      <th>betweenness</th>\n",
       "      <th>clustering</th>\n",
       "    </tr>\n",
       "  </thead>\n",
       "  <tbody>\n",
       "    <tr>\n",
       "      <th>0</th>\n",
       "      <td>0.0</td>\n",
       "      <td>1</td>\n",
       "      <td>0.043825</td>\n",
       "      <td>0.421991</td>\n",
       "      <td>0.001124</td>\n",
       "      <td>0.276423</td>\n",
       "    </tr>\n",
       "    <tr>\n",
       "      <th>1</th>\n",
       "      <td>NaN</td>\n",
       "      <td>1</td>\n",
       "      <td>0.051793</td>\n",
       "      <td>0.422360</td>\n",
       "      <td>0.001195</td>\n",
       "      <td>0.265306</td>\n",
       "    </tr>\n",
       "    <tr>\n",
       "      <th>2</th>\n",
       "      <td>NaN</td>\n",
       "      <td>21</td>\n",
       "      <td>0.094622</td>\n",
       "      <td>0.461490</td>\n",
       "      <td>0.006570</td>\n",
       "      <td>0.297803</td>\n",
       "    </tr>\n",
       "    <tr>\n",
       "      <th>3</th>\n",
       "      <td>1.0</td>\n",
       "      <td>21</td>\n",
       "      <td>0.070717</td>\n",
       "      <td>0.441663</td>\n",
       "      <td>0.001654</td>\n",
       "      <td>0.384910</td>\n",
       "    </tr>\n",
       "    <tr>\n",
       "      <th>4</th>\n",
       "      <td>1.0</td>\n",
       "      <td>21</td>\n",
       "      <td>0.095618</td>\n",
       "      <td>0.462152</td>\n",
       "      <td>0.005547</td>\n",
       "      <td>0.318691</td>\n",
       "    </tr>\n",
       "  </tbody>\n",
       "</table>\n",
       "</div>"
      ],
      "text/plain": [
       "   ManagementSalary  Department    degree  closeness  betweenness  clustering\n",
       "0               0.0           1  0.043825   0.421991     0.001124    0.276423\n",
       "1               NaN           1  0.051793   0.422360     0.001195    0.265306\n",
       "2               NaN          21  0.094622   0.461490     0.006570    0.297803\n",
       "3               1.0          21  0.070717   0.441663     0.001654    0.384910\n",
       "4               1.0          21  0.095618   0.462152     0.005547    0.318691"
      ]
     },
     "execution_count": 45,
     "metadata": {},
     "output_type": "execute_result"
    }
   ],
   "source": [
    "# Assign different measurements into dataframe\n",
    "df['degree'] = pd.Series(nx.degree_centrality(G))\n",
    "df['clustering'] = pd.Series(nx.clustering(G))\n",
    "df['closeness'] = pd.Series(nx.closeness_centrality(G))\n",
    "df['betweenness'] = pd.Series(nx.betweenness_centrality(G))\n",
    "\n",
    "df.head()"
   ]
  },
  {
   "cell_type": "code",
   "execution_count": 46,
   "metadata": {},
   "outputs": [
    {
     "name": "stdout",
     "output_type": "stream",
     "text": [
      "<class 'pandas.core.frame.DataFrame'>\n",
      "Int64Index: 1005 entries, 0 to 1004\n",
      "Data columns (total 6 columns):\n",
      "ManagementSalary    753 non-null float64\n",
      "Department          1005 non-null int64\n",
      "degree              1005 non-null float64\n",
      "closeness           1005 non-null float64\n",
      "betweenness         1005 non-null float64\n",
      "clustering          1005 non-null float64\n",
      "dtypes: float64(5), int64(1)\n",
      "memory usage: 95.0 KB\n"
     ]
    }
   ],
   "source": [
    "df.info()"
   ]
  },
  {
   "cell_type": "code",
   "execution_count": 42,
   "metadata": {},
   "outputs": [
    {
     "data": {
      "text/plain": [
       "ManagementSalary    252\n",
       "Department            0\n",
       "degree                0\n",
       "closeness             0\n",
       "betweenness           0\n",
       "clustering            0\n",
       "dtype: int64"
      ]
     },
     "execution_count": 42,
     "metadata": {},
     "output_type": "execute_result"
    }
   ],
   "source": [
    "# check the count of NaN in ManagementSalary\n",
    "df.isnull().sum()"
   ]
  },
  {
   "cell_type": "code",
   "execution_count": 55,
   "metadata": {},
   "outputs": [
    {
     "data": {
      "text/html": [
       "<div>\n",
       "<style>\n",
       "    .dataframe thead tr:only-child th {\n",
       "        text-align: right;\n",
       "    }\n",
       "\n",
       "    .dataframe thead th {\n",
       "        text-align: left;\n",
       "    }\n",
       "\n",
       "    .dataframe tbody tr th {\n",
       "        vertical-align: top;\n",
       "    }\n",
       "</style>\n",
       "<table border=\"1\" class=\"dataframe\">\n",
       "  <thead>\n",
       "    <tr style=\"text-align: right;\">\n",
       "      <th></th>\n",
       "      <th>ManagementSalary</th>\n",
       "      <th>Department</th>\n",
       "      <th>degree</th>\n",
       "      <th>closeness</th>\n",
       "      <th>betweenness</th>\n",
       "      <th>clustering</th>\n",
       "    </tr>\n",
       "  </thead>\n",
       "  <tbody>\n",
       "    <tr>\n",
       "      <th>0</th>\n",
       "      <td>0.0</td>\n",
       "      <td>1</td>\n",
       "      <td>0.043825</td>\n",
       "      <td>0.421991</td>\n",
       "      <td>0.001124</td>\n",
       "      <td>0.276423</td>\n",
       "    </tr>\n",
       "    <tr>\n",
       "      <th>3</th>\n",
       "      <td>1.0</td>\n",
       "      <td>21</td>\n",
       "      <td>0.070717</td>\n",
       "      <td>0.441663</td>\n",
       "      <td>0.001654</td>\n",
       "      <td>0.384910</td>\n",
       "    </tr>\n",
       "    <tr>\n",
       "      <th>4</th>\n",
       "      <td>1.0</td>\n",
       "      <td>21</td>\n",
       "      <td>0.095618</td>\n",
       "      <td>0.462152</td>\n",
       "      <td>0.005547</td>\n",
       "      <td>0.318691</td>\n",
       "    </tr>\n",
       "    <tr>\n",
       "      <th>6</th>\n",
       "      <td>1.0</td>\n",
       "      <td>25</td>\n",
       "      <td>0.114542</td>\n",
       "      <td>0.475805</td>\n",
       "      <td>0.012387</td>\n",
       "      <td>0.155183</td>\n",
       "    </tr>\n",
       "    <tr>\n",
       "      <th>7</th>\n",
       "      <td>0.0</td>\n",
       "      <td>14</td>\n",
       "      <td>0.071713</td>\n",
       "      <td>0.420156</td>\n",
       "      <td>0.002818</td>\n",
       "      <td>0.287785</td>\n",
       "    </tr>\n",
       "  </tbody>\n",
       "</table>\n",
       "</div>"
      ],
      "text/plain": [
       "   ManagementSalary  Department    degree  closeness  betweenness  clustering\n",
       "0               0.0           1  0.043825   0.421991     0.001124    0.276423\n",
       "3               1.0          21  0.070717   0.441663     0.001654    0.384910\n",
       "4               1.0          21  0.095618   0.462152     0.005547    0.318691\n",
       "6               1.0          25  0.114542   0.475805     0.012387    0.155183\n",
       "7               0.0          14  0.071713   0.420156     0.002818    0.287785"
      ]
     },
     "execution_count": 55,
     "metadata": {},
     "output_type": "execute_result"
    }
   ],
   "source": [
    "# Split the dataframe into two sub-dataframes: df_train & df_pred\n",
    "df_train = df.dropna()\n",
    "\n",
    "df_train.head()"
   ]
  },
  {
   "cell_type": "code",
   "execution_count": 56,
   "metadata": {},
   "outputs": [
    {
     "name": "stdout",
     "output_type": "stream",
     "text": [
      "<class 'pandas.core.frame.DataFrame'>\n",
      "Int64Index: 753 entries, 0 to 1004\n",
      "Data columns (total 6 columns):\n",
      "ManagementSalary    753 non-null float64\n",
      "Department          753 non-null int64\n",
      "degree              753 non-null float64\n",
      "closeness           753 non-null float64\n",
      "betweenness         753 non-null float64\n",
      "clustering          753 non-null float64\n",
      "dtypes: float64(5), int64(1)\n",
      "memory usage: 41.2 KB\n"
     ]
    }
   ],
   "source": [
    "df_train.info()"
   ]
  },
  {
   "cell_type": "code",
   "execution_count": 81,
   "metadata": {},
   "outputs": [
    {
     "data": {
      "text/html": [
       "<div>\n",
       "<style>\n",
       "    .dataframe thead tr:only-child th {\n",
       "        text-align: right;\n",
       "    }\n",
       "\n",
       "    .dataframe thead th {\n",
       "        text-align: left;\n",
       "    }\n",
       "\n",
       "    .dataframe tbody tr th {\n",
       "        vertical-align: top;\n",
       "    }\n",
       "</style>\n",
       "<table border=\"1\" class=\"dataframe\">\n",
       "  <thead>\n",
       "    <tr style=\"text-align: right;\">\n",
       "      <th></th>\n",
       "      <th>ManagementSalary</th>\n",
       "      <th>Department</th>\n",
       "      <th>degree</th>\n",
       "      <th>closeness</th>\n",
       "      <th>betweenness</th>\n",
       "      <th>clustering</th>\n",
       "    </tr>\n",
       "  </thead>\n",
       "  <tbody>\n",
       "    <tr>\n",
       "      <th>1</th>\n",
       "      <td>NaN</td>\n",
       "      <td>1</td>\n",
       "      <td>0.051793</td>\n",
       "      <td>0.422360</td>\n",
       "      <td>0.001195</td>\n",
       "      <td>0.265306</td>\n",
       "    </tr>\n",
       "    <tr>\n",
       "      <th>2</th>\n",
       "      <td>NaN</td>\n",
       "      <td>21</td>\n",
       "      <td>0.094622</td>\n",
       "      <td>0.461490</td>\n",
       "      <td>0.006570</td>\n",
       "      <td>0.297803</td>\n",
       "    </tr>\n",
       "    <tr>\n",
       "      <th>5</th>\n",
       "      <td>NaN</td>\n",
       "      <td>25</td>\n",
       "      <td>0.170319</td>\n",
       "      <td>0.501484</td>\n",
       "      <td>0.030995</td>\n",
       "      <td>0.107002</td>\n",
       "    </tr>\n",
       "    <tr>\n",
       "      <th>8</th>\n",
       "      <td>NaN</td>\n",
       "      <td>14</td>\n",
       "      <td>0.036853</td>\n",
       "      <td>0.413151</td>\n",
       "      <td>0.000557</td>\n",
       "      <td>0.447059</td>\n",
       "    </tr>\n",
       "    <tr>\n",
       "      <th>14</th>\n",
       "      <td>NaN</td>\n",
       "      <td>4</td>\n",
       "      <td>0.079681</td>\n",
       "      <td>0.442068</td>\n",
       "      <td>0.003726</td>\n",
       "      <td>0.215784</td>\n",
       "    </tr>\n",
       "  </tbody>\n",
       "</table>\n",
       "</div>"
      ],
      "text/plain": [
       "    ManagementSalary  Department    degree  closeness  betweenness  clustering\n",
       "1                NaN           1  0.051793   0.422360     0.001195    0.265306\n",
       "2                NaN          21  0.094622   0.461490     0.006570    0.297803\n",
       "5                NaN          25  0.170319   0.501484     0.030995    0.107002\n",
       "8                NaN          14  0.036853   0.413151     0.000557    0.447059\n",
       "14               NaN           4  0.079681   0.442068     0.003726    0.215784"
      ]
     },
     "execution_count": 81,
     "metadata": {},
     "output_type": "execute_result"
    }
   ],
   "source": [
    "df_pred = df[np.isnan(df['ManagementSalary'])]\n",
    "\n",
    "df_pred.head()"
   ]
  },
  {
   "cell_type": "code",
   "execution_count": 82,
   "metadata": {},
   "outputs": [
    {
     "name": "stdout",
     "output_type": "stream",
     "text": [
      "<class 'pandas.core.frame.DataFrame'>\n",
      "Int64Index: 252 entries, 1 to 1001\n",
      "Data columns (total 6 columns):\n",
      "ManagementSalary    0 non-null float64\n",
      "Department          252 non-null int64\n",
      "degree              252 non-null float64\n",
      "closeness           252 non-null float64\n",
      "betweenness         252 non-null float64\n",
      "clustering          252 non-null float64\n",
      "dtypes: float64(5), int64(1)\n",
      "memory usage: 13.8 KB\n"
     ]
    }
   ],
   "source": [
    "df_pred.info()"
   ]
  },
  {
   "cell_type": "markdown",
   "metadata": {},
   "source": [
    "## Prepare training dataseet"
   ]
  },
  {
   "cell_type": "code",
   "execution_count": 130,
   "metadata": {},
   "outputs": [
    {
     "data": {
      "text/html": [
       "<div>\n",
       "<style>\n",
       "    .dataframe thead tr:only-child th {\n",
       "        text-align: right;\n",
       "    }\n",
       "\n",
       "    .dataframe thead th {\n",
       "        text-align: left;\n",
       "    }\n",
       "\n",
       "    .dataframe tbody tr th {\n",
       "        vertical-align: top;\n",
       "    }\n",
       "</style>\n",
       "<table border=\"1\" class=\"dataframe\">\n",
       "  <thead>\n",
       "    <tr style=\"text-align: right;\">\n",
       "      <th></th>\n",
       "      <th>degree</th>\n",
       "      <th>closeness</th>\n",
       "      <th>betweenness</th>\n",
       "      <th>clustering</th>\n",
       "    </tr>\n",
       "  </thead>\n",
       "  <tbody>\n",
       "    <tr>\n",
       "      <th>0</th>\n",
       "      <td>0.043825</td>\n",
       "      <td>0.421991</td>\n",
       "      <td>0.001124</td>\n",
       "      <td>0.276423</td>\n",
       "    </tr>\n",
       "    <tr>\n",
       "      <th>3</th>\n",
       "      <td>0.070717</td>\n",
       "      <td>0.441663</td>\n",
       "      <td>0.001654</td>\n",
       "      <td>0.384910</td>\n",
       "    </tr>\n",
       "    <tr>\n",
       "      <th>4</th>\n",
       "      <td>0.095618</td>\n",
       "      <td>0.462152</td>\n",
       "      <td>0.005547</td>\n",
       "      <td>0.318691</td>\n",
       "    </tr>\n",
       "    <tr>\n",
       "      <th>6</th>\n",
       "      <td>0.114542</td>\n",
       "      <td>0.475805</td>\n",
       "      <td>0.012387</td>\n",
       "      <td>0.155183</td>\n",
       "    </tr>\n",
       "    <tr>\n",
       "      <th>7</th>\n",
       "      <td>0.071713</td>\n",
       "      <td>0.420156</td>\n",
       "      <td>0.002818</td>\n",
       "      <td>0.287785</td>\n",
       "    </tr>\n",
       "  </tbody>\n",
       "</table>\n",
       "</div>"
      ],
      "text/plain": [
       "     degree  closeness  betweenness  clustering\n",
       "0  0.043825   0.421991     0.001124    0.276423\n",
       "3  0.070717   0.441663     0.001654    0.384910\n",
       "4  0.095618   0.462152     0.005547    0.318691\n",
       "6  0.114542   0.475805     0.012387    0.155183\n",
       "7  0.071713   0.420156     0.002818    0.287785"
      ]
     },
     "execution_count": 130,
     "metadata": {},
     "output_type": "execute_result"
    }
   ],
   "source": [
    "# selected_attrs = ['Department', 'degree', 'closeness', 'betweenness', 'clustering']\n",
    "selected_attrs = ['degree', 'closeness', 'betweenness', 'clustering']\n",
    "X = df_train[selected_attrs]\n",
    "\n",
    "X.head()"
   ]
  },
  {
   "cell_type": "code",
   "execution_count": 131,
   "metadata": {},
   "outputs": [],
   "source": [
    "y = df_train['ManagementSalary']\n",
    "\n",
    "# y"
   ]
  },
  {
   "cell_type": "code",
   "execution_count": 132,
   "metadata": {},
   "outputs": [],
   "source": [
    "from sklearn.model_selection import train_test_split\n",
    "\n",
    "X_train, X_test, y_train, y_test = train_test_split(X, y, test_size=0.2, random_state=42)\n"
   ]
  },
  {
   "cell_type": "markdown",
   "metadata": {},
   "source": [
    "## Scale the X data"
   ]
  },
  {
   "cell_type": "code",
   "execution_count": 133,
   "metadata": {
    "collapsed": true
   },
   "outputs": [],
   "source": [
    "from sklearn import preprocessing\n",
    "\n",
    "scaler = preprocessing.StandardScaler().fit(X_train)\n",
    "X_train = scaler.transform(X_train)\n",
    "X_test = scaler.transform(X_test)\n",
    "X_pred = scaler.transform(df_pred[selected_attrs])"
   ]
  },
  {
   "cell_type": "markdown",
   "metadata": {},
   "source": [
    "## Training with Logistic Regression"
   ]
  },
  {
   "cell_type": "code",
   "execution_count": 134,
   "metadata": {},
   "outputs": [
    {
     "data": {
      "text/plain": [
       "LogisticRegression(C=1.0, class_weight=None, dual=False, fit_intercept=True,\n",
       "          intercept_scaling=1, max_iter=100, multi_class='ovr', n_jobs=1,\n",
       "          penalty='l2', random_state=None, solver='liblinear', tol=0.0001,\n",
       "          verbose=0, warm_start=False)"
      ]
     },
     "execution_count": 134,
     "metadata": {},
     "output_type": "execute_result"
    }
   ],
   "source": [
    "from sklearn.linear_model import LogisticRegression\n",
    "\n",
    "clf = LogisticRegression()\n",
    "\n",
    "clf.fit(X_train, y_train)"
   ]
  },
  {
   "cell_type": "code",
   "execution_count": 135,
   "metadata": {},
   "outputs": [],
   "source": [
    "# model score\n",
    "# clf.score(X_train, y_train)"
   ]
  },
  {
   "cell_type": "code",
   "execution_count": 136,
   "metadata": {},
   "outputs": [],
   "source": [
    "# predict the X_test\n",
    "pred1 = clf.predict(X_test)\n",
    "pred2 = clf.predict_proba(X_test)\n",
    "\n",
    "# pred2"
   ]
  },
  {
   "cell_type": "markdown",
   "metadata": {},
   "source": [
    "## Test Training dataset"
   ]
  },
  {
   "cell_type": "code",
   "execution_count": 137,
   "metadata": {},
   "outputs": [
    {
     "data": {
      "text/plain": [
       "0.93377483443708609"
      ]
     },
     "execution_count": 137,
     "metadata": {},
     "output_type": "execute_result"
    }
   ],
   "source": [
    "from sklearn import metrics\n",
    "\n",
    "# Accuracy\n",
    "metrics.accuracy_score(y_test, pred1)"
   ]
  },
  {
   "cell_type": "code",
   "execution_count": 138,
   "metadata": {},
   "outputs": [
    {
     "data": {
      "text/plain": [
       "0.93516483516483517"
      ]
     },
     "execution_count": 138,
     "metadata": {},
     "output_type": "execute_result"
    }
   ],
   "source": [
    "# AUC\n",
    "metrics.roc_auc_score(y_test, pred2[:, 1])"
   ]
  },
  {
   "cell_type": "code",
   "execution_count": 139,
   "metadata": {},
   "outputs": [
    {
     "data": {
      "text/plain": [
       "array([[130,   0],\n",
       "       [ 10,  11]], dtype=int64)"
      ]
     },
     "execution_count": 139,
     "metadata": {},
     "output_type": "execute_result"
    }
   ],
   "source": [
    "# Confusion\n",
    "metrics.confusion_matrix(y_test, pred1)"
   ]
  },
  {
   "cell_type": "code",
   "execution_count": 140,
   "metadata": {},
   "outputs": [
    {
     "name": "stdout",
     "output_type": "stream",
     "text": [
      "             precision    recall  f1-score   support\n",
      "\n",
      "        0.0       0.93      1.00      0.96       130\n",
      "        1.0       1.00      0.52      0.69        21\n",
      "\n",
      "avg / total       0.94      0.93      0.92       151\n",
      "\n"
     ]
    }
   ],
   "source": [
    "print(metrics.classification_report(y_test, pred1))"
   ]
  },
  {
   "cell_type": "markdown",
   "metadata": {},
   "source": [
    "## Generate result for Prediction dataset"
   ]
  },
  {
   "cell_type": "code",
   "execution_count": 141,
   "metadata": {},
   "outputs": [
    {
     "data": {
      "text/plain": [
       "array([ 0.18185786,  0.20806357,  0.1825705 ,  0.22533044,  0.17831979,\n",
       "        0.20006833,  0.21210888,  0.22735825,  0.21760724,  0.26602867,\n",
       "        0.2089846 ,  0.20229273,  0.20778333,  0.25066163,  0.25966727,\n",
       "        0.20850796,  0.19935774,  0.17830973,  0.21616723,  0.20141974,\n",
       "        0.2418947 ,  0.18327289,  0.2220506 ,  0.19565825,  0.20602426,\n",
       "        0.17786934,  0.19164654,  0.20768742,  0.24406615,  0.23353264,\n",
       "        0.23314831,  0.25563047,  0.21280899,  0.22569054,  0.20102434,\n",
       "        0.30600803,  0.25273648,  0.21959529,  0.19796067,  0.23181445,\n",
       "        0.20481375,  0.19087077,  0.26650509,  0.16795515,  0.23917934,\n",
       "        0.21046328,  0.2532424 ,  0.2376626 ,  0.21817364,  0.25347495,\n",
       "        0.2065373 ,  0.21279212,  0.22948657,  0.23821997,  0.18918399,\n",
       "        0.2288499 ,  0.19990487,  0.21767575,  0.25839208,  0.20457914,\n",
       "        0.17969555,  0.2134119 ,  0.25579988,  0.21460848,  0.21441727,\n",
       "        0.18057217,  0.18455341,  0.17667831,  0.20313855,  0.21044439,\n",
       "        0.22204968,  0.19087072,  0.20809444,  0.17977629,  0.17407287,\n",
       "        0.20627106,  0.34414059,  0.21086613,  0.16415592,  0.18496602,\n",
       "        0.20644182,  0.20745375,  0.23592836,  0.2207786 ,  0.22913733,\n",
       "        0.19904289,  0.23602906,  0.21900455,  0.21419099,  0.36431409,\n",
       "        0.25290115,  0.32870834,  0.25215536,  0.21372519,  0.233209  ,\n",
       "        0.22798087,  0.17750998,  0.23160149,  0.21785118,  0.16119394,\n",
       "        0.20579342,  0.18917549,  0.20796949,  0.15415076,  0.21134951,\n",
       "        0.21356163,  0.20148659,  0.37123862,  0.20506711,  0.21965897,\n",
       "        0.15305984,  0.19462815,  0.19700811,  0.31563229,  0.16852672,\n",
       "        0.18453545,  0.22186724,  0.21841489,  0.19746249,  0.22755057,\n",
       "        0.18740622,  0.20860844,  0.24976269,  0.26224477,  0.20911913,\n",
       "        0.18147003,  0.24152336,  0.22486008,  0.23269558,  0.24003469,\n",
       "        0.08266647,  0.221799  ,  0.15514982,  0.22267438,  0.18662781,\n",
       "        0.19836246,  0.22085862,  0.21948138,  0.25933517,  0.08764369,\n",
       "        0.22908238,  0.0872375 ,  0.20578347,  0.22636253,  0.08493181,\n",
       "        0.19219289,  0.11152871,  0.19311424,  0.36529868,  0.09997147,\n",
       "        0.22533174,  0.2120663 ,  0.36455177,  0.21496234,  0.17308574,\n",
       "        0.18255988,  0.19721253,  0.15208051,  0.22890277,  0.14309297,\n",
       "        0.04102613,  0.19702888,  0.26664971,  0.16708735,  0.23695852,\n",
       "        0.35757635,  0.24905721,  0.04102613,  0.26681665,  0.2015467 ,\n",
       "        0.35658086,  0.17900004,  0.21930328,  0.3167682 ,  0.18460255,\n",
       "        0.29178053,  0.29658754,  0.32291012,  0.10407639,  0.3268501 ,\n",
       "        0.2106233 ,  0.14234384,  0.20065083,  0.12766847,  0.23775582,\n",
       "        0.35460266,  0.3096893 ,  0.09885405,  0.23362524,  0.18048022,\n",
       "        0.15970301,  0.0993743 ,  0.08779645,  0.16824854,  0.04102613,\n",
       "        0.15089628,  0.12867529,  0.04102613,  0.19636749,  0.19063548,\n",
       "        0.22212558,  0.20368769,  0.18503434,  0.28827308,  0.29435404,\n",
       "        0.19893069,  0.10348529,  0.0944325 ,  0.09256437,  0.09651214,\n",
       "        0.35392531,  0.25277556,  0.20722558,  0.09100821,  0.22947533,\n",
       "        0.09143738,  0.22697201,  0.10434278,  0.21081405,  0.096305  ,\n",
       "        0.36168073,  0.19658279,  0.19217055,  0.23437902,  0.08990406,\n",
       "        0.27060315,  0.23415873,  0.2720852 ,  0.22164725,  0.16373334,\n",
       "        0.15716199,  0.09229489,  0.24265962,  0.36478179,  0.17263403,\n",
       "        0.22206956,  0.17179152,  0.09682563,  0.09168117,  0.21383539,\n",
       "        0.34956465,  0.35089034,  0.30594857,  0.16164176,  0.30533818,\n",
       "        0.35141373,  0.35429405,  0.10119118,  0.09797719,  0.09297372,\n",
       "        0.24077358,  0.30976901])"
      ]
     },
     "execution_count": 141,
     "metadata": {},
     "output_type": "execute_result"
    }
   ],
   "source": [
    "pred = clf.predict_proba(df_pred[selected_attrs])\n",
    "\n",
    "pred[:, 1]"
   ]
  },
  {
   "cell_type": "code",
   "execution_count": null,
   "metadata": {
    "collapsed": true
   },
   "outputs": [],
   "source": [
    "# resukt with `Department` column\n",
    "array([ 0.18871593,  0.40575873,  0.41107841,  0.3543703 ,  0.206628  ,\n",
    "        0.2072682 ,  0.30722262,  0.32628061,  0.31411355,  0.37307983,\n",
    "        0.30323337,  0.29474868,  0.36225472,  0.47574454,  0.48748899,\n",
    "        0.26560358,  0.56190237,  0.20666887,  0.23979476,  0.22407591,\n",
    "        0.39715916,  0.31742552,  0.2814145 ,  0.25919868,  0.2900689 ,\n",
    "        0.17785943,  0.30956201,  0.57433735,  0.66550078,  0.59940935,\n",
    "        0.2942118 ,  0.62747889,  0.39066712,  0.55525753,  0.2568516 ,\n",
    "        0.53262421,  0.29719023,  0.25192967,  0.2282176 ,  0.27417205,\n",
    "        0.20456464,  0.19792104,  0.50763223,  0.16807832,  0.42675665,\n",
    "        0.38731117,  0.44516428,  0.37011757,  0.34506434,  0.37934631,\n",
    "        0.39259962,  0.52551576,  0.28073843,  0.32950953,  0.18909467,\n",
    "        0.35892427,  0.32071727,  0.34428339,  0.29384917,  0.47907908,\n",
    "        0.32217086,  0.2130707 ,  0.49386841,  0.5843741 ,  0.24629381,\n",
    "        0.23263853,  0.30945092,  0.29827829,  0.27728125,  0.21780365,\n",
    "        0.22955821,  0.19787807,  0.21541426,  0.18654659,  0.18079151,\n",
    "        0.21351059,  0.55273965,  0.26840327,  0.53752841,  0.18492121,\n",
    "        0.20617147,  0.20715916,  0.30702401,  0.34848215,  0.59349507,\n",
    "        0.56139229,  0.32686728,  0.5905656 ,  0.27227942,  0.43832209,\n",
    "        0.31671666,  0.40050513,  0.31585588,  0.27173832,  0.29429539,\n",
    "        0.2610346 ,  0.17752409,  0.36244926,  0.41972544,  0.38619797,\n",
    "        0.40243265,  0.43260934,  0.55237561,  0.19354556,  0.29666111,\n",
    "        0.37020308,  0.32279044,  0.6033507 ,  0.23608486,  0.25203364,\n",
    "        0.34051635,  0.31361778,  0.5015679 ,  0.39713621,  0.18181351,\n",
    "        0.20595921,  0.25442484,  0.30537252,  0.31737084,  0.64505104,\n",
    "        0.5431292 ,  0.33241359,  0.38538877,  0.40088238,  0.33304462,\n",
    "        0.52204671,  0.2492306 ,  0.5876637 ,  0.44038213,  0.27399044,\n",
    "        0.12042879,  0.34975744,  0.25821973,  0.24672074,  0.5305864 ,\n",
    "        0.27128895,  0.31815108,  0.24333478,  0.47563764,  0.24883155,\n",
    "        0.36980305,  0.09544034,  0.32860899,  0.44281734,  0.08919036,\n",
    "        0.56198225,  0.14228007,  0.54091642,  0.59726909,  0.22545598,\n",
    "        0.37542951,  0.43374424,  0.60741732,  0.26420722,  0.40640992,\n",
    "        0.21131055,  0.1969698 ,  0.17739178,  0.35899759,  0.3231519 ,\n",
    "        0.10148088,  0.4787775 ,  0.43967994,  0.28447019,  0.23621865,\n",
    "        0.60026815,  0.46227956,  0.10148088,  0.42870558,  0.33295391,\n",
    "        0.52079881,  0.39423769,  0.34645167,  0.42043487,  0.29981844,\n",
    "        0.58345421,  0.53293464,  0.39415114,  0.2500075 ,  0.33495896,\n",
    "        0.43166679,  0.51869278,  0.35218377,  0.13330062,  0.37030258,\n",
    "        0.37340498,  0.47995474,  0.3841464 ,  0.27616663,  0.38571183,\n",
    "        0.35182244,  0.34334143,  0.22449574,  0.19542668,  0.04343383,\n",
    "        0.26076296,  0.22697538,  0.09740123,  0.22644609,  0.31798342,\n",
    "        0.38178966,  0.24288446,  0.21403659,  0.37740601,  0.51892893,\n",
    "        0.22927099,  0.13245599,  0.13663501,  0.21104208,  0.27808993,\n",
    "        0.5854471 ,  0.47844719,  0.41545535,  0.09162322,  0.37028972,\n",
    "        0.19416579,  0.55705007,  0.15012855,  0.60094207,  0.21836035,\n",
    "        0.52628337,  0.31615335,  0.31020567,  0.35547449,  0.14110859,\n",
    "        0.31663251,  0.31455386,  0.46901395,  0.40292265,  0.49119754,\n",
    "        0.19703841,  0.22605547,  0.32465772,  0.43880795,  0.51845155,\n",
    "        0.35002412,  0.25512827,  0.11467283,  0.13286281,  0.39211235,\n",
    "        0.51318614,  0.51463312,  0.35463255,  0.48739185,  0.54313096,\n",
    "        0.43582708,  0.70012253,  0.11969521,  0.22160664,  0.16345247,\n",
    "        0.27484088,  0.53690241])"
   ]
  },
  {
   "cell_type": "markdown",
   "metadata": {},
   "source": [
    "## Final Answer"
   ]
  },
  {
   "cell_type": "code",
   "execution_count": null,
   "metadata": {
    "collapsed": true
   },
   "outputs": [],
   "source": [
    "def salary_predictions(debug=False):\n",
    "    \n",
    "    # Your Code Here\n",
    "    from sklearn import preprocessing\n",
    "    from sklearn import metrics\n",
    "    from sklearn.linear_model import LogisticRegression\n",
    "    from sklearn.model_selection import train_test_split\n",
    "    \n",
    "    # generate dataset\n",
    "    df = pd.DataFrame(index=G.nodes())\n",
    "\n",
    "    df['ManagementSalary'] = pd.Series(nx.get_node_attributes(G, 'ManagementSalary'))\n",
    "    df['Department'] = pd.Series(nx.get_node_attributes(G, 'Department'))\n",
    "    \n",
    "    # Assign different measurements into dataframe\n",
    "    df['degree'] = pd.Series(nx.degree_centrality(G))\n",
    "    df['clustering'] = pd.Series(nx.clustering(G))\n",
    "    df['closeness'] = pd.Series(nx.closeness_centrality(G))\n",
    "    df['betweenness'] = pd.Series(nx.betweenness_centrality(G))\n",
    "    \n",
    "    # Split the dataframe into two sub-dataframes: df_train & df_pred\n",
    "    df_train = df.dropna()\n",
    "    df_pred = df[np.isnan(df['ManagementSalary'])]\n",
    "    \n",
    "#     selected_attrs = ['Department', 'degree', 'closeness', 'betweenness', 'clustering']\n",
    "    selected_attrs = ['degree', 'closeness', 'betweenness', 'clustering']\n",
    "    \n",
    "    X = df_train[selected_attrs]\n",
    "    y = df_train['ManagementSalary']\n",
    "    \n",
    "    # split into training and test data w/ given training dataframe\n",
    "    X_train, X_test, y_train, y_test = train_test_split(X, y, test_size=0.2, random_state=42)\n",
    "   \n",
    "    # Scale transformation\n",
    "    scaler = preprocessing.StandardScaler().fit(X_train)\n",
    "    X_train = scaler.transform(X_train)\n",
    "    X_test = scaler.transform(X_test)\n",
    "    X_pred = scaler.transform(df_pred[selected_attrs])\n",
    "    \n",
    "    # Traing data with Logistic Regression Model\n",
    "    clf = LogisticRegression()\n",
    "\n",
    "    clf.fit(X_train, y_train)\n",
    "    \n",
    "    # check with training dataset with various metrics\n",
    "    if debug:\n",
    "        # predict the X_test\n",
    "        pred1 = clf.predict(X_test)\n",
    "        pred2 = clf.predict_proba(X_test)\n",
    "        \n",
    "        print(\"\\nAccuracy: {}\".format(metrics.accuracy_score(y_test, pred1)))\n",
    "        print(\"\\nROC_AUC: {}\".format(metrics.roc_auc_score(y_test, pred2[:, 1])))\n",
    "        print(\"\\nConfusiion matrix: \\n{}\".format(metrics.confusion_matrix(y_test, pred1)))\n",
    "        print(\"\\nCalssification report: \\n{}\".format(metrics.classification_report(y_test, pred1)))\n",
    "        \n",
    "    # Generte result for autograder\n",
    "    pred = clf.predict_proba(X_pred)\n",
    "    \n",
    "    rlt = pd.Series(data=pred[:, 1], index=df_pred.index)\n",
    "    \n",
    "    return rlt # Your Answer Here\n",
    "\n",
    "# salary_predictions(debug=True)"
   ]
  }
 ],
 "metadata": {
  "kernelspec": {
   "display_name": "Python 3",
   "language": "python",
   "name": "python3"
  },
  "language_info": {
   "codemirror_mode": {
    "name": "ipython",
    "version": 3
   },
   "file_extension": ".py",
   "mimetype": "text/x-python",
   "name": "python",
   "nbconvert_exporter": "python",
   "pygments_lexer": "ipython3",
   "version": "3.6.2"
  }
 },
 "nbformat": 4,
 "nbformat_minor": 2
}
