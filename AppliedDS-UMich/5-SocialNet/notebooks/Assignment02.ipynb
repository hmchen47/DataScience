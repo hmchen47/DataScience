{
 "cells": [
  {
   "cell_type": "markdown",
   "metadata": {},
   "source": [
    "---\n",
    "\n",
    "_You are currently looking at **version 1.2** of this notebook. To download notebooks and datafiles, as well as get help on Jupyter notebooks in the Coursera platform, visit the [Jupyter Notebook FAQ](https://www.coursera.org/learn/python-social-network-analysis/resources/yPcBs) course resource._\n",
    "\n",
    "---"
   ]
  },
  {
   "cell_type": "markdown",
   "metadata": {},
   "source": [
    "# Assignment 2 - Network Connectivity\n",
    "\n",
    "In this assignment you will go through the process of importing and analyzing an internal email communication network between employees of a mid-sized manufacturing company. \n",
    "Each node represents an employee and each directed edge between two nodes represents an individual email. The left node represents the sender and the right node represents the recipient."
   ]
  },
  {
   "cell_type": "code",
   "execution_count": 1,
   "metadata": {
    "collapsed": true
   },
   "outputs": [],
   "source": [
    "import networkx as nx\n",
    "\n",
    "# This line must be commented out when submitting to the autograder\n",
    "#!head email_network.txt\n",
    "\n",
    "#Sender Recipient  time\n",
    "# 1     2          1262454010\n",
    "# 1     3          1262454010\n",
    "# 1     4          1262454010\n",
    "# 1     5          1262454010\n",
    "# 1     6          1262454010\n",
    "# 1     7          1262454010\n",
    "# 1     8          1262454010\n",
    "# 1     9          1262454010\n",
    "# 1    10          1262454010"
   ]
  },
  {
   "cell_type": "markdown",
   "metadata": {},
   "source": [
    "### Question 1\n",
    "\n",
    "Using networkx, load up the directed multigraph from `email_network.txt`. Make sure the node names are strings.\n",
    "\n",
    "*This function should return a directed multigraph networkx graph.*"
   ]
  },
  {
   "cell_type": "code",
   "execution_count": 2,
   "metadata": {
    "collapsed": true
   },
   "outputs": [],
   "source": [
    "def answer_one(debug=False):\n",
    "    \n",
    "    # Your Code Here\n",
    "    G = nx.read_edgelist('email_network.txt', data=[('time', int)],\n",
    "                        create_using=nx.MultiDiGraph())\n",
    "    \n",
    "    return G # Your Answer Here\n",
    "\n",
    "# %matplotlib notebook\n",
    "# G = answer_one(True)\n",
    "# nx.draw_networkx(G)"
   ]
  },
  {
   "cell_type": "markdown",
   "metadata": {},
   "source": [
    "### Question 2\n",
    "\n",
    "How many employees and emails are represented in the graph from Question 1?\n",
    "\n",
    "*This function should return a tuple (#employees, #emails).*"
   ]
  },
  {
   "cell_type": "code",
   "execution_count": 14,
   "metadata": {},
   "outputs": [
    {
     "data": {
      "text/plain": [
       "(167, 82927)"
      ]
     },
     "execution_count": 14,
     "metadata": {},
     "output_type": "execute_result"
    }
   ],
   "source": [
    "def answer_two():\n",
    "        \n",
    "    # Your Code Here\n",
    "    G = answer_one()\n",
    "    \n",
    "    return (len(G.nodes()), len(G.edges()))  # Your Answer Here\n",
    "\n",
    "# answer_two()"
   ]
  },
  {
   "cell_type": "markdown",
   "metadata": {},
   "source": [
    "### Question 3\n",
    "\n",
    "* Part 1. Assume that information in this company can only be exchanged through email.\n",
    "\n",
    "    When an employee sends an email to another employee, a communication channel has been created, allowing the sender to provide information to the receiver, but not vice versa. \n",
    "\n",
    "    Based on the emails sent in the data, is it possible for information to go from every employee to every other employee?\n",
    "\n",
    "\n",
    "* Part 2. Now assume that a communication channel established by an email allows information to be exchanged both ways. \n",
    "\n",
    "    Based on the emails sent in the data, is it possible for information to go from every employee to every other employee?\n",
    "\n",
    "\n",
    "*This function should return a tuple of bools (part1, part2).*"
   ]
  },
  {
   "cell_type": "code",
   "execution_count": 19,
   "metadata": {},
   "outputs": [
    {
     "data": {
      "text/plain": [
       "(False, True)"
      ]
     },
     "execution_count": 19,
     "metadata": {},
     "output_type": "execute_result"
    }
   ],
   "source": [
    "def answer_three():\n",
    "        \n",
    "    # Your Code Here\n",
    "    G = answer_one()\n",
    "    \n",
    "    return (nx.is_strongly_connected(G), nx.is_weakly_connected(G))   # Your Answer Here\n",
    "\n",
    "# answer_three()"
   ]
  },
  {
   "cell_type": "markdown",
   "metadata": {},
   "source": [
    "### Question 4\n",
    "\n",
    "How many nodes are in the largest (in terms of nodes) weakly connected component?\n",
    "\n",
    "*This function should return an int.*"
   ]
  },
  {
   "cell_type": "code",
   "execution_count": 43,
   "metadata": {
    "scrolled": true
   },
   "outputs": [
    {
     "data": {
      "text/plain": [
       "167"
      ]
     },
     "execution_count": 43,
     "metadata": {},
     "output_type": "execute_result"
    }
   ],
   "source": [
    "def answer_four():\n",
    "        \n",
    "    # Your Code Here\n",
    "    G = answer_one()\n",
    "    \n",
    "    G_wc = sorted(nx.weakly_connected_components(G))\n",
    "    \n",
    "    return  max([len(x) for x in G_wc])  # Your Answer Here\n",
    "\n",
    "answer_four()"
   ]
  },
  {
   "cell_type": "markdown",
   "metadata": {},
   "source": [
    "### Question 5\n",
    "\n",
    "How many nodes are in the largest (in terms of nodes) strongly connected component?\n",
    "\n",
    "*This function should return an int*"
   ]
  },
  {
   "cell_type": "code",
   "execution_count": 46,
   "metadata": {},
   "outputs": [
    {
     "data": {
      "text/plain": [
       "126"
      ]
     },
     "execution_count": 46,
     "metadata": {},
     "output_type": "execute_result"
    }
   ],
   "source": [
    "def answer_five():\n",
    "        \n",
    "    # Your Code Here\n",
    "    G = answer_one()\n",
    "    \n",
    "    G_sc = sorted(nx.strongly_connected_components(G))\n",
    "    \n",
    "    return max([len(x) for x in G_sc])  # Your Answer Here\n",
    "\n",
    "# answer_five()"
   ]
  },
  {
   "cell_type": "markdown",
   "metadata": {},
   "source": [
    "### Question 6\n",
    "\n",
    "Using the NetworkX function strongly_connected_component_subgraphs, find the subgraph of nodes in a largest strongly connected component. \n",
    "Call this graph G_sc.\n",
    "\n",
    "*This function should return a networkx MultiDiGraph named G_sc.*"
   ]
  },
  {
   "cell_type": "code",
   "execution_count": 3,
   "metadata": {},
   "outputs": [
    {
     "name": "stdout",
     "output_type": "stream",
     "text": [
      "old (0) replace w/ scc(1) = {'116'}\n",
      "old (1) append w/ scc(1) = {'130'}\n",
      "old (1) append w/ scc(1) = {'133'}\n",
      "old (1) append w/ scc(1) = {'125'}\n",
      "old (1) append w/ scc(1) = {'102'}\n",
      "old (1) append w/ scc(1) = {'126'}\n",
      "old (1) append w/ scc(1) = {'136'}\n",
      "old (1) append w/ scc(1) = {'114'}\n",
      "old (1) append w/ scc(1) = {'127'}\n",
      "old (1) append w/ scc(1) = {'131'}\n",
      "old (1) append w/ scc(1) = {'132'}\n",
      "old (1) append w/ scc(1) = {'135'}\n",
      "old (1) append w/ scc(1) = {'166'}\n",
      "old (1) replace w/ scc(126) = {'119', '129', '62', '112', '97', '36', '49', '11', '75', '26', '98', '68', '101', '69', '81', '88', '78', '90', '79', '128', '113', '28', '38', '42', '19', '7', '53', '120', '25', '151', '56', '134', '65', '99', '108', '104', '6', '44', '124', '29', '33', '74', '13', '67', '123', '87', '73', '22', '34', '105', '27', '21', '85', '111', '92', '41', '59', '118', '94', '39', '83', '71', '76', '80', '20', '60', '45', '89', '122', '5', '55', '109', '64', '32', '61', '66', '100', '77', '57', '106', '31', '110', '17', '24', '58', '23', '18', '70', '16', '121', '96', '15', '95', '37', '1', '2', '30', '4', '51', '14', '8', '47', '10', '149', '63', '72', '107', '40', '91', '117', '35', '115', '46', '52', '48', '93', '54', '84', '3', '43', '82', '86', '12', '9', '103', '50'}\n"
     ]
    },
    {
     "data": {
      "text/plain": [
       "<networkx.classes.multidigraph.MultiDiGraph at 0x24b482fb908>"
      ]
     },
     "execution_count": 3,
     "metadata": {},
     "output_type": "execute_result"
    }
   ],
   "source": [
    "def answer_six(debug=False):\n",
    "        \n",
    "    # Your Code Here\n",
    "    G = answer_one()\n",
    "    \n",
    "    G_scc = sorted(nx.strongly_connected_components(G))\n",
    "    \n",
    "    node_cnt = 0\n",
    "    G_sc_lst = []\n",
    "    for scc in G_scc:\n",
    "        if node_cnt < len(scc):\n",
    "            G_sc_lst = [scc]\n",
    "            if debug:\n",
    "                print(\"old ({}) replace w/ scc({}) = {}\".format(node_cnt, len(scc), scc))\n",
    "            node_cnt = len(scc)\n",
    "        elif node_cnt == len(scc):\n",
    "            G_sc_lst.append(scc)\n",
    "            if debug:\n",
    "                print(\"old ({}) append w/ scc({}) = {}\".format(node_cnt, len(scc), scc))\n",
    "    \n",
    "    return G.subgraph(list(G_sc_lst[0]))   # Your Answer Here\n",
    "\n",
    "# answer_six(True)\n",
    "# print(\"\\nresult = \", answer_six(True).nodes())"
   ]
  },
  {
   "cell_type": "markdown",
   "metadata": {},
   "source": [
    "### Question 7\n",
    "\n",
    "What is the average distance between nodes in G_sc?\n",
    "\n",
    "*This function should return a float.*"
   ]
  },
  {
   "cell_type": "code",
   "execution_count": 5,
   "metadata": {},
   "outputs": [
    {
     "data": {
      "text/plain": [
       "1.6330939783320735"
      ]
     },
     "execution_count": 5,
     "metadata": {},
     "output_type": "execute_result"
    }
   ],
   "source": [
    "def answer_seven(debug=False):\n",
    "        \n",
    "    # Your Code Here\n",
    "    G_sc = answer_six()\n",
    "    \n",
    "    total_dist = path_cnt = 0\n",
    "    for node in G_sc.nodes():\n",
    "        spl_lst = nx.shortest_path_length(G_sc, node)\n",
    "        if debug:\n",
    "            print(sum(spl_lst.values()))\n",
    "        total_dist += sum(spl_lst.values())\n",
    "        path_cnt += len(spl_lst)\n",
    "    \n",
    "    return total_dist/path_cnt     # Your Answer Here\n",
    "\n",
    "# answer_seven(False)"
   ]
  },
  {
   "cell_type": "markdown",
   "metadata": {},
   "source": [
    "### Question 8\n",
    "\n",
    "What is the largest possible distance between two employees in G_sc?\n",
    "\n",
    "*This function should return an int.*"
   ]
  },
  {
   "cell_type": "code",
   "execution_count": 7,
   "metadata": {},
   "outputs": [
    {
     "data": {
      "text/plain": [
       "3"
      ]
     },
     "execution_count": 7,
     "metadata": {},
     "output_type": "execute_result"
    }
   ],
   "source": [
    "def answer_eight():\n",
    "        \n",
    "    # Your Code Here\n",
    "    G_sc = answer_six()\n",
    "    \n",
    "    return nx.diameter(G_sc)      # Your Answer Here\n",
    "\n",
    "# answer_eight()"
   ]
  },
  {
   "cell_type": "markdown",
   "metadata": {},
   "source": [
    "### Question 9\n",
    "\n",
    "What is the set of nodes in G_sc with eccentricity equal to the diameter?\n",
    "\n",
    "*This function should return a set of the node(s).*"
   ]
  },
  {
   "cell_type": "code",
   "execution_count": 9,
   "metadata": {},
   "outputs": [
    {
     "data": {
      "text/plain": [
       "{'129', '134', '97'}"
      ]
     },
     "execution_count": 9,
     "metadata": {},
     "output_type": "execute_result"
    }
   ],
   "source": [
    "def answer_nine():\n",
    "       \n",
    "    # Your Code Here\n",
    "    G_sc = answer_six()\n",
    "    \n",
    "    return set(nx.periphery(G_sc))     # Your Answer Here\n",
    "\n",
    "# answer_nine()"
   ]
  },
  {
   "cell_type": "markdown",
   "metadata": {},
   "source": [
    "### Question 10\n",
    "\n",
    "What is the set of node(s) in G_sc with eccentricity equal to the radius?\n",
    "\n",
    "*This function should return a set of the node(s).*"
   ]
  },
  {
   "cell_type": "code",
   "execution_count": 10,
   "metadata": {},
   "outputs": [
    {
     "data": {
      "text/plain": [
       "{'38'}"
      ]
     },
     "execution_count": 10,
     "metadata": {},
     "output_type": "execute_result"
    }
   ],
   "source": [
    "def answer_ten():\n",
    "        \n",
    "    # Your Code Here\n",
    "    G_sc = answer_six()\n",
    "    \n",
    "    return set(nx.center(G_sc))     # Your Answer Here\n",
    "\n",
    "# answer_ten()"
   ]
  },
  {
   "cell_type": "markdown",
   "metadata": {},
   "source": [
    "### Question 11\n",
    "\n",
    "Which node in G_sc is connected to the most other nodes by a shortest path of length equal to the diameter of G_sc?\n",
    "\n",
    "How many nodes are connected to this node?\n",
    "\n",
    "\n",
    "*This function should return a tuple (name of node, number of satisfied connected nodes).*"
   ]
  },
  {
   "cell_type": "code",
   "execution_count": 22,
   "metadata": {},
   "outputs": [
    {
     "data": {
      "text/plain": [
       "('97', 63)"
      ]
     },
     "execution_count": 22,
     "metadata": {},
     "output_type": "execute_result"
    }
   ],
   "source": [
    "def answer_eleven(debug=False):\n",
    "        \n",
    "    # Your Code Here\n",
    "    G_sc = answer_six()\n",
    "    \n",
    "    diameter = nx.diameter(G_sc)\n",
    "    \n",
    "    node_lst = []\n",
    "    for node in G_sc.nodes():\n",
    "        spl_lst = list(nx.shortest_path_length(G_sc, node).values())\n",
    "        if spl_lst.count(diameter) > 0:\n",
    "            node_lst.append((node, spl_lst.count(diameter)))\n",
    "        if debug:\n",
    "            print(\"add node ({}): {}\".format(node, node_lst))\n",
    "            \n",
    "    return  max(node_lst, key=lambda item: item[1])        # Your Answer Here\n",
    "\n",
    "# answer_eleven(False)"
   ]
  },
  {
   "cell_type": "markdown",
   "metadata": {},
   "source": [
    "### Question 12\n",
    "\n",
    "Suppose you want to prevent communication from flowing to the node that you found in the previous question from any node in the center of G_sc, what is the smallest number of nodes you would need to remove from the graph (you're not allowed to remove the node from the previous question or the center nodes)? \n",
    "\n",
    "*This function should return an integer.*"
   ]
  },
  {
   "cell_type": "code",
   "execution_count": 25,
   "metadata": {},
   "outputs": [
    {
     "data": {
      "text/plain": [
       "1"
      ]
     },
     "execution_count": 25,
     "metadata": {},
     "output_type": "execute_result"
    }
   ],
   "source": [
    "def answer_twelve():\n",
    "        \n",
    "    # Your Code Here\n",
    "    G_sc = answer_six()\n",
    "    \n",
    "    return  len(nx.minimum_node_cut(G_sc))     # Your Answer Here\n",
    "\n",
    "# answer_twelve()"
   ]
  },
  {
   "cell_type": "markdown",
   "metadata": {},
   "source": [
    "### Question 13\n",
    "\n",
    "Construct an undirected graph G_un using G_sc (you can ignore the attributes).\n",
    "\n",
    "*This function should return a networkx Graph.*"
   ]
  },
  {
   "cell_type": "code",
   "execution_count": null,
   "metadata": {
    "collapsed": true
   },
   "outputs": [],
   "source": [
    "def answer_thirteen():\n",
    "        \n",
    "    # Your Code Here\n",
    "    \n",
    "    return # Your Answer Here"
   ]
  },
  {
   "cell_type": "markdown",
   "metadata": {},
   "source": [
    "### Question 14\n",
    "\n",
    "What is the transitivity and average clustering coefficient of graph G_un?\n",
    "\n",
    "*This function should return a tuple (transitivity, avg clustering).*"
   ]
  },
  {
   "cell_type": "code",
   "execution_count": null,
   "metadata": {
    "collapsed": true
   },
   "outputs": [],
   "source": [
    "def answer_fourteen():\n",
    "        \n",
    "    # Your Code Here\n",
    "    \n",
    "    return # Your Answer Here"
   ]
  }
 ],
 "metadata": {
  "coursera": {
   "course_slug": "python-social-network-analysis",
   "graded_item_id": "jMCHR",
   "launcher_item_id": "7RsKp",
   "part_id": "E9gn5"
  },
  "kernelspec": {
   "display_name": "Python 3",
   "language": "python",
   "name": "python3"
  },
  "language_info": {
   "codemirror_mode": {
    "name": "ipython",
    "version": 3
   },
   "file_extension": ".py",
   "mimetype": "text/x-python",
   "name": "python",
   "nbconvert_exporter": "python",
   "pygments_lexer": "ipython3",
   "version": "3.6.2"
  }
 },
 "nbformat": 4,
 "nbformat_minor": 2
}
