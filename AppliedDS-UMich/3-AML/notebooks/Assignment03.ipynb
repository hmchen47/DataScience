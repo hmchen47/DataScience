{
 "cells": [
  {
   "cell_type": "markdown",
   "metadata": {},
   "source": [
    "---\n",
    "\n",
    "_You are currently looking at **version 1.2** of this notebook. To download notebooks and datafiles, as well as get help on Jupyter notebooks in the Coursera platform, visit the [Jupyter Notebook FAQ](https://www.coursera.org/learn/python-machine-learning/resources/bANLa) course resource._\n",
    "\n",
    "---"
   ]
  },
  {
   "cell_type": "markdown",
   "metadata": {},
   "source": [
    "# Assignment 3 - Evaluation\n",
    "\n",
    "In this assignment you will train several models and evaluate how effectively they predict instances of fraud using data based on [this dataset from Kaggle](https://www.kaggle.com/dalpozz/creditcardfraud).\n",
    " \n",
    "Each row in `fraud_data.csv` corresponds to a credit card transaction. Features include confidential variables `V1` through `V28` as well as `Amount` which is the amount of the transaction. \n",
    " \n",
    "The target is stored in the `class` column, where a value of 1 corresponds to an instance of fraud and 0 corresponds to an instance of not fraud."
   ]
  },
  {
   "cell_type": "code",
   "execution_count": 1,
   "metadata": {
    "collapsed": true
   },
   "outputs": [],
   "source": [
    "import numpy as np\n",
    "import pandas as pd"
   ]
  },
  {
   "cell_type": "markdown",
   "metadata": {},
   "source": [
    "### Question 1\n",
    "Import the data from `fraud_data.csv`. What percentage of the observations in the dataset are instances of fraud?\n",
    "\n",
    "*This function should return a float between 0 and 1.* "
   ]
  },
  {
   "cell_type": "code",
   "execution_count": 27,
   "metadata": {},
   "outputs": [],
   "source": [
    "def answer_one(debug=False):\n",
    "    \n",
    "#     # Your code here\n",
    "#     fraud_df = pd.read_csv(\"fraud_data.csv \") \n",
    "    \n",
    "#     fraud_cnt = fraud_df['Class'].sum()\n",
    "    \n",
    "#     return fraud_cnt / fraud_df.shape[0] # Return your answer\n",
    "\n",
    "    # Your code here\n",
    "    data_frame = pd.read_csv('fraud_data.csv')\n",
    "    X, y = data_frame.drop('Class', axis=1), data_frame.Class;\n",
    "    \n",
    "    result = len(y[y==1]) / (len(y[y==1]) + len(y[y==0]))\n",
    "    \n",
    "    return result # Return your answer\n",
    "\n",
    "# answer_one(debug=True)"
   ]
  },
  {
   "cell_type": "code",
   "execution_count": 28,
   "metadata": {
    "collapsed": true
   },
   "outputs": [],
   "source": [
    "# Use X_train, X_test, y_train, y_test for all of the following questions\n",
    "from sklearn.model_selection import train_test_split\n",
    "\n",
    "df = pd.read_csv('fraud_data.csv')\n",
    "\n",
    "X = df.iloc[:,:-1]\n",
    "y = df.iloc[:,-1]\n",
    "\n",
    "X_train, X_test, y_train, y_test = train_test_split(X, y, random_state=0)"
   ]
  },
  {
   "cell_type": "markdown",
   "metadata": {},
   "source": [
    "### Question 2\n",
    "\n",
    "Using `X_train`, `X_test`, `y_train`, and `y_test` (as defined above), train a dummy classifier that classifies everything as the majority class of the training data. What is the accuracy of this classifier? What is the recall?\n",
    "\n",
    "*This function should a return a tuple with two floats, i.e. `(accuracy score, recall score)`.*"
   ]
  },
  {
   "cell_type": "code",
   "execution_count": 29,
   "metadata": {},
   "outputs": [],
   "source": [
    "def answer_two(debug=False):\n",
    "    from sklearn.dummy import DummyClassifier\n",
    "    from sklearn.metrics import recall_score, accuracy_score\n",
    "    \n",
    "    # Your code here\n",
    "    dummy_majority = DummyClassifier(strategy = 'most_frequent').fit(X_train, y_train)\n",
    "    # Therefore the dummy 'most_frequent' classifier always predicts class 0\n",
    "    y_dummy_predictions = dummy_majority.predict(X_test)\n",
    "    \n",
    "    # metric scores\n",
    "    dummy_acc_score = accuracy_score(y_test, y_dummy_predictions)\n",
    "    dummy_recall_score = recall_score(y_test, y_dummy_predictions)\n",
    "    \n",
    "    return (dummy_acc_score, dummy_recall_score) # Return your answer\n",
    "\n",
    "# answer_two(debug=True)"
   ]
  },
  {
   "cell_type": "markdown",
   "metadata": {},
   "source": [
    "### Question 3\n",
    "\n",
    "Using X_train, X_test, y_train, y_test (as defined above), train a SVC classifer using the default parameters. What is the accuracy, recall, and precision of this classifier?\n",
    "\n",
    "*This function should a return a tuple with three floats, i.e. `(accuracy score, recall score, precision score)`.*"
   ]
  },
  {
   "cell_type": "code",
   "execution_count": 30,
   "metadata": {},
   "outputs": [],
   "source": [
    "def answer_three(debug=False):\n",
    "    from sklearn.metrics import accuracy_score, recall_score, precision_score, classification_report\n",
    "    from sklearn.svm import SVC\n",
    "\n",
    "    # Your code here\n",
    "    svm = SVC().fit(X_train, y_train)\n",
    "    svm_predict = svm.predict(X_test)\n",
    "    \n",
    "    prec_score = precision_score(y_test, svm_predict)\n",
    "    recall_score = recall_score(y_test, svm_predict)\n",
    "    acc_score = accuracy_score(y_test, svm_predict)\n",
    "    \n",
    "    if debug:\n",
    "        print(classification_report(y_test, svm_predict, target_names=['Neg', 'Post']))\n",
    "    \n",
    "    return (acc_score, recall_score, prec_score)  # Return your answer\n",
    "\n",
    "# answer_three(debug=False)"
   ]
  },
  {
   "cell_type": "markdown",
   "metadata": {},
   "source": [
    "### Question 4\n",
    "\n",
    "Using the SVC classifier with parameters `{'C': 1e9, 'gamma': 1e-07}`, what is the confusion matrix when using a threshold of -220 on the decision function. Use X_test and y_test.\n",
    "\n",
    "*This function should return a confusion matrix, a 2x2 numpy array with 4 integers.*"
   ]
  },
  {
   "cell_type": "code",
   "execution_count": 34,
   "metadata": {},
   "outputs": [],
   "source": [
    "def answer_four():\n",
    "    from sklearn.metrics import confusion_matrix\n",
    "    from sklearn.svm import SVC\n",
    "\n",
    "    # Your code here\n",
    "    svm = SVC(kernel='rbf', C=1e9, gamma=1e-07).fit(X_train, y_train)\n",
    "    \n",
    "    y_scores = svm.decision_function(X_test) > -220\n",
    "    # step 3-get y_predict using the decision function on X_test not using predict\n",
    "    # so y_predict will contain large negative numbers, using broadcasting , \n",
    "    # y_predict_threshold = y_predict>threshold.\n",
    "    # y_pred =svc.predict(X_test)>-220 \n",
    "    # -> you'd need to use decision_function also y_pred needs to have 2 distinct values (0 or 1).\n",
    "    confusion = confusion_matrix(y_test, y_scores)\n",
    "    \n",
    "    return confusion # Return your answer\n",
    "\n",
    "# answer_four()"
   ]
  },
  {
   "cell_type": "markdown",
   "metadata": {},
   "source": [
    "### Question 5\n",
    "\n",
    "Train a logisitic regression classifier with default parameters using X_train and y_train.\n",
    "\n",
    "For the logisitic regression classifier, create a precision recall curve and a roc curve using y_test and the probability estimates for X_test (probability it is fraud).\n",
    "\n",
    "Looking at the precision recall curve, what is the recall when the precision is `0.75`?\n",
    "\n",
    "Looking at the roc curve, what is the true positive rate when the false positive rate is `0.16`?\n",
    "\n",
    "*This function should return a tuple with two floats, i.e. `(recall, true positive rate)`.*"
   ]
  },
  {
   "cell_type": "code",
   "execution_count": 64,
   "metadata": {},
   "outputs": [],
   "source": [
    "def answer_five(debug=False):\n",
    "    \n",
    "    # Your code here\n",
    "    from sklearn.linear_model import LogisticRegression\n",
    "    \n",
    "    lr = LogisticRegression().fit(X_train, y_train).decision_function(X_test)\n",
    "    \n",
    "    def precision_recall():\n",
    "        \"\"\"Plot Precision-Recall Curve to view the result with Precision=0.8\"\"\"\n",
    "        from sklearn.metrics import precision_recall_curve\n",
    "        import matplotlib.pyplot as plt\n",
    "        \n",
    "        precision, recall, thresholds = precision_recall_curve(y_test, lr)\n",
    "        closest_zero = np.argmin(np.abs(thresholds))\n",
    "        closest_zero_p = precision[closest_zero]\n",
    "        closest_zero_r = recall[closest_zero]\n",
    "\n",
    "        plt.figure()\n",
    "        plt.xlim([0.0, 1.01])\n",
    "        plt.ylim([0.0, 1.01])\n",
    "        plt.plot(precision, recall, label='Precision-Recall Curve')\n",
    "        plt.plot(closest_zero_p, closest_zero_r, 'o', markersize = 12, fillstyle = 'none', c='r', mew=3)\n",
    "        plt.xlabel('Precision', fontsize=16)\n",
    "        plt.ylabel('Recall', fontsize=16)\n",
    "        plt.axes().set_aspect('equal')\n",
    "        plt.show()\n",
    "        \n",
    "        print(\"Precision \\t Recall:\")\n",
    "        for cnt in range(len(precision)):\n",
    "            if 0.75 < precision[cnt] < 0.85:\n",
    "                print(\"({:.6f}, {:.6f})\".format(precision[cnt], recall[cnt]))\n",
    "        \n",
    "        return None\n",
    "    \n",
    "    def roc_curve():\n",
    "        from sklearn.metrics import roc_curve, auc\n",
    "        import matplotlib.pyplot as plt\n",
    "        \n",
    "        fpr_lr, tpr_lr, _ = roc_curve(y_test, lr)\n",
    "        roc_auc_lr = auc(fpr_lr, tpr_lr)\n",
    "\n",
    "        plt.figure()\n",
    "        plt.xlim([-0.01, 1.00])\n",
    "        plt.ylim([-0.01, 1.01])\n",
    "        plt.plot(fpr_lr, tpr_lr, lw=3, label='LogRegr ROC curve (area = {:0.2f})'.format(roc_auc_lr))\n",
    "        plt.xlabel('False Positive Rate', fontsize=16)\n",
    "        plt.ylabel('True Positive Rate', fontsize=16)\n",
    "        plt.title('ROC curve (1-of-10 digits classifier)', fontsize=16)\n",
    "        plt.legend(loc='lower right', fontsize=13)\n",
    "        plt.plot([0, 1], [0, 1], color='navy', lw=3, linestyle='--')\n",
    "        plt.show()\n",
    "        \n",
    "        print(\"ROC Curve around 0.16\")\n",
    "        for idx in range(len(fpr_lr)):\n",
    "            if 0.14 < fpr_lr[idx] < 0.22:\n",
    "                print(\"({:.6f}, {:.6f})\".format(fpr_lr[idx], tpr_lr[idx]))\n",
    "        \n",
    "    if debug:\n",
    "        import matplotlib.pyplot as plt\n",
    "        \n",
    "        precision_recall()\n",
    "        roc_curve()\n",
    "    \n",
    "    return (0.825, 0.944) # Return your answer\n",
    "\n",
    "# answer_five(debug=True)"
   ]
  },
  {
   "cell_type": "markdown",
   "metadata": {},
   "source": [
    "### Question 6\n",
    "\n",
    "Perform a grid search over the parameters listed below for a Logisitic Regression classifier, using recall for scoring and the default 3-fold cross validation.\n",
    "\n",
    "`'penalty': ['l1', 'l2']`\n",
    "\n",
    "`'C':[0.01, 0.1, 1, 10, 100]`\n",
    "\n",
    "From `.cv_results_`, create an array of the mean test scores of each parameter combination. i.e.\n",
    "\n",
    "|      \t| `l1` \t| `l2` \t|\n",
    "|:----:\t|----\t|----\t|\n",
    "| **`0.01`** \t|    ?\t|   ? \t|\n",
    "| **`0.1`**  \t|    ?\t|   ? \t|\n",
    "| **`1`**    \t|    ?\t|   ? \t|\n",
    "| **`10`**   \t|    ?\t|   ? \t|\n",
    "| **`100`**   \t|    ?\t|   ? \t|\n",
    "\n",
    "<br>\n",
    "\n",
    "*This function should return a 5 by 2 numpy array with 10 floats.* \n",
    "\n",
    "*Note: do not return a DataFrame, just the values denoted by '?' above in a numpy array. You might need to reshape your raw result to meet the format we are looking for.*"
   ]
  },
  {
   "cell_type": "code",
   "execution_count": 77,
   "metadata": {},
   "outputs": [],
   "source": [
    "def answer_six(debug=False):    \n",
    "    from sklearn.model_selection import GridSearchCV\n",
    "    from sklearn.linear_model import LogisticRegression\n",
    "\n",
    "    # Your code here\n",
    "    from sklearn.linear_model import LogisticRegression\n",
    "    \n",
    "    lr = LogisticRegression().fit(X_train, y_train)\n",
    "    \n",
    "    grid_values = {'penalty': ['l1', 'l2'], 'C':[0.01, 0.1, 1, 10, 100]}\n",
    "\n",
    "    grid_clf_custom = GridSearchCV(lr, param_grid=grid_values, scoring='recall')\n",
    "    grid_clf_custom.fit(X_train, y_train)\n",
    "\n",
    "    predicted = grid_clf_custom.predict(X_test)\n",
    "\n",
    "    if debug:\n",
    "        print('Grid best parameter (max. recall): ', grid_clf_custom.best_params_)\n",
    "        print('Grid best score (recall): ', grid_clf_custom.best_score_)\n",
    "        print(\"CV Results: \\n{}\".format(grid_clf_custom.cv_results_))\n",
    "        print(\"\\n\\n\")\n",
    "    \n",
    "    return np.reshape(grid_clf_custom.cv_results_['mean_test_score'], (5, 2)) # Return your answer\n",
    "\n",
    "# answer_six(debug=True)"
   ]
  },
  {
   "cell_type": "code",
   "execution_count": null,
   "metadata": {
    "collapsed": true
   },
   "outputs": [],
   "source": [
    "# Use the following function to help visualize results from the grid search\n",
    "def GridSearch_Heatmap(scores):\n",
    "    %matplotlib notebook\n",
    "    import seaborn as sns\n",
    "    import matplotlib.pyplot as plt\n",
    "    plt.figure()\n",
    "    sns.heatmap(scores.reshape(5,2), xticklabels=['l1','l2'], yticklabels=[0.01, 0.1, 1, 10, 100])\n",
    "    plt.yticks(rotation=0);\n",
    "\n",
    "#GridSearch_Heatmap(answer_six())"
   ]
  }
 ],
 "metadata": {
  "coursera": {
   "course_slug": "python-machine-learning",
   "graded_item_id": "5yX9Z",
   "launcher_item_id": "eqnV3",
   "part_id": "Msnj0"
  },
  "kernelspec": {
   "display_name": "Python 3",
   "language": "python",
   "name": "python3"
  },
  "language_info": {
   "codemirror_mode": {
    "name": "ipython",
    "version": 3
   },
   "file_extension": ".py",
   "mimetype": "text/x-python",
   "name": "python",
   "nbconvert_exporter": "python",
   "pygments_lexer": "ipython3",
   "version": "3.6.2"
  }
 },
 "nbformat": 4,
 "nbformat_minor": 2
}
