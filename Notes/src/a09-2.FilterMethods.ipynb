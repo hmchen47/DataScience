{
 "cells": [
  {
   "cell_type": "code",
   "execution_count": null,
   "metadata": {},
   "outputs": [],
   "source": [
    "import pandas as pd\n",
    "import numpy as np\n",
    "import seaborn as sns\n",
    "import matplotlib.pyplot as plt"
   ]
  },
  {
   "cell_type": "code",
   "execution_count": null,
   "metadata": {},
   "outputs": [],
   "source": [
    "data = pd.read_csv('data/housing.csv')"
   ]
  },
  {
   "cell_type": "code",
   "execution_count": null,
   "metadata": {},
   "outputs": [],
   "source": [
    "data.shape"
   ]
  },
  {
   "cell_type": "markdown",
   "metadata": {},
   "source": [
    "# Constant Features"
   ]
  },
  {
   "cell_type": "code",
   "execution_count": null,
   "metadata": {},
   "outputs": [],
   "source": [
    "from sklearn.model_selection import train_test_split\n",
    "x_train, x_test, y_train, y_test = train_test_split(data.drop(['SalePrice'], axis=1), \n",
    "                                                    data.SalePrice, test_size=0.3, \n",
    "                                                    random_state=0)"
   ]
  },
  {
   "cell_type": "code",
   "execution_count": null,
   "metadata": {},
   "outputs": [],
   "source": [
    "numerical_x_train = x_train[x_train.select_dtypes([np.number]).columns]"
   ]
  },
  {
   "cell_type": "code",
   "execution_count": null,
   "metadata": {},
   "outputs": [],
   "source": [
    "from sklearn.feature_selection import VarianceThreshold\n",
    "vs_constant = VarianceThreshold(threshold=0)"
   ]
  },
  {
   "cell_type": "code",
   "execution_count": null,
   "metadata": {},
   "outputs": [],
   "source": [
    "vs_constant.fit(numerical_x_train)"
   ]
  },
  {
   "cell_type": "code",
   "execution_count": null,
   "metadata": {},
   "outputs": [],
   "source": [
    "len(x_train[x_train.select_dtypes([np.number]).columns].columns[vs_constant.get_support()])"
   ]
  },
  {
   "cell_type": "code",
   "execution_count": null,
   "metadata": {},
   "outputs": [],
   "source": [
    "constant_columns = [column for column in numerical_x_train.columns\n",
    "                    if column not in numerical_x_train.columns[vs_constant.get_support()]]"
   ]
  },
  {
   "cell_type": "code",
   "execution_count": null,
   "metadata": {},
   "outputs": [],
   "source": [
    "len(constant_columns)"
   ]
  },
  {
   "cell_type": "code",
   "execution_count": null,
   "metadata": {},
   "outputs": [],
   "source": [
    "constant_cat_columns = [column for column in x_train.columns \n",
    "                        if (x_train[column].dtype == \"O\" and len(x_train[column].unique())  == 1 )]"
   ]
  },
  {
   "cell_type": "code",
   "execution_count": null,
   "metadata": {},
   "outputs": [],
   "source": [
    "all_constant_columns = constant_cat_columns + constant_columns"
   ]
  },
  {
   "cell_type": "code",
   "execution_count": null,
   "metadata": {},
   "outputs": [],
   "source": [
    "x_train.drop(labels=constant_columns, axis=1, inplace=True)\n",
    "x_test.drop(labels=constant_columns, axis=1, inplace=True)"
   ]
  },
  {
   "cell_type": "markdown",
   "metadata": {},
   "source": [
    "# Quasi Constant features"
   ]
  },
  {
   "cell_type": "code",
   "execution_count": null,
   "metadata": {
    "tags": []
   },
   "outputs": [],
   "source": [
    "data = pd.read_csv('data/housing.csv')\n",
    "\n",
    "from sklearn.model_selection import train_test_split\n",
    "x_train, x_test, y_train, y_test = train_test_split(data.drop(['SalePrice'], axis=1), \n",
    "                                                    data.SalePrice, test_size=0.3, \n",
    "                                                    random_state=0)\n",
    "\n",
    "threshold = 0.98\n",
    "\n",
    "# create empty list\n",
    "quasi_constant_feature = []\n",
    "\n",
    "# loop over all the columns\n",
    "for feature in x_train.columns:\n",
    "\n",
    "    # calculate the ratio.\n",
    "    predominant = (x_train[feature].value_counts() / np.float(len(x_train))).sort_values(ascending=False).values[0]\n",
    "    \n",
    "    # append the column name if it is bigger than the threshold\n",
    "    if predominant >= threshold:\n",
    "        quasi_constant_feature.append(feature)  \n",
    "        \n",
    "print(quasi_constant_feature)"
   ]
  },
  {
   "cell_type": "code",
   "execution_count": null,
   "metadata": {},
   "outputs": [],
   "source": [
    "# print(len(x_train.columns))\n",
    "\n",
    "# drop the quasi constant columns\n",
    "x_train.drop(labels=quasi_constant_feature, axis=1, inplace=True)\n",
    "x_test.drop(labels=quasi_constant_feature, axis=1, inplace=True)\n",
    "\n",
    "# print(len(x_train.columns))\n"
   ]
  },
  {
   "cell_type": "markdown",
   "metadata": {},
   "source": [
    "# Duplicated Features"
   ]
  },
  {
   "cell_type": "code",
   "execution_count": 116,
   "metadata": {},
   "outputs": [],
   "source": [
    "data = pd.read_csv('data/housing.csv')\n",
    "\n",
    "data['test'] = data['LotFrontage']\n",
    "\n",
    "from sklearn.model_selection import train_test_split\n",
    "x_train, x_test, y_train, y_test = train_test_split(data.drop(['SalePrice'], axis=1), \n",
    "                                                    data.SalePrice, test_size=0.3, \n",
    "                                                    random_state=0)\n",
    "\n",
    "# x_train.info()"
   ]
  },
  {
   "cell_type": "code",
   "execution_count": 117,
   "metadata": {},
   "outputs": [
    {
     "output_type": "execute_result",
     "data": {
      "text/plain": [
       "              64     682   960   1384  1100  416   1034   853   472   1011  \\\n",
       "Id              65    683   961  1385  1101   417  1035    854   473  1012   \n",
       "MSSubClass      60    120    20    50    30    60    30     80   180    90   \n",
       "MSZoning        RL     RL    RL    RL    RL    RL    RL     RL    RM    RL   \n",
       "LotFrontage  70.05  70.05    50    60    60    74    50  70.05    35    75   \n",
       "LotArea       9375   2887  7207  9060  8400  7844  6305  12095  3675  9825   \n",
       "\n",
       "             ...  1094  599    277    1033   1383  763   835   1216   559   \\\n",
       "Id           ...  1095   600    278   1034   1384   764   836  1217    560   \n",
       "MSSubClass   ...    20   160     20     20     30    60    20    90    120   \n",
       "MSZoning     ...    RL    RM     RL     RL     RL    RL    RL    RM     RL   \n",
       "LotFrontage  ...    74    24    140  70.05  70.05    82    60    68  70.05   \n",
       "LotArea      ...  5868  1950  19138   8125  25339  9430  9600  8930   3196   \n",
       "\n",
       "              684   \n",
       "Id             685  \n",
       "MSSubClass      60  \n",
       "MSZoning        RL  \n",
       "LotFrontage     58  \n",
       "LotArea      16770  \n",
       "\n",
       "[5 rows x 1022 columns]"
      ],
      "text/html": "<div>\n<style scoped>\n    .dataframe tbody tr th:only-of-type {\n        vertical-align: middle;\n    }\n\n    .dataframe tbody tr th {\n        vertical-align: top;\n    }\n\n    .dataframe thead th {\n        text-align: right;\n    }\n</style>\n<table border=\"1\" class=\"dataframe\">\n  <thead>\n    <tr style=\"text-align: right;\">\n      <th></th>\n      <th>64</th>\n      <th>682</th>\n      <th>960</th>\n      <th>1384</th>\n      <th>1100</th>\n      <th>416</th>\n      <th>1034</th>\n      <th>853</th>\n      <th>472</th>\n      <th>1011</th>\n      <th>...</th>\n      <th>1094</th>\n      <th>599</th>\n      <th>277</th>\n      <th>1033</th>\n      <th>1383</th>\n      <th>763</th>\n      <th>835</th>\n      <th>1216</th>\n      <th>559</th>\n      <th>684</th>\n    </tr>\n  </thead>\n  <tbody>\n    <tr>\n      <th>Id</th>\n      <td>65</td>\n      <td>683</td>\n      <td>961</td>\n      <td>1385</td>\n      <td>1101</td>\n      <td>417</td>\n      <td>1035</td>\n      <td>854</td>\n      <td>473</td>\n      <td>1012</td>\n      <td>...</td>\n      <td>1095</td>\n      <td>600</td>\n      <td>278</td>\n      <td>1034</td>\n      <td>1384</td>\n      <td>764</td>\n      <td>836</td>\n      <td>1217</td>\n      <td>560</td>\n      <td>685</td>\n    </tr>\n    <tr>\n      <th>MSSubClass</th>\n      <td>60</td>\n      <td>120</td>\n      <td>20</td>\n      <td>50</td>\n      <td>30</td>\n      <td>60</td>\n      <td>30</td>\n      <td>80</td>\n      <td>180</td>\n      <td>90</td>\n      <td>...</td>\n      <td>20</td>\n      <td>160</td>\n      <td>20</td>\n      <td>20</td>\n      <td>30</td>\n      <td>60</td>\n      <td>20</td>\n      <td>90</td>\n      <td>120</td>\n      <td>60</td>\n    </tr>\n    <tr>\n      <th>MSZoning</th>\n      <td>RL</td>\n      <td>RL</td>\n      <td>RL</td>\n      <td>RL</td>\n      <td>RL</td>\n      <td>RL</td>\n      <td>RL</td>\n      <td>RL</td>\n      <td>RM</td>\n      <td>RL</td>\n      <td>...</td>\n      <td>RL</td>\n      <td>RM</td>\n      <td>RL</td>\n      <td>RL</td>\n      <td>RL</td>\n      <td>RL</td>\n      <td>RL</td>\n      <td>RM</td>\n      <td>RL</td>\n      <td>RL</td>\n    </tr>\n    <tr>\n      <th>LotFrontage</th>\n      <td>70.05</td>\n      <td>70.05</td>\n      <td>50</td>\n      <td>60</td>\n      <td>60</td>\n      <td>74</td>\n      <td>50</td>\n      <td>70.05</td>\n      <td>35</td>\n      <td>75</td>\n      <td>...</td>\n      <td>74</td>\n      <td>24</td>\n      <td>140</td>\n      <td>70.05</td>\n      <td>70.05</td>\n      <td>82</td>\n      <td>60</td>\n      <td>68</td>\n      <td>70.05</td>\n      <td>58</td>\n    </tr>\n    <tr>\n      <th>LotArea</th>\n      <td>9375</td>\n      <td>2887</td>\n      <td>7207</td>\n      <td>9060</td>\n      <td>8400</td>\n      <td>7844</td>\n      <td>6305</td>\n      <td>12095</td>\n      <td>3675</td>\n      <td>9825</td>\n      <td>...</td>\n      <td>5868</td>\n      <td>1950</td>\n      <td>19138</td>\n      <td>8125</td>\n      <td>25339</td>\n      <td>9430</td>\n      <td>9600</td>\n      <td>8930</td>\n      <td>3196</td>\n      <td>16770</td>\n    </tr>\n  </tbody>\n</table>\n<p>5 rows × 1022 columns</p>\n</div>"
     },
     "metadata": {},
     "execution_count": 117
    }
   ],
   "source": [
    "train_features_T = x_train.T\n",
    "train_features_T.head()"
   ]
  },
  {
   "cell_type": "code",
   "execution_count": 118,
   "metadata": {},
   "outputs": [
    {
     "output_type": "stream",
     "name": "stdout",
     "text": [
      "1\n"
     ]
    }
   ],
   "source": [
    "print(train_features_T.duplicated().sum())"
   ]
  },
  {
   "cell_type": "code",
   "execution_count": 122,
   "metadata": {
    "tags": []
   },
   "outputs": [],
   "source": [
    "duplicated_columns = train_features_T[train_features_T.duplicated()].index.values\n"
   ]
  },
  {
   "cell_type": "code",
   "execution_count": 120,
   "metadata": {},
   "outputs": [],
   "source": [
    "x_train.drop(labels=duplicated_columns, axis=1, inplace=True)\n",
    "x_test.drop(labels=duplicated_columns, axis=1, inplace=True)\n",
    "\n",
    "# x_train.info()"
   ]
  },
  {
   "cell_type": "markdown",
   "metadata": {},
   "source": [
    "# Correlation methods"
   ]
  },
  {
   "cell_type": "code",
   "execution_count": null,
   "metadata": {},
   "outputs": [],
   "source": [
    "data = pd.read_csv('data/housing.csv')\n",
    "\n",
    "from sklearn.model_selection import train_test_split\n",
    "x_train, x_test, y_train, y_test = train_test_split(data.drop(['SalePrice'], axis=1), \n",
    "                                                    data.SalePrice, test_size=0.3, \n",
    "                                                    random_state=0)"
   ]
  },
  {
   "cell_type": "code",
   "execution_count": null,
   "metadata": {},
   "outputs": [],
   "source": [
    "correlated_features = set()\n",
    "correlation_matrix = x_train.corr()"
   ]
  },
  {
   "cell_type": "code",
   "execution_count": null,
   "metadata": {},
   "outputs": [],
   "source": [
    "plt.figure(figsize=(11,11))\n",
    "sns.heatmap(correlation_matrix)"
   ]
  },
  {
   "cell_type": "code",
   "execution_count": null,
   "metadata": {},
   "outputs": [],
   "source": [
    "for i in range(len(correlation_matrix .columns)):\n",
    "    for j in range(i):\n",
    "        if abs(correlation_matrix.iloc[i, j]) > 0.8:\n",
    "            colname = correlation_matrix.columns[i]\n",
    "            correlated_features.add(colname)"
   ]
  },
  {
   "cell_type": "code",
   "execution_count": null,
   "metadata": {},
   "outputs": [],
   "source": [
    "correlated_features"
   ]
  },
  {
   "cell_type": "code",
   "execution_count": null,
   "metadata": {},
   "outputs": [],
   "source": [
    "x_train.drop(labels=correlated_features, axis=1, inplace=True)\n",
    "x_test.drop(labels=correlated_features, axis=1, inplace=True)"
   ]
  },
  {
   "cell_type": "markdown",
   "metadata": {},
   "source": [
    "# Statistical Measures"
   ]
  },
  {
   "cell_type": "code",
   "execution_count": null,
   "metadata": {},
   "outputs": [],
   "source": [
    "data = pd.read_csv('data/housing.csv')\n",
    "\n",
    "from sklearn.model_selection import train_test_split\n",
    "x_train, x_test, y_train, y_test = train_test_split(data.drop(['SalePrice'], axis=1), \n",
    "                                                    data.SalePrice, test_size=0.3, \n",
    "                                                    random_state=0)"
   ]
  },
  {
   "cell_type": "code",
   "execution_count": null,
   "metadata": {},
   "outputs": [],
   "source": [
    "from sklearn.feature_selection import mutual_info_classif, chi2\n",
    "from sklearn.feature_selection import SelectKBest, SelectPercentile\n",
    "from sklearn.tree import DecisionTreeClassifier, DecisionTreeRegressor\n",
    "from sklearn.metrics import roc_auc_score, mean_squared_error"
   ]
  },
  {
   "cell_type": "markdown",
   "metadata": {},
   "source": [
    "### Mutual Information"
   ]
  },
  {
   "cell_type": "code",
   "execution_count": null,
   "metadata": {},
   "outputs": [],
   "source": [
    "from sklearn.model_selection import train_test_split\n",
    "x_train, x_test, y_train, y_test = train_test_split(data.drop(['SalePrice'], axis=1), \n",
    "                                                    data.SalePrice, test_size=0.3, \n",
    "                                                    random_state=0)"
   ]
  },
  {
   "cell_type": "code",
   "execution_count": null,
   "metadata": {},
   "outputs": [],
   "source": [
    "# select the number of features you want to retain.\n",
    "select_k = 10\n",
    "\n",
    "# get only the numerical features.\n",
    "numerical_x_train = x_train[x_train.select_dtypes([np.number]).columns]\n",
    "\n",
    "\n",
    "# create the SelectKBest with the mutual info strategy.\n",
    "selection = SelectKBest(mutual_info_classif, k=select_k).fit(numerical_x_train, y_train)\n",
    "\n",
    "# display the retained features.\n",
    "features = x_train.columns[selection.get_support()]\n",
    "print(features)"
   ]
  },
  {
   "cell_type": "code",
   "execution_count": null,
   "metadata": {},
   "outputs": [],
   "source": [
    "mutual_info(x_train, y_train)"
   ]
  },
  {
   "cell_type": "markdown",
   "metadata": {},
   "source": [
    "### Chi Squared Score"
   ]
  },
  {
   "cell_type": "code",
   "execution_count": null,
   "metadata": {},
   "outputs": [],
   "source": [
    "# change this to how much features you want to keep from the top ones.\n",
    "select_k = 10\n",
    "\n",
    "# apply the chi2 score on the data and target (target should be binary).  \n",
    "selection = SelectKBest(chi2, k=select_k).fit(x_train, y_train)\n",
    "\n",
    "# display the k selected features.\n",
    "features = x_train.columns[selection.get_support()]\n",
    "print(features)"
   ]
  },
  {
   "cell_type": "markdown",
   "metadata": {},
   "source": [
    "### Univariate RMSE"
   ]
  },
  {
   "cell_type": "code",
   "execution_count": null,
   "metadata": {},
   "outputs": [],
   "source": [
    "from sklearn.model_selection import train_test_split\n",
    "x_train, x_test, y_train, y_test = train_test_split(data.drop(['SalePrice'], axis=1), \n",
    "                                                    data.SalePrice, test_size=0.3, \n",
    "                                                    random_state=0)"
   ]
  },
  {
   "cell_type": "code",
   "execution_count": null,
   "metadata": {},
   "outputs": [],
   "source": [
    "univariate_rmse()"
   ]
  },
  {
   "cell_type": "markdown",
   "metadata": {},
   "source": [
    "### Univariate ROC-AUC"
   ]
  },
  {
   "cell_type": "code",
   "execution_count": null,
   "metadata": {},
   "outputs": [],
   "source": [
    "def univariate_roc_auc():\n",
    "    roc_values = []\n",
    "    for feature in x_train.columns:\n",
    "        clf = DecisionTreeClassifier()\n",
    "        clf.fit(x_train[feature].to_frame(), y_train)\n",
    "        y_scored = clf.predict_proba(x_test[feature].to_frame())\n",
    "        roc_values.append(roc_auc_score(y_test, y_scored[:, 1]))\n",
    "    roc_values = pd.Series(roc_values)\n",
    "    roc_values.index = X_train.columns\n",
    "    print(roc_values.sort_values(ascending=False))\n",
    "    print(len(roc_values[roc_values > threshold]),'out of the %s featues are kept'% len(X_train.columns))\n",
    "    keep_col = roc_values[roc_values > threshold]\n",
    "    return keep_col"
   ]
  },
  {
   "cell_type": "code",
   "execution_count": null,
   "metadata": {},
   "outputs": [],
   "source": [
    "# use it for a classification task.\n",
    "# univariate_roc_auc()"
   ]
  }
 ],
 "metadata": {
  "kernelspec": {
   "display_name": "Python 3",
   "language": "python",
   "name": "python3"
  },
  "language_info": {
   "codemirror_mode": {
    "name": "ipython",
    "version": 3
   },
   "file_extension": ".py",
   "mimetype": "text/x-python",
   "name": "python",
   "nbconvert_exporter": "python",
   "pygments_lexer": "ipython3",
   "version": "3.8.5-final"
  }
 },
 "nbformat": 4,
 "nbformat_minor": 2
}