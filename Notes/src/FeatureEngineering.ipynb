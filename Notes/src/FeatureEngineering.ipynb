{
 "cells": [
  {
   "cell_type": "markdown",
   "metadata": {
    "toc": true
   },
   "source": [
    "<h1>Table of Contents<span class=\"tocSkip\"></span></h1>\n",
    "<div class=\"toc\"><ul class=\"toc-item\"><li><span><a href=\"#Logarithmic-Conversion\" data-toc-modified-id=\"Logarithmic-Conversion-1\"><span class=\"toc-item-num\">1&nbsp;&nbsp;</span>Logarithmic Conversion</a></span></li><li><span><a href=\"#Imputation\" data-toc-modified-id=\"Imputation-2\"><span class=\"toc-item-num\">2&nbsp;&nbsp;</span>Imputation</a></span></li><li><span><a href=\"#Dates\" data-toc-modified-id=\"Dates-3\"><span class=\"toc-item-num\">3&nbsp;&nbsp;</span>Dates</a></span></li><li><span><a href=\"#Outliers\" data-toc-modified-id=\"Outliers-4\"><span class=\"toc-item-num\">4&nbsp;&nbsp;</span>Outliers</a></span></li><li><span><a href=\"#Binning\" data-toc-modified-id=\"Binning-5\"><span class=\"toc-item-num\">5&nbsp;&nbsp;</span>Binning</a></span></li><li><span><a href=\"#Categorical-to-Numeric\" data-toc-modified-id=\"Categorical-to-Numeric-6\"><span class=\"toc-item-num\">6&nbsp;&nbsp;</span>Categorical to Numeric</a></span></li><li><span><a href=\"#Machine-Learning\" data-toc-modified-id=\"Machine-Learning-7\"><span class=\"toc-item-num\">7&nbsp;&nbsp;</span>Machine Learning</a></span></li></ul></div>"
   ]
  },
  {
   "cell_type": "markdown",
   "metadata": {},
   "source": [
    "# Feature Engineering Techniques"
   ]
  },
  {
   "cell_type": "code",
   "execution_count": 1,
   "metadata": {},
   "outputs": [
    {
     "data": {
      "text/html": [
       "<div>\n",
       "<style scoped>\n",
       "    .dataframe tbody tr th:only-of-type {\n",
       "        vertical-align: middle;\n",
       "    }\n",
       "\n",
       "    .dataframe tbody tr th {\n",
       "        vertical-align: top;\n",
       "    }\n",
       "\n",
       "    .dataframe thead th {\n",
       "        text-align: right;\n",
       "    }\n",
       "</style>\n",
       "<table border=\"1\" class=\"dataframe\">\n",
       "  <thead>\n",
       "    <tr style=\"text-align: right;\">\n",
       "      <th></th>\n",
       "      <th>Date</th>\n",
       "      <th>X1</th>\n",
       "      <th>X2</th>\n",
       "      <th>X3</th>\n",
       "      <th>X4</th>\n",
       "      <th>Y</th>\n",
       "    </tr>\n",
       "  </thead>\n",
       "  <tbody>\n",
       "    <tr>\n",
       "      <th>0</th>\n",
       "      <td>2016-01-01</td>\n",
       "      <td>11.798186</td>\n",
       "      <td>16.299548</td>\n",
       "      <td>9.466762</td>\n",
       "      <td>Car</td>\n",
       "      <td>True</td>\n",
       "    </tr>\n",
       "    <tr>\n",
       "      <th>1</th>\n",
       "      <td>2016-01-02</td>\n",
       "      <td>6.705743</td>\n",
       "      <td>14.254479</td>\n",
       "      <td>7.405022</td>\n",
       "      <td>Car</td>\n",
       "      <td>True</td>\n",
       "    </tr>\n",
       "    <tr>\n",
       "      <th>2</th>\n",
       "      <td>2016-01-03</td>\n",
       "      <td>5.451097</td>\n",
       "      <td>16.471537</td>\n",
       "      <td>7.440786</td>\n",
       "      <td>Car</td>\n",
       "      <td>True</td>\n",
       "    </tr>\n",
       "    <tr>\n",
       "      <th>3</th>\n",
       "      <td>2016-01-04</td>\n",
       "      <td>13.364043</td>\n",
       "      <td>22.021941</td>\n",
       "      <td>NaN</td>\n",
       "      <td>Car</td>\n",
       "      <td>True</td>\n",
       "    </tr>\n",
       "    <tr>\n",
       "      <th>4</th>\n",
       "      <td>2016-01-05</td>\n",
       "      <td>NaN</td>\n",
       "      <td>19.937920</td>\n",
       "      <td>7.422658</td>\n",
       "      <td>Car</td>\n",
       "      <td>True</td>\n",
       "    </tr>\n",
       "  </tbody>\n",
       "</table>\n",
       "</div>"
      ],
      "text/plain": [
       "        Date         X1         X2        X3   X4     Y\n",
       "0 2016-01-01  11.798186  16.299548  9.466762  Car  True\n",
       "1 2016-01-02   6.705743  14.254479  7.405022  Car  True\n",
       "2 2016-01-03   5.451097  16.471537  7.440786  Car  True\n",
       "3 2016-01-04  13.364043  22.021941       NaN  Car  True\n",
       "4 2016-01-05        NaN  19.937920  7.422658  Car  True"
      ]
     },
     "execution_count": 1,
     "metadata": {},
     "output_type": "execute_result"
    }
   ],
   "source": [
    "import numpy as np\n",
    "import pandas as pd \n",
    "\n",
    "dataset_len = 8000\n",
    "dlen = int(dataset_len/2)\n",
    "X_11 = pd.Series(np.random.normal(8,2,dlen))\n",
    "X_12 = pd.Series(np.random.randint(low=0, high=100, size=dlen))\n",
    "X_1 = pd.concat([X_11, X_12]).reset_index(drop=True)\n",
    "X_21 = pd.Series(np.random.normal(20,3,dlen))\n",
    "X_22 = pd.Series(np.random.normal(9,3,dlen))\n",
    "X_2 = pd.concat([X_21, X_22]).reset_index(drop=True)\n",
    "X_31 = pd.Series(np.random.normal(8,2,dlen))\n",
    "X_32 = pd.Series(np.random.randint(low=0, high=300, size=dlen))\n",
    "X_3 = pd.concat([X_31, X_32]).reset_index(drop=True)\n",
    "X_4 = pd.Series(np.repeat(['Car', 'Bus', 'Bike', 'Scooter'],\n",
    "                          dlen/2))\n",
    "Y = pd.Series(np.repeat(['True','False'],dlen))\n",
    "df = pd.concat([X_1, X_2, X_3, X_4, Y], axis=1)\n",
    "df.columns = ['X1', 'X2', 'X3', 'X4', 'Y']\n",
    "df['X1'] = df['X1'].mask(np.random.random(df['X1'].shape) < 0.22)\n",
    "df[['X3', 'X4']] = df[['X3', 'X4']].mask(np.random.random(df[['X3', \n",
    "                        'X4']].shape) < 0.10)\n",
    "dates = pd.date_range(start='1/1/2016', periods=len(df), freq='D')\n",
    "df.insert(loc= 0, column='Date', value= dates)\n",
    "df.head()"
   ]
  },
  {
   "cell_type": "markdown",
   "metadata": {},
   "source": [
    "## Logarithmic Conversion"
   ]
  },
  {
   "cell_type": "code",
   "execution_count": 2,
   "metadata": {},
   "outputs": [
    {
     "data": {
      "text/html": [
       "<div>\n",
       "<style scoped>\n",
       "    .dataframe tbody tr th:only-of-type {\n",
       "        vertical-align: middle;\n",
       "    }\n",
       "\n",
       "    .dataframe tbody tr th {\n",
       "        vertical-align: top;\n",
       "    }\n",
       "\n",
       "    .dataframe thead th {\n",
       "        text-align: right;\n",
       "    }\n",
       "</style>\n",
       "<table border=\"1\" class=\"dataframe\">\n",
       "  <thead>\n",
       "    <tr style=\"text-align: right;\">\n",
       "      <th></th>\n",
       "      <th>Date</th>\n",
       "      <th>X1</th>\n",
       "      <th>X2</th>\n",
       "      <th>X3</th>\n",
       "      <th>X4</th>\n",
       "      <th>Y</th>\n",
       "    </tr>\n",
       "  </thead>\n",
       "  <tbody>\n",
       "    <tr>\n",
       "      <th>2496</th>\n",
       "      <td>2022-11-01</td>\n",
       "      <td>2.482055</td>\n",
       "      <td>3.270268</td>\n",
       "      <td>2.487769</td>\n",
       "      <td>Bus</td>\n",
       "      <td>True</td>\n",
       "    </tr>\n",
       "    <tr>\n",
       "      <th>782</th>\n",
       "      <td>2018-02-21</td>\n",
       "      <td>NaN</td>\n",
       "      <td>3.139792</td>\n",
       "      <td>1.970446</td>\n",
       "      <td>Car</td>\n",
       "      <td>True</td>\n",
       "    </tr>\n",
       "    <tr>\n",
       "      <th>3449</th>\n",
       "      <td>2025-06-11</td>\n",
       "      <td>NaN</td>\n",
       "      <td>3.176024</td>\n",
       "      <td>2.672777</td>\n",
       "      <td>Bus</td>\n",
       "      <td>True</td>\n",
       "    </tr>\n",
       "    <tr>\n",
       "      <th>148</th>\n",
       "      <td>2016-05-28</td>\n",
       "      <td>2.350232</td>\n",
       "      <td>3.434115</td>\n",
       "      <td>2.216226</td>\n",
       "      <td>Car</td>\n",
       "      <td>True</td>\n",
       "    </tr>\n",
       "    <tr>\n",
       "      <th>7505</th>\n",
       "      <td>2036-07-19</td>\n",
       "      <td>NaN</td>\n",
       "      <td>2.248421</td>\n",
       "      <td>NaN</td>\n",
       "      <td>Scooter</td>\n",
       "      <td>False</td>\n",
       "    </tr>\n",
       "  </tbody>\n",
       "</table>\n",
       "</div>"
      ],
      "text/plain": [
       "           Date        X1        X2        X3       X4      Y\n",
       "2496 2022-11-01  2.482055  3.270268  2.487769      Bus   True\n",
       "782  2018-02-21       NaN  3.139792  1.970446      Car   True\n",
       "3449 2025-06-11       NaN  3.176024  2.672777      Bus   True\n",
       "148  2016-05-28  2.350232  3.434115  2.216226      Car   True\n",
       "7505 2036-07-19       NaN  2.248421       NaN  Scooter  False"
      ]
     },
     "execution_count": 2,
     "metadata": {},
     "output_type": "execute_result"
    }
   ],
   "source": [
    "df[['X1', 'X2', 'X3']]=(df[['X1','X2','X3']]-\n",
    "                        df[['X1','X2','X3']].min()+\n",
    "                        1).transform(np.log)\n",
    "df.sample(5)"
   ]
  },
  {
   "cell_type": "markdown",
   "metadata": {},
   "source": [
    "## Imputation"
   ]
  },
  {
   "cell_type": "code",
   "execution_count": 3,
   "metadata": {},
   "outputs": [
    {
     "data": {
      "text/html": [
       "<div>\n",
       "<style scoped>\n",
       "    .dataframe tbody tr th:only-of-type {\n",
       "        vertical-align: middle;\n",
       "    }\n",
       "\n",
       "    .dataframe tbody tr th {\n",
       "        vertical-align: top;\n",
       "    }\n",
       "\n",
       "    .dataframe thead th {\n",
       "        text-align: right;\n",
       "    }\n",
       "</style>\n",
       "<table border=\"1\" class=\"dataframe\">\n",
       "  <thead>\n",
       "    <tr style=\"text-align: right;\">\n",
       "      <th></th>\n",
       "      <th>NaNs percentage</th>\n",
       "    </tr>\n",
       "  </thead>\n",
       "  <tbody>\n",
       "    <tr>\n",
       "      <th>X1</th>\n",
       "      <td>21.8000</td>\n",
       "    </tr>\n",
       "    <tr>\n",
       "      <th>X4</th>\n",
       "      <td>10.4625</td>\n",
       "    </tr>\n",
       "    <tr>\n",
       "      <th>X3</th>\n",
       "      <td>9.5875</td>\n",
       "    </tr>\n",
       "    <tr>\n",
       "      <th>Date</th>\n",
       "      <td>0.0000</td>\n",
       "    </tr>\n",
       "    <tr>\n",
       "      <th>X2</th>\n",
       "      <td>0.0000</td>\n",
       "    </tr>\n",
       "    <tr>\n",
       "      <th>Y</th>\n",
       "      <td>0.0000</td>\n",
       "    </tr>\n",
       "  </tbody>\n",
       "</table>\n",
       "</div>"
      ],
      "text/plain": [
       "      NaNs percentage\n",
       "X1            21.8000\n",
       "X4            10.4625\n",
       "X3             9.5875\n",
       "Date           0.0000\n",
       "X2             0.0000\n",
       "Y              0.0000"
      ]
     },
     "execution_count": 3,
     "metadata": {},
     "output_type": "execute_result"
    }
   ],
   "source": [
    "percent_missing = df.isnull().sum() * 100 / len(df)\n",
    "missing_values = pd.DataFrame({'NaNs percentage': percent_missing})\n",
    "missing_values.sort_values(by ='NaNs percentage' , ascending=False)"
   ]
  },
  {
   "cell_type": "code",
   "execution_count": 4,
   "metadata": {},
   "outputs": [
    {
     "data": {
      "text/html": [
       "<div>\n",
       "<style scoped>\n",
       "    .dataframe tbody tr th:only-of-type {\n",
       "        vertical-align: middle;\n",
       "    }\n",
       "\n",
       "    .dataframe tbody tr th {\n",
       "        vertical-align: top;\n",
       "    }\n",
       "\n",
       "    .dataframe thead th {\n",
       "        text-align: right;\n",
       "    }\n",
       "</style>\n",
       "<table border=\"1\" class=\"dataframe\">\n",
       "  <thead>\n",
       "    <tr style=\"text-align: right;\">\n",
       "      <th></th>\n",
       "      <th>NaNs percentage</th>\n",
       "    </tr>\n",
       "  </thead>\n",
       "  <tbody>\n",
       "    <tr>\n",
       "      <th>X4</th>\n",
       "      <td>10.4625</td>\n",
       "    </tr>\n",
       "    <tr>\n",
       "      <th>X3</th>\n",
       "      <td>9.5875</td>\n",
       "    </tr>\n",
       "    <tr>\n",
       "      <th>Date</th>\n",
       "      <td>0.0000</td>\n",
       "    </tr>\n",
       "    <tr>\n",
       "      <th>X2</th>\n",
       "      <td>0.0000</td>\n",
       "    </tr>\n",
       "    <tr>\n",
       "      <th>Y</th>\n",
       "      <td>0.0000</td>\n",
       "    </tr>\n",
       "  </tbody>\n",
       "</table>\n",
       "</div>"
      ],
      "text/plain": [
       "      NaNs percentage\n",
       "X4            10.4625\n",
       "X3             9.5875\n",
       "Date           0.0000\n",
       "X2             0.0000\n",
       "Y              0.0000"
      ]
     },
     "execution_count": 4,
     "metadata": {},
     "output_type": "execute_result"
    }
   ],
   "source": [
    "# Drop Column if at least 20% of it's elements are Nans\n",
    "df = df.loc[:, df.isnull().sum() < 0.2*df.shape[0]]\n",
    "\n",
    "percent_missing = df.isnull().sum() * 100 / len(df)\n",
    "missing_values = pd.DataFrame({'NaNs percentage': percent_missing})\n",
    "missing_values.sort_values(by ='NaNs percentage' , ascending=False)"
   ]
  },
  {
   "cell_type": "code",
   "execution_count": 5,
   "metadata": {},
   "outputs": [
    {
     "data": {
      "text/html": [
       "<div>\n",
       "<style scoped>\n",
       "    .dataframe tbody tr th:only-of-type {\n",
       "        vertical-align: middle;\n",
       "    }\n",
       "\n",
       "    .dataframe tbody tr th {\n",
       "        vertical-align: top;\n",
       "    }\n",
       "\n",
       "    .dataframe thead th {\n",
       "        text-align: right;\n",
       "    }\n",
       "</style>\n",
       "<table border=\"1\" class=\"dataframe\">\n",
       "  <thead>\n",
       "    <tr style=\"text-align: right;\">\n",
       "      <th></th>\n",
       "      <th>NaNs percentage</th>\n",
       "    </tr>\n",
       "  </thead>\n",
       "  <tbody>\n",
       "    <tr>\n",
       "      <th>Date</th>\n",
       "      <td>0.0</td>\n",
       "    </tr>\n",
       "    <tr>\n",
       "      <th>X2</th>\n",
       "      <td>0.0</td>\n",
       "    </tr>\n",
       "    <tr>\n",
       "      <th>X3</th>\n",
       "      <td>0.0</td>\n",
       "    </tr>\n",
       "    <tr>\n",
       "      <th>X4</th>\n",
       "      <td>0.0</td>\n",
       "    </tr>\n",
       "    <tr>\n",
       "      <th>Y</th>\n",
       "      <td>0.0</td>\n",
       "    </tr>\n",
       "  </tbody>\n",
       "</table>\n",
       "</div>"
      ],
      "text/plain": [
       "      NaNs percentage\n",
       "Date              0.0\n",
       "X2                0.0\n",
       "X3                0.0\n",
       "X4                0.0\n",
       "Y                 0.0"
      ]
     },
     "execution_count": 5,
     "metadata": {},
     "output_type": "execute_result"
    }
   ],
   "source": [
    "# Using Mean to fill NaNs\n",
    "#for i in range(0, len(df.columns)):\n",
    "for i in range(1, 3):\n",
    "    df.iloc[:,i].fillna(df.iloc[:,i].median(), inplace=True)\n",
    "    \n",
    "df['X4'].fillna(df['X4'].value_counts().idxmax(), inplace=True)\n",
    "    \n",
    "percent_missing = df.isnull().sum() * 100 / len(df)\n",
    "missing_values = pd.DataFrame({'NaNs percentage': percent_missing})\n",
    "missing_values.sort_values(by ='NaNs percentage' , ascending=False)"
   ]
  },
  {
   "cell_type": "code",
   "execution_count": 6,
   "metadata": {
    "collapsed": true
   },
   "outputs": [],
   "source": [
    "# # Categorical Data\n",
    "# df['X4'].fillna(df['X4'].value_counts().idxmax(), inplace=True)\n",
    "\n",
    "# percent_missing = df.isnull().sum() * 100 / len(df)\n",
    "# missing_values = pd.DataFrame({'NaNs percentage': percent_missing})\n",
    "# missing_values.sort_values(by ='NaNs percentage' , ascending=False)"
   ]
  },
  {
   "cell_type": "code",
   "execution_count": 7,
   "metadata": {},
   "outputs": [
    {
     "data": {
      "text/html": [
       "<div>\n",
       "<style scoped>\n",
       "    .dataframe tbody tr th:only-of-type {\n",
       "        vertical-align: middle;\n",
       "    }\n",
       "\n",
       "    .dataframe tbody tr th {\n",
       "        vertical-align: top;\n",
       "    }\n",
       "\n",
       "    .dataframe thead th {\n",
       "        text-align: right;\n",
       "    }\n",
       "</style>\n",
       "<table border=\"1\" class=\"dataframe\">\n",
       "  <thead>\n",
       "    <tr style=\"text-align: right;\">\n",
       "      <th></th>\n",
       "      <th>NaNs percentage</th>\n",
       "    </tr>\n",
       "  </thead>\n",
       "  <tbody>\n",
       "    <tr>\n",
       "      <th>Date</th>\n",
       "      <td>0.0</td>\n",
       "    </tr>\n",
       "    <tr>\n",
       "      <th>X2</th>\n",
       "      <td>0.0</td>\n",
       "    </tr>\n",
       "    <tr>\n",
       "      <th>X3</th>\n",
       "      <td>0.0</td>\n",
       "    </tr>\n",
       "    <tr>\n",
       "      <th>X4</th>\n",
       "      <td>0.0</td>\n",
       "    </tr>\n",
       "    <tr>\n",
       "      <th>Y</th>\n",
       "      <td>0.0</td>\n",
       "    </tr>\n",
       "  </tbody>\n",
       "</table>\n",
       "</div>"
      ],
      "text/plain": [
       "      NaNs percentage\n",
       "Date              0.0\n",
       "X2                0.0\n",
       "X3                0.0\n",
       "X4                0.0\n",
       "Y                 0.0"
      ]
     },
     "execution_count": 7,
     "metadata": {},
     "output_type": "execute_result"
    }
   ],
   "source": [
    "#Filling all missing values with 0\n",
    "df = df.fillna(0)\n",
    "\n",
    "percent_missing = df.isnull().sum() * 100 / len(df)\n",
    "missing_values = pd.DataFrame({'NaNs percentage': percent_missing})\n",
    "missing_values.sort_values(by ='NaNs percentage' , ascending=False)"
   ]
  },
  {
   "cell_type": "markdown",
   "metadata": {},
   "source": [
    "## Dates"
   ]
  },
  {
   "cell_type": "code",
   "execution_count": 8,
   "metadata": {},
   "outputs": [
    {
     "data": {
      "text/html": [
       "<div>\n",
       "<style scoped>\n",
       "    .dataframe tbody tr th:only-of-type {\n",
       "        vertical-align: middle;\n",
       "    }\n",
       "\n",
       "    .dataframe tbody tr th {\n",
       "        vertical-align: top;\n",
       "    }\n",
       "\n",
       "    .dataframe thead th {\n",
       "        text-align: right;\n",
       "    }\n",
       "</style>\n",
       "<table border=\"1\" class=\"dataframe\">\n",
       "  <thead>\n",
       "    <tr style=\"text-align: right;\">\n",
       "      <th></th>\n",
       "      <th>Date</th>\n",
       "      <th>X2</th>\n",
       "      <th>X3</th>\n",
       "      <th>X4</th>\n",
       "      <th>Y</th>\n",
       "      <th>year</th>\n",
       "      <th>month</th>\n",
       "      <th>day</th>\n",
       "    </tr>\n",
       "  </thead>\n",
       "  <tbody>\n",
       "    <tr>\n",
       "      <th>0</th>\n",
       "      <td>2016-01-01</td>\n",
       "      <td>2.948228</td>\n",
       "      <td>2.348205</td>\n",
       "      <td>Car</td>\n",
       "      <td>True</td>\n",
       "      <td>2016</td>\n",
       "      <td>1</td>\n",
       "      <td>1</td>\n",
       "    </tr>\n",
       "    <tr>\n",
       "      <th>1</th>\n",
       "      <td>2016-01-02</td>\n",
       "      <td>2.834804</td>\n",
       "      <td>2.128829</td>\n",
       "      <td>Car</td>\n",
       "      <td>True</td>\n",
       "      <td>2016</td>\n",
       "      <td>1</td>\n",
       "      <td>2</td>\n",
       "    </tr>\n",
       "    <tr>\n",
       "      <th>2</th>\n",
       "      <td>2016-01-03</td>\n",
       "      <td>2.957205</td>\n",
       "      <td>2.133075</td>\n",
       "      <td>Car</td>\n",
       "      <td>True</td>\n",
       "      <td>2016</td>\n",
       "      <td>1</td>\n",
       "      <td>3</td>\n",
       "    </tr>\n",
       "    <tr>\n",
       "      <th>3</th>\n",
       "      <td>2016-01-04</td>\n",
       "      <td>3.210623</td>\n",
       "      <td>2.520078</td>\n",
       "      <td>Car</td>\n",
       "      <td>True</td>\n",
       "      <td>2016</td>\n",
       "      <td>1</td>\n",
       "      <td>4</td>\n",
       "    </tr>\n",
       "    <tr>\n",
       "      <th>4</th>\n",
       "      <td>2016-01-05</td>\n",
       "      <td>3.122827</td>\n",
       "      <td>2.130925</td>\n",
       "      <td>Car</td>\n",
       "      <td>True</td>\n",
       "      <td>2016</td>\n",
       "      <td>1</td>\n",
       "      <td>5</td>\n",
       "    </tr>\n",
       "  </tbody>\n",
       "</table>\n",
       "</div>"
      ],
      "text/plain": [
       "        Date        X2        X3   X4     Y  year  month  day\n",
       "0 2016-01-01  2.948228  2.348205  Car  True  2016      1    1\n",
       "1 2016-01-02  2.834804  2.128829  Car  True  2016      1    2\n",
       "2 2016-01-03  2.957205  2.133075  Car  True  2016      1    3\n",
       "3 2016-01-04  3.210623  2.520078  Car  True  2016      1    4\n",
       "4 2016-01-05  3.122827  2.130925  Car  True  2016      1    5"
      ]
     },
     "execution_count": 8,
     "metadata": {},
     "output_type": "execute_result"
    }
   ],
   "source": [
    "#Extracting Year\n",
    "df['year'] = df['Date'].dt.year\n",
    "\n",
    "#Extracting Month\n",
    "df['month'] = df['Date'].dt.month\n",
    "\n",
    "#Extracting the weekday name of the date\n",
    "df['day'] = df['Date'].dt.day #_name()\n",
    "\n",
    "df.head()"
   ]
  },
  {
   "cell_type": "markdown",
   "metadata": {},
   "source": [
    "## Outliers"
   ]
  },
  {
   "cell_type": "code",
   "execution_count": 9,
   "metadata": {},
   "outputs": [
    {
     "data": {
      "text/plain": [
       "<Figure size 640x480 with 1 Axes>"
      ]
     },
     "metadata": {},
     "output_type": "display_data"
    }
   ],
   "source": [
    "import matplotlib.pyplot as plt\n",
    "import seaborn as sns\n",
    "\n",
    "plt.scatter(df['X2'], df['X3'])\n",
    "plt.xlabel('X2')\n",
    "plt.ylabel('X3')\n",
    "plt.show()"
   ]
  },
  {
   "cell_type": "code",
   "execution_count": 10,
   "metadata": {},
   "outputs": [
    {
     "data": {
      "text/plain": [
       "(array([1.000e+00, 1.000e+00, 3.000e+00, 1.800e+01, 7.100e+01, 3.730e+02,\n",
       "        1.369e+03, 1.970e+03, 2.372e+03, 1.822e+03]),\n",
       " array([0.        , 0.34921698, 0.69843395, 1.04765093, 1.39686791,\n",
       "        1.74608488, 2.09530186, 2.44451883, 2.79373581, 3.14295279,\n",
       "        3.49216976]),\n",
       " <a list of 10 Patch objects>)"
      ]
     },
     "execution_count": 10,
     "metadata": {},
     "output_type": "execute_result"
    },
    {
     "data": {
      "image/png": "[encoded data removed]",
      "text/plain": [
       "<Figure size 432x288 with 1 Axes>"
      ]
     },
     "metadata": {
      "needs_background": "light"
     },
     "output_type": "display_data"
    }
   ],
   "source": [
    "plt.hist(df['X2'])"
   ]
  },
  {
   "cell_type": "code",
   "execution_count": 11,
   "metadata": {},
   "outputs": [
    {
     "data": {
      "text/plain": [
       "(array([   8.,   34.,  170., 2249., 2128.,  161.,  260.,  442.,  956.,\n",
       "        1592.]),\n",
       " array([0.        , 0.57037825, 1.14075649, 1.71113474, 2.28151299,\n",
       "        2.85189124, 3.42226948, 3.99264773, 4.56302598, 5.13340423,\n",
       "        5.70378247]),\n",
       " <a list of 10 Patch objects>)"
      ]
     },
     "execution_count": 11,
     "metadata": {},
     "output_type": "execute_result"
    },
    {
     "data": {
      "image/png": "[encoded data removed]",
      "text/plain": [
       "<Figure size 432x288 with 1 Axes>"
      ]
     },
     "metadata": {
      "needs_background": "light"
     },
     "output_type": "display_data"
    }
   ],
   "source": [
    "plt.hist(df['X3'])"
   ]
  },
  {
   "cell_type": "code",
   "execution_count": 12,
   "metadata": {},
   "outputs": [
    {
     "data": {
      "text/plain": [
       "<matplotlib.axes._subplots.AxesSubplot at 0x2acb1decc18>"
      ]
     },
     "execution_count": 12,
     "metadata": {},
     "output_type": "execute_result"
    },
    {
     "data": {
      "image/png": "[encoded data removed]",
      "text/plain": [
       "<Figure size 432x288 with 1 Axes>"
      ]
     },
     "metadata": {
      "needs_background": "light"
     },
     "output_type": "display_data"
    }
   ],
   "source": [
    "sns.boxplot(x=df[\"X2\"])"
   ]
  },
  {
   "cell_type": "code",
   "execution_count": 13,
   "metadata": {},
   "outputs": [
    {
     "data": {
      "text/plain": [
       "<matplotlib.axes._subplots.AxesSubplot at 0x2acb1e52cf8>"
      ]
     },
     "execution_count": 13,
     "metadata": {},
     "output_type": "execute_result"
    },
    {
     "data": {
      "image/png": "[encoded data removed]",
      "text/plain": [
       "<Figure size 432x288 with 1 Axes>"
      ]
     },
     "metadata": {
      "needs_background": "light"
     },
     "output_type": "display_data"
    }
   ],
   "source": [
    "sns.boxplot(x=df[\"X3\"])"
   ]
  },
  {
   "cell_type": "code",
   "execution_count": 14,
   "metadata": {},
   "outputs": [
    {
     "name": "stdout",
     "output_type": "stream",
     "text": [
      "8000\n",
      "7772\n",
      "7992\n"
     ]
    }
   ],
   "source": [
    "print(len(df))\n",
    "UpperLimit = df['X2'].mean() + df['X2'].std() * 2\n",
    "LowerLimit = df['X2'].mean() - df['X2'].std() * 2\n",
    "df2 = df[(df['X2'] < UpperLimit) & (df['X2'] > LowerLimit)]\n",
    "print(len(df2))\n",
    "UpperLim = df['X3'].mean() + df['X3'].std() * 2\n",
    "LowerLim = df['X3'].mean() - df['X3'].std() * 2\n",
    "df3 = df[(df['X3'] < UpperLim) & (df['X3'] > LowerLim)]\n",
    "print(len(df3))"
   ]
  },
  {
   "cell_type": "code",
   "execution_count": 15,
   "metadata": {},
   "outputs": [
    {
     "name": "stdout",
     "output_type": "stream",
     "text": [
      "7200\n"
     ]
    }
   ],
   "source": [
    "upper_lim = df['X2'].quantile(0.95)\n",
    "lower_lim = df['X2'].quantile(0.05)\n",
    "df4 = df[(df['X2'] < upper_lim) & (df['X2'] > lower_lim)]\n",
    "print(len(df4))"
   ]
  },
  {
   "cell_type": "markdown",
   "metadata": {},
   "source": [
    "## Binning"
   ]
  },
  {
   "cell_type": "code",
   "execution_count": 16,
   "metadata": {},
   "outputs": [
    {
     "data": {
      "text/html": [
       "<div>\n",
       "<style scoped>\n",
       "    .dataframe tbody tr th:only-of-type {\n",
       "        vertical-align: middle;\n",
       "    }\n",
       "\n",
       "    .dataframe tbody tr th {\n",
       "        vertical-align: top;\n",
       "    }\n",
       "\n",
       "    .dataframe thead th {\n",
       "        text-align: right;\n",
       "    }\n",
       "</style>\n",
       "<table border=\"1\" class=\"dataframe\">\n",
       "  <thead>\n",
       "    <tr style=\"text-align: right;\">\n",
       "      <th></th>\n",
       "      <th>Date</th>\n",
       "      <th>X2</th>\n",
       "      <th>X3</th>\n",
       "      <th>X4</th>\n",
       "      <th>Y</th>\n",
       "      <th>year</th>\n",
       "      <th>month</th>\n",
       "      <th>day</th>\n",
       "      <th>Vehicle Type</th>\n",
       "    </tr>\n",
       "  </thead>\n",
       "  <tbody>\n",
       "    <tr>\n",
       "      <th>7542</th>\n",
       "      <td>2036-08-25</td>\n",
       "      <td>2.774173</td>\n",
       "      <td>1.945910</td>\n",
       "      <td>Scooter</td>\n",
       "      <td>False</td>\n",
       "      <td>2036</td>\n",
       "      <td>8</td>\n",
       "      <td>25</td>\n",
       "      <td>Not-Electric</td>\n",
       "    </tr>\n",
       "    <tr>\n",
       "      <th>3169</th>\n",
       "      <td>2024-09-04</td>\n",
       "      <td>3.221740</td>\n",
       "      <td>2.295220</td>\n",
       "      <td>Bus</td>\n",
       "      <td>True</td>\n",
       "      <td>2024</td>\n",
       "      <td>9</td>\n",
       "      <td>4</td>\n",
       "      <td>Electric</td>\n",
       "    </tr>\n",
       "    <tr>\n",
       "      <th>4115</th>\n",
       "      <td>2027-04-08</td>\n",
       "      <td>2.236809</td>\n",
       "      <td>1.609438</td>\n",
       "      <td>Bike</td>\n",
       "      <td>False</td>\n",
       "      <td>2027</td>\n",
       "      <td>4</td>\n",
       "      <td>8</td>\n",
       "      <td>Not-Electric</td>\n",
       "    </tr>\n",
       "    <tr>\n",
       "      <th>409</th>\n",
       "      <td>2017-02-13</td>\n",
       "      <td>3.331089</td>\n",
       "      <td>2.277378</td>\n",
       "      <td>Car</td>\n",
       "      <td>True</td>\n",
       "      <td>2017</td>\n",
       "      <td>2</td>\n",
       "      <td>13</td>\n",
       "      <td>Electric</td>\n",
       "    </tr>\n",
       "    <tr>\n",
       "      <th>649</th>\n",
       "      <td>2017-10-11</td>\n",
       "      <td>3.051198</td>\n",
       "      <td>2.244066</td>\n",
       "      <td>Car</td>\n",
       "      <td>True</td>\n",
       "      <td>2017</td>\n",
       "      <td>10</td>\n",
       "      <td>11</td>\n",
       "      <td>Electric</td>\n",
       "    </tr>\n",
       "  </tbody>\n",
       "</table>\n",
       "</div>"
      ],
      "text/plain": [
       "           Date        X2        X3       X4      Y  year  month  day  \\\n",
       "7542 2036-08-25  2.774173  1.945910  Scooter  False  2036      8   25   \n",
       "3169 2024-09-04  3.221740  2.295220      Bus   True  2024      9    4   \n",
       "4115 2027-04-08  2.236809  1.609438     Bike  False  2027      4    8   \n",
       "409  2017-02-13  3.331089  2.277378      Car   True  2017      2   13   \n",
       "649  2017-10-11  3.051198  2.244066      Car   True  2017     10   11   \n",
       "\n",
       "      Vehicle Type  \n",
       "7542  Not-Electric  \n",
       "3169      Electric  \n",
       "4115  Not-Electric  \n",
       "409       Electric  \n",
       "649       Electric  "
      ]
     },
     "execution_count": 16,
     "metadata": {},
     "output_type": "execute_result"
    }
   ],
   "source": [
    "df['Vehicle Type'] = np.select([df.X4 == 'Car',df.X4 == 'Bus', df.X4 == 'Bike', \n",
    "                                df.X4 == 'Scooter'], \n",
    "                               ['Electric', 'Electric', 'Not-Electric', \n",
    "                                'Not-Electric'], \n",
    "                               default='Not Classified')\n",
    "df.sample(5)"
   ]
  },
  {
   "cell_type": "code",
   "execution_count": 17,
   "metadata": {
    "scrolled": true
   },
   "outputs": [
    {
     "data": {
      "text/html": [
       "<div>\n",
       "<style scoped>\n",
       "    .dataframe tbody tr th:only-of-type {\n",
       "        vertical-align: middle;\n",
       "    }\n",
       "\n",
       "    .dataframe tbody tr th {\n",
       "        vertical-align: top;\n",
       "    }\n",
       "\n",
       "    .dataframe thead th {\n",
       "        text-align: right;\n",
       "    }\n",
       "</style>\n",
       "<table border=\"1\" class=\"dataframe\">\n",
       "  <thead>\n",
       "    <tr style=\"text-align: right;\">\n",
       "      <th></th>\n",
       "      <th>Date</th>\n",
       "      <th>X2</th>\n",
       "      <th>X3</th>\n",
       "      <th>X4</th>\n",
       "      <th>Y</th>\n",
       "      <th>year</th>\n",
       "      <th>month</th>\n",
       "      <th>day</th>\n",
       "      <th>Vehicle Type</th>\n",
       "      <th>Ranges</th>\n",
       "    </tr>\n",
       "  </thead>\n",
       "  <tbody>\n",
       "    <tr>\n",
       "      <th>2868</th>\n",
       "      <td>2023-11-08</td>\n",
       "      <td>3.279778</td>\n",
       "      <td>2.163157</td>\n",
       "      <td>Bus</td>\n",
       "      <td>True</td>\n",
       "      <td>2023</td>\n",
       "      <td>11</td>\n",
       "      <td>8</td>\n",
       "      <td>Electric</td>\n",
       "      <td>Low</td>\n",
       "    </tr>\n",
       "    <tr>\n",
       "      <th>7198</th>\n",
       "      <td>2035-09-16</td>\n",
       "      <td>2.588728</td>\n",
       "      <td>5.257495</td>\n",
       "      <td>Scooter</td>\n",
       "      <td>False</td>\n",
       "      <td>2035</td>\n",
       "      <td>9</td>\n",
       "      <td>16</td>\n",
       "      <td>Not-Electric</td>\n",
       "      <td>Low</td>\n",
       "    </tr>\n",
       "    <tr>\n",
       "      <th>7762</th>\n",
       "      <td>2037-04-02</td>\n",
       "      <td>1.198750</td>\n",
       "      <td>5.135798</td>\n",
       "      <td>Car</td>\n",
       "      <td>False</td>\n",
       "      <td>2037</td>\n",
       "      <td>4</td>\n",
       "      <td>2</td>\n",
       "      <td>Electric</td>\n",
       "      <td>Low</td>\n",
       "    </tr>\n",
       "    <tr>\n",
       "      <th>2154</th>\n",
       "      <td>2021-11-24</td>\n",
       "      <td>3.134821</td>\n",
       "      <td>1.906211</td>\n",
       "      <td>Bus</td>\n",
       "      <td>True</td>\n",
       "      <td>2021</td>\n",
       "      <td>11</td>\n",
       "      <td>24</td>\n",
       "      <td>Electric</td>\n",
       "      <td>Low</td>\n",
       "    </tr>\n",
       "    <tr>\n",
       "      <th>7771</th>\n",
       "      <td>2037-04-11</td>\n",
       "      <td>2.563426</td>\n",
       "      <td>5.327876</td>\n",
       "      <td>Scooter</td>\n",
       "      <td>False</td>\n",
       "      <td>2037</td>\n",
       "      <td>4</td>\n",
       "      <td>11</td>\n",
       "      <td>Not-Electric</td>\n",
       "      <td>Low</td>\n",
       "    </tr>\n",
       "  </tbody>\n",
       "</table>\n",
       "</div>"
      ],
      "text/plain": [
       "           Date        X2        X3       X4      Y  year  month  day  \\\n",
       "2868 2023-11-08  3.279778  2.163157      Bus   True  2023     11    8   \n",
       "7198 2035-09-16  2.588728  5.257495  Scooter  False  2035      9   16   \n",
       "7762 2037-04-02  1.198750  5.135798      Car  False  2037      4    2   \n",
       "2154 2021-11-24  3.134821  1.906211      Bus   True  2021     11   24   \n",
       "7771 2037-04-11  2.563426  5.327876  Scooter  False  2037      4   11   \n",
       "\n",
       "      Vehicle Type Ranges  \n",
       "2868      Electric    Low  \n",
       "7198  Not-Electric    Low  \n",
       "7762      Electric    Low  \n",
       "2154      Electric    Low  \n",
       "7771  Not-Electric    Low  "
      ]
     },
     "execution_count": 17,
     "metadata": {},
     "output_type": "execute_result"
    }
   ],
   "source": [
    "df['Ranges'] = pd.cut(df.X3, bins = [0, 100, 200, 300], labels=[\"Low\", \"Medium\", \"High\"])\n",
    "df.sample(5)"
   ]
  },
  {
   "cell_type": "markdown",
   "metadata": {},
   "source": [
    "## Categorical to Numeric"
   ]
  },
  {
   "cell_type": "code",
   "execution_count": 18,
   "metadata": {
    "collapsed": true
   },
   "outputs": [],
   "source": [
    "X = df.drop(['Y', 'Date'], axis = 1)\n",
    "Y = df['Y']"
   ]
  },
  {
   "cell_type": "code",
   "execution_count": 19,
   "metadata": {},
   "outputs": [
    {
     "data": {
      "text/html": [
       "<div>\n",
       "<style scoped>\n",
       "    .dataframe tbody tr th:only-of-type {\n",
       "        vertical-align: middle;\n",
       "    }\n",
       "\n",
       "    .dataframe tbody tr th {\n",
       "        vertical-align: top;\n",
       "    }\n",
       "\n",
       "    .dataframe thead th {\n",
       "        text-align: right;\n",
       "    }\n",
       "</style>\n",
       "<table border=\"1\" class=\"dataframe\">\n",
       "  <thead>\n",
       "    <tr style=\"text-align: right;\">\n",
       "      <th></th>\n",
       "      <th>X2</th>\n",
       "      <th>X3</th>\n",
       "      <th>year</th>\n",
       "      <th>month</th>\n",
       "      <th>day</th>\n",
       "      <th>X4_Bike</th>\n",
       "      <th>X4_Bus</th>\n",
       "      <th>X4_Car</th>\n",
       "      <th>X4_Scooter</th>\n",
       "      <th>Vehicle Type_Electric</th>\n",
       "      <th>Vehicle Type_Not-Electric</th>\n",
       "      <th>Ranges_Low</th>\n",
       "      <th>Ranges_Medium</th>\n",
       "      <th>Ranges_High</th>\n",
       "    </tr>\n",
       "  </thead>\n",
       "  <tbody>\n",
       "    <tr>\n",
       "      <th>0</th>\n",
       "      <td>2.948228</td>\n",
       "      <td>2.348205</td>\n",
       "      <td>2016</td>\n",
       "      <td>1</td>\n",
       "      <td>1</td>\n",
       "      <td>0</td>\n",
       "      <td>0</td>\n",
       "      <td>1</td>\n",
       "      <td>0</td>\n",
       "      <td>1</td>\n",
       "      <td>0</td>\n",
       "      <td>1</td>\n",
       "      <td>0</td>\n",
       "      <td>0</td>\n",
       "    </tr>\n",
       "    <tr>\n",
       "      <th>1</th>\n",
       "      <td>2.834804</td>\n",
       "      <td>2.128829</td>\n",
       "      <td>2016</td>\n",
       "      <td>1</td>\n",
       "      <td>2</td>\n",
       "      <td>0</td>\n",
       "      <td>0</td>\n",
       "      <td>1</td>\n",
       "      <td>0</td>\n",
       "      <td>1</td>\n",
       "      <td>0</td>\n",
       "      <td>1</td>\n",
       "      <td>0</td>\n",
       "      <td>0</td>\n",
       "    </tr>\n",
       "    <tr>\n",
       "      <th>2</th>\n",
       "      <td>2.957205</td>\n",
       "      <td>2.133075</td>\n",
       "      <td>2016</td>\n",
       "      <td>1</td>\n",
       "      <td>3</td>\n",
       "      <td>0</td>\n",
       "      <td>0</td>\n",
       "      <td>1</td>\n",
       "      <td>0</td>\n",
       "      <td>1</td>\n",
       "      <td>0</td>\n",
       "      <td>1</td>\n",
       "      <td>0</td>\n",
       "      <td>0</td>\n",
       "    </tr>\n",
       "    <tr>\n",
       "      <th>3</th>\n",
       "      <td>3.210623</td>\n",
       "      <td>2.520078</td>\n",
       "      <td>2016</td>\n",
       "      <td>1</td>\n",
       "      <td>4</td>\n",
       "      <td>0</td>\n",
       "      <td>0</td>\n",
       "      <td>1</td>\n",
       "      <td>0</td>\n",
       "      <td>1</td>\n",
       "      <td>0</td>\n",
       "      <td>1</td>\n",
       "      <td>0</td>\n",
       "      <td>0</td>\n",
       "    </tr>\n",
       "    <tr>\n",
       "      <th>4</th>\n",
       "      <td>3.122827</td>\n",
       "      <td>2.130925</td>\n",
       "      <td>2016</td>\n",
       "      <td>1</td>\n",
       "      <td>5</td>\n",
       "      <td>0</td>\n",
       "      <td>0</td>\n",
       "      <td>1</td>\n",
       "      <td>0</td>\n",
       "      <td>1</td>\n",
       "      <td>0</td>\n",
       "      <td>1</td>\n",
       "      <td>0</td>\n",
       "      <td>0</td>\n",
       "    </tr>\n",
       "  </tbody>\n",
       "</table>\n",
       "</div>"
      ],
      "text/plain": [
       "         X2        X3  year  month  day  X4_Bike  X4_Bus  X4_Car  X4_Scooter  \\\n",
       "0  2.948228  2.348205  2016      1    1        0       0       1           0   \n",
       "1  2.834804  2.128829  2016      1    2        0       0       1           0   \n",
       "2  2.957205  2.133075  2016      1    3        0       0       1           0   \n",
       "3  3.210623  2.520078  2016      1    4        0       0       1           0   \n",
       "4  3.122827  2.130925  2016      1    5        0       0       1           0   \n",
       "\n",
       "   Vehicle Type_Electric  Vehicle Type_Not-Electric  Ranges_Low  \\\n",
       "0                      1                          0           1   \n",
       "1                      1                          0           1   \n",
       "2                      1                          0           1   \n",
       "3                      1                          0           1   \n",
       "4                      1                          0           1   \n",
       "\n",
       "   Ranges_Medium  Ranges_High  \n",
       "0              0            0  \n",
       "1              0            0  \n",
       "2              0            0  \n",
       "3              0            0  \n",
       "4              0            0  "
      ]
     },
     "execution_count": 19,
     "metadata": {},
     "output_type": "execute_result"
    }
   ],
   "source": [
    "X = pd.get_dummies(X, prefix_sep='_')\n",
    "X.head()"
   ]
  },
  {
   "cell_type": "code",
   "execution_count": 20,
   "metadata": {},
   "outputs": [
    {
     "data": {
      "text/plain": [
       "array([1, 1, 1, ..., 0, 0, 0])"
      ]
     },
     "execution_count": 20,
     "metadata": {},
     "output_type": "execute_result"
    }
   ],
   "source": [
    "from sklearn.preprocessing import LabelEncoder\n",
    "\n",
    "Y = LabelEncoder().fit_transform(Y)\n",
    "#np.set_printoptions(threshold=np.inf)\n",
    "Y"
   ]
  },
  {
   "cell_type": "markdown",
   "metadata": {},
   "source": [
    "## Machine Learning"
   ]
  },
  {
   "cell_type": "code",
   "execution_count": 21,
   "metadata": {},
   "outputs": [
    {
     "name": "stderr",
     "output_type": "stream",
     "text": [
      "C:\\Users\\hp\\Anaconda3\\lib\\site-packages\\sklearn\\preprocessing\\data.py:645: DataConversionWarning: Data with input dtype uint8, int64, float64 were all converted to float64 by StandardScaler.\n",
      "  return self.partial_fit(X, y)\n",
      "C:\\Users\\hp\\Anaconda3\\lib\\site-packages\\sklearn\\base.py:464: DataConversionWarning: Data with input dtype uint8, int64, float64 were all converted to float64 by StandardScaler.\n",
      "  return self.fit(X, **fit_params).transform(X)\n"
     ]
    }
   ],
   "source": [
    "from sklearn.preprocessing import StandardScaler\n",
    "from sklearn.model_selection import train_test_split\n",
    "from sklearn.metrics import classification_report,confusion_matrix\n",
    "from sklearn.ensemble import RandomForestClassifier\n",
    "import time\n",
    "\n",
    "X = StandardScaler().fit_transform(X)\n",
    "\n",
    "X_Train, X_Test, Y_Train, Y_Test = train_test_split(X, Y, test_size = 0.30, random_state = 101)"
   ]
  },
  {
   "cell_type": "code",
   "execution_count": 22,
   "metadata": {},
   "outputs": [
    {
     "name": "stdout",
     "output_type": "stream",
     "text": [
      "1.25\n",
      "[[1204    0]\n",
      " [   0 1196]]\n",
      "              precision    recall  f1-score   support\n",
      "\n",
      "           0       1.00      1.00      1.00      1204\n",
      "           1       1.00      1.00      1.00      1196\n",
      "\n",
      "   micro avg       1.00      1.00      1.00      2400\n",
      "   macro avg       1.00      1.00      1.00      2400\n",
      "weighted avg       1.00      1.00      1.00      2400\n",
      "\n"
     ]
    }
   ],
   "source": [
    "start = time.process_time()\n",
    "trainedforest = RandomForestClassifier(n_estimators=700).fit(X_Train,Y_Train)\n",
    "print(time.process_time() - start)\n",
    "predictionforest = trainedforest.predict(X_Test)\n",
    "print(confusion_matrix(Y_Test,predictionforest))\n",
    "print(classification_report(Y_Test,predictionforest))"
   ]
  }
 ],
 "metadata": {
  "kernelspec": {
   "display_name": "Python 3",
   "language": "python",
   "name": "python3"
  },
  "language_info": {
   "codemirror_mode": {
    "name": "ipython",
    "version": 3
   },
   "file_extension": ".py",
   "mimetype": "text/x-python",
   "name": "python",
   "nbconvert_exporter": "python",
   "pygments_lexer": "ipython3",
   "version": "3.6.9"
  },
  "toc": {
   "base_numbering": 1,
   "nav_menu": {},
   "number_sections": true,
   "sideBar": true,
   "skip_h1_title": true,
   "title_cell": "Table of Contents",
   "title_sidebar": "Contents",
   "toc_cell": true,
   "toc_position": {},
   "toc_section_display": true,
   "toc_window_display": false
  },
  "varInspector": {
   "cols": {
    "lenName": 16,
    "lenType": 16,
    "lenVar": 40
   },
   "kernels_config": {
    "python": {
     "delete_cmd_postfix": "",
     "delete_cmd_prefix": "del ",
     "library": "var_list.py",
     "varRefreshCmd": "print(var_dic_list())"
    },
    "r": {
     "delete_cmd_postfix": ") ",
     "delete_cmd_prefix": "rm(",
     "library": "var_list.r",
     "varRefreshCmd": "cat(var_dic_list()) "
    }
   },
   "types_to_exclude": [
    "module",
    "function",
    "builtin_function_or_method",
    "instance",
    "_Feature"
   ],
   "window_display": false
  }
 },
 "nbformat": 4,
 "nbformat_minor": 1
}
