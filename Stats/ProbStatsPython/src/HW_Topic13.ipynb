{
 "cells": [
  {
   "cell_type": "code",
   "execution_count": 2,
   "metadata": {},
   "outputs": [],
   "source": [
    "import numpy as np\n",
    "import pandas as pd\n",
    "import scipy.stats as stats"
   ]
  },
  {
   "cell_type": "code",
   "execution_count": 6,
   "metadata": {},
   "outputs": [
    {
     "name": "stdout",
     "output_type": "stream",
     "text": [
      "<class 'pandas.core.frame.DataFrame'>\n",
      "RangeIndex: 45253 entries, 0 to 45252\n",
      "Data columns (total 37 columns):\n",
      " #   Column             Non-Null Count  Dtype  \n",
      "---  ------             --------------  -----  \n",
      " 0   datetime           45253 non-null  object \n",
      " 1   Vancouver          44458 non-null  float64\n",
      " 2   Portland           45252 non-null  float64\n",
      " 3   San Francisco      44460 non-null  float64\n",
      " 4   Seattle            45250 non-null  float64\n",
      " 5   Los Angeles        45250 non-null  float64\n",
      " 6   San Diego          45252 non-null  float64\n",
      " 7   Las Vegas          45252 non-null  float64\n",
      " 8   Phoenix            45250 non-null  float64\n",
      " 9   Albuquerque        45252 non-null  float64\n",
      " 10  Denver             45252 non-null  float64\n",
      " 11  San Antonio        45252 non-null  float64\n",
      " 12  Dallas             45249 non-null  float64\n",
      " 13  Houston            45250 non-null  float64\n",
      " 14  Kansas City        45252 non-null  float64\n",
      " 15  Minneapolis        45240 non-null  float64\n",
      " 16  Saint Louis        45252 non-null  float64\n",
      " 17  Chicago            45250 non-null  float64\n",
      " 18  Nashville          45251 non-null  float64\n",
      " 19  Indianapolis       45246 non-null  float64\n",
      " 20  Atlanta            45247 non-null  float64\n",
      " 21  Detroit            45252 non-null  float64\n",
      " 22  Jacksonville       45252 non-null  float64\n",
      " 23  Charlotte          45250 non-null  float64\n",
      " 24  Miami              44448 non-null  float64\n",
      " 25  Pittsburgh         45250 non-null  float64\n",
      " 26  Toronto            45252 non-null  float64\n",
      " 27  Philadelphia       45250 non-null  float64\n",
      " 28  New York           44460 non-null  float64\n",
      " 29  Montreal           45250 non-null  float64\n",
      " 30  Boston             45250 non-null  float64\n",
      " 31  Beersheba          44455 non-null  float64\n",
      " 32  Tel Aviv District  44460 non-null  float64\n",
      " 33  Eilat              44461 non-null  float64\n",
      " 34  Haifa              44455 non-null  float64\n",
      " 35  Nahariyya          44456 non-null  float64\n",
      " 36  Jerusalem          44460 non-null  float64\n",
      "dtypes: float64(36), object(1)\n",
      "memory usage: 12.8+ MB\n"
     ]
    }
   ],
   "source": [
    "weather_df = pd.read_csv('data/temperature.csv')\n",
    "\n",
    "weather_df.info()"
   ]
  },
  {
   "cell_type": "code",
   "execution_count": 45,
   "metadata": {},
   "outputs": [
    {
     "data": {
      "text/html": [
       "<div>\n",
       "<style scoped>\n",
       "    .dataframe tbody tr th:only-of-type {\n",
       "        vertical-align: middle;\n",
       "    }\n",
       "\n",
       "    .dataframe tbody tr th {\n",
       "        vertical-align: top;\n",
       "    }\n",
       "\n",
       "    .dataframe thead th {\n",
       "        text-align: right;\n",
       "    }\n",
       "</style>\n",
       "<table border=\"1\" class=\"dataframe\">\n",
       "  <thead>\n",
       "    <tr style=\"text-align: right;\">\n",
       "      <th></th>\n",
       "      <th>datetime</th>\n",
       "      <th>San Diego</th>\n",
       "    </tr>\n",
       "  </thead>\n",
       "  <tbody>\n",
       "    <tr>\n",
       "      <th>1</th>\n",
       "      <td>2012-10-01 13:00:00</td>\n",
       "      <td>18.380000</td>\n",
       "    </tr>\n",
       "    <tr>\n",
       "      <th>2</th>\n",
       "      <td>2012-10-01 14:00:00</td>\n",
       "      <td>18.383501</td>\n",
       "    </tr>\n",
       "    <tr>\n",
       "      <th>3</th>\n",
       "      <td>2012-10-01 15:00:00</td>\n",
       "      <td>18.393355</td>\n",
       "    </tr>\n",
       "    <tr>\n",
       "      <th>4</th>\n",
       "      <td>2012-10-01 16:00:00</td>\n",
       "      <td>18.403209</td>\n",
       "    </tr>\n",
       "    <tr>\n",
       "      <th>5</th>\n",
       "      <td>2012-10-01 17:00:00</td>\n",
       "      <td>18.413063</td>\n",
       "    </tr>\n",
       "    <tr>\n",
       "      <th>...</th>\n",
       "      <td>...</td>\n",
       "      <td>...</td>\n",
       "    </tr>\n",
       "    <tr>\n",
       "      <th>45248</th>\n",
       "      <td>2017-11-29 20:00:00</td>\n",
       "      <td>19.000000</td>\n",
       "    </tr>\n",
       "    <tr>\n",
       "      <th>45249</th>\n",
       "      <td>2017-11-29 21:00:00</td>\n",
       "      <td>19.590000</td>\n",
       "    </tr>\n",
       "    <tr>\n",
       "      <th>45250</th>\n",
       "      <td>2017-11-29 22:00:00</td>\n",
       "      <td>19.430000</td>\n",
       "    </tr>\n",
       "    <tr>\n",
       "      <th>45251</th>\n",
       "      <td>2017-11-29 23:00:00</td>\n",
       "      <td>19.460000</td>\n",
       "    </tr>\n",
       "    <tr>\n",
       "      <th>45252</th>\n",
       "      <td>2017-11-30 00:00:00</td>\n",
       "      <td>18.250000</td>\n",
       "    </tr>\n",
       "  </tbody>\n",
       "</table>\n",
       "<p>45252 rows × 2 columns</p>\n",
       "</div>"
      ],
      "text/plain": [
       "                  datetime  San Diego\n",
       "1      2012-10-01 13:00:00  18.380000\n",
       "2      2012-10-01 14:00:00  18.383501\n",
       "3      2012-10-01 15:00:00  18.393355\n",
       "4      2012-10-01 16:00:00  18.403209\n",
       "5      2012-10-01 17:00:00  18.413063\n",
       "...                    ...        ...\n",
       "45248  2017-11-29 20:00:00  19.000000\n",
       "45249  2017-11-29 21:00:00  19.590000\n",
       "45250  2017-11-29 22:00:00  19.430000\n",
       "45251  2017-11-29 23:00:00  19.460000\n",
       "45252  2017-11-30 00:00:00  18.250000\n",
       "\n",
       "[45252 rows x 2 columns]"
      ]
     },
     "execution_count": 45,
     "metadata": {},
     "output_type": "execute_result"
    }
   ],
   "source": [
    "sd_df = weather_df[['datetime', 'San Diego']]\n",
    "\n",
    "sd_df = sd_df.dropna()\n",
    "sd_df['San Diego'] = sd_df['San Diego'] - 273.15\n",
    "sd_df"
   ]
  },
  {
   "cell_type": "code",
   "execution_count": null,
   "metadata": {},
   "outputs": [],
   "source": [
    "sd16_df = sd_df[(pd.to_datetime(sd_df['datetime']).dt.year == 2016)]\n",
    "sd16_df['San Diego'].mean()"
   ]
  },
  {
   "cell_type": "code",
   "execution_count": 48,
   "metadata": {},
   "outputs": [
    {
     "data": {
      "text/plain": [
       "[16.15567756806377,\n",
       " 16.29193228500732,\n",
       " 16.998077060928562,\n",
       " 16.73704391819979,\n",
       " 16.73704391819979,\n",
       " 18.010040304647923]"
      ]
     },
     "execution_count": 48,
     "metadata": {},
     "output_type": "execute_result"
    }
   ],
   "source": [
    "annual_temp = []\n",
    "\n",
    "for yr in [2012, 2013, 2014, 2015, 2015, 2017]:\n",
    "    tmp_df = sd_df[(pd.to_datetime(sd_df['datetime']).dt.year == yr)]\n",
    "    annual_temp.append(tmp_df['San Diego'].mean())\n",
    "    \n",
    "annual_temp"
   ]
  },
  {
   "cell_type": "code",
   "execution_count": 50,
   "metadata": {},
   "outputs": [
    {
     "data": {
      "text/plain": [
       "16.82163584250786"
      ]
     },
     "execution_count": 50,
     "metadata": {},
     "output_type": "execute_result"
    }
   ],
   "source": [
    "np.mean(annual_temp)"
   ]
  },
  {
   "cell_type": "code",
   "execution_count": 51,
   "metadata": {},
   "outputs": [
    {
     "data": {
      "text/plain": [
       "0.6605807352077044"
      ]
     },
     "execution_count": 51,
     "metadata": {},
     "output_type": "execute_result"
    }
   ],
   "source": [
    "np.std(annual_temp, ddof=1)"
   ]
  },
  {
   "cell_type": "code",
   "execution_count": null,
   "metadata": {},
   "outputs": [],
   "source": []
  }
 ],
 "metadata": {
  "kernelspec": {
   "display_name": "Python 3",
   "language": "python",
   "name": "python3"
  },
  "language_info": {
   "codemirror_mode": {
    "name": "ipython",
    "version": 3
   },
   "file_extension": ".py",
   "mimetype": "text/x-python",
   "name": "python",
   "nbconvert_exporter": "python",
   "pygments_lexer": "ipython3",
   "version": "3.7.6"
  }
 },
 "nbformat": 4,
 "nbformat_minor": 4
}
