{
    "cells": [
        {
            "cell_type": "markdown",
            "metadata": {
                "nbgrader": {
                    "grade": false,
                    "locked": false,
                    "solution": false
                }
            },
            "source": [
                "<font size=\"4\" style=\"color:red;\"> **IMPORTANT: ** When submitting this homework notebook, please modify only the cells that start with:<\/font>\n",
                "\n",
                "```python\n",
                "# modify this cell\n",
                "```"
            ]
        },
        {
            "cell_type": "markdown",
            "metadata": {},
            "source": [
                "# Conditional Probability and Baye's Rule\n"
            ]
        },
        {
            "cell_type": "markdown",
            "metadata": {},
            "source": [
                "## Problem"
            ]
        },
        {
            "cell_type": "markdown",
            "metadata": {},
            "source": [
                "There are two urns $A$ and $B$. Urn $A$ contains $r_A$ red balls and $w_A$ white balls whereas urn $B$ contains $r_B$ red balls and $w_B$ white balls. One of the urns is picked at random and then one ball is picked at random from this urn. Write a function **conditional_probability** that calculates the conditional probability that the randomly chosen ball belonged to urn $A$ given that it is white. Assume that $\\frac{r_A}{w_A}\\neq\\frac{r_B}{w_B}$.\n",
                "\n",
                "<font  style=\"color:blue\"> **Code**<\/font>\n",
                "```python\n",
                "rA, wA, rB, wB = 1., 2., 2., 1.\n",
                "conditional__probability(rA, wA, rB, wB) \n",
                "```\n",
                "\n",
                "<font  style=\"color:magenta\"> **Output**<\/font>\n",
                "```\n",
                "0.6666666666666666\n",
                "```"
            ]
        },
        {
            "cell_type": "code",
            "execution_count": null,
            "metadata": {
                "collapsed": true,
                "scrolled": true
            },
            "outputs": [],
            "source": [
                "# modify this cell\n",
                "\n",
                "def conditional__probability(rA, wA, rB, wB):\n",
                "    # inputs: all of them are of type 'float'\n",
                "    # output: a variable of type 'float'\n",
                "    \n",
                "    #\n",
                "    # YOUR CODE HERE\n",
                "    #\n"
            ]
        },
        {
            "cell_type": "code",
            "execution_count": null,
            "metadata": {
                "collapsed": true,
                "nbgrader": {
                    "grade": true,
                    "grade_id": "ex1",
                    "locked": true,
                    "points": "5",
                    "solution": false
                }
            },
            "outputs": [],
            "source": [
                "assert( abs(conditional__probability(2., 4., 3., 3.) -0.5714285714285715) < 10**-5)  \n",
                "assert( abs(conditional__probability(1., 3., 5., 2.) -0.7241379310344829) < 10**-5) \n",
                "\n",
                "#\n",
                "# AUTOGRADER TEST - DO NOT REMOVE\n",
                "#\n"
            ]
        },
        {
            "cell_type": "code",
            "execution_count": null,
            "metadata": {
                "collapsed": true
            },
            "outputs": [],
            "source": [
                "\n",
                "\n",
                "\n",
                "\n",
                "\n",
                "\n",
                "\n"
            ]
        }
    ],
    "metadata": {
        "kernelspec": {
            "display_name": "Python 2",
            "language": "python",
            "name": "python2"
        },
        "language_info": {
            "codemirror_mode": {
                "name": "ipython",
                "version": 2
            },
            "file_extension": ".py",
            "mimetype": "text\/x-python",
            "name": "python",
            "nbconvert_exporter": "python",
            "pygments_lexer": "ipython2",
            "version": "2.7.12"
        },
        "toc": {
            "colors": {
                "hover_highlight": "#DAA520",
                "navigate_num": "#000000",
                "navigate_text": "#333333",
                "running_highlight": "#FF0000",
                "selected_highlight": "#FFD700",
                "sidebar_border": "#EEEEEE",
                "wrapper_background": "#FFFFFF"
            },
            "moveMenuLeft": true,
            "nav_menu": {
                "height": "48px",
                "width": "252px"
            },
            "navigate_menu": true,
            "number_sections": true,
            "sideBar": true,
            "threshold": 4,
            "toc_cell": false,
            "toc_section_display": "block",
            "toc_window_display": false,
            "widenNotebook": false
        }
    },
    "nbformat": 4,
    "nbformat_minor": 2
}