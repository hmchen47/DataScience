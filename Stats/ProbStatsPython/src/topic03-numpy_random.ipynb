{
 "cells": [
  {
   "cell_type": "markdown",
   "metadata": {
    "colab_type": "text",
    "id": "lhmyI7sB_bKJ"
   },
   "source": [
    "# Generate Random Numbers"
   ]
  },
  {
   "cell_type": "markdown",
   "metadata": {
    "colab_type": "text",
    "id": "MulyzIdD_kxf"
   },
   "source": [
    "`numpy.random` is frequently used for generating random numbers.\n",
    "\n",
    "For more details, please refer to [Random sampling (numpy.random)](https://docs.scipy.org/doc/numpy/reference/routines.random.html)"
   ]
  },
  {
   "cell_type": "code",
   "execution_count": 0,
   "metadata": {
    "colab": {},
    "colab_type": "code",
    "id": "vtrQ-n7PAoYJ"
   },
   "outputs": [],
   "source": [
    "import numpy as np"
   ]
  },
  {
   "cell_type": "markdown",
   "metadata": {
    "colab_type": "text",
    "id": "nLB8lH051pDg"
   },
   "source": [
    "`np.random.seed` sets the seed for the generator."
   ]
  },
  {
   "cell_type": "code",
   "execution_count": 0,
   "metadata": {
    "colab": {},
    "colab_type": "code",
    "id": "PzxXe5pR3QI0"
   },
   "outputs": [],
   "source": [
    "np.random.seed(1)"
   ]
  },
  {
   "cell_type": "markdown",
   "metadata": {
    "colab_type": "text",
    "id": "cSSX-VCBAnuJ"
   },
   "source": [
    "`np.random.rand` generates numbers uniformly distribution over $[0, 1)$"
   ]
  },
  {
   "cell_type": "code",
   "execution_count": 0,
   "metadata": {
    "colab": {
     "base_uri": "https://localhost:8080/",
     "height": 53
    },
    "colab_type": "code",
    "id": "ran81EdeAKl6",
    "outputId": "9adb1089-0417-490b-f31e-6730df35d688"
   },
   "outputs": [
    {
     "data": {
      "text/plain": [
       "array([[4.17022005e-01, 7.20324493e-01, 1.14374817e-04],\n",
       "       [3.02332573e-01, 1.46755891e-01, 9.23385948e-02]])"
      ]
     },
     "execution_count": 18,
     "metadata": {
      "tags": []
     },
     "output_type": "execute_result"
    }
   ],
   "source": [
    "np.random.rand(2, 3) # Generate 2 * 3 random numbers"
   ]
  },
  {
   "cell_type": "markdown",
   "metadata": {
    "colab_type": "text",
    "id": "g_jgVxcfAi00"
   },
   "source": [
    "`np.radnom.randn` generates numbers following standard normal distribtion."
   ]
  },
  {
   "cell_type": "code",
   "execution_count": 0,
   "metadata": {
    "colab": {
     "base_uri": "https://localhost:8080/",
     "height": 53
    },
    "colab_type": "code",
    "id": "OG-suj-PA72b",
    "outputId": "6fda962e-bc37-4f93-9bdf-aa82b5502117"
   },
   "outputs": [
    {
     "data": {
      "text/plain": [
       "array([[-0.52817175, -1.07296862,  0.86540763],\n",
       "       [-2.3015387 ,  1.74481176, -0.7612069 ]])"
      ]
     },
     "execution_count": 19,
     "metadata": {
      "tags": []
     },
     "output_type": "execute_result"
    }
   ],
   "source": [
    "np.random.randn(2, 3) # Generate 2 * 3 random numbers"
   ]
  },
  {
   "cell_type": "markdown",
   "metadata": {
    "colab_type": "text",
    "id": "SLw958olA9Uu"
   },
   "source": [
    "`np.random.randint(low, high)` generates integers ranging from `low` (inclusive) to `high` (exclusive)"
   ]
  },
  {
   "cell_type": "code",
   "execution_count": 0,
   "metadata": {
    "colab": {
     "base_uri": "https://localhost:8080/",
     "height": 71
    },
    "colab_type": "code",
    "id": "SkRVwD_yCd7r",
    "outputId": "72c58ee8-4ed7-433e-8a95-60e58293f827"
   },
   "outputs": [
    {
     "data": {
      "text/plain": [
       "array([[3, 0, 2],\n",
       "       [0, 1, 2],\n",
       "       [2, 0, 3]])"
      ]
     },
     "execution_count": 20,
     "metadata": {
      "tags": []
     },
     "output_type": "execute_result"
    }
   ],
   "source": [
    "np.random.randint(low = 0, high = 4, size = (3, 3))"
   ]
  },
  {
   "cell_type": "markdown",
   "metadata": {
    "colab_type": "text",
    "id": "MLSvOE4UEA6n"
   },
   "source": [
    "`np.random.choice` geneates random numbers following a given pmf."
   ]
  },
  {
   "cell_type": "code",
   "execution_count": 0,
   "metadata": {
    "colab": {
     "base_uri": "https://localhost:8080/",
     "height": 71
    },
    "colab_type": "code",
    "id": "NidDNwzK4FRY",
    "outputId": "13962d5d-09fb-41cb-fe32-e90186c6bfcd"
   },
   "outputs": [
    {
     "data": {
      "text/plain": [
       "array([[2, 2, 3, 3],\n",
       "       [3, 3, 0, 2],\n",
       "       [3, 3, 3, 1]])"
      ]
     },
     "execution_count": 21,
     "metadata": {
      "tags": []
     },
     "output_type": "execute_result"
    }
   ],
   "source": [
    "a = np.arange(4)\n",
    "p = [0.1, 0.2, 0.3, 0.4]\n",
    "np.random.choice(a = a, size=(3, 4), p = p)"
   ]
  },
  {
   "cell_type": "markdown",
   "metadata": {
    "colab_type": "text",
    "id": "9Arc1wQq5a2V"
   },
   "source": [
    "The sample space is not necessary to be number sets."
   ]
  },
  {
   "cell_type": "code",
   "execution_count": 0,
   "metadata": {
    "colab": {
     "base_uri": "https://localhost:8080/",
     "height": 71
    },
    "colab_type": "code",
    "id": "7JqVclm44hgH",
    "outputId": "fc86099d-f55f-4d9c-f75f-930e91160710"
   },
   "outputs": [
    {
     "data": {
      "text/plain": [
       "array([['Spade', 'Clud', 'Clud', 'Clud'],\n",
       "       ['Heart', 'Spade', 'Heart', 'Spade'],\n",
       "       ['Diamond', 'Heart', 'Spade', 'Clud']], dtype='<U7')"
      ]
     },
     "execution_count": 22,
     "metadata": {
      "tags": []
     },
     "output_type": "execute_result"
    }
   ],
   "source": [
    "a = ['Spade', 'Heart', 'Clud', 'Diamond']\n",
    "p = [0.25, 0.25, 0.25, 0.25]\n",
    "np.random.choice(a = a, size=(3, 4), p = p)"
   ]
  },
  {
   "cell_type": "markdown",
   "metadata": {
    "colab_type": "text",
    "id": "O7pLtNHP5XbL"
   },
   "source": [
    "It is also possible to draw random samples from other distributions."
   ]
  },
  {
   "cell_type": "markdown",
   "metadata": {
    "colab_type": "text",
    "id": "Wa7KH_rW6WaU"
   },
   "source": [
    "Exponential: $f_X(x; \\beta) = \\frac{1}{\\beta}e^{-\\frac{x}{\\beta}}$, $\\beta$ is the scale parameter."
   ]
  },
  {
   "cell_type": "code",
   "execution_count": 0,
   "metadata": {
    "colab": {
     "base_uri": "https://localhost:8080/",
     "height": 53
    },
    "colab_type": "code",
    "id": "fstao_qt6Yn7",
    "outputId": "e44f81bf-1d3f-4e52-c19b-969cd1da70e0"
   },
   "outputs": [
    {
     "data": {
      "text/plain": [
       "array([[2.16136241, 0.70905534, 1.18166682],\n",
       "       [0.50237771, 0.15238928, 1.26688512]])"
      ]
     },
     "execution_count": 23,
     "metadata": {
      "tags": []
     },
     "output_type": "execute_result"
    }
   ],
   "source": [
    "np.random.exponential(scale = 2, size = (2, 3))"
   ]
  },
  {
   "cell_type": "markdown",
   "metadata": {
    "colab_type": "text",
    "id": "cS-2YNh162s8"
   },
   "source": [
    "Binomial: $P_X(k; n,p) = \\binom{n}{k} p^k (1 - p)^{n - k}$."
   ]
  },
  {
   "cell_type": "code",
   "execution_count": 0,
   "metadata": {
    "colab": {
     "base_uri": "https://localhost:8080/",
     "height": 71
    },
    "colab_type": "code",
    "id": "QCNVWxTx7Utf",
    "outputId": "31fbcc4b-4710-4c67-9ffc-2921a5ddf7e7"
   },
   "outputs": [
    {
     "data": {
      "text/plain": [
       "array([[10,  6,  9],\n",
       "       [ 8, 10,  6],\n",
       "       [ 6,  9,  8]])"
      ]
     },
     "execution_count": 24,
     "metadata": {
      "tags": []
     },
     "output_type": "execute_result"
    }
   ],
   "source": [
    "n = 10\n",
    "p = 0.8\n",
    "np.random.binomial(n = n, p = p, size = (3, 3))"
   ]
  },
  {
   "cell_type": "markdown",
   "metadata": {
    "colab_type": "text",
    "id": "e16J3-el71gV"
   },
   "source": [
    "More distribution types are shown in the docs. "
   ]
  },
  {
   "cell_type": "code",
   "execution_count": 0,
   "metadata": {
    "colab": {},
    "colab_type": "code",
    "id": "jkt_2jWu8DBe"
   },
   "outputs": [],
   "source": []
  }
 ],
 "metadata": {
  "colab": {
   "name": "numpy_random.ipynb",
   "provenance": []
  },
  "kernelspec": {
   "display_name": "Python 3",
   "language": "python",
   "name": "python3"
  },
  "language_info": {
   "codemirror_mode": {
    "name": "ipython",
    "version": 3
   },
   "file_extension": ".py",
   "mimetype": "text/x-python",
   "name": "python",
   "nbconvert_exporter": "python",
   "pygments_lexer": "ipython3",
   "version": "3.7.6"
  }
 },
 "nbformat": 4,
 "nbformat_minor": 1
}
