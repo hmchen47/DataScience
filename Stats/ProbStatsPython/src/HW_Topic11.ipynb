{
 "cells": [
  {
   "cell_type": "code",
   "execution_count": 1,
   "metadata": {},
   "outputs": [],
   "source": [
    "import scipy.stats as stats\n",
    "import pandas as pd\n",
    "import numpy as np\n",
    "import matplotlib.pyplot as plt"
   ]
  },
  {
   "cell_type": "code",
   "execution_count": 7,
   "metadata": {},
   "outputs": [
    {
     "name": "stdout",
     "output_type": "stream",
     "text": [
      "<class 'pandas.core.frame.DataFrame'>\n",
      "RangeIndex: 45253 entries, 0 to 45252\n",
      "Data columns (total 37 columns):\n",
      " #   Column             Non-Null Count  Dtype  \n",
      "---  ------             --------------  -----  \n",
      " 0   datetime           45253 non-null  object \n",
      " 1   Vancouver          44458 non-null  float64\n",
      " 2   Portland           45252 non-null  float64\n",
      " 3   San Francisco      44460 non-null  float64\n",
      " 4   Seattle            45250 non-null  float64\n",
      " 5   Los Angeles        45250 non-null  float64\n",
      " 6   San Diego          45252 non-null  float64\n",
      " 7   Las Vegas          45252 non-null  float64\n",
      " 8   Phoenix            45250 non-null  float64\n",
      " 9   Albuquerque        45252 non-null  float64\n",
      " 10  Denver             45252 non-null  float64\n",
      " 11  San Antonio        45252 non-null  float64\n",
      " 12  Dallas             45249 non-null  float64\n",
      " 13  Houston            45250 non-null  float64\n",
      " 14  Kansas City        45252 non-null  float64\n",
      " 15  Minneapolis        45240 non-null  float64\n",
      " 16  Saint Louis        45252 non-null  float64\n",
      " 17  Chicago            45250 non-null  float64\n",
      " 18  Nashville          45251 non-null  float64\n",
      " 19  Indianapolis       45246 non-null  float64\n",
      " 20  Atlanta            45247 non-null  float64\n",
      " 21  Detroit            45252 non-null  float64\n",
      " 22  Jacksonville       45252 non-null  float64\n",
      " 23  Charlotte          45250 non-null  float64\n",
      " 24  Miami              44448 non-null  float64\n",
      " 25  Pittsburgh         45250 non-null  float64\n",
      " 26  Toronto            45252 non-null  float64\n",
      " 27  Philadelphia       45250 non-null  float64\n",
      " 28  New York           44460 non-null  float64\n",
      " 29  Montreal           45250 non-null  float64\n",
      " 30  Boston             45250 non-null  float64\n",
      " 31  Beersheba          44455 non-null  float64\n",
      " 32  Tel Aviv District  44460 non-null  float64\n",
      " 33  Eilat              44461 non-null  float64\n",
      " 34  Haifa              44455 non-null  float64\n",
      " 35  Nahariyya          44456 non-null  float64\n",
      " 36  Jerusalem          44460 non-null  float64\n",
      "dtypes: float64(36), object(1)\n",
      "memory usage: 12.8+ MB\n"
     ]
    }
   ],
   "source": [
    "# load dataset\n",
    "temp_df = pd.read_csv('./data/temperature.csv')\n",
    "\n",
    "temp_df.info()"
   ]
  },
  {
   "cell_type": "code",
   "execution_count": 8,
   "metadata": {},
   "outputs": [
    {
     "name": "stdout",
     "output_type": "stream",
     "text": [
      "<class 'pandas.core.frame.DataFrame'>\n",
      "Int64Index: 44430 entries, 1 to 44460\n",
      "Data columns (total 37 columns):\n",
      " #   Column             Non-Null Count  Dtype  \n",
      "---  ------             --------------  -----  \n",
      " 0   datetime           44430 non-null  object \n",
      " 1   Vancouver          44430 non-null  float64\n",
      " 2   Portland           44430 non-null  float64\n",
      " 3   San Francisco      44430 non-null  float64\n",
      " 4   Seattle            44430 non-null  float64\n",
      " 5   Los Angeles        44430 non-null  float64\n",
      " 6   San Diego          44430 non-null  float64\n",
      " 7   Las Vegas          44430 non-null  float64\n",
      " 8   Phoenix            44430 non-null  float64\n",
      " 9   Albuquerque        44430 non-null  float64\n",
      " 10  Denver             44430 non-null  float64\n",
      " 11  San Antonio        44430 non-null  float64\n",
      " 12  Dallas             44430 non-null  float64\n",
      " 13  Houston            44430 non-null  float64\n",
      " 14  Kansas City        44430 non-null  float64\n",
      " 15  Minneapolis        44430 non-null  float64\n",
      " 16  Saint Louis        44430 non-null  float64\n",
      " 17  Chicago            44430 non-null  float64\n",
      " 18  Nashville          44430 non-null  float64\n",
      " 19  Indianapolis       44430 non-null  float64\n",
      " 20  Atlanta            44430 non-null  float64\n",
      " 21  Detroit            44430 non-null  float64\n",
      " 22  Jacksonville       44430 non-null  float64\n",
      " 23  Charlotte          44430 non-null  float64\n",
      " 24  Miami              44430 non-null  float64\n",
      " 25  Pittsburgh         44430 non-null  float64\n",
      " 26  Toronto            44430 non-null  float64\n",
      " 27  Philadelphia       44430 non-null  float64\n",
      " 28  New York           44430 non-null  float64\n",
      " 29  Montreal           44430 non-null  float64\n",
      " 30  Boston             44430 non-null  float64\n",
      " 31  Beersheba          44430 non-null  float64\n",
      " 32  Tel Aviv District  44430 non-null  float64\n",
      " 33  Eilat              44430 non-null  float64\n",
      " 34  Haifa              44430 non-null  float64\n",
      " 35  Nahariyya          44430 non-null  float64\n",
      " 36  Jerusalem          44430 non-null  float64\n",
      "dtypes: float64(36), object(1)\n",
      "memory usage: 12.9+ MB\n"
     ]
    }
   ],
   "source": [
    "temp_df = temp_df.dropna()\n",
    "temp_df.info()"
   ]
  },
  {
   "cell_type": "markdown",
   "metadata": {},
   "source": [
    "Q1. If you plot a histogram with 100 bins using all the samples, which one would represesnt San Diego"
   ]
  },
  {
   "cell_type": "code",
   "execution_count": 22,
   "metadata": {},
   "outputs": [
    {
     "data": {
      "image/png": "[encoded data removed]",
      "text/plain": [
       "<Figure size 504x504 with 1 Axes>"
      ]
     },
     "metadata": {
      "needs_background": "light"
     },
     "output_type": "display_data"
    }
   ],
   "source": [
    "plt.figure(figsize=(7, 7))\n",
    "plt.hist(temp_df['San Diego'], bins=100)\n",
    "plt.title('Histogram of Temperature of San Diego', fontsize=15)\n",
    "plt.xlabel('Temperature', fontsize=12)\n",
    "plt.ylabel('Frequency', fontsize=12)\n",
    "plt.show()"
   ]
  },
  {
   "cell_type": "markdown",
   "metadata": {},
   "source": [
    "Q2. The sample mean and variance over the data's duration\n",
    "\n",
    "    a. Sample mean\n",
    "    b. Sample mean"
   ]
  },
  {
   "cell_type": "code",
   "execution_count": 26,
   "metadata": {},
   "outputs": [
    {
     "data": {
      "text/plain": [
       "count    44430.000000\n",
       "mean       290.216795\n",
       "std          5.914659\n",
       "min        265.783333\n",
       "25%        286.240000\n",
       "50%        290.120000\n",
       "75%        294.140000\n",
       "max        313.360000\n",
       "Name: San Diego, dtype: float64"
      ]
     },
     "execution_count": 26,
     "metadata": {},
     "output_type": "execute_result"
    }
   ],
   "source": [
    "temp_df['San Diego'].describe()"
   ]
  },
  {
   "cell_type": "code",
   "execution_count": 28,
   "metadata": {},
   "outputs": [
    {
     "data": {
      "text/plain": [
       "34.98318591685673"
      ]
     },
     "execution_count": 28,
     "metadata": {},
     "output_type": "execute_result"
    }
   ],
   "source": [
    "# sample variance\n",
    "temp_df['San Diego'].var()"
   ]
  },
  {
   "cell_type": "markdown",
   "metadata": {},
   "source": [
    "Q3. The sample mean in February 2013"
   ]
  },
  {
   "cell_type": "code",
   "execution_count": 31,
   "metadata": {},
   "outputs": [
    {
     "data": {
      "text/html": [
       "<div>\n",
       "<style scoped>\n",
       "    .dataframe tbody tr th:only-of-type {\n",
       "        vertical-align: middle;\n",
       "    }\n",
       "\n",
       "    .dataframe tbody tr th {\n",
       "        vertical-align: top;\n",
       "    }\n",
       "\n",
       "    .dataframe thead th {\n",
       "        text-align: right;\n",
       "    }\n",
       "</style>\n",
       "<table border=\"1\" class=\"dataframe\">\n",
       "  <thead>\n",
       "    <tr style=\"text-align: right;\">\n",
       "      <th></th>\n",
       "      <th>datetime</th>\n",
       "      <th>Vancouver</th>\n",
       "      <th>Portland</th>\n",
       "      <th>San Francisco</th>\n",
       "      <th>Seattle</th>\n",
       "      <th>Los Angeles</th>\n",
       "      <th>San Diego</th>\n",
       "      <th>Las Vegas</th>\n",
       "      <th>Phoenix</th>\n",
       "      <th>Albuquerque</th>\n",
       "      <th>...</th>\n",
       "      <th>Philadelphia</th>\n",
       "      <th>New York</th>\n",
       "      <th>Montreal</th>\n",
       "      <th>Boston</th>\n",
       "      <th>Beersheba</th>\n",
       "      <th>Tel Aviv District</th>\n",
       "      <th>Eilat</th>\n",
       "      <th>Haifa</th>\n",
       "      <th>Nahariyya</th>\n",
       "      <th>Jerusalem</th>\n",
       "    </tr>\n",
       "  </thead>\n",
       "  <tbody>\n",
       "    <tr>\n",
       "      <th>1</th>\n",
       "      <td>2012-10-01 13:00:00</td>\n",
       "      <td>284.630000</td>\n",
       "      <td>282.080000</td>\n",
       "      <td>289.480000</td>\n",
       "      <td>281.800000</td>\n",
       "      <td>291.870000</td>\n",
       "      <td>291.530000</td>\n",
       "      <td>293.410000</td>\n",
       "      <td>296.600000</td>\n",
       "      <td>285.120000</td>\n",
       "      <td>...</td>\n",
       "      <td>285.630000</td>\n",
       "      <td>288.220000</td>\n",
       "      <td>285.830000</td>\n",
       "      <td>287.170000</td>\n",
       "      <td>307.590000</td>\n",
       "      <td>305.470000</td>\n",
       "      <td>310.580000</td>\n",
       "      <td>304.4</td>\n",
       "      <td>304.4</td>\n",
       "      <td>303.5</td>\n",
       "    </tr>\n",
       "    <tr>\n",
       "      <th>2</th>\n",
       "      <td>2012-10-01 14:00:00</td>\n",
       "      <td>284.629041</td>\n",
       "      <td>282.083252</td>\n",
       "      <td>289.474993</td>\n",
       "      <td>281.797217</td>\n",
       "      <td>291.868186</td>\n",
       "      <td>291.533501</td>\n",
       "      <td>293.403141</td>\n",
       "      <td>296.608509</td>\n",
       "      <td>285.154558</td>\n",
       "      <td>...</td>\n",
       "      <td>285.663208</td>\n",
       "      <td>288.247676</td>\n",
       "      <td>285.834650</td>\n",
       "      <td>287.186092</td>\n",
       "      <td>307.590000</td>\n",
       "      <td>304.310000</td>\n",
       "      <td>310.495769</td>\n",
       "      <td>304.4</td>\n",
       "      <td>304.4</td>\n",
       "      <td>303.5</td>\n",
       "    </tr>\n",
       "    <tr>\n",
       "      <th>3</th>\n",
       "      <td>2012-10-01 15:00:00</td>\n",
       "      <td>284.626998</td>\n",
       "      <td>282.091866</td>\n",
       "      <td>289.460618</td>\n",
       "      <td>281.789833</td>\n",
       "      <td>291.862844</td>\n",
       "      <td>291.543355</td>\n",
       "      <td>293.392177</td>\n",
       "      <td>296.631487</td>\n",
       "      <td>285.233952</td>\n",
       "      <td>...</td>\n",
       "      <td>285.756824</td>\n",
       "      <td>288.326940</td>\n",
       "      <td>285.847790</td>\n",
       "      <td>287.231672</td>\n",
       "      <td>307.391513</td>\n",
       "      <td>304.281841</td>\n",
       "      <td>310.411538</td>\n",
       "      <td>304.4</td>\n",
       "      <td>304.4</td>\n",
       "      <td>303.5</td>\n",
       "    </tr>\n",
       "    <tr>\n",
       "      <th>4</th>\n",
       "      <td>2012-10-01 16:00:00</td>\n",
       "      <td>284.624955</td>\n",
       "      <td>282.100481</td>\n",
       "      <td>289.446243</td>\n",
       "      <td>281.782449</td>\n",
       "      <td>291.857503</td>\n",
       "      <td>291.553209</td>\n",
       "      <td>293.381213</td>\n",
       "      <td>296.654466</td>\n",
       "      <td>285.313345</td>\n",
       "      <td>...</td>\n",
       "      <td>285.850440</td>\n",
       "      <td>288.406203</td>\n",
       "      <td>285.860929</td>\n",
       "      <td>287.277251</td>\n",
       "      <td>307.145200</td>\n",
       "      <td>304.238015</td>\n",
       "      <td>310.327308</td>\n",
       "      <td>304.4</td>\n",
       "      <td>304.4</td>\n",
       "      <td>303.5</td>\n",
       "    </tr>\n",
       "    <tr>\n",
       "      <th>5</th>\n",
       "      <td>2012-10-01 17:00:00</td>\n",
       "      <td>284.622911</td>\n",
       "      <td>282.109095</td>\n",
       "      <td>289.431869</td>\n",
       "      <td>281.775065</td>\n",
       "      <td>291.852162</td>\n",
       "      <td>291.563063</td>\n",
       "      <td>293.370249</td>\n",
       "      <td>296.677445</td>\n",
       "      <td>285.392738</td>\n",
       "      <td>...</td>\n",
       "      <td>285.944057</td>\n",
       "      <td>288.485467</td>\n",
       "      <td>285.874069</td>\n",
       "      <td>287.322831</td>\n",
       "      <td>306.898887</td>\n",
       "      <td>304.194188</td>\n",
       "      <td>310.243077</td>\n",
       "      <td>304.4</td>\n",
       "      <td>304.4</td>\n",
       "      <td>303.5</td>\n",
       "    </tr>\n",
       "  </tbody>\n",
       "</table>\n",
       "<p>5 rows × 37 columns</p>\n",
       "</div>"
      ],
      "text/plain": [
       "              datetime   Vancouver    Portland  San Francisco     Seattle  \\\n",
       "1  2012-10-01 13:00:00  284.630000  282.080000     289.480000  281.800000   \n",
       "2  2012-10-01 14:00:00  284.629041  282.083252     289.474993  281.797217   \n",
       "3  2012-10-01 15:00:00  284.626998  282.091866     289.460618  281.789833   \n",
       "4  2012-10-01 16:00:00  284.624955  282.100481     289.446243  281.782449   \n",
       "5  2012-10-01 17:00:00  284.622911  282.109095     289.431869  281.775065   \n",
       "\n",
       "   Los Angeles   San Diego   Las Vegas     Phoenix  Albuquerque  ...  \\\n",
       "1   291.870000  291.530000  293.410000  296.600000   285.120000  ...   \n",
       "2   291.868186  291.533501  293.403141  296.608509   285.154558  ...   \n",
       "3   291.862844  291.543355  293.392177  296.631487   285.233952  ...   \n",
       "4   291.857503  291.553209  293.381213  296.654466   285.313345  ...   \n",
       "5   291.852162  291.563063  293.370249  296.677445   285.392738  ...   \n",
       "\n",
       "   Philadelphia    New York    Montreal      Boston   Beersheba  \\\n",
       "1    285.630000  288.220000  285.830000  287.170000  307.590000   \n",
       "2    285.663208  288.247676  285.834650  287.186092  307.590000   \n",
       "3    285.756824  288.326940  285.847790  287.231672  307.391513   \n",
       "4    285.850440  288.406203  285.860929  287.277251  307.145200   \n",
       "5    285.944057  288.485467  285.874069  287.322831  306.898887   \n",
       "\n",
       "   Tel Aviv District       Eilat  Haifa  Nahariyya  Jerusalem  \n",
       "1         305.470000  310.580000  304.4      304.4      303.5  \n",
       "2         304.310000  310.495769  304.4      304.4      303.5  \n",
       "3         304.281841  310.411538  304.4      304.4      303.5  \n",
       "4         304.238015  310.327308  304.4      304.4      303.5  \n",
       "5         304.194188  310.243077  304.4      304.4      303.5  \n",
       "\n",
       "[5 rows x 37 columns]"
      ]
     },
     "execution_count": 31,
     "metadata": {},
     "output_type": "execute_result"
    }
   ],
   "source": [
    "temp_df.head()"
   ]
  },
  {
   "cell_type": "code",
   "execution_count": 58,
   "metadata": {},
   "outputs": [
    {
     "data": {
      "text/plain": [
       "285.24695012400906"
      ]
     },
     "execution_count": 58,
     "metadata": {},
     "output_type": "execute_result"
    }
   ],
   "source": [
    "import datetime\n",
    "\n",
    "yrmon_df = temp_df[(pd.to_datetime(temp_df['datetime']).dt.year == 2013) & (pd.to_datetime(temp_df['datetime']).dt.month == 2)]\n",
    "\n",
    "np.mean(yrmon_df['San Diego'])"
   ]
  },
  {
   "cell_type": "code",
   "execution_count": null,
   "metadata": {},
   "outputs": [],
   "source": []
  }
 ],
 "metadata": {
  "kernelspec": {
   "display_name": "Python 3",
   "language": "python",
   "name": "python3"
  },
  "language_info": {
   "codemirror_mode": {
    "name": "ipython",
    "version": 3
   },
   "file_extension": ".py",
   "mimetype": "text/x-python",
   "name": "python",
   "nbconvert_exporter": "python",
   "pygments_lexer": "ipython3",
   "version": "3.7.6"
  }
 },
 "nbformat": 4,
 "nbformat_minor": 4
}
