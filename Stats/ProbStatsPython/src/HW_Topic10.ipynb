{
 "cells": [
  {
   "cell_type": "markdown",
   "metadata": {},
   "source": [
    "<font size=\"4\" style=\"color:red;\"> **IMPORTANT: ** When submitting this homework notebook, please modify only the cells that start with:</font>\n",
    "\n",
    "```python\n",
    "# modify this cell\n",
    "```"
   ]
  },
  {
   "cell_type": "markdown",
   "metadata": {},
   "source": [
    "**Note:**  notice that no packages are imported for this assignment. This is because you do not need any python packages."
   ]
  },
  {
   "cell_type": "markdown",
   "metadata": {},
   "source": [
    "# Probability Inequalities\n"
   ]
  },
  {
   "cell_type": "markdown",
   "metadata": {},
   "source": [
    "For the binomial distribution $X\\sim B_{p,n}$ with mean $\\mu=np$ and variance $\\sigma^2=np(1-p)$, \n",
    "we would like to upper bound the probability $P(X\\ge c\\cdot \\mu)$ for $c\\ge1$. \n",
    "The lectures introduced three bounds:\n",
    "\n",
    "Markov: $$P(X\\ge \\alpha\\mu)\\le \\frac{1}{\\alpha},\\quad\\quad\\forall \\alpha\\ge 1,$$\n",
    "Chebyshev: $$P(|X-\\mu|\\ge \\alpha\\sigma)\\le \\frac{1}{\\alpha^2},\\quad\\quad \\forall \\alpha\\ge 1,$$\n",
    "Note that, while double-sided, this inequality also bounds $P(X\\ge\\mu+\\alpha)$\n",
    "$$P(X\\ge \\mu+\\alpha\\sigma)\\le P(|X-\\mu|\\ge \\alpha\\sigma)\\le \\frac{1}{\\alpha^2},$$\n",
    "Chernoff: $$P(X\\ge (1+\\delta)\\mu)\\le e^{-\\frac{\\delta^2}{2+\\delta}\\mu},\\quad\\quad\\forall \\delta\\ge0.$$\n"
   ]
  },
  {
   "cell_type": "code",
   "execution_count": 1,
   "metadata": {},
   "outputs": [],
   "source": [
    "from math import exp"
   ]
  },
  {
   "cell_type": "markdown",
   "metadata": {},
   "source": [
    "import exponential function exp from math"
   ]
  },
  {
   "cell_type": "markdown",
   "metadata": {},
   "source": [
    "## Problem 1"
   ]
  },
  {
   "cell_type": "markdown",
   "metadata": {},
   "source": [
    "Write three functions **Markov**, **Chebyshev** and **Chernoff** that take $n$, $p$ and $c$ as inputs and return the upper bounds for $P(X\\ge c\\cdot np)$ given by the above Markov, Chebyshev, and Chernoff inequalities as outputs.\n",
    "\n",
    "<font  style=\"color:blue\"> **Code:**</font>\n",
    "```python\n",
    "print Markov(100.,0.2,1.5)\n",
    "print Chebyshev(100.,0.2,1.5)\n",
    "print Chernoff(100.,0.2,1.5)\n",
    "```\n",
    "\n",
    "\n",
    "<font  style=\"color:magenta\"> **Output**</font>\n",
    "```\n",
    "0.6666666666666666\n",
    "0.16\n",
    "0.1353352832366127\n",
    "\n",
    "```"
   ]
  },
  {
   "cell_type": "code",
   "execution_count": 7,
   "metadata": {},
   "outputs": [
    {
     "name": "stdout",
     "output_type": "stream",
     "text": [
      "\n",
      "Markov inequality (n, p, c) = (200, 0.25, 1.25): 0.8\n"
     ]
    }
   ],
   "source": [
    "\n",
    "# modify this cell\n",
    "\n",
    "def Markov(n, p, c):\n",
    "    # inputs: 3 floats as described above\n",
    "    # output: a variable of type float\n",
    "    \n",
    "    if c < 1.0:\n",
    "        return \"c must greater than 1: c= {}\".format(c)\n",
    "    else:\n",
    "        return 1/c\n",
    "\n",
    "n, p, c = 200, 0.25, 1.25\n",
    "print(\"\\nMarkov inequality (n, p, c) = ({}, {}, {}): {}\".format(n, p, c, Markov(n, p, c)))"
   ]
  },
  {
   "cell_type": "code",
   "execution_count": 8,
   "metadata": {},
   "outputs": [
    {
     "name": "stdout",
     "output_type": "stream",
     "text": [
      "\n",
      "Chebyshev inequality (n, p, c) = (100, 0.25, 1.25): 0.48\n"
     ]
    }
   ],
   "source": [
    "\n",
    "# modify this cell\n",
    "\n",
    "def Chebyshev(n, p, c):\n",
    "    # inputs: 3 floats as described above\n",
    "    # output: a variable of type float\n",
    "     \n",
    "    if c < 1.0:\n",
    "        return \"c must greater than 1: c= {}\".format(c)\n",
    "    else:\n",
    "        return (1.0-p) / ((c-1)**2 * n*p)\n",
    "\n",
    "n, p, c = 100, 0.25, 1.25\n",
    "print(\"\\nChebyshev inequality (n, p, c) = ({}, {}, {}): {}\".format(n, p, c, Chebyshev(n, p, c)))\n"
   ]
  },
  {
   "cell_type": "code",
   "execution_count": 6,
   "metadata": {},
   "outputs": [
    {
     "name": "stdout",
     "output_type": "stream",
     "text": [
      "\n",
      "Chrenoff inequality (n, p, c) = (100, 0.25, 1.25): 0.4993517885992762\n"
     ]
    }
   ],
   "source": [
    "\n",
    "# modify this cell\n",
    "\n",
    "def Chernoff(n, p, c):\n",
    "    # inputs: 3 floats as described above\n",
    "    # output: a variable of type float\n",
    "    \n",
    "    if c < 1.0:\n",
    "        return \"c must greater than 1: c= {}\".format(c)\n",
    "    else:\n",
    "        return exp(-(c - 1.0)**2.0 * n*p /(2.0 + c - 1.0)) \n",
    "n, p, c = 100, 0.25, 1.25\n",
    "print(\"\\nChrenoff inequality (n, p, c) = ({}, {}, {}): {}\".format(n, p, c, Chernoff(n, p, c)))"
   ]
  },
  {
   "cell_type": "code",
   "execution_count": 5,
   "metadata": {
    "nbgrader": {
     "grade": true,
     "grade_id": "ex1",
     "locked": true,
     "points": "5",
     "solution": false
    }
   },
   "outputs": [],
   "source": [
    "assert abs(Markov(200.,0.25,1.25)-0.8)< 10**-5\n",
    "assert abs(Chebyshev(100.,0.25,1.25)-0.48)< 10**-5\n",
    "assert abs(Chernoff(100.,0.25,1.25)-0.4993517885992762)< 10**-5\n",
    "#\n",
    "# AUTOGRADER TEST - DO NOT REMOVE\n",
    "#\n"
   ]
  }
 ],
 "metadata": {
  "kernelspec": {
   "display_name": "Python 3",
   "language": "python",
   "name": "python3"
  },
  "language_info": {
   "codemirror_mode": {
    "name": "ipython",
    "version": 3
   },
   "file_extension": ".py",
   "mimetype": "text/x-python",
   "name": "python",
   "nbconvert_exporter": "python",
   "pygments_lexer": "ipython3",
   "version": "3.7.6"
  },
  "toc": {
   "colors": {
    "hover_highlight": "#DAA520",
    "navigate_num": "#000000",
    "navigate_text": "#333333",
    "running_highlight": "#FF0000",
    "selected_highlight": "#FFD700",
    "sidebar_border": "#EEEEEE",
    "wrapper_background": "#FFFFFF"
   },
   "moveMenuLeft": true,
   "nav_menu": {
    "height": "48px",
    "width": "252px"
   },
   "navigate_menu": true,
   "number_sections": true,
   "sideBar": true,
   "threshold": 4,
   "toc_cell": false,
   "toc_section_display": "block",
   "toc_window_display": false,
   "widenNotebook": false
  }
 },
 "nbformat": 4,
 "nbformat_minor": 2
}
