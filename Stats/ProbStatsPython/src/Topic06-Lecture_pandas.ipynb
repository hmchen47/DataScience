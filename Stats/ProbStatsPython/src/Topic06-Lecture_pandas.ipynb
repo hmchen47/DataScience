{
 "cells": [
  {
   "cell_type": "markdown",
   "metadata": {},
   "source": [
    "# Pandas"
   ]
  },
  {
   "cell_type": "markdown",
   "metadata": {},
   "source": [
    "## What is pandas?"
   ]
  },
  {
   "cell_type": "markdown",
   "metadata": {},
   "source": [
    "Pandas is an open-source python library that can be used to create and query small datasets. You can use it to load  .csv files to your jupyter notebook. To learn more about data structures in pandas see their <a href=\"https://pandas.pydata.org/pandas-docs/stable/dsintro.html\">webpage</a>. In this lecture we will go through some of the useful functions of this library while looking at the <a href=\"https://www.kaggle.com/claudiodavi/superhero-set\">heroes dataset</a> from Kaggle.\n",
    "\n",
    "<span style=\"color:red\">NOTE:</span> Before continuing, please download the dataset and add it to the folder where this notebook resides."
   ]
  },
  {
   "cell_type": "code",
   "execution_count": 1,
   "metadata": {},
   "outputs": [],
   "source": [
    "import pandas as pd\n",
    "import numpy as np\n",
    "import matplotlib.pyplot as plt\n",
    "%matplotlib inline"
   ]
  },
  {
   "cell_type": "markdown",
   "metadata": {},
   "source": [
    "## Loading files"
   ]
  },
  {
   "cell_type": "markdown",
   "metadata": {},
   "source": [
    "The command <code>read_csv()</code> loads a \".csv\" file to jupyter notebook as an object of type <code>pandas.dataframe</code>."
   ]
  },
  {
   "cell_type": "code",
   "execution_count": 3,
   "metadata": {},
   "outputs": [],
   "source": [
    "df_heroes_info = pd.read_csv(\"./heroes/heroes_information.csv\")\n",
    "df_heroes_powers = pd.read_csv(\"./heroes/super_hero_powers.csv\")"
   ]
  },
  {
   "cell_type": "markdown",
   "metadata": {},
   "source": [
    "To take a peek at the dataframes we can use the method <code>head</code> which displays the top 5 entries."
   ]
  },
  {
   "cell_type": "code",
   "execution_count": 4,
   "metadata": {},
   "outputs": [
    {
     "data": {
      "text/html": [
       "<div>\n",
       "<style scoped>\n",
       "    .dataframe tbody tr th:only-of-type {\n",
       "        vertical-align: middle;\n",
       "    }\n",
       "\n",
       "    .dataframe tbody tr th {\n",
       "        vertical-align: top;\n",
       "    }\n",
       "\n",
       "    .dataframe thead th {\n",
       "        text-align: right;\n",
       "    }\n",
       "</style>\n",
       "<table border=\"1\" class=\"dataframe\">\n",
       "  <thead>\n",
       "    <tr style=\"text-align: right;\">\n",
       "      <th></th>\n",
       "      <th>Unnamed: 0</th>\n",
       "      <th>name</th>\n",
       "      <th>Gender</th>\n",
       "      <th>Eye color</th>\n",
       "      <th>Race</th>\n",
       "      <th>Hair color</th>\n",
       "      <th>Height</th>\n",
       "      <th>Publisher</th>\n",
       "      <th>Skin color</th>\n",
       "      <th>Alignment</th>\n",
       "      <th>Weight</th>\n",
       "    </tr>\n",
       "  </thead>\n",
       "  <tbody>\n",
       "    <tr>\n",
       "      <th>0</th>\n",
       "      <td>0</td>\n",
       "      <td>A-Bomb</td>\n",
       "      <td>Male</td>\n",
       "      <td>yellow</td>\n",
       "      <td>Human</td>\n",
       "      <td>No Hair</td>\n",
       "      <td>203.0</td>\n",
       "      <td>Marvel Comics</td>\n",
       "      <td>-</td>\n",
       "      <td>good</td>\n",
       "      <td>441.0</td>\n",
       "    </tr>\n",
       "    <tr>\n",
       "      <th>1</th>\n",
       "      <td>1</td>\n",
       "      <td>Abe Sapien</td>\n",
       "      <td>Male</td>\n",
       "      <td>blue</td>\n",
       "      <td>Icthyo Sapien</td>\n",
       "      <td>No Hair</td>\n",
       "      <td>191.0</td>\n",
       "      <td>Dark Horse Comics</td>\n",
       "      <td>blue</td>\n",
       "      <td>good</td>\n",
       "      <td>65.0</td>\n",
       "    </tr>\n",
       "    <tr>\n",
       "      <th>2</th>\n",
       "      <td>2</td>\n",
       "      <td>Abin Sur</td>\n",
       "      <td>Male</td>\n",
       "      <td>blue</td>\n",
       "      <td>Ungaran</td>\n",
       "      <td>No Hair</td>\n",
       "      <td>185.0</td>\n",
       "      <td>DC Comics</td>\n",
       "      <td>red</td>\n",
       "      <td>good</td>\n",
       "      <td>90.0</td>\n",
       "    </tr>\n",
       "    <tr>\n",
       "      <th>3</th>\n",
       "      <td>3</td>\n",
       "      <td>Abomination</td>\n",
       "      <td>Male</td>\n",
       "      <td>green</td>\n",
       "      <td>Human / Radiation</td>\n",
       "      <td>No Hair</td>\n",
       "      <td>203.0</td>\n",
       "      <td>Marvel Comics</td>\n",
       "      <td>-</td>\n",
       "      <td>bad</td>\n",
       "      <td>441.0</td>\n",
       "    </tr>\n",
       "    <tr>\n",
       "      <th>4</th>\n",
       "      <td>4</td>\n",
       "      <td>Abraxas</td>\n",
       "      <td>Male</td>\n",
       "      <td>blue</td>\n",
       "      <td>Cosmic Entity</td>\n",
       "      <td>Black</td>\n",
       "      <td>-99.0</td>\n",
       "      <td>Marvel Comics</td>\n",
       "      <td>-</td>\n",
       "      <td>bad</td>\n",
       "      <td>-99.0</td>\n",
       "    </tr>\n",
       "  </tbody>\n",
       "</table>\n",
       "</div>"
      ],
      "text/plain": [
       "   Unnamed: 0         name Gender Eye color               Race Hair color  \\\n",
       "0           0       A-Bomb   Male    yellow              Human    No Hair   \n",
       "1           1   Abe Sapien   Male      blue      Icthyo Sapien    No Hair   \n",
       "2           2     Abin Sur   Male      blue            Ungaran    No Hair   \n",
       "3           3  Abomination   Male     green  Human / Radiation    No Hair   \n",
       "4           4      Abraxas   Male      blue      Cosmic Entity      Black   \n",
       "\n",
       "   Height          Publisher Skin color Alignment  Weight  \n",
       "0   203.0      Marvel Comics          -      good   441.0  \n",
       "1   191.0  Dark Horse Comics       blue      good    65.0  \n",
       "2   185.0          DC Comics        red      good    90.0  \n",
       "3   203.0      Marvel Comics          -       bad   441.0  \n",
       "4   -99.0      Marvel Comics          -       bad   -99.0  "
      ]
     },
     "execution_count": 4,
     "metadata": {},
     "output_type": "execute_result"
    }
   ],
   "source": [
    "df_heroes_info.head()"
   ]
  },
  {
   "cell_type": "code",
   "execution_count": 5,
   "metadata": {},
   "outputs": [
    {
     "data": {
      "text/html": [
       "<div>\n",
       "<style scoped>\n",
       "    .dataframe tbody tr th:only-of-type {\n",
       "        vertical-align: middle;\n",
       "    }\n",
       "\n",
       "    .dataframe tbody tr th {\n",
       "        vertical-align: top;\n",
       "    }\n",
       "\n",
       "    .dataframe thead th {\n",
       "        text-align: right;\n",
       "    }\n",
       "</style>\n",
       "<table border=\"1\" class=\"dataframe\">\n",
       "  <thead>\n",
       "    <tr style=\"text-align: right;\">\n",
       "      <th></th>\n",
       "      <th>hero_names</th>\n",
       "      <th>Agility</th>\n",
       "      <th>Accelerated Healing</th>\n",
       "      <th>Lantern Power Ring</th>\n",
       "      <th>Dimensional Awareness</th>\n",
       "      <th>Cold Resistance</th>\n",
       "      <th>Durability</th>\n",
       "      <th>Stealth</th>\n",
       "      <th>Energy Absorption</th>\n",
       "      <th>Flight</th>\n",
       "      <th>...</th>\n",
       "      <th>Web Creation</th>\n",
       "      <th>Reality Warping</th>\n",
       "      <th>Odin Force</th>\n",
       "      <th>Symbiote Costume</th>\n",
       "      <th>Speed Force</th>\n",
       "      <th>Phoenix Force</th>\n",
       "      <th>Molecular Dissipation</th>\n",
       "      <th>Vision - Cryo</th>\n",
       "      <th>Omnipresent</th>\n",
       "      <th>Omniscient</th>\n",
       "    </tr>\n",
       "  </thead>\n",
       "  <tbody>\n",
       "    <tr>\n",
       "      <th>0</th>\n",
       "      <td>3-D Man</td>\n",
       "      <td>True</td>\n",
       "      <td>False</td>\n",
       "      <td>False</td>\n",
       "      <td>False</td>\n",
       "      <td>False</td>\n",
       "      <td>False</td>\n",
       "      <td>False</td>\n",
       "      <td>False</td>\n",
       "      <td>False</td>\n",
       "      <td>...</td>\n",
       "      <td>False</td>\n",
       "      <td>False</td>\n",
       "      <td>False</td>\n",
       "      <td>False</td>\n",
       "      <td>False</td>\n",
       "      <td>False</td>\n",
       "      <td>False</td>\n",
       "      <td>False</td>\n",
       "      <td>False</td>\n",
       "      <td>False</td>\n",
       "    </tr>\n",
       "    <tr>\n",
       "      <th>1</th>\n",
       "      <td>A-Bomb</td>\n",
       "      <td>False</td>\n",
       "      <td>True</td>\n",
       "      <td>False</td>\n",
       "      <td>False</td>\n",
       "      <td>False</td>\n",
       "      <td>True</td>\n",
       "      <td>False</td>\n",
       "      <td>False</td>\n",
       "      <td>False</td>\n",
       "      <td>...</td>\n",
       "      <td>False</td>\n",
       "      <td>False</td>\n",
       "      <td>False</td>\n",
       "      <td>False</td>\n",
       "      <td>False</td>\n",
       "      <td>False</td>\n",
       "      <td>False</td>\n",
       "      <td>False</td>\n",
       "      <td>False</td>\n",
       "      <td>False</td>\n",
       "    </tr>\n",
       "    <tr>\n",
       "      <th>2</th>\n",
       "      <td>Abe Sapien</td>\n",
       "      <td>True</td>\n",
       "      <td>True</td>\n",
       "      <td>False</td>\n",
       "      <td>False</td>\n",
       "      <td>True</td>\n",
       "      <td>True</td>\n",
       "      <td>False</td>\n",
       "      <td>False</td>\n",
       "      <td>False</td>\n",
       "      <td>...</td>\n",
       "      <td>False</td>\n",
       "      <td>False</td>\n",
       "      <td>False</td>\n",
       "      <td>False</td>\n",
       "      <td>False</td>\n",
       "      <td>False</td>\n",
       "      <td>False</td>\n",
       "      <td>False</td>\n",
       "      <td>False</td>\n",
       "      <td>False</td>\n",
       "    </tr>\n",
       "    <tr>\n",
       "      <th>3</th>\n",
       "      <td>Abin Sur</td>\n",
       "      <td>False</td>\n",
       "      <td>False</td>\n",
       "      <td>True</td>\n",
       "      <td>False</td>\n",
       "      <td>False</td>\n",
       "      <td>False</td>\n",
       "      <td>False</td>\n",
       "      <td>False</td>\n",
       "      <td>False</td>\n",
       "      <td>...</td>\n",
       "      <td>False</td>\n",
       "      <td>False</td>\n",
       "      <td>False</td>\n",
       "      <td>False</td>\n",
       "      <td>False</td>\n",
       "      <td>False</td>\n",
       "      <td>False</td>\n",
       "      <td>False</td>\n",
       "      <td>False</td>\n",
       "      <td>False</td>\n",
       "    </tr>\n",
       "    <tr>\n",
       "      <th>4</th>\n",
       "      <td>Abomination</td>\n",
       "      <td>False</td>\n",
       "      <td>True</td>\n",
       "      <td>False</td>\n",
       "      <td>False</td>\n",
       "      <td>False</td>\n",
       "      <td>False</td>\n",
       "      <td>False</td>\n",
       "      <td>False</td>\n",
       "      <td>False</td>\n",
       "      <td>...</td>\n",
       "      <td>False</td>\n",
       "      <td>False</td>\n",
       "      <td>False</td>\n",
       "      <td>False</td>\n",
       "      <td>False</td>\n",
       "      <td>False</td>\n",
       "      <td>False</td>\n",
       "      <td>False</td>\n",
       "      <td>False</td>\n",
       "      <td>False</td>\n",
       "    </tr>\n",
       "  </tbody>\n",
       "</table>\n",
       "<p>5 rows × 168 columns</p>\n",
       "</div>"
      ],
      "text/plain": [
       "    hero_names  Agility  Accelerated Healing  Lantern Power Ring  \\\n",
       "0      3-D Man     True                False               False   \n",
       "1       A-Bomb    False                 True               False   \n",
       "2   Abe Sapien     True                 True               False   \n",
       "3     Abin Sur    False                False                True   \n",
       "4  Abomination    False                 True               False   \n",
       "\n",
       "   Dimensional Awareness  Cold Resistance  Durability  Stealth  \\\n",
       "0                  False            False       False    False   \n",
       "1                  False            False        True    False   \n",
       "2                  False             True        True    False   \n",
       "3                  False            False       False    False   \n",
       "4                  False            False       False    False   \n",
       "\n",
       "   Energy Absorption  Flight  ...  Web Creation  Reality Warping  Odin Force  \\\n",
       "0              False   False  ...         False            False       False   \n",
       "1              False   False  ...         False            False       False   \n",
       "2              False   False  ...         False            False       False   \n",
       "3              False   False  ...         False            False       False   \n",
       "4              False   False  ...         False            False       False   \n",
       "\n",
       "   Symbiote Costume  Speed Force  Phoenix Force  Molecular Dissipation  \\\n",
       "0             False        False          False                  False   \n",
       "1             False        False          False                  False   \n",
       "2             False        False          False                  False   \n",
       "3             False        False          False                  False   \n",
       "4             False        False          False                  False   \n",
       "\n",
       "   Vision - Cryo  Omnipresent  Omniscient  \n",
       "0          False        False       False  \n",
       "1          False        False       False  \n",
       "2          False        False       False  \n",
       "3          False        False       False  \n",
       "4          False        False       False  \n",
       "\n",
       "[5 rows x 168 columns]"
      ]
     },
     "execution_count": 5,
     "metadata": {},
     "output_type": "execute_result"
    }
   ],
   "source": [
    "df_heroes_powers.head()"
   ]
  },
  {
   "cell_type": "markdown",
   "metadata": {},
   "source": [
    "## Querying the dataset"
   ]
  },
  {
   "cell_type": "markdown",
   "metadata": {},
   "source": [
    "To access a particular column of the dataframe we can use the access the elements like a python dictionary. The returned object is of the type panda.Series."
   ]
  },
  {
   "cell_type": "code",
   "execution_count": 6,
   "metadata": {},
   "outputs": [
    {
     "name": "stdout",
     "output_type": "stream",
     "text": [
      "0                 A-Bomb\n",
      "1             Abe Sapien\n",
      "2               Abin Sur\n",
      "3            Abomination\n",
      "4                Abraxas\n",
      "5          Absorbing Man\n",
      "6            Adam Monroe\n",
      "7           Adam Strange\n",
      "8               Agent 13\n",
      "9              Agent Bob\n",
      "10            Agent Zero\n",
      "11            Air-Walker\n",
      "12                  Ajax\n",
      "13            Alan Scott\n",
      "14           Alex Mercer\n",
      "15          Alex Woolsly\n",
      "16     Alfred Pennyworth\n",
      "17                 Alien\n",
      "18      Allan Quatermain\n",
      "19                 Amazo\n",
      "20                  Ammo\n",
      "21        Ando Masahashi\n",
      "22                 Angel\n",
      "23                 Angel\n",
      "24            Angel Dust\n",
      "25       Angel Salvadore\n",
      "26                Angela\n",
      "27            Animal Man\n",
      "28             Annihilus\n",
      "29               Ant-Man\n",
      "             ...        \n",
      "704               Walrus\n",
      "705          War Machine\n",
      "706              Warbird\n",
      "707              Warlock\n",
      "708                 Warp\n",
      "709              Warpath\n",
      "710                 Wasp\n",
      "711              Watcher\n",
      "712            Weapon XI\n",
      "713         White Canary\n",
      "714          White Queen\n",
      "715             Wildfire\n",
      "716       Winter Soldier\n",
      "717              Wiz Kid\n",
      "718            Wolfsbane\n",
      "719            Wolverine\n",
      "720          Wonder Girl\n",
      "721           Wonder Man\n",
      "722         Wonder Woman\n",
      "723               Wondra\n",
      "724       Wyatt Wingfoot\n",
      "725                 X-23\n",
      "726                X-Man\n",
      "727          Yellow Claw\n",
      "728         Yellowjacket\n",
      "729      Yellowjacket II\n",
      "730                 Ymir\n",
      "731                 Yoda\n",
      "732              Zatanna\n",
      "733                 Zoom\n",
      "Name: name, Length: 734, dtype: object\n",
      "<class 'pandas.core.series.Series'>\n"
     ]
    }
   ],
   "source": [
    "print(df_heroes_info['name'])\n",
    "print(type(df_heroes_info['name']))"
   ]
  },
  {
   "cell_type": "markdown",
   "metadata": {},
   "source": [
    "To see all the available possible powers recorded we can use the method <code>columns()</code> on the <code>df_heroes_powers</code> dataframe.  "
   ]
  },
  {
   "cell_type": "code",
   "execution_count": 7,
   "metadata": {
    "scrolled": false
   },
   "outputs": [
    {
     "name": "stdout",
     "output_type": "stream",
     "text": [
      "Agility\n",
      "Accelerated Healing\n",
      "Lantern Power Ring\n",
      "Dimensional Awareness\n",
      "Cold Resistance\n",
      "Durability\n",
      "Stealth\n",
      "Energy Absorption\n",
      "Flight\n",
      "Danger Sense\n",
      "Underwater breathing\n",
      "Marksmanship\n",
      "Weapons Master\n",
      "Power Augmentation\n",
      "Animal Attributes\n",
      "Longevity\n",
      "Intelligence\n",
      "Super Strength\n",
      "Cryokinesis\n",
      "Telepathy\n",
      "Energy Armor\n",
      "Energy Blasts\n",
      "Duplication\n",
      "Size Changing\n",
      "Density Control\n",
      "Stamina\n",
      "Astral Travel\n",
      "Audio Control\n",
      "Dexterity\n",
      "Omnitrix\n",
      "Super Speed\n",
      "Possession\n",
      "Animal Oriented Powers\n",
      "Weapon-based Powers\n",
      "Electrokinesis\n",
      "Darkforce Manipulation\n",
      "Death Touch\n",
      "Teleportation\n",
      "Enhanced Senses\n",
      "Telekinesis\n",
      "Energy Beams\n",
      "Magic\n",
      "Hyperkinesis\n",
      "Jump\n",
      "Clairvoyance\n",
      "Dimensional Travel\n",
      "Power Sense\n",
      "Shapeshifting\n",
      "Peak Human Condition\n",
      "Immortality\n",
      "Camouflage\n",
      "Element Control\n",
      "Phasing\n",
      "Astral Projection\n",
      "Electrical Transport\n",
      "Fire Control\n",
      "Projection\n",
      "Summoning\n",
      "Enhanced Memory\n",
      "Reflexes\n",
      "Invulnerability\n",
      "Energy Constructs\n",
      "Force Fields\n",
      "Self-Sustenance\n",
      "Anti-Gravity\n",
      "Empathy\n",
      "Power Nullifier\n",
      "Radiation Control\n",
      "Psionic Powers\n",
      "Elasticity\n",
      "Substance Secretion\n",
      "Elemental Transmogrification\n",
      "Technopath/Cyberpath\n",
      "Photographic Reflexes\n",
      "Seismic Power\n",
      "Animation\n",
      "Precognition\n",
      "Mind Control\n",
      "Fire Resistance\n",
      "Power Absorption\n",
      "Enhanced Hearing\n",
      "Nova Force\n",
      "Insanity\n",
      "Hypnokinesis\n",
      "Animal Control\n",
      "Natural Armor\n",
      "Intangibility\n",
      "Enhanced Sight\n",
      "Molecular Manipulation\n",
      "Heat Generation\n",
      "Adaptation\n",
      "Gliding\n",
      "Power Suit\n",
      "Mind Blast\n",
      "Probability Manipulation\n",
      "Gravity Control\n",
      "Regeneration\n",
      "Light Control\n",
      "Echolocation\n",
      "Levitation\n",
      "Toxin and Disease Control\n",
      "Banish\n",
      "Energy Manipulation\n",
      "Heat Resistance\n",
      "Natural Weapons\n",
      "Time Travel\n",
      "Enhanced Smell\n",
      "Illusions\n",
      "Thirstokinesis\n",
      "Hair Manipulation\n",
      "Illumination\n",
      "Omnipotent\n",
      "Cloaking\n",
      "Changing Armor\n",
      "Power Cosmic\n",
      "Biokinesis\n",
      "Water Control\n",
      "Radiation Immunity\n",
      "Vision - Telescopic\n",
      "Toxin and Disease Resistance\n",
      "Spatial Awareness\n",
      "Energy Resistance\n",
      "Telepathy Resistance\n",
      "Molecular Combustion\n",
      "Omnilingualism\n",
      "Portal Creation\n",
      "Magnetism\n",
      "Mind Control Resistance\n",
      "Plant Control\n",
      "Sonar\n",
      "Sonic Scream\n",
      "Time Manipulation\n",
      "Enhanced Touch\n",
      "Magic Resistance\n",
      "Invisibility\n",
      "Sub-Mariner\n",
      "Radiation Absorption\n",
      "Intuitive aptitude\n",
      "Vision - Microscopic\n",
      "Melting\n",
      "Wind Control\n",
      "Super Breath\n",
      "Wallcrawling\n",
      "Vision - Night\n",
      "Vision - Infrared\n",
      "Grim Reaping\n",
      "Matter Absorption\n",
      "The Force\n",
      "Resurrection\n",
      "Terrakinesis\n",
      "Vision - Heat\n",
      "Vitakinesis\n",
      "Radar Sense\n",
      "Qwardian Power Ring\n",
      "Weather Control\n",
      "Vision - X-Ray\n",
      "Vision - Thermal\n",
      "Web Creation\n",
      "Reality Warping\n",
      "Odin Force\n",
      "Symbiote Costume\n",
      "Speed Force\n",
      "Phoenix Force\n",
      "Molecular Dissipation\n",
      "Vision - Cryo\n",
      "Omnipresent\n",
      "Omniscient\n"
     ]
    }
   ],
   "source": [
    "list_powers = [power for power in df_heroes_powers.columns][1:]\n",
    "for powers in list_powers: \n",
    "    print(powers)"
   ]
  },
  {
   "cell_type": "markdown",
   "metadata": {},
   "source": [
    "To count the number of elements in each column we can use the function <code>value_counts</code>. Suppose we want to see the number of heroes that fight for the good side. We can query the dataset as follows:"
   ]
  },
  {
   "cell_type": "code",
   "execution_count": 8,
   "metadata": {},
   "outputs": [
    {
     "data": {
      "text/plain": [
       "good       496\n",
       "bad        207\n",
       "neutral     24\n",
       "-            7\n",
       "Name: Alignment, dtype: int64"
      ]
     },
     "execution_count": 8,
     "metadata": {},
     "output_type": "execute_result"
    }
   ],
   "source": [
    "df_heroes_info['Alignment'].value_counts()"
   ]
  },
  {
   "cell_type": "markdown",
   "metadata": {},
   "source": [
    "Next we want to find the 5 most common powers and all unique powers in dataset. One way to do it is as follows:"
   ]
  },
  {
   "cell_type": "code",
   "execution_count": 23,
   "metadata": {},
   "outputs": [
    {
     "name": "stdout",
     "output_type": "stream",
     "text": [
      "Agility                   242\n",
      "Accelerated Healing       178\n",
      "Lantern Power Ring         11\n",
      "Dimensional Awareness      25\n",
      "Cold Resistance            47\n",
      "Durability                257\n",
      "Stealth                   126\n",
      "Energy Absorption          77\n",
      "Flight                    212\n",
      "Danger Sense               30\n",
      "Underwater breathing       21\n",
      "Marksmanship              119\n",
      "Weapons Master            105\n",
      "Power Augmentation          8\n",
      "Animal Attributes          25\n",
      "Longevity                 113\n",
      "Intelligence              158\n",
      "Super Strength            360\n",
      "Cryokinesis                19\n",
      "Telepathy                  92\n",
      "Energy Armor                8\n",
      "Energy Blasts             147\n",
      "Duplication                16\n",
      "Size Changing              55\n",
      "Density Control            15\n",
      "Stamina                   289\n",
      "Astral Travel               4\n",
      "Audio Control               7\n",
      "Dexterity                   6\n",
      "Omnitrix                 True\n",
      "                         ... \n",
      "Intuitive aptitude       True\n",
      "Vision - Microscopic       19\n",
      "Melting                     2\n",
      "Wind Control                3\n",
      "Super Breath               23\n",
      "Wallcrawling               34\n",
      "Vision - Night             34\n",
      "Vision - Infrared          22\n",
      "Grim Reaping                3\n",
      "Matter Absorption          11\n",
      "The Force                   6\n",
      "Resurrection               15\n",
      "Terrakinesis                2\n",
      "Vision - Heat              19\n",
      "Vitakinesis                 2\n",
      "Radar Sense                 6\n",
      "Qwardian Power Ring         2\n",
      "Weather Control             8\n",
      "Vision - X-Ray             23\n",
      "Vision - Thermal           23\n",
      "Web Creation               14\n",
      "Reality Warping            16\n",
      "Odin Force                  2\n",
      "Symbiote Costume            9\n",
      "Speed Force              True\n",
      "Phoenix Force            True\n",
      "Molecular Dissipation    True\n",
      "Vision - Cryo               2\n",
      "Omnipresent                 2\n",
      "Omniscient                  2\n",
      "Length: 167, dtype: object\n"
     ]
    }
   ],
   "source": [
    "num_powers = df_heroes_powers.sum(axis=0)[1:] #+ np.zeros(len(list_powers)-1)"
   ]
  },
  {
   "cell_type": "markdown",
   "metadata": {},
   "source": [
    "The 5 most common powers"
   ]
  },
  {
   "cell_type": "code",
   "execution_count": 24,
   "metadata": {},
   "outputs": [
    {
     "name": "stdout",
     "output_type": "stream",
     "text": [
      "Super Strength\n",
      "Stamina\n",
      "Durability\n",
      "Super Speed\n",
      "Agility\n"
     ]
    }
   ],
   "source": [
    "common_pow = num_powers.sort_values(ascending=False)[0:5].index\n",
    "for power in common_pow:\n",
    "    print(power)"
   ]
  },
  {
   "cell_type": "markdown",
   "metadata": {},
   "source": [
    "All the unique power"
   ]
  },
  {
   "cell_type": "code",
   "execution_count": 25,
   "metadata": {},
   "outputs": [
    {
     "name": "stdout",
     "output_type": "stream",
     "text": [
      "Thirstokinesis\n",
      "Intuitive aptitude\n",
      "Hyperkinesis\n",
      "Hair Manipulation\n",
      "Electrical Transport\n",
      "Anti-Gravity\n",
      "Spatial Awareness\n",
      "Biokinesis\n",
      "Omnitrix\n",
      "Speed Force\n",
      "Phoenix Force\n",
      "Molecular Dissipation\n",
      "Banish\n",
      "Changing Armor\n"
     ]
    }
   ],
   "source": [
    "unique_pow = num_powers.sort_values(ascending=True)[num_powers.sort_values(ascending=True)==1].index\n",
    "for power in unique_pow:\n",
    "    print(power)"
   ]
  },
  {
   "cell_type": "markdown",
   "metadata": {},
   "source": [
    "We can also do more complex query such as look at the powers that each publisher uses."
   ]
  },
  {
   "cell_type": "code",
   "execution_count": 28,
   "metadata": {
    "collapsed": true
   },
   "outputs": [],
   "source": [
    "pub_power_data = pd.merge(df_heroes_info[['name','Publisher']],df_heroes_powers,left_on='name',right_on='hero_names',left_index=True)"
   ]
  },
  {
   "cell_type": "code",
   "execution_count": 30,
   "metadata": {
    "collapsed": true
   },
   "outputs": [],
   "source": [
    "grouped = pub_power_data.groupby('Publisher')"
   ]
  },
  {
   "cell_type": "code",
   "execution_count": 31,
   "metadata": {},
   "outputs": [
    {
     "data": {
      "text/plain": [
       "Publisher\n",
       "ABC Studios             7.0\n",
       "DC Comics            1936.0\n",
       "Dark Horse Comics     241.0\n",
       "George Lucas          143.0\n",
       "Hanna-Barbera          10.0\n",
       "HarperCollins           7.0\n",
       "IDW Publishing         39.0\n",
       "Icon Comics            13.0\n",
       "Image Comics           99.0\n",
       "J. K. Rowling          18.0\n",
       "J. R. R. Tolkien       20.0\n",
       "Marvel Comics        3068.0\n",
       "Microsoft              11.0\n",
       "NBC - Heroes           31.0\n",
       "Rebellion              10.0\n",
       "Shueisha               79.0\n",
       "Sony Pictures          11.0\n",
       "South Park              3.0\n",
       "Star Trek              49.0\n",
       "SyFy                   16.0\n",
       "Team Epic TV           29.0\n",
       "Titan Books             7.0\n",
       "Universal Studios       3.0\n",
       "Wildstorm              33.0\n",
       "dtype: float64"
      ]
     },
     "execution_count": 31,
     "metadata": {},
     "output_type": "execute_result"
    }
   ],
   "source": [
    "grouped.sum().sum(axis=1)"
   ]
  },
  {
   "cell_type": "markdown",
   "metadata": {},
   "source": [
    "## Visualizing Data"
   ]
  },
  {
   "cell_type": "markdown",
   "metadata": {},
   "source": [
    "Visualizing data is fundamental in understanding more about the dataset. There are plenty of Python libraries for visualization. We will be using the matplotlib library for all out plots. If we want to look at the heroes created by each publisher, we can visualize the data using a bar graph."
   ]
  },
  {
   "cell_type": "code",
   "execution_count": 21,
   "metadata": {},
   "outputs": [
    {
     "data": {
      "image/png": "[encoded data removed]",
      "text/plain": [
       "<matplotlib.figure.Figure at 0x1ccdc618ba8>"
      ]
     },
     "metadata": {},
     "output_type": "display_data"
    }
   ],
   "source": [
    "heroes_publisher = pd.value_counts(df_heroes_info['Publisher'])\n",
    "heroes_publisher.plot(kind='bar')\n",
    "plt.show()"
   ]
  },
  {
   "cell_type": "markdown",
   "metadata": {},
   "source": [
    "We can also have different formatting styles for our plots. The different types of formats available are:"
   ]
  },
  {
   "cell_type": "code",
   "execution_count": 22,
   "metadata": {},
   "outputs": [
    {
     "name": "stdout",
     "output_type": "stream",
     "text": [
      "bmh\n",
      "classic\n",
      "dark_background\n",
      "fivethirtyeight\n",
      "ggplot\n",
      "grayscale\n",
      "seaborn-bright\n",
      "seaborn-colorblind\n",
      "seaborn-dark-palette\n",
      "seaborn-dark\n",
      "seaborn-darkgrid\n",
      "seaborn-deep\n",
      "seaborn-muted\n",
      "seaborn-notebook\n",
      "seaborn-paper\n",
      "seaborn-pastel\n",
      "seaborn-poster\n",
      "seaborn-talk\n",
      "seaborn-ticks\n",
      "seaborn-white\n",
      "seaborn-whitegrid\n",
      "seaborn\n",
      "_classic_test\n"
     ]
    }
   ],
   "source": [
    "styles = plt.style.available\n",
    "for style in styles:\n",
    "    print(style)"
   ]
  },
  {
   "cell_type": "markdown",
   "metadata": {},
   "source": [
    "To learn more about the different styles available and creating your own style visit <a href=\"https://matplotlib.org/users/style_sheets.html\">here</a>. Let's use the seaborn-talk style for now"
   ]
  },
  {
   "cell_type": "code",
   "execution_count": 23,
   "metadata": {
    "collapsed": true
   },
   "outputs": [],
   "source": [
    "plt.style.use('seaborn-talk')"
   ]
  },
  {
   "cell_type": "code",
   "execution_count": 24,
   "metadata": {},
   "outputs": [
    {
     "data": {
      "image/png": "[encoded data removed]",
      "text/plain": [
       "<matplotlib.figure.Figure at 0x1ccdb3ded68>"
      ]
     },
     "metadata": {},
     "output_type": "display_data"
    }
   ],
   "source": [
    "heroes_publisher.plot.bar()\n",
    "plt.show()"
   ]
  },
  {
   "cell_type": "markdown",
   "metadata": {},
   "source": [
    "Let us look at the height distribution of our heroes using a histogram."
   ]
  },
  {
   "cell_type": "code",
   "execution_count": 25,
   "metadata": {
    "scrolled": false
   },
   "outputs": [
    {
     "data": {
      "image/png": "[encoded data removed]",
      "text/plain": [
       "<matplotlib.figure.Figure at 0x1ccdcaf1b38>"
      ]
     },
     "metadata": {},
     "output_type": "display_data"
    }
   ],
   "source": [
    "plt.figure(figsize=(12,9))\n",
    "df_heroes_info['Height'].plot.hist(20)\n",
    "plt.xlabel('Height')\n",
    "plt.ylabel('Frequency')\n",
    "plt.show()"
   ]
  },
  {
   "cell_type": "markdown",
   "metadata": {},
   "source": [
    "Did you notice something odd with this plot? Height cannot be negative! What's happened here is that for all the characters for whom the data is missing their height was initialized as -99. This brings us to our next topic which is missing data."
   ]
  },
  {
   "cell_type": "markdown",
   "metadata": {},
   "source": [
    "## Missing Data"
   ]
  },
  {
   "cell_type": "markdown",
   "metadata": {},
   "source": [
    "Impossible values such as -99 for height or NaN are often used in datasets to fill unknown indexes. The easiest way to resolve this is to remove these indexes.Replotting the histogram without the outliers we have"
   ]
  },
  {
   "cell_type": "code",
   "execution_count": 26,
   "metadata": {},
   "outputs": [
    {
     "data": {
      "text/plain": [
       "<matplotlib.text.Text at 0x1ccdc7d0080>"
      ]
     },
     "execution_count": 26,
     "metadata": {},
     "output_type": "execute_result"
    },
    {
     "data": {
      "image/png": "[encoded data removed]",
      "text/plain": [
       "<matplotlib.figure.Figure at 0x1ccdc76a6d8>"
      ]
     },
     "metadata": {},
     "output_type": "display_data"
    }
   ],
   "source": [
    "df_heroes_info[df_heroes_info['Height']!=-99]['Height'].plot.hist(20)\n",
    "plt.xlabel('Height')"
   ]
  }
 ],
 "metadata": {
  "kernelspec": {
   "display_name": "Python 3",
   "language": "python",
   "name": "python3"
  },
  "language_info": {
   "codemirror_mode": {
    "name": "ipython",
    "version": 3
   },
   "file_extension": ".py",
   "mimetype": "text/x-python",
   "name": "python",
   "nbconvert_exporter": "python",
   "pygments_lexer": "ipython3",
   "version": "3.6.8"
  },
  "toc": {
   "nav_menu": {},
   "number_sections": true,
   "sideBar": true,
   "skip_h1_title": false,
   "toc_cell": false,
   "toc_position": {},
   "toc_section_display": true,
   "toc_window_display": false
  },
  "varInspector": {
   "cols": {
    "lenName": 16,
    "lenType": 16,
    "lenVar": 40
   },
   "kernels_config": {
    "python": {
     "delete_cmd_postfix": "",
     "delete_cmd_prefix": "del ",
     "library": "var_list.py",
     "varRefreshCmd": "print(var_dic_list())"
    },
    "r": {
     "delete_cmd_postfix": ") ",
     "delete_cmd_prefix": "rm(",
     "library": "var_list.r",
     "varRefreshCmd": "cat(var_dic_list()) "
    }
   },
   "types_to_exclude": [
    "module",
    "function",
    "builtin_function_or_method",
    "instance",
    "_Feature"
   ],
   "window_display": false
  }
 },
 "nbformat": 4,
 "nbformat_minor": 2
}
