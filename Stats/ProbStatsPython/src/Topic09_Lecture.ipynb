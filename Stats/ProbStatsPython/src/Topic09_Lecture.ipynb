{
 "cells": [
  {
   "cell_type": "markdown",
   "metadata": {},
   "source": [
    "# Continuous Probability Distributions"
   ]
  },
  {
   "cell_type": "markdown",
   "metadata": {},
   "source": [
    "As usual, we first include the usual libraries.  "
   ]
  },
  {
   "cell_type": "code",
   "execution_count": 39,
   "metadata": {
    "collapsed": true
   },
   "outputs": [],
   "source": [
    "# Useful libraries\n",
    "import numpy as np\n",
    "from numpy import pi\n",
    "import matplotlib.pyplot as plt \n",
    "import ipywidgets as widgets\n",
    "from matplotlib import axes \n",
    "import scipy.stats"
   ]
  },
  {
   "cell_type": "markdown",
   "metadata": {},
   "source": [
    "Next define the plot parameters"
   ]
  },
  {
   "cell_type": "code",
   "execution_count": 40,
   "metadata": {
    "collapsed": true
   },
   "outputs": [],
   "source": [
    "# This sets the size and properties of the plots when using matplotlib.pyplot\n",
    "plt.style.use([{\n",
    "    \"figure.figsize\":(12,9),\n",
    "    \"xtick.labelsize\": \"large\",\n",
    "    \"ytick.labelsize\": \"large\",\n",
    "    \"legend.fontsize\": \"x-large\",\n",
    "    \"axes.labelsize\": \"x-large\",\n",
    "    \"axes.titlesize\": \"xx-large\",\n",
    "    \"axes.spines.top\": False,\n",
    "    \"axes.spines.right\": False,\n",
    "    # \"ytick.major.right\":False,\n",
    "    # \"xtick.major.top\":False\n",
    "},'seaborn-poster'])"
   ]
  },
  {
   "cell_type": "markdown",
   "metadata": {},
   "source": [
    "## Uniform Distribution"
   ]
  },
  {
   "cell_type": "markdown",
   "metadata": {},
   "source": [
    "### PDF and CDF\n",
    "This section contains a code that plots the probability density function (PDF) of $U[a,b]$, the uniform distribution over the interval $[a,b]$. The output contains interactive sliders that you can use to vary  $a$ and $b$ over $[0,10]$. The code also  plots the cumulative density function (CDF) of $U[a,b]$ on the same plot."
   ]
  },
  {
   "cell_type": "code",
   "execution_count": 41,
   "metadata": {
    "collapsed": true
   },
   "outputs": [
    {
     "data": {
      "application/vnd.jupyter.widget-view+json": {
       "model_id": "972a64c3ebb6405e9206ff6700b4d78e",
       "version_major": 2,
       "version_minor": 0
      },
      "text/plain": [
       "interactive(children=(FloatRangeSlider(value=(3.0, 6.0), continuous_update=False, description='[a, b]', max=10…"
      ]
     },
     "metadata": {},
     "output_type": "display_data"
    },
    {
     "data": {
      "text/plain": [
       "<function __main__.f(s)>"
      ]
     },
     "execution_count": 41,
     "metadata": {},
     "output_type": "execute_result"
    }
   ],
   "source": [
    "# %load uniform\n",
    "def f(s):\n",
    "    a,b = s\n",
    "    xrange = np.linspace(0, 10, 101)\n",
    "    cdf = [0 for z in xrange if z<=a]\n",
    "    cdf.extend([(z-a)/(b-a) for z in xrange if z>a and z<=b])\n",
    "    cdf.extend([1 for z in xrange if z>b])\n",
    "    \n",
    "    # Plot the PDF\n",
    "    if b != a:\n",
    "        plt.plot([a+(b-a)*(i/10) for i in range(11)], [1/(b-a)]*11, linewidth = 3.0, label = 'PDF')\n",
    "        plt.plot([a, a], [0, 1/(b-a)],'g--',\n",
    "                 [b, b], [0, 1/(b-a)],'g--', linewidth = 2.0)\n",
    "        \n",
    "    # Plot the CDF\n",
    "    plt.plot(xrange, cdf, 'r', linewidth = 3.0, label = 'CDF')\n",
    "\n",
    "    plt.title('PDF and CDF of U({},{})'.format(a,b))\n",
    "    plt.xlabel('x')\n",
    "    plt.ylabel('y')      \n",
    "    plt.legend()\n",
    "    plt.show()\n",
    "    \n",
    "w = widgets.FloatRangeSlider(\n",
    "    description = \"[a, b]\",\n",
    "    value=[3, 6],\n",
    "    min=0,\n",
    "    max=10,\n",
    "    step=0.01,\n",
    "    continuous_update = False)\n",
    "\n",
    "widgets.interact(f, s = w)"
   ]
  },
  {
   "cell_type": "markdown",
   "metadata": {},
   "source": [
    "The next code illustrates that the value of the CDF at any point $x_0$ is the area under the PDF over $[-\\infty, x_0]$."
   ]
  },
  {
   "cell_type": "code",
   "execution_count": 42,
   "metadata": {
    "collapsed": true
   },
   "outputs": [
    {
     "data": {
      "application/vnd.jupyter.widget-view+json": {
       "model_id": "0f3e8b977cc94317b85f60ab8c60519f",
       "version_major": 2,
       "version_minor": 0
      },
      "text/plain": [
       "interactive(children=(FloatSlider(value=0.5, description='x', max=1.0, step=0.01), Output()), _dom_classes=('w…"
      ]
     },
     "metadata": {},
     "output_type": "display_data"
    }
   ],
   "source": [
    "@widgets.interact(x=(0.0,1.0,0.01),continuous_update=False)\n",
    "def f(x):\n",
    "    # For the PDF\n",
    "    x_support =np.linspace(0, 1, 101)\n",
    "    y = [1]*101\n",
    "    \n",
    "    plt.subplot(2, 1, 1)\n",
    "    plt.plot(x_support, y, 'b', linewidth = 3.0, label = 'PDF')\n",
    "    plt.plot([0, 0], [0, 1], 'g--',\n",
    "             [1, 1], [0, 1], 'g--', linewidth = 2.0)\n",
    "    plt.gca().fill_between(x_support, y, where = x_support<=x, facecolor='cyan')\n",
    "    plt.xlim([-0.2,1.2])\n",
    "    plt.xlabel('x')\n",
    "    plt.ylabel('y')\n",
    "    plt.title(\"PDF\")\n",
    "    \n",
    "    # For CDF\n",
    "    x_range = np.linspace(-0.5, 1.5, 201)\n",
    "    cdf=[0 for z in x_range if z<0]\n",
    "    cdf.extend([z for z in x_range if z>=0 and z<=1])\n",
    "    cdf.extend([1 for z in x_range if z>1])\n",
    "    \n",
    "    plt.subplot(2, 1, 2)\n",
    "\n",
    "    plt.plot(x_range, cdf, 'r', linewidth = 3.0, label = 'CDF')\n",
    "    plt.plot(x, x, 'bo',\n",
    "             [0, 0], [0, 1], 'g--',\n",
    "             [1, 1], [0, 1], 'g--', \n",
    "             [-1, x], [x, x], 'm--',\n",
    "             [x, x], [0, x], 'm--', linewidth=2.0)\n",
    "    plt.xlim([-0.2,1.2])    \n",
    "    plt.xlabel('x')\n",
    "    plt.ylabel('y')\n",
    "    plt.legend()\n",
    "\n",
    "    plt.tight_layout()\n",
    "    plt.show()"
   ]
  },
  {
   "cell_type": "markdown",
   "metadata": {},
   "source": [
    "## Exponential Distribution\n",
    "\n",
    "### PDF and CDF\n",
    "\n",
    "The code below plots the PDF and the CDF of the exponential distribution with parametere $\\lambda$. You can use interactive sliders to vary the value of $\\lambda$ over $[0.01, 10]$. You can also vary the ranges of the coordinate axes in order to change the portion of the curves displayed."
   ]
  },
  {
   "cell_type": "code",
   "execution_count": 43,
   "metadata": {
    "collapsed": true
   },
   "outputs": [
    {
     "data": {
      "application/vnd.jupyter.widget-view+json": {
       "model_id": "b87c9d24453f4dc8bac154198ff728ea",
       "version_major": 2,
       "version_minor": 0
      },
      "text/plain": [
       "interactive(children=(FloatSlider(value=5.0, description='lam', max=10.0, min=0.01, step=0.01), IntSlider(valu…"
      ]
     },
     "metadata": {},
     "output_type": "display_data"
    }
   ],
   "source": [
    "@widgets.interact(lam=(0.01,10.0,0.01),x_max=(10,100),SampleSize=(1,1000),continous_update=False)\n",
    "def f(lam, x_max,CDF=False,SampleSize=100,histogram=False):\n",
    "    x = np.arange(0, x_max, x_max/1000)\n",
    "    y = lam*np.exp(-lam*x)\n",
    "    z = 1 - np.exp(-lam*x)\n",
    "    # Plot the PDF\n",
    "    plt.plot(x, y, linewidth = 3.0, label = 'PDF')\n",
    "    # Plot the CDF\n",
    "    if CDF == True:\n",
    "        plt.plot(x, z, 'r', linewidth = 3.0, label = 'CDF')\n",
    "    if histogram:\n",
    "        samples= scipy.stats.expon.rvs(1/lam,size=SampleSize)\n",
    "        plt.hist(samples,bins=30,normed=True)\n",
    "    plt.xlim([0,x_max])\n",
    "    plt.title(\"Exponential({})\".format(lam))\n",
    "    plt.xlabel('x')\n",
    "    plt.ylabel('y')\n",
    "    plt.legend()\n",
    "    plt.show()"
   ]
  },
  {
   "cell_type": "markdown",
   "metadata": {},
   "source": [
    "### Exponential Approximation of the Geometric Distribution"
   ]
  },
  {
   "cell_type": "markdown",
   "metadata": {},
   "source": [
    "The next plot compares the geometric distribution and its exponential distribution approximation. For a closer analogy we plot the geometric distribution that starts with 0 namely $p(n)=p\\cdot(1-p)^n$ for $n\\ge0$."
   ]
  },
  {
   "cell_type": "code",
   "execution_count": 44,
   "metadata": {
    "collapsed": true
   },
   "outputs": [
    {
     "data": {
      "application/vnd.jupyter.widget-view+json": {
       "model_id": "3fb1ad6ff84a493cae2f35831436eed0",
       "version_major": 2,
       "version_minor": 0
      },
      "text/plain": [
       "interactive(children=(IntSlider(value=51, description='n', min=2), FloatSlider(value=0.5, description='p', max…"
      ]
     },
     "metadata": {},
     "output_type": "display_data"
    }
   ],
   "source": [
    "@widgets.interact(n=(2,100),p=(0.0,1.0,0.01))\n",
    "def exponential_approx(n, p):\n",
    "    '''\n",
    "    Approximate the PMF of the geometric distribution with the \n",
    "    PDF of the exponential distribution.\n",
    "    '''\n",
    "    x = np.arange(n+1)\n",
    "    x2 = np.linspace(0,n,num=10*n)\n",
    "    y = [((1-p)**(z))*p for z in x]\n",
    "    lam = p\n",
    "    y0 = lam*np.exp(-lam*x2)\n",
    "    \n",
    "    plt.plot(x2, y0, label = 'Exponential({})'.format(lam))\n",
    "    plt.plot(x, y, 'r', label = 'Geometric({})'.format(p))\n",
    "    \n",
    "    \n",
    "    plt.title(\"Exponential Approximation of Geometric(%.2f)\" %p, fontsize = 20)\n",
    "    plt.xlabel('x')\n",
    "    plt.ylabel('y')\n",
    "    plt.legend()\n",
    "    plt.show()\n",
    "        \n",
    "    \n",
    "    print('|| P_Exponential - P_Geometric ||\\u2081 = ',sum(abs(y-y0[0:n:10*n])))\n"
   ]
  },
  {
   "cell_type": "markdown",
   "metadata": {},
   "source": [
    "## Normal Distribution\n",
    "\n",
    "### PDF and CDF\n",
    "The code below plots the PDF and CDF of $N(\\mu,\\sigma^2)$. Use the interactive sliders available to vary the mean and the variance of the distribution as well as the ranges of the coordinate axes."
   ]
  },
  {
   "cell_type": "code",
   "execution_count": 45,
   "metadata": {
    "collapsed": true
   },
   "outputs": [
    {
     "data": {
      "application/vnd.jupyter.widget-view+json": {
       "model_id": "e497d5c86ad04f5aadc9a42ea9789209",
       "version_major": 2,
       "version_minor": 0
      },
      "text/plain": [
       "interactive(children=(FloatSlider(value=0.0, description='mu', max=25.0, min=-25.0), FloatSlider(value=15.15, …"
      ]
     },
     "metadata": {},
     "output_type": "display_data"
    }
   ],
   "source": [
    "# Plots pdf of a normal distribution\n",
    "@widgets.interact(mu=(-25.0,25.0),var=(0.3,30.0))\n",
    "def plot_pdf(mu, var, CDF=False):\n",
    "    '''\n",
    "    Takes mean, variance, range of x and y axes, and whether CDF desired.\n",
    "    Plots PDF, and optionally CDF.\n",
    "    '''\n",
    "    x = np.linspace(-50, 50, 1001)\n",
    "    sig = var**0.5\n",
    "    P_norm = scipy.stats.norm.pdf(x, mu, sig)\n",
    "    \n",
    "    plt.plot(x, P_norm, 'b', linewidth=3.0, label = \"PDF\")\n",
    "    if CDF == True:\n",
    "        CDF_norm = norm.cdf(x, mu, sig)\n",
    "        plt.plot(x, CDF_norm, 'r', linewidth=3.0, label = \"CDF\")\n",
    "    y0 = (1/(sig*np.sqrt(2*pi)))*np.exp(-0.5)\n",
    "    ym = 1/(sig*np.sqrt(2*pi))\n",
    "    plt.plot([mu-sig, mu-sig], [0, y0], 'm--',linewidth = 2.0)\n",
    "    plt.plot([mu+sig, mu+sig], [0, y0], 'm--', linewidth = 2.0, label = '$\\mu\\pm\\sigma$')\n",
    "    plt.plot([mu,mu], [0,ym], 'g--', linewidth = 2.0, label = r'$\\mu$')\n",
    "    \n",
    "    plt.title('PDF of N({},{})'.format(mu,var))\n",
    "    plt.xlabel('x')\n",
    "    plt.ylabel('y')\n",
    "    plt.legend()\n",
    "    plt.show()"
   ]
  },
  {
   "cell_type": "markdown",
   "metadata": {},
   "source": [
    "### Normal Approximation of the Binomial Distribution\n",
    "The code below illustrates that for large $n$, the distribution $N\\left(np, np(1-p)\\right)$ is a good approximation to $Binomial(n,p)$. Observe that the $L_1$ distance between the two distributions decreases with $n$."
   ]
  },
  {
   "cell_type": "code",
   "execution_count": 46,
   "metadata": {
    "collapsed": true
   },
   "outputs": [
    {
     "data": {
      "application/vnd.jupyter.widget-view+json": {
       "model_id": "3fc1b55cc14844a49c9a4edb94916536",
       "version_major": 2,
       "version_minor": 0
      },
      "text/plain": [
       "interactive(children=(IntSlider(value=100, description='n', max=200, min=1), FloatSlider(value=0.5, descriptio…"
      ]
     },
     "metadata": {},
     "output_type": "display_data"
    }
   ],
   "source": [
    "@widgets.interact(n=(1,200),p=(0.0,1.0,0.01))\n",
    "def f(n, p):\n",
    "    x = np.arange(0, n + 1)\n",
    "    x_in = np.linspace(0,n+1,1001)\n",
    "    P_binom = scipy.stats.binom.pmf(x, n, p)\n",
    "    stddev = (n * p * (1 - p))**0.5\n",
    "    P_norm = scipy.stats.norm.pdf(x_in, n * p, stddev)\n",
    "    plt.plot(x_in,P_norm,'r',linewidth=2.0,label=\"N(%0.2f, %0.2f)\" % (n * p, stddev**2))\n",
    "    plt.plot(x, P_binom, '-', linewidth=2.0, label=\"Bin(%i, %0.2f)\" % (n, p))\n",
    "\n",
    "    plt.title('Normal Approximation of Binomial')\n",
    "    plt.xlabel('x')\n",
    "    plt.ylabel('y')\n",
    "    plt.legend()\n",
    "    plt.show()\n",
    "    \n",
    "    P_norm = scipy.stats.norm.pdf(x, n * p, stddev)\n",
    "    print('|| P_Normal - P_Binomial ||\\u2081 = ', sum(abs(P_norm - P_binom)))\n",
    " "
   ]
  },
  {
   "cell_type": "markdown",
   "metadata": {},
   "source": [
    "### Example: Buffon's Needle"
   ]
  },
  {
   "cell_type": "markdown",
   "metadata": {},
   "source": [
    "Consider two parallel lines lying on the plane of the floor such that the separation between them (the perpendicular distance) is 1 unit. Without loss of generality, let the lines be given by $y=0$ and $y=1$. Throw a unit-length needle onto the floor in such a way that the $y$-coordinate of its midpoint is uniform over $[0,1]$ and the angle made by the needle with the positive $x$-axis is uniform over $[0, \\pi]$. Then it can be shown that the probability that the needle intersects any of the parallel lines is $2/\\pi$. The code below computes this probability empirically in order to estimate the value of $\\pi$."
   ]
  },
  {
   "cell_type": "code",
   "execution_count": 47,
   "metadata": {
    "collapsed": true
   },
   "outputs": [
    {
     "data": {
      "application/vnd.jupyter.widget-view+json": {
       "model_id": "ba4452b0a63a47edae50068ad4f2472d",
       "version_major": 2,
       "version_minor": 0
      },
      "text/plain": [
       "interactive(children=(IntSlider(value=5050, description='n_sample', max=10000, min=100), IntSlider(value=55, d…"
      ]
     },
     "metadata": {},
     "output_type": "display_data"
    }
   ],
   "source": [
    "construct_line = lambda x,y,theta: [[x-0.5*np.cos(theta), x+0.5*np.cos(theta)], [y-0.5*np.sin(theta), y+0.5*np.sin(theta)]]\n",
    "PI = np.pi\n",
    "@widgets.interact(n_sample=(100,10000),k=(10,100),continuous_update=False)\n",
    "def estimate_pi(n_sample, k):\n",
    "    count = 0  # To count the number of needles intersecting one or both of the parallel lines\n",
    "    y_center = (np.random.uniform(0,1) for _ in range(n_sample+k))\n",
    "    x_center = (np.random.uniform(0,1) for _ in range(n_sample+k))\n",
    "    theta_sample = (np.random.uniform(0,PI) for _ in range(n_sample+k))\n",
    "    \n",
    "    for x,y,theta,_ in zip(x_center,y_center,theta_sample,range(n_sample)):\n",
    "        X,Y = construct_line(x,y,theta)\n",
    "        if Y[0]<0 or Y[1]>1:\n",
    "            count+=1\n",
    "    print(\"The estimate of pi based on {} samples is:{}\".format(n_sample,2*n_sample/count))\n",
    "    \n",
    "    plt.plot([-0.3, 1.3],[0,0],'k',\n",
    "            [-0.3, 1.3],[1,1],'k',linewidth=5)\n",
    "    for x,y,theta in zip(x_center,y_center,theta_sample):\n",
    "        X,Y = construct_line(x,y,theta)\n",
    "        plt.plot(X,Y)\n",
    "        plt.xlim([-0.3, 1.3])\n",
    "        plt.ylim([-0.3, 1.3])\n",
    "    \n",
    "    plt.show()\n",
    "\n",
    "# widgets.interact(estimate_pi, \n",
    "#                  n_sample=widgets.IntSlider(description =\"n\",\n",
    "#                                             min=100, \n",
    "#                                             max=10000, \n",
    "#                                             continuous_update=False),\n",
    "#                  k=widgets.IntSlider(description = \"\",\n",
    "#                                      min=10, \n",
    "#                                      max=100, \n",
    "#                                      continuous_update=False))"
   ]
  },
  {
   "cell_type": "markdown",
   "metadata": {},
   "source": [
    "### Another way to Determine $\\pi$\n",
    "Consider a square of side-length $2a$. Let a circle of radius $a$ be inscribed in this square. If you pick a point uniformly at random from the square, the probability that the selected point also belongs to the inscribed circle is clearly the ratio of the areas of the circle and the square, which is given by $\\pi a^2/(2a)^2$. This evaluates to $\\pi/4$. The code below estimates the value of $\\pi$ by determining this probability empirically. The number of iterations $n$ can be varied using a slider. Hit the play button to simulate the selection of points and the subsequent calculation of $\\pi$."
   ]
  },
  {
   "cell_type": "code",
   "execution_count": 48,
   "metadata": {
    "code_folding": [],
    "collapsed": true
   },
   "outputs": [
    {
     "data": {
      "application/vnd.jupyter.widget-view+json": {
       "model_id": "70912b7149394b0da270d3d2464eb2a5",
       "version_major": 2,
       "version_minor": 0
      },
      "text/plain": [
       "interactive(children=(IntSlider(value=10, continuous_update=False, description='Samples', max=1000, min=10, st…"
      ]
     },
     "metadata": {},
     "output_type": "display_data"
    },
    {
     "data": {
      "application/vnd.jupyter.widget-view+json": {
       "model_id": "e320900f95714846b13fccafc8532d7f",
       "version_major": 2,
       "version_minor": 0
      },
      "text/plain": [
       "HBox(children=(Play(value=0, description='Press play', interval=500, max=10000, show_repeat=False, step=10), I…"
      ]
     },
     "metadata": {},
     "output_type": "display_data"
    }
   ],
   "source": [
    "def f(n):\n",
    "    plt.figure(figsize=(12,12))\n",
    "    plt.plot([-1, 1], [1, 1], 'k', \n",
    "         [-1, 1], [-1, -1], 'k', \n",
    "         [-1, -1], [-1, 1], 'k', \n",
    "         [1, 1], [-1, 1], 'k', linewidth=5.0)\n",
    "    x = np.linspace(-1, 1, 101)\n",
    "    y = (1 - x * x)**0.5\n",
    "    plt.plot(x, y, 'b',\n",
    "             x,-y, 'b', linewidth=5.0)\n",
    "    samples = zip((np.random.uniform(-1,1) for _ in range(n)),(np.random.uniform(-1,1) for _ in range(n)))\n",
    "    count=0\n",
    "    for x,y in samples:\n",
    "        if x**2+y**2<=1:\n",
    "            plt.scatter(x,y,c='r',s=12)\n",
    "            count+=1\n",
    "        else:\n",
    "            plt.scatter(x,y,c='g',s=12)\n",
    "    plt.show()\n",
    "    print(\"Estimated value of pi: {}\".format(4*count/n))\n",
    "    \n",
    "play = widgets.Play(\n",
    "    interval=500,\n",
    "    max=10000,\n",
    "    step=10,\n",
    "    description=\"Press play\",\n",
    "    disabled=False,\n",
    "    show_repeat=False)\n",
    "slider = widgets.IntSlider(description=\"Samples\",min=10, max=1000, step=10,continuous_update=False)\n",
    "widgets.jslink((play, 'value'), (slider, 'value'))\n",
    "\n",
    "widgets.interact(\n",
    "    f,\n",
    "    n=slider, )\n",
    "widgets.HBox([play, slider])"
   ]
  },
  {
   "cell_type": "code",
   "execution_count": null,
   "metadata": {
    "collapsed": true
   },
   "outputs": [],
   "source": []
  }
 ],
 "metadata": {
  "kernelspec": {
   "display_name": "Python 3",
   "language": "python",
   "name": "python3"
  },
  "language_info": {
   "codemirror_mode": {
    "name": "ipython",
    "version": 3
   },
   "file_extension": ".py",
   "mimetype": "text/x-python",
   "name": "python",
   "nbconvert_exporter": "python",
   "pygments_lexer": "ipython3",
   "version": "3.7.6"
  },
  "toc": {
   "base_numbering": 1,
   "nav_menu": {},
   "number_sections": true,
   "sideBar": true,
   "skip_h1_title": false,
   "title_cell": "Table of Contents",
   "title_sidebar": "Contents",
   "toc_cell": false,
   "toc_position": {},
   "toc_section_display": "block",
   "toc_window_display": false
  },
  "varInspector": {
   "cols": {
    "lenName": 16,
    "lenType": 16,
    "lenVar": 40
   },
   "kernels_config": {
    "python": {
     "delete_cmd_postfix": "",
     "delete_cmd_prefix": "del ",
     "library": "var_list.py",
     "varRefreshCmd": "print(var_dic_list())"
    },
    "r": {
     "delete_cmd_postfix": ") ",
     "delete_cmd_prefix": "rm(",
     "library": "var_list.r",
     "varRefreshCmd": "cat(var_dic_list()) "
    }
   },
   "types_to_exclude": [
    "module",
    "function",
    "builtin_function_or_method",
    "instance",
    "_Feature"
   ],
   "window_display": false
  },
  "widgets": {
   "state": {
    "06342787fc83420090517274b05d5fba": {
     "views": [
      {
       "cell_index": 17
      }
     ]
    },
    "10b7cb93e49f43d08c451a6a73d34842": {
     "views": [
      {
       "cell_index": 9
      }
     ]
    },
    "19687c7227974da39b419fd16e784c40": {
     "views": [
      {
       "cell_index": 4
      }
     ]
    },
    "477809c81aed4541adcd72d5114e8618": {
     "views": [
      {
       "cell_index": 15
      }
     ]
    },
    "5724c25ac8f741e8b9ac510596c7eeab": {
     "views": [
      {
       "cell_index": 1
      }
     ]
    },
    "6ca6f5f6d25440b8a6af5b6a5aa3147f": {
     "views": [
      {
       "cell_index": 11
      }
     ]
    },
    "8ad0554813334456a86b755833044bc2": {
     "views": [
      {
       "cell_index": 19
      }
     ]
    },
    "ad67784fca70431ca34d4f814ad20c43": {
     "views": [
      {
       "cell_index": 13
      }
     ]
    },
    "d875e7204fe84a69a391b922d0e0b42c": {
     "views": [
      {
       "cell_index": 11
      }
     ]
    },
    "de83bddf07ae4ec795ad20d93d088a90": {
     "views": [
      {
       "cell_index": 11
      }
     ]
    },
    "f997078b84384a68a0bb56b5e6dfa5f9": {
     "views": [
      {
       "cell_index": 6
      }
     ]
    }
   },
   "version": "1.2.0"
  }
 },
 "nbformat": 4,
 "nbformat_minor": 2
}
