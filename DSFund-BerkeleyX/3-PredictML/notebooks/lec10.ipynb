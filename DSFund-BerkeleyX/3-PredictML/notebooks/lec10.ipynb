{
 "cells": [
  {
   "cell_type": "code",
   "execution_count": null,
   "metadata": {
    "colab": {},
    "colab_type": "code",
    "id": "YA7BiQ2K4si7"
   },
   "outputs": [],
   "source": [
    "# HIDDEN\n",
    "\n",
    "from datascience import *\n",
    "%matplotlib inline\n",
    "import matplotlib.pyplot as plots\n",
    "plots.style.use('fivethirtyeight')\n",
    "import numpy as np"
   ]
  },
  {
   "cell_type": "markdown",
   "metadata": {
    "colab_type": "text",
    "id": "-dXftHU-4sjF"
   },
   "source": [
    "## License plates"
   ]
  },
  {
   "cell_type": "markdown",
   "metadata": {
    "colab_type": "text",
    "id": "cQajhJQk4sjH"
   },
   "source": [
    "We're going to look at some data collected by the Oakland Police Department. They have automated license plate readers on their police cars, and they've built up a database of license plates that they've seen -- and where and when they saw each one."
   ]
  },
  {
   "cell_type": "markdown",
   "metadata": {
    "colab_type": "text",
    "id": "wgFi_DKZ4sjJ"
   },
   "source": [
    "## Data collection"
   ]
  },
  {
   "cell_type": "markdown",
   "metadata": {
    "colab_type": "text",
    "id": "QD9GKwie4sjL"
   },
   "source": [
    "First, we'll gather the data.  It turns out the data is publicly available on the Oakland public records site.  I downloaded it and combined it into a single CSV file by myself before lecture."
   ]
  },
  {
   "cell_type": "code",
   "execution_count": null,
   "metadata": {
    "colab": {},
    "colab_type": "code",
    "id": "PbitcxXA4sjM"
   },
   "outputs": [],
   "source": [
    "lprs = Table.read_table('https://inferentialthinking.com/data/all-lprs.csv.gz', compression='gzip', sep=',')"
   ]
  },
  {
   "cell_type": "code",
   "execution_count": null,
   "metadata": {
    "colab": {
     "base_uri": "https://localhost:8080/",
     "height": 388
    },
    "colab_type": "code",
    "id": "EnaUocFN4sjQ",
    "outputId": "e8889487-8c83-4edc-ea3f-57d7d3d2281d"
   },
   "outputs": [],
   "source": [
    "lprs"
   ]
  },
  {
   "cell_type": "markdown",
   "metadata": {
    "colab_type": "text",
    "id": "SQG8UmxM4sjT"
   },
   "source": [
    "Let's start by renaming some columns, and then take a look at it."
   ]
  },
  {
   "cell_type": "code",
   "execution_count": null,
   "metadata": {
    "colab": {
     "base_uri": "https://localhost:8080/",
     "height": 388
    },
    "colab_type": "code",
    "id": "_qKrhGfb4sjV",
    "outputId": "e2e231e8-88eb-488d-cfa0-28d4ace2344e"
   },
   "outputs": [],
   "source": [
    "lprs.relabel('red_VRM', 'Plate')\n",
    "lprs.relabel('red_Timestamp', 'Timestamp')\n",
    "lprs"
   ]
  },
  {
   "cell_type": "markdown",
   "metadata": {
    "colab_type": "text",
    "id": "hk-eup2V4sjZ"
   },
   "source": [
    "Phew, that's a lot of data: we can see about 2.7 million license plate reads here.\n",
    "\n",
    "Let's start by seeing what can be learned about someone, using this data -- assuming you know their license plate."
   ]
  },
  {
   "cell_type": "markdown",
   "metadata": {
    "colab_type": "text",
    "id": "ZbooC9CB4sjb"
   },
   "source": [
    "## Searching for Individuals"
   ]
  },
  {
   "cell_type": "markdown",
   "metadata": {
    "colab_type": "text",
    "id": "LUJorp5H4sjc"
   },
   "source": [
    "As a warmup, we'll take a look at ex-Mayor Jean Quan's car, and where it has been seen.  Her license plate number is 6FCH845.  (How did I learn that?  Turns out she was in the news for getting $1000 of parking tickets, and [the news article](http://www.sfgate.com/bayarea/matier-ross/article/Jean-Quan-Oakland-s-new-mayor-gets-car-booted-3164530.php) included a picture of her car, with the license plate visible.  You'd be amazed by what's out there on the Internet...)"
   ]
  },
  {
   "cell_type": "code",
   "execution_count": null,
   "metadata": {
    "colab": {
     "base_uri": "https://localhost:8080/",
     "height": 235
    },
    "colab_type": "code",
    "id": "5JsjFKzL4sjd",
    "outputId": "78c15394-2d03-42f7-941d-fc3ef12b750c"
   },
   "outputs": [],
   "source": [
    "lprs.where('Plate', '6FCH845')"
   ]
  },
  {
   "cell_type": "markdown",
   "metadata": {
    "colab_type": "text",
    "id": "Kl3_83jT4sjg"
   },
   "source": [
    "OK, so her car shows up 6 times in this data set.  However, it's hard to make sense of those coordinates.  I don't know about you, but I can't read GPS so well.\n",
    "\n",
    "So, let's work out a way to show where her car has been seen on a map.  We'll need to extract the latitude and longitude, as the data isn't quite in the format that the mapping software expects: the mapping software expects the latitude to be in one column and the longitude in another.  Let's write some Python code to do that, by splitting the Location string into two pieces: the stuff before the comma (the latitude) and the stuff after (the longitude)."
   ]
  },
  {
   "cell_type": "code",
   "execution_count": null,
   "metadata": {
    "colab": {
     "base_uri": "https://localhost:8080/",
     "height": 34
    },
    "colab_type": "code",
    "id": "JIjUcdVr4sjh",
    "outputId": "a8827645-614a-4ab5-fa9e-1b99b99568b6"
   },
   "outputs": [],
   "source": [
    "'(37.79871, -122.276221)'.split(',')"
   ]
  },
  {
   "cell_type": "code",
   "execution_count": null,
   "metadata": {
    "colab": {},
    "colab_type": "code",
    "id": "1LiuovJG4sjk"
   },
   "outputs": [],
   "source": [
    "def get_latitude(s):\n",
    "    before, after = s.split(',')         # Break it into two parts\n",
    "    lat_string = before.replace('(', '') # Get rid of the annoying '('\n",
    "    return float(lat_string)             # Convert the string to a number\n",
    "\n",
    "def get_longitude(s):\n",
    "    before, after = s.split(',')                 # Break it into two parts\n",
    "    long_string = after.replace(')', '').strip() # Get rid of the ')' and spaces\n",
    "    return float(long_string)                    # Convert the string to a number"
   ]
  },
  {
   "cell_type": "markdown",
   "metadata": {
    "colab_type": "text",
    "id": "Fgoa78dl4sjn"
   },
   "source": [
    "Let's test it to make sure it works correctly."
   ]
  },
  {
   "cell_type": "code",
   "execution_count": null,
   "metadata": {
    "colab": {
     "base_uri": "https://localhost:8080/",
     "height": 34
    },
    "colab_type": "code",
    "id": "8UXgPm4K4sjo",
    "outputId": "5b0cef75-6d89-4a75-b89d-7648a0368d1b"
   },
   "outputs": [],
   "source": [
    "get_latitude('(37.797558, -122.26935)')"
   ]
  },
  {
   "cell_type": "code",
   "execution_count": null,
   "metadata": {
    "colab": {
     "base_uri": "https://localhost:8080/",
     "height": 34
    },
    "colab_type": "code",
    "id": "4wsyqriB4sjs",
    "outputId": "56d5f6ce-e8a6-4384-f706-fdc4ae631ec1"
   },
   "outputs": [],
   "source": [
    "get_longitude('(37.797558, -122.26935)')"
   ]
  },
  {
   "cell_type": "markdown",
   "metadata": {
    "colab_type": "text",
    "id": "B6lllpKE4sju"
   },
   "source": [
    "Good, now we're ready to add these as extra columns to the table."
   ]
  },
  {
   "cell_type": "code",
   "execution_count": null,
   "metadata": {
    "colab": {
     "base_uri": "https://localhost:8080/",
     "height": 388
    },
    "colab_type": "code",
    "id": "9YMlMGVx4sjv",
    "outputId": "08b27555-04f7-448b-b10d-446d0e131dae"
   },
   "outputs": [],
   "source": [
    "lprs = lprs.with_columns(\n",
    "    'Latitude',  lprs.apply(get_latitude, 'Location'),\n",
    "    'Longitude', lprs.apply(get_longitude, 'Location')\n",
    ")\n",
    "lprs"
   ]
  },
  {
   "cell_type": "markdown",
   "metadata": {
    "colab_type": "text",
    "id": "5LfRiKeB4sjx"
   },
   "source": [
    "And at last, we can draw a map with a marker everywhere that her car has been seen."
   ]
  },
  {
   "cell_type": "code",
   "execution_count": null,
   "metadata": {
    "colab": {
     "base_uri": "https://localhost:8080/",
     "height": 876
    },
    "colab_type": "code",
    "id": "zTf8gcpW4sjy",
    "outputId": "ded2c169-8bf2-4bad-8deb-93ad7463220d"
   },
   "outputs": [],
   "source": [
    "jean_quan = lprs.where('Plate', '6FCH845').select('Latitude', 'Longitude', 'Timestamp')\n",
    "Marker.map_table(jean_quan)"
   ]
  },
  {
   "cell_type": "markdown",
   "metadata": {
    "colab_type": "text",
    "id": "-mj0v4LA4sj1"
   },
   "source": [
    "OK, so it's been seen near the Oakland police department.  This should make you suspect we might be getting a bit of a biased sample.  Why might the Oakland PD be the most common place where her car is seen?  Can you come up with a plausible explanation for this?"
   ]
  },
  {
   "cell_type": "markdown",
   "metadata": {
    "colab_type": "text",
    "id": "yn-WTLAN4sj2"
   },
   "source": [
    "## Poking around"
   ]
  },
  {
   "cell_type": "markdown",
   "metadata": {
    "colab_type": "text",
    "id": "xlQMajbF4sj2"
   },
   "source": [
    "Let's try another.  And let's see if we can make the map a little more fancy.  It'd be nice to distinguish between license plate reads that are seen during the daytime (on a weekday), vs the evening (on a weekday), vs on a weekend.  So we'll color-code the markers.  To do this, we'll write some Python code to analyze the Timestamp and choose an appropriate color."
   ]
  },
  {
   "cell_type": "code",
   "execution_count": null,
   "metadata": {
    "colab": {},
    "colab_type": "code",
    "id": "hPnWjOHP4sj3"
   },
   "outputs": [],
   "source": [
    "import datetime\n",
    "\n",
    "def get_color(ts):\n",
    "    t = datetime.datetime.strptime(ts, '%m/%d/%Y %I:%M:%S %p')\n",
    "    if t.weekday() >= 6:\n",
    "        return 'green' # Weekend\n",
    "    elif t.hour >= 6 and t.hour <= 17:\n",
    "        return 'blue' # Weekday daytime\n",
    "    else:\n",
    "        return 'red' # Weekday evening\n",
    "    \n",
    "lprs.append_column('Color', lprs.apply(get_color, 'Timestamp'))"
   ]
  },
  {
   "cell_type": "markdown",
   "metadata": {
    "colab_type": "text",
    "id": "D3LwoCma4sj6"
   },
   "source": [
    "Now we can check out another license plate, this time with our spiffy color-coding.  This one happens to be the car that the city issues to the Fire Chief."
   ]
  },
  {
   "cell_type": "code",
   "execution_count": null,
   "metadata": {
    "colab": {
     "base_uri": "https://localhost:8080/",
     "height": 876
    },
    "colab_type": "code",
    "id": "dAl7A2ft4sj7",
    "outputId": "e8b956ab-d6dd-4d86-d624-e7985fdb37a7"
   },
   "outputs": [],
   "source": [
    "t = lprs.where('Plate', '1328354').select('Latitude', 'Longitude', 'Timestamp', 'Color')\n",
    "Marker.map_table(t)"
   ]
  },
  {
   "cell_type": "markdown",
   "metadata": {
    "colab_type": "text",
    "id": "ke01AFtr4sj-"
   },
   "source": [
    "Hmm.  We can see a blue cluster in downtown Oakland, where the Fire Chief's car was seen on weekdays during business hours.  I bet we've found her office.  In fact, if you happen to know downtown Oakland, those are mostly clustered right near City Hall.  Also, her car was seen twice in northern Oakland on weekday evenings.  One can only speculate what that indicates.  Maybe dinner with a friend?  Or running errands?  Off to the scene of a fire?  Who knows.  And then the car has been seen once more, late at night on a weekend, in a residential area in the hills.  Her home address, maybe?"
   ]
  },
  {
   "cell_type": "markdown",
   "metadata": {
    "colab_type": "text",
    "id": "n98hNJoh4sj_"
   },
   "source": [
    "Let's look at another. This time, we'll make a function to display the map."
   ]
  },
  {
   "cell_type": "code",
   "execution_count": null,
   "metadata": {
    "colab": {
     "base_uri": "https://localhost:8080/",
     "height": 876
    },
    "colab_type": "code",
    "id": "MgGIarVz4skA",
    "outputId": "3c3040fe-5158-4aab-c5af-59a29aa6db34"
   },
   "outputs": [],
   "source": [
    "def map_plate(plate):\n",
    "    sightings = lprs.where('Plate', plate)\n",
    "    t = sightings.select('Latitude', 'Longitude', 'Timestamp', 'Color')\n",
    "    return Marker.map_table(t)\n",
    "    \n",
    "map_plate('5AJG153')"
   ]
  },
  {
   "cell_type": "markdown",
   "metadata": {
    "colab_type": "text",
    "id": "N7kOJ8Oc4skC"
   },
   "source": [
    "What can we tell from this?  Looks to me like this person lives on International Blvd and 9th, roughly.  On weekdays they've seen in a variety of locations in west Oakland.  It's fun to imagine what this might indicate -- delivery person? taxi driver? someone running errands all over the place in west Oakland?\n",
    "\n",
    "We can look at another:"
   ]
  },
  {
   "cell_type": "code",
   "execution_count": null,
   "metadata": {
    "colab": {
     "base_uri": "https://localhost:8080/",
     "height": 876
    },
    "colab_type": "code",
    "id": "c8oPQY654skD",
    "outputId": "9d76ee63-2044-428d-97ef-9aea53878ef2"
   },
   "outputs": [],
   "source": [
    "map_plate('6UZA652')"
   ]
  },
  {
   "cell_type": "markdown",
   "metadata": {
    "colab_type": "text",
    "id": "o0LcsnfR4skF"
   },
   "source": [
    "What can we learn from this map?  First, it's pretty easy to guess where this person lives: 16th and International, or pretty near there.  And then we can see them spending some nights and a weekend near Laney College.  Did they have an apartment there briefly?  A relationship with someone who lived there?"
   ]
  },
  {
   "cell_type": "markdown",
   "metadata": {
    "colab_type": "text",
    "id": "K-iNa8Xe4skG"
   },
   "source": [
    "Is anyone else getting a little bit creeped out about this?  I think I've had enough of looking at individual people's data."
   ]
  },
  {
   "cell_type": "markdown",
   "metadata": {
    "colab_type": "text",
    "id": "Wx00w9pz4skG"
   },
   "source": [
    "## Inference"
   ]
  },
  {
   "cell_type": "markdown",
   "metadata": {
    "colab_type": "text",
    "id": "3T1gE5nC4skH"
   },
   "source": [
    "As we can see, this kind of data can potentially reveal a fair bit about people.  Someone with access to the data can draw inferences.  Take a moment to think about what someone might be able to infer from this kind of data.\n",
    " \n",
    "As we've seen here, it's not too hard to make a pretty good guess at roughly where some lives, from this kind of information: their car is probably parked near their home most nights.  Also, it will often be possible to guess where someone works: if they commute into work by car, then on weekdays during business hours, their car is probably parked near their office, so we'll see a clear cluster that indicates where they work.\n",
    "\n",
    "But it doesn't stop there.  If we have enough data, it might also be possible to get a sense of what they like to do during their downtime (do they spend time at the park?).  And in some cases the data might reveal that someone is in a relationship and spending nights at someone else's house.  That's arguably pretty sensitive stuff.\n",
    "\n",
    "This gets at one of the challenges with privacy.  Data that's collected for one purpose (fighting crime, or something like that) can potentially reveal a lot more.  It can allow the owner of the data to draw inferences -- sometimes about things that people would prefer to keep private.  And that means that, in a world of \"big data\", if we're not careful, privacy can be collateral damage."
   ]
  },
  {
   "cell_type": "markdown",
   "metadata": {
    "colab_type": "text",
    "id": "9wh9ov234skI"
   },
   "source": [
    "## Mitigation"
   ]
  },
  {
   "cell_type": "markdown",
   "metadata": {
    "colab_type": "text",
    "id": "R4dc7luz4skI"
   },
   "source": [
    "If we want to protect people's privacy, what can be done about this?  That's a lengthy subject.  But at risk of over-simplifying, there are a few simple strategies that data owners can take:\n",
    "\n",
    "1. Minimize the data they have.  Collect only what they need, and delete it after it's not needed.\n",
    "\n",
    "2. Control who has access to the sensitive data.  Perhaps only a handful of trusted insiders need access; if so, then one can lock down the data so only they have access to it.  One can also log all access, to deter misuse.\n",
    "\n",
    "3. Anonymize the data, so it can't be linked back to the individual who it is about.  Unfortunately, this is often harder than it sounds.\n",
    "\n",
    "4. Engage with stakeholders.  Provide transparency, to try to avoid people being taken by surprise.  Give individuals a way to see what data has been collected about them.  Give people a way to opt out and have their data be deleted, if they wish.  Engage in a discussion about values, and tell people what steps you are taking to protect them from unwanted consequences.\n",
    "\n",
    "This only scratches the surface of the subject.  My main goal in this lecture was to make you aware of privacy concerns, so that if you are ever a steward of a large data set, you can think about how to protect people's data and use it responsibly."
   ]
  }
 ],
 "metadata": {
  "colab": {
   "name": "Privacy.ipynb",
   "provenance": [],
   "version": "0.3.2"
  },
  "kernelspec": {
   "display_name": "Python 3",
   "language": "python",
   "name": "python3"
  },
  "language_info": {
   "codemirror_mode": {
    "name": "ipython",
    "version": 3
   },
   "file_extension": ".py",
   "mimetype": "text/x-python",
   "name": "python",
   "nbconvert_exporter": "python",
   "pygments_lexer": "ipython3",
   "version": "3.6.5"
  }
 },
 "nbformat": 4,
 "nbformat_minor": 1
}
