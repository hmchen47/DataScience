{
 "cells": [
  {
   "cell_type": "code",
   "execution_count": 1,
   "metadata": {
    "collapsed": true
   },
   "outputs": [],
   "source": [
    "import numpy as np"
   ]
  },
  {
   "cell_type": "markdown",
   "metadata": {},
   "source": [
    "### Joint distribution of two discrete random variables\n",
    "The probabilities are organized in a 2D array, where the columns correspond to values of $x$ and the rows correspond to values of $y$"
   ]
  },
  {
   "cell_type": "code",
   "execution_count": 2,
   "metadata": {
    "collapsed": true
   },
   "outputs": [
    {
     "name": "stdout",
     "output_type": "stream",
     "text": [
      "[[ 2.  2.  4.]\n",
      " [ 1.  1.  2.]]\n"
     ]
    }
   ],
   "source": [
    "#### We start with positive weights that don't sum to 1\n",
    "P=np.array([[2.,2,4],[1,1,2]])\n",
    "P2=P\n",
    "print(P)"
   ]
  },
  {
   "cell_type": "code",
   "execution_count": 3,
   "metadata": {},
   "outputs": [],
   "source": [
    "P[0,0]=0"
   ]
  },
  {
   "cell_type": "code",
   "execution_count": 4,
   "metadata": {
    "collapsed": true
   },
   "outputs": [
    {
     "name": "stdout",
     "output_type": "stream",
     "text": [
      "[[ 0.  2.  4.]\n",
      " [ 1.  1.  2.]]\n"
     ]
    }
   ],
   "source": [
    "print(P2)"
   ]
  },
  {
   "cell_type": "code",
   "execution_count": 8,
   "metadata": {},
   "outputs": [],
   "source": [
    "P=np.array([[2.,2,4],[1,1,2]])"
   ]
  },
  {
   "cell_type": "code",
   "execution_count": 9,
   "metadata": {
    "collapsed": true
   },
   "outputs": [
    {
     "name": "stdout",
     "output_type": "stream",
     "text": [
      "[[ 2.  2.  4.]\n",
      " [ 1.  1.  2.]]\n"
     ]
    }
   ],
   "source": [
    "P2=np.copy(P)\n",
    "P[0,0]=0\n",
    "print(P2)"
   ]
  },
  {
   "cell_type": "code",
   "execution_count": 18,
   "metadata": {},
   "outputs": [],
   "source": [
    "P = np.copy(P2)"
   ]
  },
  {
   "cell_type": "code",
   "execution_count": 19,
   "metadata": {
    "collapsed": true
   },
   "outputs": [
    {
     "name": "stdout",
     "output_type": "stream",
     "text": [
      "the sum is  1.0\n"
     ]
    },
    {
     "data": {
      "text/plain": [
       "array([[ 0.16666667,  0.16666667,  0.33333333],\n",
       "       [ 0.08333333,  0.08333333,  0.16666667]])"
      ]
     },
     "execution_count": 19,
     "metadata": {},
     "output_type": "execute_result"
    }
   ],
   "source": [
    "# Nrmalize the weights using basic Python\n",
    "\n",
    "#Compute the sum\n",
    "s=0\n",
    "for i in range(P.shape[0]):\n",
    "    for j in range(P.shape[1]):\n",
    "        s+=P[i,j]\n",
    "print('the sum is ',s)\n",
    "#divide by the sum\n",
    "for i in range(P.shape[0]):\n",
    "    for j in range(P.shape[1]):\n",
    "        P[i,j] /= s\n",
    "P"
   ]
  },
  {
   "cell_type": "code",
   "execution_count": 20,
   "metadata": {
    "collapsed": true
   },
   "outputs": [
    {
     "data": {
      "text/plain": [
       "array([[ 0.16666667,  0.16666667,  0.33333333],\n",
       "       [ 0.08333333,  0.08333333,  0.16666667]])"
      ]
     },
     "execution_count": 20,
     "metadata": {},
     "output_type": "execute_result"
    }
   ],
   "source": [
    "# Using Numpy we can write it in a much shorter way\n",
    "P2/=np.sum(P2)\n",
    "P2"
   ]
  },
  {
   "cell_type": "code",
   "execution_count": 21,
   "metadata": {},
   "outputs": [],
   "source": [
    "# The values that the random variables x and y take\n",
    "x=np.array([1,2,6])\n",
    "y=np.array([-1,1])"
   ]
  },
  {
   "cell_type": "code",
   "execution_count": 23,
   "metadata": {
    "collapsed": true
   },
   "outputs": [
    {
     "data": {
      "text/plain": [
       "(2, 3)"
      ]
     },
     "execution_count": 23,
     "metadata": {},
     "output_type": "execute_result"
    }
   ],
   "source": [
    "P.shape"
   ]
  },
  {
   "cell_type": "markdown",
   "metadata": {},
   "source": [
    "#### Computing Marginals\n",
    "The marginal distributions are the probabilities associated with each random variable alone."
   ]
  },
  {
   "cell_type": "code",
   "execution_count": 25,
   "metadata": {
    "collapsed": true
   },
   "outputs": [
    {
     "data": {
      "text/plain": [
       "([0.25, 0.25, 0.5], [0.66666666666666663, 0.33333333333333331])"
      ]
     },
     "execution_count": 25,
     "metadata": {},
     "output_type": "execute_result"
    }
   ],
   "source": [
    "# The pure python way\n",
    "Px=[0.]*P.shape[1]\n",
    "Py=[0.]*P.shape[0]\n",
    "\n",
    "for i in range(len(Px)):\n",
    "    for j in range(len(Py)):\n",
    "        Px[i]+=P[j,i]\n",
    "        Py[j]+=P[j,i]\n",
    "Px,Py"
   ]
  },
  {
   "cell_type": "code",
   "execution_count": 27,
   "metadata": {
    "collapsed": true
   },
   "outputs": [
    {
     "data": {
      "text/plain": [
       "(array([ 0.25,  0.25,  0.5 ]), array([ 0.66666667,  0.33333333]))"
      ]
     },
     "execution_count": 27,
     "metadata": {},
     "output_type": "execute_result"
    }
   ],
   "source": [
    "#the numpy way:\n",
    "Px=np.sum(P,axis=0)\n",
    "Py=np.sum(P,axis=1)\n",
    "Px,Py"
   ]
  },
  {
   "cell_type": "markdown",
   "metadata": {},
   "source": [
    "### Testing independence\n",
    "\n",
    "If two random variables $X$ and $Y$ are independent, then the outer product of the marginals should equal P."
   ]
  },
  {
   "cell_type": "code",
   "execution_count": 32,
   "metadata": {},
   "outputs": [],
   "source": [
    "# The pure python way\n",
    "for i in range(Px.size):\n",
    "    for j in range(Py.size):\n",
    "        if Px[i]*Py[j] != P[j,i]:\n",
    "            print(\"Px[%d]*Py[%d] != P[%d,%d] ::::: %5.3f*%5.3f = %5.3f != %5.3f\"%(i,j,j,i,Px[i],Py[j],Px[i]*Py[j],P[j,i]))\n"
   ]
  },
  {
   "cell_type": "code",
   "execution_count": 33,
   "metadata": {
    "collapsed": true
   },
   "outputs": [
    {
     "data": {
      "text/plain": [
       "array([[ 0.,  0.,  0.],\n",
       "       [ 0.,  0.,  0.]])"
      ]
     },
     "execution_count": 33,
     "metadata": {},
     "output_type": "execute_result"
    }
   ],
   "source": [
    "# The numpy way\n",
    "np.outer(Px,Py).T - P"
   ]
  },
  {
   "cell_type": "markdown",
   "metadata": {},
   "source": [
    "### Computing the covariance"
   ]
  },
  {
   "cell_type": "markdown",
   "metadata": {},
   "source": [
    "### Calculating the mean and standard deviation\n",
    "To calculate the mean of $X$ and $Y$ under this distribtion in python, we need to iterate through the values of $x$ and $y$ and plug them into the formuls $E[X] = \\sum_x P(X=x)x$. Similarly for standard deviation.\n"
   ]
  },
  {
   "cell_type": "code",
   "execution_count": 34,
   "metadata": {
    "collapsed": true
   },
   "outputs": [
    {
     "data": {
      "text/plain": [
       "(3.75, -0.33333333333333331, 2.277608394786075, 0.9428090415820634)"
      ]
     },
     "execution_count": 34,
     "metadata": {},
     "output_type": "execute_result"
    }
   ],
   "source": [
    "from math import sqrt\n",
    "#The python way\n",
    "Ex = 0\n",
    "for i in range(3):\n",
    "    Ex+=Px[i]*x[i]\n",
    "Ey = 0\n",
    "for i in range(2):\n",
    "    Ey+=Py[i]*y[i]\n",
    "\n",
    "varx = 0\n",
    "for i in range(3):\n",
    "    varx+=Px[i]*(x[i] - Ex)**2\n",
    "stdx = sqrt(varx)\n",
    "\n",
    "vary = 0\n",
    "for i in range(2):\n",
    "    vary+=Py[i]*(y[i] - Ey)**2\n",
    "stdy = sqrt(vary)\n",
    "\n",
    "Ex,Ey,stdx,stdy"
   ]
  },
  {
   "cell_type": "code",
   "execution_count": 35,
   "metadata": {
    "collapsed": true
   },
   "outputs": [
    {
     "name": "stdout",
     "output_type": "stream",
     "text": [
      "Ex=3.750000,Ey=-0.333333,stdx=2.277608,stdy=0.942809\n"
     ]
    }
   ],
   "source": [
    "# In numpy you can use np.dot(A,B) which calculates the pairwise product of elements in A and B\n",
    "# and sums them up\n",
    "Ex=np.dot(Px,x)\n",
    "Ey=np.dot(Py,y)\n",
    "Ex2=np.dot(Px,x**2)\n",
    "Ey2=np.dot(Py,y**2)\n",
    "stdx=sqrt(Ex2-Ex**2)\n",
    "stdy=sqrt(Ey2-Ey**2)\n",
    "print('Ex=%f,Ey=%f,stdx=%f,stdy=%f'%(Ex,Ey,stdx,stdy))"
   ]
  },
  {
   "cell_type": "markdown",
   "metadata": {},
   "source": [
    "#### Subtract the means"
   ]
  },
  {
   "cell_type": "code",
   "execution_count": 36,
   "metadata": {
    "collapsed": true
   },
   "outputs": [
    {
     "data": {
      "text/plain": [
       "array([-2.75, -1.75,  2.25])"
      ]
     },
     "execution_count": 36,
     "metadata": {},
     "output_type": "execute_result"
    }
   ],
   "source": [
    "nx=x-Ex\n",
    "nx"
   ]
  },
  {
   "cell_type": "code",
   "execution_count": 37,
   "metadata": {
    "collapsed": true
   },
   "outputs": [
    {
     "data": {
      "text/plain": [
       "array([-0.66666667,  1.33333333])"
      ]
     },
     "execution_count": 37,
     "metadata": {},
     "output_type": "execute_result"
    }
   ],
   "source": [
    "ny=y-Ey\n",
    "ny"
   ]
  },
  {
   "cell_type": "markdown",
   "metadata": {},
   "source": [
    "### Calculate the covariance\n"
   ]
  },
  {
   "cell_type": "code",
   "execution_count": 38,
   "metadata": {
    "collapsed": true
   },
   "outputs": [
    {
     "name": "stdout",
     "output_type": "stream",
     "text": [
      "the covariance is 1.11022302463e-16\n"
     ]
    }
   ],
   "source": [
    "# in python\n",
    "s=0\n",
    "for i in range(len(x)):\n",
    "    for j in range(len(y)):\n",
    "        s+=P[j,i]*nx[i]*ny[j]\n",
    "print('the covariance is',s) #our expected values are now 0 so nothing to subtract"
   ]
  },
  {
   "cell_type": "code",
   "execution_count": 39,
   "metadata": {
    "collapsed": true
   },
   "outputs": [
    {
     "name": "stdout",
     "output_type": "stream",
     "text": [
      "the covariance is 0.0\n"
     ]
    }
   ],
   "source": [
    "# numpy\n",
    "\n",
    "print('the covariance is', np.dot(P.flatten(), np.outer(ny,nx).flatten()))"
   ]
  },
  {
   "cell_type": "markdown",
   "metadata": {},
   "source": [
    "### and the correlation\n"
   ]
  },
  {
   "cell_type": "code",
   "execution_count": 40,
   "metadata": {
    "collapsed": true
   },
   "outputs": [
    {
     "data": {
      "text/plain": [
       "(5.1702011052845407e-17, 2.277608394786075, 0.9428090415820634)"
      ]
     },
     "execution_count": 40,
     "metadata": {},
     "output_type": "execute_result"
    }
   ],
   "source": [
    "s/(stdx*stdy),stdx,stdy"
   ]
  },
  {
   "cell_type": "code",
   "execution_count": 41,
   "metadata": {},
   "outputs": [],
   "source": [
    "import numpy as np\n",
    "from math import sqrt\n",
    "\n",
    "def ComputeStatistics(P,x,y):\n",
    "    P/=np.sum(P) # normalize the disttribution\n",
    "    Px=np.sum(P,axis=0) # compute marginals\n",
    "    Py=np.sum(P,axis=1)\n",
    "    Ex=np.dot(Px,x)\n",
    "    Ey=np.dot(Py,y)\n",
    "    Ex2=np.dot(Px,x**2)\n",
    "    Ey2=np.dot(Py,y**2)\n",
    "    stdx=sqrt(Ex2-Ex**2)\n",
    "    stdy=sqrt(Ey2-Ey**2)\n",
    "    \n",
    "    nx=x-Ex\n",
    "    ny=y-Ey\n",
    "    \n",
    "    cov=np.dot(P.flatten(), np.outer(ny,nx).flatten())\n",
    "    corr=cov/(stdx*stdy)\n",
    "    return {\n",
    "        'P':P,\n",
    "        'x':x,\n",
    "        'y':y,\n",
    "        'Px':Px,\n",
    "        'Py':Py,\n",
    "        'Ex':Ex,\n",
    "        'Ey':Ey,\n",
    "        'stdx':stdx,\n",
    "        'stdy':stdy,\n",
    "        'cov':cov,\n",
    "        'corr':corr\n",
    "    }\n"
   ]
  },
  {
   "cell_type": "code",
   "execution_count": 42,
   "metadata": {
    "collapsed": true
   },
   "outputs": [
    {
     "name": "stdout",
     "output_type": "stream",
     "text": [
      "[ 1.   1.2  1.4  1.6  1.8] [ 0.   0.2  0.4  0.6  0.8]\n"
     ]
    },
    {
     "data": {
      "text/plain": [
       "array([[ 1.,  0.,  0.,  0.,  0.],\n",
       "       [ 0.,  1.,  0.,  0.,  0.],\n",
       "       [ 0.,  0.,  1.,  0.,  0.],\n",
       "       [ 0.,  0.,  0.,  1.,  0.],\n",
       "       [ 0.,  0.,  0.,  0.,  1.]])"
      ]
     },
     "execution_count": 42,
     "metadata": {},
     "output_type": "execute_result"
    }
   ],
   "source": [
    "x=np.arange(1.,2.,0.2)\n",
    "y=np.arange(0.,1.,0.2)\n",
    "P=np.eye(5)\n",
    "print(x,y)\n",
    "P"
   ]
  },
  {
   "cell_type": "code",
   "execution_count": 43,
   "metadata": {
    "collapsed": true
   },
   "outputs": [
    {
     "name": "stdout",
     "output_type": "stream",
     "text": [
      "0.08 1.0\n"
     ]
    }
   ],
   "source": [
    "A=ComputeStatistics(P,x,y)\n",
    "print(A['cov'],A['corr'])"
   ]
  },
  {
   "cell_type": "markdown",
   "metadata": {},
   "source": [
    "## Empirical statistics\n",
    "\n",
    "If we now draw samples from these distributions, we can see that the emperical statistics, the population mean, population standard deviation and population covariance approach the original values of mean, standard deviation and covariance."
   ]
  },
  {
   "cell_type": "code",
   "execution_count": 44,
   "metadata": {
    "collapsed": true
   },
   "outputs": [
    {
     "data": {
      "text/plain": [
       "(array([ 0.36363636,  0.27272727,  0.36363636]), 0.0, -0.090909090909090912)"
      ]
     },
     "execution_count": 44,
     "metadata": {},
     "output_type": "execute_result"
    }
   ],
   "source": [
    "P=np.array([[1.,1,1],[1,1,2],[2,1,1]])\n",
    "x=np.array([-1,0,1]); y=np.array([-1,0,1])\n",
    "A=ComputeStatistics(P,x,y)\n",
    "Px=A['Px']\n",
    "Px,A['Ex'],A['cov']"
   ]
  },
  {
   "cell_type": "code",
   "execution_count": 45,
   "metadata": {
    "collapsed": true
   },
   "outputs": [
    {
     "data": {
      "text/plain": [
       "array([ 0.36363636,  0.27272727,  0.36363636])"
      ]
     },
     "execution_count": 45,
     "metadata": {},
     "output_type": "execute_result"
    }
   ],
   "source": [
    "Px"
   ]
  },
  {
   "cell_type": "code",
   "execution_count": 46,
   "metadata": {
    "collapsed": true
   },
   "outputs": [
    {
     "data": {
      "text/plain": [
       "array([ 1,  1,  1,  0,  1,  0, -1, -1, -1, -1, -1,  1,  0, -1, -1,  1,  1,\n",
       "       -1, -1,  1, -1,  0,  0, -1,  1,  1, -1,  1,  1, -1,  1,  1,  1, -1,\n",
       "        1,  0,  0, -1, -1,  1,  0,  0, -1,  1, -1,  0,  0,  1,  1, -1,  1,\n",
       "        1,  1, -1,  1,  1, -1,  0,  1,  0, -1, -1, -1, -1, -1,  1, -1,  0,\n",
       "       -1, -1,  1,  1, -1, -1,  0,  1,  0,  1,  1, -1,  0,  1, -1,  0, -1,\n",
       "        0,  1,  0,  0, -1, -1, -1,  0,  1, -1,  1,  0, -1, -1,  0])"
      ]
     },
     "execution_count": 46,
     "metadata": {},
     "output_type": "execute_result"
    }
   ],
   "source": [
    "np.random.choice(x,100,True, Px)"
   ]
  },
  {
   "cell_type": "code",
   "execution_count": 47,
   "metadata": {
    "collapsed": true
   },
   "outputs": [
    {
     "name": "stdout",
     "output_type": "stream",
     "text": [
      "Sample mean after drawing 2 samples = -0.5\n",
      "Sample mean after drawing 10 samples = 0.2\n",
      "Sample mean after drawing 100 samples = -0.07\n",
      "Sample mean after drawing 100000 samples = 0.00261\n"
     ]
    }
   ],
   "source": [
    "numsamples = [2,10,100,100000]\n",
    "\n",
    "for num in numsamples: \n",
    "    print(\"Sample mean after drawing {num} samples = {s}\".format(\n",
    "        num = num,\n",
    "        s = np.mean(np.random.choice(x, num, True, Px))\n",
    "    ))"
   ]
  },
  {
   "cell_type": "code",
   "execution_count": 48,
   "metadata": {
    "collapsed": true
   },
   "outputs": [
    {
     "data": {
      "text/plain": [
       "array([[ 1,  0],\n",
       "       [ 1,  1],\n",
       "       [ 0, -1],\n",
       "       [ 1,  0],\n",
       "       [-1, -1],\n",
       "       [ 0, -1],\n",
       "       [ 0,  1],\n",
       "       [ 1,  0],\n",
       "       [ 0,  1],\n",
       "       [-1,  1],\n",
       "       [-1,  1],\n",
       "       [-1, -1],\n",
       "       [ 1,  0],\n",
       "       [ 0,  1],\n",
       "       [-1,  1],\n",
       "       [ 1,  0],\n",
       "       [ 0,  1],\n",
       "       [ 1, -1],\n",
       "       [ 1,  0],\n",
       "       [-1, -1]])"
      ]
     },
     "execution_count": 48,
     "metadata": {},
     "output_type": "execute_result"
    }
   ],
   "source": [
    "#To calculate the covariance, we will generate samples (x,y) form the joint distribution P\n",
    "#possible samples\n",
    "xy =  np.array([(i,j) for i in x for j in y])\n",
    "I=np.random.choice(xy.shape[0], num, True, P.T.flatten())\n",
    "xy[I][:20]"
   ]
  },
  {
   "cell_type": "code",
   "execution_count": 49,
   "metadata": {
    "collapsed": true
   },
   "outputs": [
    {
     "name": "stdout",
     "output_type": "stream",
     "text": [
      "Population covariance after drawing 2 samples = 0.0\n",
      "Population covariance after drawing 10 samples = 0.02222222222222222\n",
      "Population covariance after drawing 100 samples = -0.20424242424242425\n",
      "Population covariance after drawing 100000 samples = -0.09311053000529987\n"
     ]
    }
   ],
   "source": [
    "for num in numsamples:\n",
    "    samples = np.random.choice(xy.shape[0], num, True, P.T.flatten()), #choose rows\n",
    "    print(\"Population covariance after drawing {num} samples = {s}\".format(\n",
    "        num = num,\n",
    "        s = np.cov(\n",
    "            xy[samples][:,0],\n",
    "            xy[samples][:,1]\n",
    "        )[0,1]\n",
    "    ))"
   ]
  }
 ],
 "metadata": {
  "kernelspec": {
   "display_name": "Python 3",
   "language": "python",
   "name": "python3"
  },
  "language_info": {
   "codemirror_mode": {
    "name": "ipython",
    "version": 3
   },
   "file_extension": ".py",
   "mimetype": "text/x-python",
   "name": "python",
   "nbconvert_exporter": "python",
   "pygments_lexer": "ipython3",
   "version": "3.7.6"
  },
  "toc": {
   "base_numbering": 1,
   "nav_menu": {
    "height": "142px",
    "width": "252px"
   },
   "number_sections": true,
   "sideBar": true,
   "skip_h1_title": false,
   "title_cell": "Table of Contents",
   "title_sidebar": "Contents",
   "toc_cell": false,
   "toc_position": {},
   "toc_section_display": "block",
   "toc_window_display": false
  },
  "varInspector": {
   "cols": {
    "lenName": 16,
    "lenType": 16,
    "lenVar": 40
   },
   "kernels_config": {
    "python": {
     "delete_cmd_postfix": "",
     "delete_cmd_prefix": "del ",
     "library": "var_list.py",
     "varRefreshCmd": "print(var_dic_list())"
    },
    "r": {
     "delete_cmd_postfix": ") ",
     "delete_cmd_prefix": "rm(",
     "library": "var_list.r",
     "varRefreshCmd": "cat(var_dic_list()) "
    }
   },
   "types_to_exclude": [
    "module",
    "function",
    "builtin_function_or_method",
    "instance",
    "_Feature"
   ],
   "window_display": false
  }
 },
 "nbformat": 4,
 "nbformat_minor": 2
}
