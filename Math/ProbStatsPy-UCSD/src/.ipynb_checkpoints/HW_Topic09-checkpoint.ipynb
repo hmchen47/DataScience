{
 "cells": [
  {
   "cell_type": "code",
   "execution_count": 38,
   "metadata": {},
   "outputs": [],
   "source": [
    "import numpy as np\n",
    "import pandas as pd\n",
    "import matplotlib.pyplot as plt\n",
    "import statistics as stat"
   ]
  },
  {
   "cell_type": "code",
   "execution_count": 3,
   "metadata": {},
   "outputs": [],
   "source": [
    "# This sets the size and properties of the plots when using matplotlib.pyplot\n",
    "plt.style.use([{\n",
    "    \"figure.figsize\":(9,6),\n",
    "    \"xtick.labelsize\": \"large\",\n",
    "    \"ytick.labelsize\": \"large\",\n",
    "    \"legend.fontsize\": \"x-large\",\n",
    "    \"axes.labelsize\": \"x-large\",\n",
    "    \"axes.titlesize\": \"xx-large\",\n",
    "    \"axes.spines.top\": False,\n",
    "    \"axes.spines.right\": False,\n",
    "    # \"ytick.major.right\":False,\n",
    "    # \"xtick.major.top\":False\n",
    "},'seaborn-poster'])"
   ]
  },
  {
   "cell_type": "code",
   "execution_count": 4,
   "metadata": {},
   "outputs": [
    {
     "data": {
      "text/html": [
       "<div>\n",
       "<style scoped>\n",
       "    .dataframe tbody tr th:only-of-type {\n",
       "        vertical-align: middle;\n",
       "    }\n",
       "\n",
       "    .dataframe tbody tr th {\n",
       "        vertical-align: top;\n",
       "    }\n",
       "\n",
       "    .dataframe thead th {\n",
       "        text-align: right;\n",
       "    }\n",
       "</style>\n",
       "<table border=\"1\" class=\"dataframe\">\n",
       "  <thead>\n",
       "    <tr style=\"text-align: right;\">\n",
       "      <th></th>\n",
       "      <th>datetime</th>\n",
       "      <th>Vancouver</th>\n",
       "      <th>Portland</th>\n",
       "      <th>San Francisco</th>\n",
       "      <th>Seattle</th>\n",
       "      <th>Los Angeles</th>\n",
       "      <th>San Diego</th>\n",
       "      <th>Las Vegas</th>\n",
       "      <th>Phoenix</th>\n",
       "      <th>Albuquerque</th>\n",
       "      <th>...</th>\n",
       "      <th>Philadelphia</th>\n",
       "      <th>New York</th>\n",
       "      <th>Montreal</th>\n",
       "      <th>Boston</th>\n",
       "      <th>Beersheba</th>\n",
       "      <th>Tel Aviv District</th>\n",
       "      <th>Eilat</th>\n",
       "      <th>Haifa</th>\n",
       "      <th>Nahariyya</th>\n",
       "      <th>Jerusalem</th>\n",
       "    </tr>\n",
       "  </thead>\n",
       "  <tbody>\n",
       "    <tr>\n",
       "      <th>0</th>\n",
       "      <td>2012-10-01 12:00:00</td>\n",
       "      <td>NaN</td>\n",
       "      <td>NaN</td>\n",
       "      <td>NaN</td>\n",
       "      <td>NaN</td>\n",
       "      <td>NaN</td>\n",
       "      <td>NaN</td>\n",
       "      <td>NaN</td>\n",
       "      <td>NaN</td>\n",
       "      <td>NaN</td>\n",
       "      <td>...</td>\n",
       "      <td>NaN</td>\n",
       "      <td>NaN</td>\n",
       "      <td>NaN</td>\n",
       "      <td>NaN</td>\n",
       "      <td>NaN</td>\n",
       "      <td>NaN</td>\n",
       "      <td>309.100000</td>\n",
       "      <td>NaN</td>\n",
       "      <td>NaN</td>\n",
       "      <td>NaN</td>\n",
       "    </tr>\n",
       "    <tr>\n",
       "      <th>1</th>\n",
       "      <td>2012-10-01 13:00:00</td>\n",
       "      <td>284.630000</td>\n",
       "      <td>282.080000</td>\n",
       "      <td>289.480000</td>\n",
       "      <td>281.800000</td>\n",
       "      <td>291.870000</td>\n",
       "      <td>291.530000</td>\n",
       "      <td>293.410000</td>\n",
       "      <td>296.600000</td>\n",
       "      <td>285.120000</td>\n",
       "      <td>...</td>\n",
       "      <td>285.630000</td>\n",
       "      <td>288.220000</td>\n",
       "      <td>285.830000</td>\n",
       "      <td>287.170000</td>\n",
       "      <td>307.590000</td>\n",
       "      <td>305.470000</td>\n",
       "      <td>310.580000</td>\n",
       "      <td>304.4</td>\n",
       "      <td>304.4</td>\n",
       "      <td>303.5</td>\n",
       "    </tr>\n",
       "    <tr>\n",
       "      <th>2</th>\n",
       "      <td>2012-10-01 14:00:00</td>\n",
       "      <td>284.629041</td>\n",
       "      <td>282.083252</td>\n",
       "      <td>289.474993</td>\n",
       "      <td>281.797217</td>\n",
       "      <td>291.868186</td>\n",
       "      <td>291.533501</td>\n",
       "      <td>293.403141</td>\n",
       "      <td>296.608509</td>\n",
       "      <td>285.154558</td>\n",
       "      <td>...</td>\n",
       "      <td>285.663208</td>\n",
       "      <td>288.247676</td>\n",
       "      <td>285.834650</td>\n",
       "      <td>287.186092</td>\n",
       "      <td>307.590000</td>\n",
       "      <td>304.310000</td>\n",
       "      <td>310.495769</td>\n",
       "      <td>304.4</td>\n",
       "      <td>304.4</td>\n",
       "      <td>303.5</td>\n",
       "    </tr>\n",
       "    <tr>\n",
       "      <th>3</th>\n",
       "      <td>2012-10-01 15:00:00</td>\n",
       "      <td>284.626998</td>\n",
       "      <td>282.091866</td>\n",
       "      <td>289.460618</td>\n",
       "      <td>281.789833</td>\n",
       "      <td>291.862844</td>\n",
       "      <td>291.543355</td>\n",
       "      <td>293.392177</td>\n",
       "      <td>296.631487</td>\n",
       "      <td>285.233952</td>\n",
       "      <td>...</td>\n",
       "      <td>285.756824</td>\n",
       "      <td>288.326940</td>\n",
       "      <td>285.847790</td>\n",
       "      <td>287.231672</td>\n",
       "      <td>307.391513</td>\n",
       "      <td>304.281841</td>\n",
       "      <td>310.411538</td>\n",
       "      <td>304.4</td>\n",
       "      <td>304.4</td>\n",
       "      <td>303.5</td>\n",
       "    </tr>\n",
       "    <tr>\n",
       "      <th>4</th>\n",
       "      <td>2012-10-01 16:00:00</td>\n",
       "      <td>284.624955</td>\n",
       "      <td>282.100481</td>\n",
       "      <td>289.446243</td>\n",
       "      <td>281.782449</td>\n",
       "      <td>291.857503</td>\n",
       "      <td>291.553209</td>\n",
       "      <td>293.381213</td>\n",
       "      <td>296.654466</td>\n",
       "      <td>285.313345</td>\n",
       "      <td>...</td>\n",
       "      <td>285.850440</td>\n",
       "      <td>288.406203</td>\n",
       "      <td>285.860929</td>\n",
       "      <td>287.277251</td>\n",
       "      <td>307.145200</td>\n",
       "      <td>304.238015</td>\n",
       "      <td>310.327308</td>\n",
       "      <td>304.4</td>\n",
       "      <td>304.4</td>\n",
       "      <td>303.5</td>\n",
       "    </tr>\n",
       "  </tbody>\n",
       "</table>\n",
       "<p>5 rows × 37 columns</p>\n",
       "</div>"
      ],
      "text/plain": [
       "              datetime   Vancouver    Portland  San Francisco     Seattle  \\\n",
       "0  2012-10-01 12:00:00         NaN         NaN            NaN         NaN   \n",
       "1  2012-10-01 13:00:00  284.630000  282.080000     289.480000  281.800000   \n",
       "2  2012-10-01 14:00:00  284.629041  282.083252     289.474993  281.797217   \n",
       "3  2012-10-01 15:00:00  284.626998  282.091866     289.460618  281.789833   \n",
       "4  2012-10-01 16:00:00  284.624955  282.100481     289.446243  281.782449   \n",
       "\n",
       "   Los Angeles   San Diego   Las Vegas     Phoenix  Albuquerque  ...  \\\n",
       "0          NaN         NaN         NaN         NaN          NaN  ...   \n",
       "1   291.870000  291.530000  293.410000  296.600000   285.120000  ...   \n",
       "2   291.868186  291.533501  293.403141  296.608509   285.154558  ...   \n",
       "3   291.862844  291.543355  293.392177  296.631487   285.233952  ...   \n",
       "4   291.857503  291.553209  293.381213  296.654466   285.313345  ...   \n",
       "\n",
       "   Philadelphia    New York    Montreal      Boston   Beersheba  \\\n",
       "0           NaN         NaN         NaN         NaN         NaN   \n",
       "1    285.630000  288.220000  285.830000  287.170000  307.590000   \n",
       "2    285.663208  288.247676  285.834650  287.186092  307.590000   \n",
       "3    285.756824  288.326940  285.847790  287.231672  307.391513   \n",
       "4    285.850440  288.406203  285.860929  287.277251  307.145200   \n",
       "\n",
       "   Tel Aviv District       Eilat  Haifa  Nahariyya  Jerusalem  \n",
       "0                NaN  309.100000    NaN        NaN        NaN  \n",
       "1         305.470000  310.580000  304.4      304.4      303.5  \n",
       "2         304.310000  310.495769  304.4      304.4      303.5  \n",
       "3         304.281841  310.411538  304.4      304.4      303.5  \n",
       "4         304.238015  310.327308  304.4      304.4      303.5  \n",
       "\n",
       "[5 rows x 37 columns]"
      ]
     },
     "execution_count": 4,
     "metadata": {},
     "output_type": "execute_result"
    }
   ],
   "source": [
    "temp_df = pd.read_csv(\"./data/temperature.csv\")\n",
    "temp_df.head()"
   ]
  },
  {
   "cell_type": "code",
   "execution_count": 5,
   "metadata": {},
   "outputs": [
    {
     "name": "stdout",
     "output_type": "stream",
     "text": [
      "<class 'pandas.core.frame.DataFrame'>\n",
      "RangeIndex: 45253 entries, 0 to 45252\n",
      "Data columns (total 37 columns):\n",
      " #   Column             Non-Null Count  Dtype  \n",
      "---  ------             --------------  -----  \n",
      " 0   datetime           45253 non-null  object \n",
      " 1   Vancouver          44458 non-null  float64\n",
      " 2   Portland           45252 non-null  float64\n",
      " 3   San Francisco      44460 non-null  float64\n",
      " 4   Seattle            45250 non-null  float64\n",
      " 5   Los Angeles        45250 non-null  float64\n",
      " 6   San Diego          45252 non-null  float64\n",
      " 7   Las Vegas          45252 non-null  float64\n",
      " 8   Phoenix            45250 non-null  float64\n",
      " 9   Albuquerque        45252 non-null  float64\n",
      " 10  Denver             45252 non-null  float64\n",
      " 11  San Antonio        45252 non-null  float64\n",
      " 12  Dallas             45249 non-null  float64\n",
      " 13  Houston            45250 non-null  float64\n",
      " 14  Kansas City        45252 non-null  float64\n",
      " 15  Minneapolis        45240 non-null  float64\n",
      " 16  Saint Louis        45252 non-null  float64\n",
      " 17  Chicago            45250 non-null  float64\n",
      " 18  Nashville          45251 non-null  float64\n",
      " 19  Indianapolis       45246 non-null  float64\n",
      " 20  Atlanta            45247 non-null  float64\n",
      " 21  Detroit            45252 non-null  float64\n",
      " 22  Jacksonville       45252 non-null  float64\n",
      " 23  Charlotte          45250 non-null  float64\n",
      " 24  Miami              44448 non-null  float64\n",
      " 25  Pittsburgh         45250 non-null  float64\n",
      " 26  Toronto            45252 non-null  float64\n",
      " 27  Philadelphia       45250 non-null  float64\n",
      " 28  New York           44460 non-null  float64\n",
      " 29  Montreal           45250 non-null  float64\n",
      " 30  Boston             45250 non-null  float64\n",
      " 31  Beersheba          44455 non-null  float64\n",
      " 32  Tel Aviv District  44460 non-null  float64\n",
      " 33  Eilat              44461 non-null  float64\n",
      " 34  Haifa              44455 non-null  float64\n",
      " 35  Nahariyya          44456 non-null  float64\n",
      " 36  Jerusalem          44460 non-null  float64\n",
      "dtypes: float64(36), object(1)\n",
      "memory usage: 12.8+ MB\n"
     ]
    }
   ],
   "source": [
    "temp_df.info()"
   ]
  },
  {
   "cell_type": "markdown",
   "metadata": {},
   "source": [
    "1. plot a histogram with 100 bins using all the samples to represesnt Detroit"
   ]
  },
  {
   "cell_type": "code",
   "execution_count": 6,
   "metadata": {},
   "outputs": [
    {
     "data": {
      "image/png": "[encoded data removed]",
      "text/plain": [
       "<Figure size 921.6x633.6 with 1 Axes>"
      ]
     },
     "metadata": {
      "needs_background": "light"
     },
     "output_type": "display_data"
    }
   ],
   "source": [
    "temp_df = temp_df.dropna()\n",
    "detroit_df = temp_df['Detroit']\n",
    "\n",
    "plt.hist(detroit_df, bins=100)\n",
    "plt.title('Temperature histogram of Detroit')\n",
    "plt.ylabel('temperature')\n",
    "plt.show()"
   ]
  },
  {
   "cell_type": "markdown",
   "metadata": {},
   "source": [
    "2. PDF's approximate the distribution of the data in Q1 (Question 1) as closely as possible"
   ]
  },
  {
   "cell_type": "code",
   "execution_count": 44,
   "metadata": {},
   "outputs": [
    {
     "name": "stdout",
     "output_type": "stream",
     "text": [
      "<class 'pandas.core.frame.DataFrame'>\n",
      "Int64Index: 10812 entries, 2196 to 39419\n",
      "Data columns (total 37 columns):\n",
      " #   Column             Non-Null Count  Dtype         \n",
      "---  ------             --------------  -----         \n",
      " 0   datetime           10812 non-null  datetime64[ns]\n",
      " 1   Vancouver          10812 non-null  float64       \n",
      " 2   Portland           10812 non-null  float64       \n",
      " 3   San Francisco      10812 non-null  float64       \n",
      " 4   Seattle            10812 non-null  float64       \n",
      " 5   Los Angeles        10812 non-null  float64       \n",
      " 6   San Diego          10812 non-null  float64       \n",
      " 7   Las Vegas          10812 non-null  float64       \n",
      " 8   Phoenix            10812 non-null  float64       \n",
      " 9   Albuquerque        10812 non-null  float64       \n",
      " 10  Denver             10812 non-null  float64       \n",
      " 11  San Antonio        10812 non-null  float64       \n",
      " 12  Dallas             10812 non-null  float64       \n",
      " 13  Houston            10812 non-null  float64       \n",
      " 14  Kansas City        10812 non-null  float64       \n",
      " 15  Minneapolis        10812 non-null  float64       \n",
      " 16  Saint Louis        10812 non-null  float64       \n",
      " 17  Chicago            10812 non-null  float64       \n",
      " 18  Nashville          10812 non-null  float64       \n",
      " 19  Indianapolis       10812 non-null  float64       \n",
      " 20  Atlanta            10812 non-null  float64       \n",
      " 21  Detroit            10812 non-null  float64       \n",
      " 22  Jacksonville       10812 non-null  float64       \n",
      " 23  Charlotte          10812 non-null  float64       \n",
      " 24  Miami              10812 non-null  float64       \n",
      " 25  Pittsburgh         10812 non-null  float64       \n",
      " 26  Toronto            10812 non-null  float64       \n",
      " 27  Philadelphia       10812 non-null  float64       \n",
      " 28  New York           10812 non-null  float64       \n",
      " 29  Montreal           10812 non-null  float64       \n",
      " 30  Boston             10812 non-null  float64       \n",
      " 31  Beersheba          10812 non-null  float64       \n",
      " 32  Tel Aviv District  10812 non-null  float64       \n",
      " 33  Eilat              10812 non-null  float64       \n",
      " 34  Haifa              10812 non-null  float64       \n",
      " 35  Nahariyya          10812 non-null  float64       \n",
      " 36  Jerusalem          10812 non-null  float64       \n",
      "dtypes: datetime64[ns](1), float64(36)\n",
      "memory usage: 3.1 MB\n"
     ]
    }
   ],
   "source": [
    "# retrieve the quter temperature \n",
    "import datetime as dt\n",
    "\n",
    "temp_df['datetime'] = pd.to_datetime(temp_df['datetime'])\n",
    "\n",
    "q1_df = temp_df[temp_df['datetime'].dt.quarter == 1]\n",
    "\n",
    "q1_df.info()"
   ]
  },
  {
   "cell_type": "code",
   "execution_count": 45,
   "metadata": {},
   "outputs": [
    {
     "data": {
      "text/plain": [
       "Index(['datetime', 'Vancouver', 'Portland', 'San Francisco', 'Seattle',\n",
       "       'Los Angeles', 'San Diego', 'Las Vegas', 'Phoenix', 'Albuquerque',\n",
       "       'Denver', 'San Antonio', 'Dallas', 'Houston', 'Kansas City',\n",
       "       'Minneapolis', 'Saint Louis', 'Chicago', 'Nashville', 'Indianapolis',\n",
       "       'Atlanta', 'Detroit', 'Jacksonville', 'Charlotte', 'Miami',\n",
       "       'Pittsburgh', 'Toronto', 'Philadelphia', 'New York', 'Montreal',\n",
       "       'Boston', 'Beersheba', 'Tel Aviv District', 'Eilat', 'Haifa',\n",
       "       'Nahariyya', 'Jerusalem'],\n",
       "      dtype='object')"
      ]
     },
     "execution_count": 45,
     "metadata": {},
     "output_type": "execute_result"
    }
   ],
   "source": [
    "# extract the columns\n",
    "q1_df.columns"
   ]
  },
  {
   "cell_type": "code",
   "execution_count": 46,
   "metadata": {},
   "outputs": [
    {
     "name": "stdout",
     "output_type": "stream",
     "text": [
      "<class 'pandas.core.frame.DataFrame'>\n",
      "Int64Index: 10812 entries, 2196 to 39419\n",
      "Data columns (total 36 columns):\n",
      " #   Column             Non-Null Count  Dtype  \n",
      "---  ------             --------------  -----  \n",
      " 0   Vancouver          10812 non-null  float64\n",
      " 1   Portland           10812 non-null  float64\n",
      " 2   San Francisco      10812 non-null  float64\n",
      " 3   Seattle            10812 non-null  float64\n",
      " 4   Los Angeles        10812 non-null  float64\n",
      " 5   San Diego          10812 non-null  float64\n",
      " 6   Las Vegas          10812 non-null  float64\n",
      " 7   Phoenix            10812 non-null  float64\n",
      " 8   Albuquerque        10812 non-null  float64\n",
      " 9   Denver             10812 non-null  float64\n",
      " 10  San Antonio        10812 non-null  float64\n",
      " 11  Dallas             10812 non-null  float64\n",
      " 12  Houston            10812 non-null  float64\n",
      " 13  Kansas City        10812 non-null  float64\n",
      " 14  Minneapolis        10812 non-null  float64\n",
      " 15  Saint Louis        10812 non-null  float64\n",
      " 16  Chicago            10812 non-null  float64\n",
      " 17  Nashville          10812 non-null  float64\n",
      " 18  Indianapolis       10812 non-null  float64\n",
      " 19  Atlanta            10812 non-null  float64\n",
      " 20  Detroit            10812 non-null  float64\n",
      " 21  Jacksonville       10812 non-null  float64\n",
      " 22  Charlotte          10812 non-null  float64\n",
      " 23  Miami              10812 non-null  float64\n",
      " 24  Pittsburgh         10812 non-null  float64\n",
      " 25  Toronto            10812 non-null  float64\n",
      " 26  Philadelphia       10812 non-null  float64\n",
      " 27  New York           10812 non-null  float64\n",
      " 28  Montreal           10812 non-null  float64\n",
      " 29  Boston             10812 non-null  float64\n",
      " 30  Beersheba          10812 non-null  float64\n",
      " 31  Tel Aviv District  10812 non-null  float64\n",
      " 32  Eilat              10812 non-null  float64\n",
      " 33  Haifa              10812 non-null  float64\n",
      " 34  Nahariyya          10812 non-null  float64\n",
      " 35  Jerusalem          10812 non-null  float64\n",
      "dtypes: float64(36)\n",
      "memory usage: 3.1 MB\n"
     ]
    }
   ],
   "source": [
    "#q1 temperature only\n",
    "q1_temp_df = q1_df[['Vancouver', 'Portland', 'San Francisco', 'Seattle',\n",
    "       'Los Angeles', 'San Diego', 'Las Vegas', 'Phoenix', 'Albuquerque',\n",
    "       'Denver', 'San Antonio', 'Dallas', 'Houston', 'Kansas City',\n",
    "       'Minneapolis', 'Saint Louis', 'Chicago', 'Nashville', 'Indianapolis',\n",
    "       'Atlanta', 'Detroit', 'Jacksonville', 'Charlotte', 'Miami',\n",
    "       'Pittsburgh', 'Toronto', 'Philadelphia', 'New York', 'Montreal',\n",
    "       'Boston', 'Beersheba', 'Tel Aviv District', 'Eilat', 'Haifa',\n",
    "       'Nahariyya', 'Jerusalem']]\n",
    "\n",
    "q1_temp_df.info()"
   ]
  },
  {
   "cell_type": "code",
   "execution_count": 47,
   "metadata": {},
   "outputs": [
    {
     "data": {
      "image/png": "[encoded data removed]",
      "text/plain": [
       "<Figure size 921.6x633.6 with 1 Axes>"
      ]
     },
     "metadata": {
      "needs_background": "light"
     },
     "output_type": "display_data"
    }
   ],
   "source": [
    "# plot the historgram to observe the distribution\n",
    "temp_lst = []\n",
    "\n",
    "for city in ['Vancouver', 'Portland', 'San Francisco', 'Seattle',\n",
    "       'Los Angeles', 'San Diego', 'Las Vegas', 'Phoenix', 'Albuquerque',\n",
    "       'Denver', 'San Antonio', 'Dallas', 'Houston', 'Kansas City',\n",
    "       'Minneapolis', 'Saint Louis', 'Chicago', 'Nashville', 'Indianapolis',\n",
    "       'Atlanta', 'Detroit', 'Jacksonville', 'Charlotte', 'Miami',\n",
    "       'Pittsburgh', 'Toronto', 'Philadelphia', 'New York', 'Montreal',\n",
    "       'Boston', 'Beersheba', 'Tel Aviv District', 'Eilat', 'Haifa',\n",
    "       'Nahariyya', 'Jerusalem']:\n",
    "    temp_lst += list(q1_df[city])\n",
    "\n",
    "plt.hist(temp_lst, bins=101)\n",
    "plt.xlabel('Temperature')\n",
    "plt.ylabel('Frequency')\n",
    "plt.title('Histogram of Quater 1 Temperature for all Cities')\n",
    "plt.show()"
   ]
  },
  {
   "cell_type": "code",
   "execution_count": 48,
   "metadata": {},
   "outputs": [
    {
     "name": "stdout",
     "output_type": "stream",
     "text": [
      "mean= 280.4437588851271\n",
      "standard deviation= 9.638395486180762\n"
     ]
    }
   ],
   "source": [
    "print(\"mean= {}\".format(np.mean(temp_lst)))\n",
    "print(\"standard deviation= {}\".format(stat.stdev(temp_lst)))"
   ]
  },
  {
   "cell_type": "code",
   "execution_count": 68,
   "metadata": {
    "scrolled": true
   },
   "outputs": [
    {
     "data": {
      "image/png": "[encoded data removed]",
      "text/plain": [
       "<Figure size 921.6x633.6 with 1 Axes>"
      ]
     },
     "metadata": {
      "needs_background": "light"
     },
     "output_type": "display_data"
    }
   ],
   "source": [
    "# propvided answer\n",
    "\n",
    "import numpy as np\n",
    "import pandas as pd\n",
    "import matplotlib.pyplot as plt\n",
    "import scipy.stats\n",
    "\n",
    "# Plot histogram\n",
    "temperature = pd.read_csv('./data/temperature.csv', delimiter = ',')\n",
    "Detroit = temperature['Detroit'][1:].values\n",
    "plt.hist(Detroit, bins = 100, density = True)\n",
    "\n",
    "# Plot pdf\n",
    "mu1 = 276\n",
    "sigma1 = 6.5\n",
    "mu2 = 293\n",
    "sigma2 = 6\n",
    "x = np.arange(240, 320, 0.5)\n",
    "plt.plot(x, 0.5 * scipy.stats.norm.pdf(x, loc = mu1, scale = sigma1) + 0.5 * scipy.stats.norm.pdf(x, loc = mu2, scale = sigma2))\n",
    "plt.xlabel('Temperature (Kelvin)')\n",
    "plt.ylabel('Probability')\n",
    "\n",
    "plt.show()"
   ]
  },
  {
   "cell_type": "markdown",
   "metadata": {},
   "source": [
    "Q3. Using the PDF in question 2, find the probability of the temperature lying inbetween 281K and 291K for the city of Detroit."
   ]
  },
  {
   "cell_type": "code",
   "execution_count": 69,
   "metadata": {},
   "outputs": [
    {
     "data": {
      "text/plain": [
       "0.27722259734413685"
      ]
     },
     "execution_count": 69,
     "metadata": {},
     "output_type": "execute_result"
    }
   ],
   "source": [
    "sum((detroit_df <= 291) & (detroit_df >= 281))/detroit_df.count()"
   ]
  },
  {
   "cell_type": "code",
   "execution_count": 70,
   "metadata": {},
   "outputs": [
    {
     "name": "stdout",
     "output_type": "stream",
     "text": [
      "The probability of the temperature lying inbetween 281K and 291K for the city of Detroit is 0.2785306219161424\n"
     ]
    }
   ],
   "source": [
    "# provided answer\n",
    "import scipy.stats\n",
    "\n",
    "p = 0.5 * (scipy.stats.norm.cdf(291, mu1, sigma1) - scipy.stats.norm.cdf(281, mu1, sigma1) \\\n",
    "           + scipy.stats.norm.cdf(291, mu2, sigma2) - scipy.stats.norm.cdf(281, mu2, sigma2))\n",
    "print('The probability of the temperature lying inbetween 281K and 291K for the city of Detroit is {}'.format(p))"
   ]
  }
 ],
 "metadata": {
  "kernelspec": {
   "display_name": "Python 3",
   "language": "python",
   "name": "python3"
  },
  "language_info": {
   "codemirror_mode": {
    "name": "ipython",
    "version": 3
   },
   "file_extension": ".py",
   "mimetype": "text/x-python",
   "name": "python",
   "nbconvert_exporter": "python",
   "pygments_lexer": "ipython3",
   "version": "3.7.6"
  }
 },
 "nbformat": 4,
 "nbformat_minor": 4
}
